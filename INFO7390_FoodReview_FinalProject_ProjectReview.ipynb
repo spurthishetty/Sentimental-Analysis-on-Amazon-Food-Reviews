{
 "cells": [
  {
   "cell_type": "markdown",
   "metadata": {},
   "source": [
    "# Amazon Food Reviews Sentiment Analysis"
   ]
  },
  {
   "cell_type": "code",
   "execution_count": 1,
   "metadata": {},
   "outputs": [
    {
     "data": {
      "text/plain": [
       "'/Users/user/Documents/Advance Data Science & Architecture'"
      ]
     },
     "execution_count": 1,
     "metadata": {},
     "output_type": "execute_result"
    }
   ],
   "source": [
    "pwd"
   ]
  },
  {
   "cell_type": "code",
   "execution_count": 160,
   "metadata": {},
   "outputs": [],
   "source": [
    "import os\n",
    "import matplotlib.pyplot as plt\n",
    "import numpy as np\n",
    "import pandas as pd\n",
    "from scipy import stats\n",
    "import seaborn as sns\n",
    "from nltk.corpus import stopwords\n",
    "from nltk.stem import WordNetLemmatizer\n",
    "from nltk import ngrams\n",
    "from itertools import chain\n",
    "from sklearn.feature_extraction.text import CountVectorizer, TfidfTransformer\n",
    "from sklearn.model_selection import train_test_split\n",
    "import re\n",
    "import string\n",
    "import nltk\n",
    "from sklearn.metrics import accuracy_score\n",
    "from sklearn.feature_extraction.text import TfidfVectorizer\n",
    "from sklearn import linear_model\n",
    "from sklearn.metrics import roc_auc_score\n",
    "from gensim.models import Word2Vec\n",
    "from bs4 import BeautifulSoup\n",
    "from sklearn.feature_extraction.text import TfidfVectorizer\n",
    "from sklearn.cluster import KMeans\n",
    "from sklearn import metrics\n",
    "from sklearn import cross_validation\n",
    "from sklearn.grid_search import GridSearchCV\n",
    "from sklearn.ensemble import RandomForestClassifier as RFC\n",
    "import warnings\n",
    "warnings.filterwarnings(\"ignore\", category=DeprecationWarning)\n",
    "import pickle\n",
    "from nltk.corpus import stopwords\n",
    "from nltk.tokenize import word_tokenize, sent_tokenize\n",
    "from nltk.stem.wordnet import WordNetLemmatizer\n",
    "from nltk import pos_tag\n",
    "import re\n",
    "from sklearn import linear_model\n",
    "from sklearn.tree import DecisionTreeClassifier\n",
    "from sklearn.dummy import DummyClassifier\n",
    "from sklearn.metrics import confusion_matrix\n",
    "from sklearn import metrics\n",
    "from sklearn.metrics import roc_curve, auc\n",
    "from sklearn.linear_model import LogisticRegression\n",
    "from sklearn.naive_bayes import BernoulliNB\n",
    "from sklearn.naive_bayes import MultinomialNB\n",
    "from wordcloud import WordCloud, STOPWORDS\n",
    "import matplotlib as mpl\n",
    "from sklearn import svm\n",
    "from string import punctuation\n",
    "from sklearn.feature_extraction.text import TfidfVectorizer\n",
    "from wordcloud import WordCloud, STOPWORDS\n",
    "from sklearn.neighbors import KNeighborsClassifier"
   ]
  },
  {
   "cell_type": "markdown",
   "metadata": {},
   "source": [
    "# Project Overview\n",
    "\n",
    "Sentimental analysis is area of research for the social media and reviews. It can deliver the different services like marekting data, how to improve product or service, about medicine and also many other services. It is very interesting to work with sentimental analysis because we have to interact with the human languages (words/reviews/comments) and identify subjective informations.\n",
    "\n",
    "Few algorithms like Naive Bayes and SVM are commonly used for snetimental analysis. Also, RNN (Recurrent Neural Network), Deep Learning and Machine Learning has started to perform all other functions because of its ability to predict the meaning of sentence based on sentence structure. \n",
    "\n",
    "For this project, I have performed sentiment analysis on the Amazon Food Review dataset."
   ]
  },
  {
   "cell_type": "markdown",
   "metadata": {},
   "source": [
    "# Problem Statement\n",
    "Here I need to predict the positive or negative target reviews for each data row. The goal will be to maximize the accuracy of this classification. We will train our model on a dataset containing thousands of reviews presented as unstructured text. Each review will be labeled as positive or negative.\n",
    "\n",
    "To solve this problem we will perform the following tasks:\n",
    "\n",
    "Preprocess the data.\n",
    "Train and tune the hyperparameters of the recurrent neural network.\n",
    "Test the accuracy of the model on the testing set."
   ]
  },
  {
   "cell_type": "markdown",
   "metadata": {},
   "source": [
    "# Exploratory Data Analysis\n",
    "\n",
    "# Amazon Food reviews provided a set of around 500,000 highly polar food reviews\n",
    "\n",
    "# Importing the data set"
   ]
  },
  {
   "cell_type": "code",
   "execution_count": 3,
   "metadata": {
    "collapsed": true
   },
   "outputs": [],
   "source": [
    "df = pd.read_csv(\"FoodReview.csv\")"
   ]
  },
  {
   "cell_type": "code",
   "execution_count": 4,
   "metadata": {},
   "outputs": [
    {
     "data": {
      "text/plain": [
       "int64     5\n",
       "object    5\n",
       "dtype: int64"
      ]
     },
     "execution_count": 4,
     "metadata": {},
     "output_type": "execute_result"
    }
   ],
   "source": [
    "df.get_dtype_counts()"
   ]
  },
  {
   "cell_type": "markdown",
   "metadata": {},
   "source": [
    "What are the fields provided in the Amazon fine food reviews dataset?"
   ]
  },
  {
   "cell_type": "code",
   "execution_count": 5,
   "metadata": {},
   "outputs": [
    {
     "data": {
      "text/html": [
       "<div>\n",
       "<style>\n",
       "    .dataframe thead tr:only-child th {\n",
       "        text-align: right;\n",
       "    }\n",
       "\n",
       "    .dataframe thead th {\n",
       "        text-align: left;\n",
       "    }\n",
       "\n",
       "    .dataframe tbody tr th {\n",
       "        vertical-align: top;\n",
       "    }\n",
       "</style>\n",
       "<table border=\"1\" class=\"dataframe\">\n",
       "  <thead>\n",
       "    <tr style=\"text-align: right;\">\n",
       "      <th></th>\n",
       "      <th>Id</th>\n",
       "      <th>ProductId</th>\n",
       "      <th>UserId</th>\n",
       "      <th>ProfileName</th>\n",
       "      <th>HelpfulnessNumerator</th>\n",
       "      <th>HelpfulnessDenominator</th>\n",
       "      <th>Prediction</th>\n",
       "      <th>Time</th>\n",
       "      <th>Summary</th>\n",
       "      <th>Text</th>\n",
       "    </tr>\n",
       "  </thead>\n",
       "  <tbody>\n",
       "    <tr>\n",
       "      <th>0</th>\n",
       "      <td>492346</td>\n",
       "      <td>B001VNP0Y6</td>\n",
       "      <td>AEZRVY3CV52UZ</td>\n",
       "      <td>Corey Wright \"Democratus\"</td>\n",
       "      <td>3</td>\n",
       "      <td>3</td>\n",
       "      <td>5</td>\n",
       "      <td>1320537600</td>\n",
       "      <td>Just what I needed</td>\n",
       "      <td>I got them in a very timely manner and they're...</td>\n",
       "    </tr>\n",
       "    <tr>\n",
       "      <th>1</th>\n",
       "      <td>343811</td>\n",
       "      <td>B008J1HO4C</td>\n",
       "      <td>A18VZYSLOUO060</td>\n",
       "      <td>D. Simpson \"Frugal SOB\"</td>\n",
       "      <td>2</td>\n",
       "      <td>2</td>\n",
       "      <td>5</td>\n",
       "      <td>1204329600</td>\n",
       "      <td>Most excellent oatmeal</td>\n",
       "      <td>McCann's Steel Cut Oatmeal is the perfect brea...</td>\n",
       "    </tr>\n",
       "    <tr>\n",
       "      <th>2</th>\n",
       "      <td>347257</td>\n",
       "      <td>B000FFIL60</td>\n",
       "      <td>A28Y1M7GRG0I9M</td>\n",
       "      <td>Real Comments \"Lin\"</td>\n",
       "      <td>0</td>\n",
       "      <td>0</td>\n",
       "      <td>4</td>\n",
       "      <td>1318464000</td>\n",
       "      <td>Quality Tea</td>\n",
       "      <td>I would recommend it. Quality pearls and a few...</td>\n",
       "    </tr>\n",
       "    <tr>\n",
       "      <th>3</th>\n",
       "      <td>225529</td>\n",
       "      <td>B002ZX1U9A</td>\n",
       "      <td>A245HC4T5J97WG</td>\n",
       "      <td>Logan DeAngelis</td>\n",
       "      <td>0</td>\n",
       "      <td>0</td>\n",
       "      <td>5</td>\n",
       "      <td>1306540800</td>\n",
       "      <td>Great Coffee at a Great price</td>\n",
       "      <td>I have to admit, I first purchased these Hazel...</td>\n",
       "    </tr>\n",
       "    <tr>\n",
       "      <th>4</th>\n",
       "      <td>485488</td>\n",
       "      <td>B001RVFERK</td>\n",
       "      <td>AVABPJCKE2MR5</td>\n",
       "      <td>spal</td>\n",
       "      <td>0</td>\n",
       "      <td>0</td>\n",
       "      <td>4</td>\n",
       "      <td>1314921600</td>\n",
       "      <td>Popchips Jalapeno flavor</td>\n",
       "      <td>I bought a case of jalapeno chips as I love th...</td>\n",
       "    </tr>\n",
       "  </tbody>\n",
       "</table>\n",
       "</div>"
      ],
      "text/plain": [
       "       Id   ProductId          UserId                ProfileName  \\\n",
       "0  492346  B001VNP0Y6   AEZRVY3CV52UZ  Corey Wright \"Democratus\"   \n",
       "1  343811  B008J1HO4C  A18VZYSLOUO060    D. Simpson \"Frugal SOB\"   \n",
       "2  347257  B000FFIL60  A28Y1M7GRG0I9M        Real Comments \"Lin\"   \n",
       "3  225529  B002ZX1U9A  A245HC4T5J97WG            Logan DeAngelis   \n",
       "4  485488  B001RVFERK   AVABPJCKE2MR5                       spal   \n",
       "\n",
       "   HelpfulnessNumerator  HelpfulnessDenominator  Prediction        Time  \\\n",
       "0                     3                       3           5  1320537600   \n",
       "1                     2                       2           5  1204329600   \n",
       "2                     0                       0           4  1318464000   \n",
       "3                     0                       0           5  1306540800   \n",
       "4                     0                       0           4  1314921600   \n",
       "\n",
       "                         Summary  \\\n",
       "0             Just what I needed   \n",
       "1         Most excellent oatmeal   \n",
       "2                    Quality Tea   \n",
       "3  Great Coffee at a Great price   \n",
       "4       Popchips Jalapeno flavor   \n",
       "\n",
       "                                                Text  \n",
       "0  I got them in a very timely manner and they're...  \n",
       "1  McCann's Steel Cut Oatmeal is the perfect brea...  \n",
       "2  I would recommend it. Quality pearls and a few...  \n",
       "3  I have to admit, I first purchased these Hazel...  \n",
       "4  I bought a case of jalapeno chips as I love th...  "
      ]
     },
     "execution_count": 5,
     "metadata": {},
     "output_type": "execute_result"
    }
   ],
   "source": [
    "df.head()"
   ]
  },
  {
   "cell_type": "markdown",
   "metadata": {},
   "source": [
    "Here, data contains the column \"TEXT\" for the specific user to represent the review of that product having unique productId. Also, unique productId can help to find the product from the list on Amazon and can find all the reviews related to that product and can review the product. The UserId is used to get the user information who have logged in to review the food product. Two columns HelpfulnessNumerator and HelpfullnessDenominator are helpful to provide the review information based on the summary. The column Prediction shows the review based on scale fof 5. Time column provide the information about the review posted time by the user on Amazon. Summary can help to get idea about positive or negative review for the product.\n",
    "\n",
    "More importantly, for each review, we have a “Prediction” variable representing a rating from 1 to 5 (1 is a poor review, and 5 is an excellent review).\n",
    "\n",
    "\n"
   ]
  },
  {
   "cell_type": "code",
   "execution_count": 6,
   "metadata": {},
   "outputs": [
    {
     "data": {
      "text/plain": [
       "50000"
      ]
     },
     "execution_count": 6,
     "metadata": {},
     "output_type": "execute_result"
    }
   ],
   "source": [
    "len(df.index)"
   ]
  },
  {
   "cell_type": "markdown",
   "metadata": {},
   "source": [
    "# Checking for Null values"
   ]
  },
  {
   "cell_type": "code",
   "execution_count": 7,
   "metadata": {},
   "outputs": [
    {
     "data": {
      "text/plain": [
       "Id                        0\n",
       "ProductId                 0\n",
       "UserId                    0\n",
       "ProfileName               1\n",
       "HelpfulnessNumerator      0\n",
       "HelpfulnessDenominator    0\n",
       "Prediction                0\n",
       "Time                      0\n",
       "Summary                   2\n",
       "Text                      0\n",
       "dtype: int64"
      ]
     },
     "execution_count": 7,
     "metadata": {},
     "output_type": "execute_result"
    }
   ],
   "source": [
    "df.apply(lambda x: sum(x.isnull()),axis=0)"
   ]
  },
  {
   "cell_type": "code",
   "execution_count": 8,
   "metadata": {
    "collapsed": true
   },
   "outputs": [],
   "source": [
    "df.dropna(subset=['ProfileName'], inplace=True)"
   ]
  },
  {
   "cell_type": "code",
   "execution_count": 9,
   "metadata": {
    "collapsed": true
   },
   "outputs": [],
   "source": [
    "df.dropna(subset=['Summary'], inplace=True)"
   ]
  },
  {
   "cell_type": "code",
   "execution_count": 10,
   "metadata": {},
   "outputs": [
    {
     "data": {
      "text/plain": [
       "Id                        0\n",
       "ProductId                 0\n",
       "UserId                    0\n",
       "ProfileName               0\n",
       "HelpfulnessNumerator      0\n",
       "HelpfulnessDenominator    0\n",
       "Prediction                0\n",
       "Time                      0\n",
       "Summary                   0\n",
       "Text                      0\n",
       "dtype: int64"
      ]
     },
     "execution_count": 10,
     "metadata": {},
     "output_type": "execute_result"
    }
   ],
   "source": [
    "df.apply(lambda x: sum(x.isnull()),axis=0)"
   ]
  },
  {
   "cell_type": "markdown",
   "metadata": {},
   "source": [
    "Removed null values "
   ]
  },
  {
   "cell_type": "code",
   "execution_count": 11,
   "metadata": {},
   "outputs": [
    {
     "data": {
      "text/html": [
       "<div>\n",
       "<style>\n",
       "    .dataframe thead tr:only-child th {\n",
       "        text-align: right;\n",
       "    }\n",
       "\n",
       "    .dataframe thead th {\n",
       "        text-align: left;\n",
       "    }\n",
       "\n",
       "    .dataframe tbody tr th {\n",
       "        vertical-align: top;\n",
       "    }\n",
       "</style>\n",
       "<table border=\"1\" class=\"dataframe\">\n",
       "  <thead>\n",
       "    <tr style=\"text-align: right;\">\n",
       "      <th></th>\n",
       "      <th>Id</th>\n",
       "      <th>HelpfulnessNumerator</th>\n",
       "      <th>HelpfulnessDenominator</th>\n",
       "      <th>Prediction</th>\n",
       "      <th>Time</th>\n",
       "    </tr>\n",
       "  </thead>\n",
       "  <tbody>\n",
       "    <tr>\n",
       "      <th>count</th>\n",
       "      <td>49997.000000</td>\n",
       "      <td>49997.000000</td>\n",
       "      <td>49997.000000</td>\n",
       "      <td>49997.000000</td>\n",
       "      <td>4.999700e+04</td>\n",
       "    </tr>\n",
       "    <tr>\n",
       "      <th>mean</th>\n",
       "      <td>282543.225274</td>\n",
       "      <td>1.723563</td>\n",
       "      <td>2.208373</td>\n",
       "      <td>4.177991</td>\n",
       "      <td>1.295999e+09</td>\n",
       "    </tr>\n",
       "    <tr>\n",
       "      <th>std</th>\n",
       "      <td>164186.134793</td>\n",
       "      <td>7.184771</td>\n",
       "      <td>7.781205</td>\n",
       "      <td>1.313575</td>\n",
       "      <td>4.804307e+07</td>\n",
       "    </tr>\n",
       "    <tr>\n",
       "      <th>min</th>\n",
       "      <td>5.000000</td>\n",
       "      <td>0.000000</td>\n",
       "      <td>0.000000</td>\n",
       "      <td>1.000000</td>\n",
       "      <td>9.515232e+08</td>\n",
       "    </tr>\n",
       "    <tr>\n",
       "      <th>25%</th>\n",
       "      <td>139719.000000</td>\n",
       "      <td>0.000000</td>\n",
       "      <td>0.000000</td>\n",
       "      <td>4.000000</td>\n",
       "      <td>1.270685e+09</td>\n",
       "    </tr>\n",
       "    <tr>\n",
       "      <th>50%</th>\n",
       "      <td>282243.000000</td>\n",
       "      <td>0.000000</td>\n",
       "      <td>1.000000</td>\n",
       "      <td>5.000000</td>\n",
       "      <td>1.310774e+09</td>\n",
       "    </tr>\n",
       "    <tr>\n",
       "      <th>75%</th>\n",
       "      <td>424337.000000</td>\n",
       "      <td>2.000000</td>\n",
       "      <td>2.000000</td>\n",
       "      <td>5.000000</td>\n",
       "      <td>1.332461e+09</td>\n",
       "    </tr>\n",
       "    <tr>\n",
       "      <th>max</th>\n",
       "      <td>568445.000000</td>\n",
       "      <td>536.000000</td>\n",
       "      <td>539.000000</td>\n",
       "      <td>5.000000</td>\n",
       "      <td>1.351210e+09</td>\n",
       "    </tr>\n",
       "  </tbody>\n",
       "</table>\n",
       "</div>"
      ],
      "text/plain": [
       "                  Id  HelpfulnessNumerator  HelpfulnessDenominator  \\\n",
       "count   49997.000000          49997.000000            49997.000000   \n",
       "mean   282543.225274              1.723563                2.208373   \n",
       "std    164186.134793              7.184771                7.781205   \n",
       "min         5.000000              0.000000                0.000000   \n",
       "25%    139719.000000              0.000000                0.000000   \n",
       "50%    282243.000000              0.000000                1.000000   \n",
       "75%    424337.000000              2.000000                2.000000   \n",
       "max    568445.000000            536.000000              539.000000   \n",
       "\n",
       "         Prediction          Time  \n",
       "count  49997.000000  4.999700e+04  \n",
       "mean       4.177991  1.295999e+09  \n",
       "std        1.313575  4.804307e+07  \n",
       "min        1.000000  9.515232e+08  \n",
       "25%        4.000000  1.270685e+09  \n",
       "50%        5.000000  1.310774e+09  \n",
       "75%        5.000000  1.332461e+09  \n",
       "max        5.000000  1.351210e+09  "
      ]
     },
     "execution_count": 11,
     "metadata": {},
     "output_type": "execute_result"
    }
   ],
   "source": [
    "df.describe()"
   ]
  },
  {
   "cell_type": "markdown",
   "metadata": {},
   "source": [
    "### Checking for Unique values"
   ]
  },
  {
   "cell_type": "code",
   "execution_count": 12,
   "metadata": {},
   "outputs": [
    {
     "data": {
      "text/plain": [
       "Prediction                    5\n",
       "HelpfulnessNumerator        108\n",
       "HelpfulnessDenominator      111\n",
       "Time                       2516\n",
       "ProductId                 20697\n",
       "ProfileName               37155\n",
       "Summary                   39246\n",
       "UserId                    40284\n",
       "Text                      46359\n",
       "Id                        49997\n",
       "dtype: int64"
      ]
     },
     "execution_count": 12,
     "metadata": {},
     "output_type": "execute_result"
    }
   ],
   "source": [
    "Nunique = df.nunique()\n",
    "Nunique = Nunique.sort_values()\n",
    "Nunique"
   ]
  },
  {
   "cell_type": "markdown",
   "metadata": {},
   "source": [
    "We can see that, dataframe contains around 20697 different products and around 40284 \n",
    "users have reviewd the food products which helps to get the different reviews around 49997 for the food. "
   ]
  },
  {
   "cell_type": "markdown",
   "metadata": {},
   "source": [
    "### Non Zero Prediction Values"
   ]
  },
  {
   "cell_type": "markdown",
   "metadata": {},
   "source": [
    "How many reviews are included in this dataset?"
   ]
  },
  {
   "cell_type": "code",
   "execution_count": 13,
   "metadata": {},
   "outputs": [
    {
     "name": "stdout",
     "output_type": "stream",
     "text": [
      "non-zero values for Prediction\n",
      "49997\n"
     ]
    }
   ],
   "source": [
    "print(\"non-zero values for Prediction\")\n",
    "print(sum(df['Prediction']>0))"
   ]
  },
  {
   "cell_type": "markdown",
   "metadata": {},
   "source": [
    "The dataset contains 49997 food reviews Amazon users."
   ]
  },
  {
   "cell_type": "code",
   "execution_count": 14,
   "metadata": {},
   "outputs": [
    {
     "data": {
      "image/png": "[encoded data removed]",
      "text/plain": [
       "<matplotlib.figure.Figure at 0x11a516588>"
      ]
     },
     "metadata": {},
     "output_type": "display_data"
    }
   ],
   "source": [
    "df['Text_Length'] = df['Text'].apply(len)\n",
    "\n",
    "sns.boxplot(x='Prediction', y='Text_Length',data=df)\n",
    "plt.show()"
   ]
  },
  {
   "cell_type": "code",
   "execution_count": 15,
   "metadata": {},
   "outputs": [
    {
     "name": "stdout",
     "output_type": "stream",
     "text": [
      "List of highly correlated variables:\n",
      "\n",
      "HelpfulnessNumerator  and  HelpfulnessDenominator\n",
      "HelpfulnessDenominator  and  HelpfulnessNumerator\n"
     ]
    }
   ],
   "source": [
    "correlations = [[(index1, index2) for index2, column in row.iteritems() if column>0.6 and index1 != index2] \n",
    " for index1, row in df.corr().iterrows()]\n",
    "print(\"List of highly correlated variables:\")\n",
    "print()\n",
    "for correlation in correlations:\n",
    "    for item in correlation:\n",
    "        print(item[0],\" and \",item[1])"
   ]
  },
  {
   "cell_type": "markdown",
   "metadata": {},
   "source": [
    "Above result shows that HelpfullnessNumerator and HelpfullnessDenominator are very \n",
    "close to each other and cor-related to each other. "
   ]
  },
  {
   "cell_type": "markdown",
   "metadata": {},
   "source": [
    "### Correlation via Heat-Map"
   ]
  },
  {
   "cell_type": "code",
   "execution_count": 16,
   "metadata": {},
   "outputs": [
    {
     "name": "stdout",
     "output_type": "stream",
     "text": [
      "                        HelpfulnessNumerator  HelpfulnessDenominator  \\\n",
      "HelpfulnessNumerator                1.000000                0.974530   \n",
      "HelpfulnessDenominator              0.974530                1.000000   \n",
      "Prediction                         -0.036838               -0.106642   \n",
      "Time                               -0.162954               -0.182887   \n",
      "\n",
      "                        Prediction      Time  \n",
      "HelpfulnessNumerator     -0.036838 -0.162954  \n",
      "HelpfulnessDenominator   -0.106642 -0.182887  \n",
      "Prediction                1.000000 -0.068105  \n",
      "Time                     -0.068105  1.000000  \n"
     ]
    },
    {
     "data": {
      "image/png": "[encoded data removed]",
      "text/plain": [
       "<matplotlib.figure.Figure at 0x10ea87c88>"
      ]
     },
     "metadata": {},
     "output_type": "display_data"
    }
   ],
   "source": [
    "cmap = sns.diverging_palette(0, 255, sep=1, n=256, as_cmap=True)\n",
    "\n",
    "correlations = df[['HelpfulnessNumerator', 'HelpfulnessDenominator', 'Prediction', 'Time']].corr()\n",
    "print (correlations)\n",
    "sns.heatmap(correlations, cmap=cmap)\n",
    "plt.show()"
   ]
  },
  {
   "cell_type": "markdown",
   "metadata": {},
   "source": [
    "Above figure shows the relation between all the numerical columns that are related to each other and how much they are related to others. We can figure out that column having value near to 1.o is most correlated to that other column."
   ]
  },
  {
   "cell_type": "markdown",
   "metadata": {},
   "source": [
    "### Displaying Usefulness of the review \n",
    "\n",
    "Can we get idea about the usefulness of the reviews from dataset?"
   ]
  },
  {
   "cell_type": "code",
   "execution_count": 17,
   "metadata": {},
   "outputs": [
    {
     "data": {
      "text/html": [
       "<div>\n",
       "<style>\n",
       "    .dataframe thead tr:only-child th {\n",
       "        text-align: right;\n",
       "    }\n",
       "\n",
       "    .dataframe thead th {\n",
       "        text-align: left;\n",
       "    }\n",
       "\n",
       "    .dataframe tbody tr th {\n",
       "        vertical-align: top;\n",
       "    }\n",
       "</style>\n",
       "<table border=\"1\" class=\"dataframe\">\n",
       "  <thead>\n",
       "    <tr style=\"text-align: right;\">\n",
       "      <th></th>\n",
       "      <th>Id</th>\n",
       "      <th>ProductId</th>\n",
       "      <th>UserId</th>\n",
       "      <th>ProfileName</th>\n",
       "      <th>HelpfulnessNumerator</th>\n",
       "      <th>HelpfulnessDenominator</th>\n",
       "      <th>Prediction</th>\n",
       "      <th>Time</th>\n",
       "      <th>Summary</th>\n",
       "      <th>Text</th>\n",
       "      <th>Text_Length</th>\n",
       "      <th>Sentiment</th>\n",
       "      <th>Usefulness</th>\n",
       "    </tr>\n",
       "  </thead>\n",
       "  <tbody>\n",
       "    <tr>\n",
       "      <th>0</th>\n",
       "      <td>492346</td>\n",
       "      <td>B001VNP0Y6</td>\n",
       "      <td>AEZRVY3CV52UZ</td>\n",
       "      <td>Corey Wright \"Democratus\"</td>\n",
       "      <td>3</td>\n",
       "      <td>3</td>\n",
       "      <td>5</td>\n",
       "      <td>1320537600</td>\n",
       "      <td>Just what I needed</td>\n",
       "      <td>I got them in a very timely manner and they're...</td>\n",
       "      <td>271</td>\n",
       "      <td>positive</td>\n",
       "      <td>useful</td>\n",
       "    </tr>\n",
       "    <tr>\n",
       "      <th>1</th>\n",
       "      <td>343811</td>\n",
       "      <td>B008J1HO4C</td>\n",
       "      <td>A18VZYSLOUO060</td>\n",
       "      <td>D. Simpson \"Frugal SOB\"</td>\n",
       "      <td>2</td>\n",
       "      <td>2</td>\n",
       "      <td>5</td>\n",
       "      <td>1204329600</td>\n",
       "      <td>Most excellent oatmeal</td>\n",
       "      <td>McCann's Steel Cut Oatmeal is the perfect brea...</td>\n",
       "      <td>401</td>\n",
       "      <td>positive</td>\n",
       "      <td>useful</td>\n",
       "    </tr>\n",
       "    <tr>\n",
       "      <th>2</th>\n",
       "      <td>347257</td>\n",
       "      <td>B000FFIL60</td>\n",
       "      <td>A28Y1M7GRG0I9M</td>\n",
       "      <td>Real Comments \"Lin\"</td>\n",
       "      <td>0</td>\n",
       "      <td>0</td>\n",
       "      <td>4</td>\n",
       "      <td>1318464000</td>\n",
       "      <td>Quality Tea</td>\n",
       "      <td>I would recommend it. Quality pearls and a few...</td>\n",
       "      <td>214</td>\n",
       "      <td>positive</td>\n",
       "      <td>useless</td>\n",
       "    </tr>\n",
       "    <tr>\n",
       "      <th>3</th>\n",
       "      <td>225529</td>\n",
       "      <td>B002ZX1U9A</td>\n",
       "      <td>A245HC4T5J97WG</td>\n",
       "      <td>Logan DeAngelis</td>\n",
       "      <td>0</td>\n",
       "      <td>0</td>\n",
       "      <td>5</td>\n",
       "      <td>1306540800</td>\n",
       "      <td>Great Coffee at a Great price</td>\n",
       "      <td>I have to admit, I first purchased these Hazel...</td>\n",
       "      <td>247</td>\n",
       "      <td>positive</td>\n",
       "      <td>useless</td>\n",
       "    </tr>\n",
       "    <tr>\n",
       "      <th>4</th>\n",
       "      <td>485488</td>\n",
       "      <td>B001RVFERK</td>\n",
       "      <td>AVABPJCKE2MR5</td>\n",
       "      <td>spal</td>\n",
       "      <td>0</td>\n",
       "      <td>0</td>\n",
       "      <td>4</td>\n",
       "      <td>1314921600</td>\n",
       "      <td>Popchips Jalapeno flavor</td>\n",
       "      <td>I bought a case of jalapeno chips as I love th...</td>\n",
       "      <td>303</td>\n",
       "      <td>positive</td>\n",
       "      <td>useless</td>\n",
       "    </tr>\n",
       "    <tr>\n",
       "      <th>5</th>\n",
       "      <td>74981</td>\n",
       "      <td>B0026RQTGE</td>\n",
       "      <td>A161Y9NAR43WCW</td>\n",
       "      <td>vertov</td>\n",
       "      <td>0</td>\n",
       "      <td>0</td>\n",
       "      <td>5</td>\n",
       "      <td>1314835200</td>\n",
       "      <td>Our dog has fresh breath</td>\n",
       "      <td>No doggie breath for our dog.  People are alwa...</td>\n",
       "      <td>268</td>\n",
       "      <td>positive</td>\n",
       "      <td>useless</td>\n",
       "    </tr>\n",
       "    <tr>\n",
       "      <th>6</th>\n",
       "      <td>204180</td>\n",
       "      <td>B000F0FZE6</td>\n",
       "      <td>A1H35JZ9UUCVIF</td>\n",
       "      <td>carrera4</td>\n",
       "      <td>1</td>\n",
       "      <td>1</td>\n",
       "      <td>5</td>\n",
       "      <td>1330646400</td>\n",
       "      <td>Great Pasta &amp; Healthy!</td>\n",
       "      <td>I tried this pasta after viewing the Dr. Oz sh...</td>\n",
       "      <td>331</td>\n",
       "      <td>positive</td>\n",
       "      <td>useful</td>\n",
       "    </tr>\n",
       "    <tr>\n",
       "      <th>7</th>\n",
       "      <td>454372</td>\n",
       "      <td>B0019K981W</td>\n",
       "      <td>A13H71301WENPW</td>\n",
       "      <td>Patricia Fentriss \"PF\"</td>\n",
       "      <td>11</td>\n",
       "      <td>13</td>\n",
       "      <td>1</td>\n",
       "      <td>1249344000</td>\n",
       "      <td>Sugar bomb!!!  Same amount of sugar as a 12 oz...</td>\n",
       "      <td>Check out the sugar content before you buy!  2...</td>\n",
       "      <td>187</td>\n",
       "      <td>negative</td>\n",
       "      <td>useful</td>\n",
       "    </tr>\n",
       "    <tr>\n",
       "      <th>8</th>\n",
       "      <td>112235</td>\n",
       "      <td>B0009JJB4S</td>\n",
       "      <td>A2HBOYLMGW2A5Y</td>\n",
       "      <td>lee</td>\n",
       "      <td>0</td>\n",
       "      <td>0</td>\n",
       "      <td>5</td>\n",
       "      <td>1345852800</td>\n",
       "      <td>Pretty great for the price!</td>\n",
       "      <td>I drink Iron goddess oolong pretty often, it i...</td>\n",
       "      <td>543</td>\n",
       "      <td>positive</td>\n",
       "      <td>useless</td>\n",
       "    </tr>\n",
       "    <tr>\n",
       "      <th>9</th>\n",
       "      <td>295251</td>\n",
       "      <td>B000LQNK50</td>\n",
       "      <td>ATO0RF3HWQ3WW</td>\n",
       "      <td>Scott \"Scottso\"</td>\n",
       "      <td>12</td>\n",
       "      <td>16</td>\n",
       "      <td>3</td>\n",
       "      <td>1236729600</td>\n",
       "      <td>Its OK</td>\n",
       "      <td>Maybe it's due to my tendency to prefer noodle...</td>\n",
       "      <td>825</td>\n",
       "      <td>negative</td>\n",
       "      <td>useless</td>\n",
       "    </tr>\n",
       "    <tr>\n",
       "      <th>10</th>\n",
       "      <td>2544</td>\n",
       "      <td>B000G7UDPY</td>\n",
       "      <td>A392JXFKJ5GG17</td>\n",
       "      <td>Donna G. Spencer</td>\n",
       "      <td>0</td>\n",
       "      <td>1</td>\n",
       "      <td>1</td>\n",
       "      <td>1266019200</td>\n",
       "      <td>Bad tasting soup</td>\n",
       "      <td>This is one of the worse tasting soups I've ev...</td>\n",
       "      <td>209</td>\n",
       "      <td>negative</td>\n",
       "      <td>useless</td>\n",
       "    </tr>\n",
       "    <tr>\n",
       "      <th>11</th>\n",
       "      <td>435949</td>\n",
       "      <td>B0016COPSY</td>\n",
       "      <td>A6KL17KKN0A5L</td>\n",
       "      <td>K. Harper</td>\n",
       "      <td>14</td>\n",
       "      <td>20</td>\n",
       "      <td>4</td>\n",
       "      <td>1291593600</td>\n",
       "      <td>I like it, but it's a product of Taiwan...</td>\n",
       "      <td>While I love the product, if you read the labe...</td>\n",
       "      <td>215</td>\n",
       "      <td>positive</td>\n",
       "      <td>useless</td>\n",
       "    </tr>\n",
       "    <tr>\n",
       "      <th>12</th>\n",
       "      <td>179209</td>\n",
       "      <td>B000V1FI5U</td>\n",
       "      <td>A2DQ0KE7NH5A08</td>\n",
       "      <td>Alice McDaniel \"Alice\"</td>\n",
       "      <td>0</td>\n",
       "      <td>0</td>\n",
       "      <td>3</td>\n",
       "      <td>1339977600</td>\n",
       "      <td>Okay but learning that I'm just not into \"flav...</td>\n",
       "      <td>I ordered these and was excited about them.  T...</td>\n",
       "      <td>304</td>\n",
       "      <td>negative</td>\n",
       "      <td>useless</td>\n",
       "    </tr>\n",
       "    <tr>\n",
       "      <th>13</th>\n",
       "      <td>243805</td>\n",
       "      <td>B001LQNVOE</td>\n",
       "      <td>A3JJOUVMIIXLFQ</td>\n",
       "      <td>L  Willis</td>\n",
       "      <td>0</td>\n",
       "      <td>1</td>\n",
       "      <td>5</td>\n",
       "      <td>1335657600</td>\n",
       "      <td>This is very good coffee.</td>\n",
       "      <td>We like our coffee strong but not bitter. This...</td>\n",
       "      <td>202</td>\n",
       "      <td>positive</td>\n",
       "      <td>useless</td>\n",
       "    </tr>\n",
       "    <tr>\n",
       "      <th>14</th>\n",
       "      <td>11688</td>\n",
       "      <td>B0032RPLSY</td>\n",
       "      <td>A2ELBN89JT1S4T</td>\n",
       "      <td>Maybelle</td>\n",
       "      <td>0</td>\n",
       "      <td>0</td>\n",
       "      <td>5</td>\n",
       "      <td>1351123200</td>\n",
       "      <td>Delicious!</td>\n",
       "      <td>This ghee is delicious. A little goes a long w...</td>\n",
       "      <td>189</td>\n",
       "      <td>positive</td>\n",
       "      <td>useless</td>\n",
       "    </tr>\n",
       "    <tr>\n",
       "      <th>15</th>\n",
       "      <td>459662</td>\n",
       "      <td>B000LKTJUG</td>\n",
       "      <td>A3PNHHF9XWHJGR</td>\n",
       "      <td>Kyle Smeby \"kyle78\"</td>\n",
       "      <td>1</td>\n",
       "      <td>1</td>\n",
       "      <td>5</td>\n",
       "      <td>1233878400</td>\n",
       "      <td>Cure for sore throats</td>\n",
       "      <td>For about 5 years, especially during the winte...</td>\n",
       "      <td>505</td>\n",
       "      <td>positive</td>\n",
       "      <td>useful</td>\n",
       "    </tr>\n",
       "    <tr>\n",
       "      <th>16</th>\n",
       "      <td>525701</td>\n",
       "      <td>B0015V1WMS</td>\n",
       "      <td>A3BTGGLX2B6Q6N</td>\n",
       "      <td>sponse</td>\n",
       "      <td>0</td>\n",
       "      <td>0</td>\n",
       "      <td>4</td>\n",
       "      <td>1290988800</td>\n",
       "      <td>Gold coins were a great party favor</td>\n",
       "      <td>This product was perfect for a volunteer recog...</td>\n",
       "      <td>297</td>\n",
       "      <td>positive</td>\n",
       "      <td>useless</td>\n",
       "    </tr>\n",
       "    <tr>\n",
       "      <th>17</th>\n",
       "      <td>31901</td>\n",
       "      <td>B0062A87HA</td>\n",
       "      <td>ACVLAI219S7TT</td>\n",
       "      <td>Wendy in Pa</td>\n",
       "      <td>12</td>\n",
       "      <td>12</td>\n",
       "      <td>1</td>\n",
       "      <td>1279670400</td>\n",
       "      <td>Is someone using Amazon as an outlet for dente...</td>\n",
       "      <td>I received Farmers Market Organic Pumpkin 12 p...</td>\n",
       "      <td>513</td>\n",
       "      <td>negative</td>\n",
       "      <td>useful</td>\n",
       "    </tr>\n",
       "    <tr>\n",
       "      <th>18</th>\n",
       "      <td>135696</td>\n",
       "      <td>B003THML30</td>\n",
       "      <td>A1RC6AKHUZKRQS</td>\n",
       "      <td>Amy</td>\n",
       "      <td>0</td>\n",
       "      <td>0</td>\n",
       "      <td>1</td>\n",
       "      <td>1339718400</td>\n",
       "      <td>Don't buy from here</td>\n",
       "      <td>I was expecting two packs of these like the de...</td>\n",
       "      <td>114</td>\n",
       "      <td>negative</td>\n",
       "      <td>useless</td>\n",
       "    </tr>\n",
       "    <tr>\n",
       "      <th>19</th>\n",
       "      <td>16179</td>\n",
       "      <td>B0001BVD04</td>\n",
       "      <td>A2YDEO5BR1OA5R</td>\n",
       "      <td>Pelly</td>\n",
       "      <td>5</td>\n",
       "      <td>5</td>\n",
       "      <td>4</td>\n",
       "      <td>1150329600</td>\n",
       "      <td>Cheaper in supermarkets</td>\n",
       "      <td>This is a great fruit soda, will surprise you ...</td>\n",
       "      <td>417</td>\n",
       "      <td>positive</td>\n",
       "      <td>useful</td>\n",
       "    </tr>\n",
       "    <tr>\n",
       "      <th>20</th>\n",
       "      <td>79185</td>\n",
       "      <td>B002WDCIXK</td>\n",
       "      <td>A336LGWA4H3V4H</td>\n",
       "      <td>Blarney</td>\n",
       "      <td>1</td>\n",
       "      <td>1</td>\n",
       "      <td>2</td>\n",
       "      <td>1326412800</td>\n",
       "      <td>Way too expensive</td>\n",
       "      <td>Like the product, but come on....  $38.00 for ...</td>\n",
       "      <td>117</td>\n",
       "      <td>negative</td>\n",
       "      <td>useful</td>\n",
       "    </tr>\n",
       "    <tr>\n",
       "      <th>21</th>\n",
       "      <td>178788</td>\n",
       "      <td>B0001WAMA0</td>\n",
       "      <td>A2HTHVCM8MEM3F</td>\n",
       "      <td>Nikijay88 \"Always hoping for happiness &amp;#60;3\"</td>\n",
       "      <td>2</td>\n",
       "      <td>2</td>\n",
       "      <td>5</td>\n",
       "      <td>1329350400</td>\n",
       "      <td>Great Appreciation Gift!</td>\n",
       "      <td>I sent this to my mother as a thank you for al...</td>\n",
       "      <td>207</td>\n",
       "      <td>positive</td>\n",
       "      <td>useful</td>\n",
       "    </tr>\n",
       "    <tr>\n",
       "      <th>22</th>\n",
       "      <td>450065</td>\n",
       "      <td>B001SB6A7C</td>\n",
       "      <td>A2GOR08W4UGJO7</td>\n",
       "      <td>austinwriter</td>\n",
       "      <td>0</td>\n",
       "      <td>1</td>\n",
       "      <td>4</td>\n",
       "      <td>1331510400</td>\n",
       "      <td>Great Taste, Small Bags</td>\n",
       "      <td>The taste of these chips is incredible. My onl...</td>\n",
       "      <td>139</td>\n",
       "      <td>positive</td>\n",
       "      <td>useless</td>\n",
       "    </tr>\n",
       "    <tr>\n",
       "      <th>23</th>\n",
       "      <td>340470</td>\n",
       "      <td>B002ITIBQG</td>\n",
       "      <td>AKB3TXWM102DR</td>\n",
       "      <td>Rebecca \"red roots\"</td>\n",
       "      <td>0</td>\n",
       "      <td>0</td>\n",
       "      <td>5</td>\n",
       "      <td>1319760000</td>\n",
       "      <td>TRY THESE, THEY'RE DELICIOUS!</td>\n",
       "      <td>You have to treat yourself to these wonderful ...</td>\n",
       "      <td>147</td>\n",
       "      <td>positive</td>\n",
       "      <td>useless</td>\n",
       "    </tr>\n",
       "    <tr>\n",
       "      <th>24</th>\n",
       "      <td>409742</td>\n",
       "      <td>B003LPZTTS</td>\n",
       "      <td>A2V8GTSHVKMFI3</td>\n",
       "      <td>Z. \"speedyZ.\"</td>\n",
       "      <td>1</td>\n",
       "      <td>1</td>\n",
       "      <td>3</td>\n",
       "      <td>1311811200</td>\n",
       "      <td>With pros and cons</td>\n",
       "      <td>Pros:&lt;br /&gt;1. Clumps well.&lt;br /&gt;2. Easy to get...</td>\n",
       "      <td>593</td>\n",
       "      <td>negative</td>\n",
       "      <td>useful</td>\n",
       "    </tr>\n",
       "    <tr>\n",
       "      <th>25</th>\n",
       "      <td>302044</td>\n",
       "      <td>B0048CHI9M</td>\n",
       "      <td>AUUFW7PTUHLT</td>\n",
       "      <td>MamaSylvia</td>\n",
       "      <td>0</td>\n",
       "      <td>0</td>\n",
       "      <td>5</td>\n",
       "      <td>1338163200</td>\n",
       "      <td>Sugar-free to go!</td>\n",
       "      <td>I always keep one of these in my purse because...</td>\n",
       "      <td>461</td>\n",
       "      <td>positive</td>\n",
       "      <td>useless</td>\n",
       "    </tr>\n",
       "    <tr>\n",
       "      <th>26</th>\n",
       "      <td>231195</td>\n",
       "      <td>B003FDC2I2</td>\n",
       "      <td>A2IZEN3G4J0605</td>\n",
       "      <td>Ultraquel</td>\n",
       "      <td>1</td>\n",
       "      <td>1</td>\n",
       "      <td>5</td>\n",
       "      <td>1287964800</td>\n",
       "      <td>Great!</td>\n",
       "      <td>Orgain is healthier than most drinks, so it sa...</td>\n",
       "      <td>133</td>\n",
       "      <td>positive</td>\n",
       "      <td>useful</td>\n",
       "    </tr>\n",
       "    <tr>\n",
       "      <th>27</th>\n",
       "      <td>391725</td>\n",
       "      <td>B000YQCDQY</td>\n",
       "      <td>A3F34JZEKQBH68</td>\n",
       "      <td>Karen Canellos</td>\n",
       "      <td>0</td>\n",
       "      <td>0</td>\n",
       "      <td>5</td>\n",
       "      <td>1346630400</td>\n",
       "      <td>good tasting flavor</td>\n",
       "      <td>If you are trying to watch calories, these are...</td>\n",
       "      <td>122</td>\n",
       "      <td>positive</td>\n",
       "      <td>useless</td>\n",
       "    </tr>\n",
       "    <tr>\n",
       "      <th>28</th>\n",
       "      <td>549077</td>\n",
       "      <td>B000WV153I</td>\n",
       "      <td>A27AB7VV7ETZ74</td>\n",
       "      <td>Danielle O.</td>\n",
       "      <td>3</td>\n",
       "      <td>3</td>\n",
       "      <td>5</td>\n",
       "      <td>1337212800</td>\n",
       "      <td>Simply the best food I've ever consumed.</td>\n",
       "      <td>I can't stop eating this stuff! The taste is s...</td>\n",
       "      <td>365</td>\n",
       "      <td>positive</td>\n",
       "      <td>useful</td>\n",
       "    </tr>\n",
       "    <tr>\n",
       "      <th>29</th>\n",
       "      <td>448115</td>\n",
       "      <td>B001FXU6QO</td>\n",
       "      <td>AKGIHE73N0HJW</td>\n",
       "      <td>jennifer</td>\n",
       "      <td>0</td>\n",
       "      <td>0</td>\n",
       "      <td>5</td>\n",
       "      <td>1301875200</td>\n",
       "      <td>Love this product works amazing!!!</td>\n",
       "      <td>I love this product, first it was supose to ge...</td>\n",
       "      <td>308</td>\n",
       "      <td>positive</td>\n",
       "      <td>useless</td>\n",
       "    </tr>\n",
       "    <tr>\n",
       "      <th>30</th>\n",
       "      <td>5785</td>\n",
       "      <td>B003TIVBSU</td>\n",
       "      <td>AUXRFG41XNAI3</td>\n",
       "      <td>P. Souza</td>\n",
       "      <td>0</td>\n",
       "      <td>0</td>\n",
       "      <td>5</td>\n",
       "      <td>1318204800</td>\n",
       "      <td>Delicious beans!!</td>\n",
       "      <td>I bake quite often and I love to use fresh van...</td>\n",
       "      <td>659</td>\n",
       "      <td>positive</td>\n",
       "      <td>useless</td>\n",
       "    </tr>\n",
       "    <tr>\n",
       "      <th>31</th>\n",
       "      <td>215615</td>\n",
       "      <td>B0019FM29M</td>\n",
       "      <td>ADGS32I8FDAU0</td>\n",
       "      <td>et \"et in Indiana\"</td>\n",
       "      <td>0</td>\n",
       "      <td>8</td>\n",
       "      <td>3</td>\n",
       "      <td>1244073600</td>\n",
       "      <td>not so yummy</td>\n",
       "      <td>If you are hoping to buy the same product you ...</td>\n",
       "      <td>223</td>\n",
       "      <td>negative</td>\n",
       "      <td>useless</td>\n",
       "    </tr>\n",
       "    <tr>\n",
       "      <th>32</th>\n",
       "      <td>502232</td>\n",
       "      <td>B000GQ03K0</td>\n",
       "      <td>A2A0JAZSASXJWL</td>\n",
       "      <td>E. tamba \"colonia\"</td>\n",
       "      <td>1</td>\n",
       "      <td>2</td>\n",
       "      <td>5</td>\n",
       "      <td>1168300800</td>\n",
       "      <td>cool stuff</td>\n",
       "      <td>I really like this gum, cool and free sugar an...</td>\n",
       "      <td>72</td>\n",
       "      <td>positive</td>\n",
       "      <td>useless</td>\n",
       "    </tr>\n",
       "    <tr>\n",
       "      <th>33</th>\n",
       "      <td>355280</td>\n",
       "      <td>B004KPMWLG</td>\n",
       "      <td>A1Z54EM24Y40LL</td>\n",
       "      <td>c2</td>\n",
       "      <td>1</td>\n",
       "      <td>1</td>\n",
       "      <td>5</td>\n",
       "      <td>1338249600</td>\n",
       "      <td>Just awesome!</td>\n",
       "      <td>This stuff, when thoroughly chilled, tastes li...</td>\n",
       "      <td>442</td>\n",
       "      <td>positive</td>\n",
       "      <td>useful</td>\n",
       "    </tr>\n",
       "    <tr>\n",
       "      <th>34</th>\n",
       "      <td>3303</td>\n",
       "      <td>B005K4Q1VI</td>\n",
       "      <td>A29WENSRNV44RY</td>\n",
       "      <td>selketine</td>\n",
       "      <td>0</td>\n",
       "      <td>0</td>\n",
       "      <td>3</td>\n",
       "      <td>1328832000</td>\n",
       "      <td>Kids love it - me not so much</td>\n",
       "      <td>I bought this brand of hot chocolate K cups ca...</td>\n",
       "      <td>526</td>\n",
       "      <td>negative</td>\n",
       "      <td>useless</td>\n",
       "    </tr>\n",
       "    <tr>\n",
       "      <th>35</th>\n",
       "      <td>57856</td>\n",
       "      <td>B000EVOSE4</td>\n",
       "      <td>A13P3HLPHS2PGJ</td>\n",
       "      <td>saltpeanuts</td>\n",
       "      <td>5</td>\n",
       "      <td>14</td>\n",
       "      <td>1</td>\n",
       "      <td>1161820800</td>\n",
       "      <td>Tasty Rubber</td>\n",
       "      <td>I expected something softer in texture, but th...</td>\n",
       "      <td>213</td>\n",
       "      <td>negative</td>\n",
       "      <td>useless</td>\n",
       "    </tr>\n",
       "    <tr>\n",
       "      <th>36</th>\n",
       "      <td>237704</td>\n",
       "      <td>B002L99DTC</td>\n",
       "      <td>A1I9SEYBPTWFTZ</td>\n",
       "      <td>LARRY STANIFER</td>\n",
       "      <td>0</td>\n",
       "      <td>0</td>\n",
       "      <td>2</td>\n",
       "      <td>1350691200</td>\n",
       "      <td>Lemon Drops leave sour taste</td>\n",
       "      <td>Not the same drops from Flathau that I remembe...</td>\n",
       "      <td>113</td>\n",
       "      <td>negative</td>\n",
       "      <td>useless</td>\n",
       "    </tr>\n",
       "    <tr>\n",
       "      <th>37</th>\n",
       "      <td>214813</td>\n",
       "      <td>B001BBXP7M</td>\n",
       "      <td>AH0SAAFAGK5C5</td>\n",
       "      <td>Road Warrior \"Road Warrior\"</td>\n",
       "      <td>3</td>\n",
       "      <td>5</td>\n",
       "      <td>5</td>\n",
       "      <td>1183939200</td>\n",
       "      <td>Road Warrior-L.A.</td>\n",
       "      <td>I have been using this powder mix for the last...</td>\n",
       "      <td>184</td>\n",
       "      <td>positive</td>\n",
       "      <td>useless</td>\n",
       "    </tr>\n",
       "    <tr>\n",
       "      <th>38</th>\n",
       "      <td>335679</td>\n",
       "      <td>B000VTFIWK</td>\n",
       "      <td>A28S6CWIEP76BQ</td>\n",
       "      <td>Laura</td>\n",
       "      <td>1</td>\n",
       "      <td>1</td>\n",
       "      <td>5</td>\n",
       "      <td>1313971200</td>\n",
       "      <td>Great kitten food!</td>\n",
       "      <td>This dry food is great!  My kitten (5 mos. old...</td>\n",
       "      <td>544</td>\n",
       "      <td>positive</td>\n",
       "      <td>useful</td>\n",
       "    </tr>\n",
       "    <tr>\n",
       "      <th>39</th>\n",
       "      <td>284412</td>\n",
       "      <td>B003Z33WGI</td>\n",
       "      <td>A2GE7OOGW6LMYK</td>\n",
       "      <td>Bill Barkoczy</td>\n",
       "      <td>0</td>\n",
       "      <td>0</td>\n",
       "      <td>2</td>\n",
       "      <td>1289088000</td>\n",
       "      <td>Cashews</td>\n",
       "      <td>These dry roasted cashews were noy dry roasted...</td>\n",
       "      <td>115</td>\n",
       "      <td>negative</td>\n",
       "      <td>useless</td>\n",
       "    </tr>\n",
       "    <tr>\n",
       "      <th>40</th>\n",
       "      <td>285673</td>\n",
       "      <td>B000KNDF7M</td>\n",
       "      <td>A17MURLSVTLNKN</td>\n",
       "      <td>M. Bhatia</td>\n",
       "      <td>0</td>\n",
       "      <td>4</td>\n",
       "      <td>5</td>\n",
       "      <td>1238630400</td>\n",
       "      <td>On time and as described!!</td>\n",
       "      <td>I was very happy with my order.  It arrived on...</td>\n",
       "      <td>82</td>\n",
       "      <td>positive</td>\n",
       "      <td>useless</td>\n",
       "    </tr>\n",
       "    <tr>\n",
       "      <th>41</th>\n",
       "      <td>393481</td>\n",
       "      <td>B0002ASM94</td>\n",
       "      <td>A1I327C0APIQBG</td>\n",
       "      <td>Ginger23</td>\n",
       "      <td>1</td>\n",
       "      <td>1</td>\n",
       "      <td>5</td>\n",
       "      <td>1322438400</td>\n",
       "      <td>durable</td>\n",
       "      <td>These bones are awesome- my dog hasn't managed...</td>\n",
       "      <td>181</td>\n",
       "      <td>positive</td>\n",
       "      <td>useful</td>\n",
       "    </tr>\n",
       "    <tr>\n",
       "      <th>42</th>\n",
       "      <td>491468</td>\n",
       "      <td>B002FVUMU0</td>\n",
       "      <td>AGKC7QBBFRD5O</td>\n",
       "      <td>Lord Marshal the 1st</td>\n",
       "      <td>1</td>\n",
       "      <td>1</td>\n",
       "      <td>5</td>\n",
       "      <td>1299888000</td>\n",
       "      <td>Good quality, lightning shipping</td>\n",
       "      <td>Was wary about buying from this vendor with no...</td>\n",
       "      <td>243</td>\n",
       "      <td>positive</td>\n",
       "      <td>useful</td>\n",
       "    </tr>\n",
       "    <tr>\n",
       "      <th>43</th>\n",
       "      <td>382883</td>\n",
       "      <td>B002T0IHPO</td>\n",
       "      <td>A1TSJR1YF6ORC0</td>\n",
       "      <td>V. R. Heck</td>\n",
       "      <td>2</td>\n",
       "      <td>3</td>\n",
       "      <td>5</td>\n",
       "      <td>1311552000</td>\n",
       "      <td>Just Amazing!</td>\n",
       "      <td>It's so much fun to make my own soda with as m...</td>\n",
       "      <td>115</td>\n",
       "      <td>positive</td>\n",
       "      <td>useless</td>\n",
       "    </tr>\n",
       "    <tr>\n",
       "      <th>44</th>\n",
       "      <td>558578</td>\n",
       "      <td>B000EMNKXS</td>\n",
       "      <td>A4EYDXJMLGZ2Q</td>\n",
       "      <td>Ydtrack</td>\n",
       "      <td>0</td>\n",
       "      <td>0</td>\n",
       "      <td>5</td>\n",
       "      <td>1321142400</td>\n",
       "      <td>Ships better than the liquid coffee creamers</td>\n",
       "      <td>I have ordered the liquid coffee creamers in t...</td>\n",
       "      <td>206</td>\n",
       "      <td>positive</td>\n",
       "      <td>useless</td>\n",
       "    </tr>\n",
       "    <tr>\n",
       "      <th>45</th>\n",
       "      <td>182397</td>\n",
       "      <td>B008RWUKXK</td>\n",
       "      <td>AEC90GPFKLAAW</td>\n",
       "      <td>Lisa Kearns</td>\n",
       "      <td>0</td>\n",
       "      <td>0</td>\n",
       "      <td>4</td>\n",
       "      <td>1320883200</td>\n",
       "      <td>Healthy and tastes great, but the clusters wer...</td>\n",
       "      <td>I received my bag of Kind Healthy Grains clust...</td>\n",
       "      <td>1057</td>\n",
       "      <td>positive</td>\n",
       "      <td>useless</td>\n",
       "    </tr>\n",
       "    <tr>\n",
       "      <th>46</th>\n",
       "      <td>174198</td>\n",
       "      <td>B000LL0RKG</td>\n",
       "      <td>A2BO3RX7DEKPBS</td>\n",
       "      <td>Ms. Cascadia \"Lis\"</td>\n",
       "      <td>24</td>\n",
       "      <td>27</td>\n",
       "      <td>1</td>\n",
       "      <td>1260144000</td>\n",
       "      <td>Boycott Silk! Irresponsible and shady business...</td>\n",
       "      <td>I used to be a loyal Silk drinker back when it...</td>\n",
       "      <td>1021</td>\n",
       "      <td>negative</td>\n",
       "      <td>useful</td>\n",
       "    </tr>\n",
       "    <tr>\n",
       "      <th>47</th>\n",
       "      <td>519796</td>\n",
       "      <td>B0017128WO</td>\n",
       "      <td>A1FWJPC1B5PKII</td>\n",
       "      <td>gman</td>\n",
       "      <td>0</td>\n",
       "      <td>0</td>\n",
       "      <td>5</td>\n",
       "      <td>1324944000</td>\n",
       "      <td>great steak</td>\n",
       "      <td>these steaks are not as good as the private re...</td>\n",
       "      <td>134</td>\n",
       "      <td>positive</td>\n",
       "      <td>useless</td>\n",
       "    </tr>\n",
       "    <tr>\n",
       "      <th>48</th>\n",
       "      <td>348677</td>\n",
       "      <td>B000E46GFK</td>\n",
       "      <td>A1KU110KO2ILWG</td>\n",
       "      <td>H. Rao</td>\n",
       "      <td>0</td>\n",
       "      <td>0</td>\n",
       "      <td>4</td>\n",
       "      <td>1288569600</td>\n",
       "      <td>Good oatmeal with unique flavors</td>\n",
       "      <td>Ever since I was about 8 years old, I've been ...</td>\n",
       "      <td>406</td>\n",
       "      <td>positive</td>\n",
       "      <td>useless</td>\n",
       "    </tr>\n",
       "    <tr>\n",
       "      <th>49</th>\n",
       "      <td>29862</td>\n",
       "      <td>B0045CTYNI</td>\n",
       "      <td>A1X2A8LAZLOUO0</td>\n",
       "      <td>Kathy</td>\n",
       "      <td>0</td>\n",
       "      <td>0</td>\n",
       "      <td>1</td>\n",
       "      <td>1347062400</td>\n",
       "      <td>bag was greasy</td>\n",
       "      <td>It was a real pain to throw out the whole bag....</td>\n",
       "      <td>207</td>\n",
       "      <td>negative</td>\n",
       "      <td>useless</td>\n",
       "    </tr>\n",
       "  </tbody>\n",
       "</table>\n",
       "</div>"
      ],
      "text/plain": [
       "        Id   ProductId          UserId  \\\n",
       "0   492346  B001VNP0Y6   AEZRVY3CV52UZ   \n",
       "1   343811  B008J1HO4C  A18VZYSLOUO060   \n",
       "2   347257  B000FFIL60  A28Y1M7GRG0I9M   \n",
       "3   225529  B002ZX1U9A  A245HC4T5J97WG   \n",
       "4   485488  B001RVFERK   AVABPJCKE2MR5   \n",
       "5    74981  B0026RQTGE  A161Y9NAR43WCW   \n",
       "6   204180  B000F0FZE6  A1H35JZ9UUCVIF   \n",
       "7   454372  B0019K981W  A13H71301WENPW   \n",
       "8   112235  B0009JJB4S  A2HBOYLMGW2A5Y   \n",
       "9   295251  B000LQNK50   ATO0RF3HWQ3WW   \n",
       "10    2544  B000G7UDPY  A392JXFKJ5GG17   \n",
       "11  435949  B0016COPSY   A6KL17KKN0A5L   \n",
       "12  179209  B000V1FI5U  A2DQ0KE7NH5A08   \n",
       "13  243805  B001LQNVOE  A3JJOUVMIIXLFQ   \n",
       "14   11688  B0032RPLSY  A2ELBN89JT1S4T   \n",
       "15  459662  B000LKTJUG  A3PNHHF9XWHJGR   \n",
       "16  525701  B0015V1WMS  A3BTGGLX2B6Q6N   \n",
       "17   31901  B0062A87HA   ACVLAI219S7TT   \n",
       "18  135696  B003THML30  A1RC6AKHUZKRQS   \n",
       "19   16179  B0001BVD04  A2YDEO5BR1OA5R   \n",
       "20   79185  B002WDCIXK  A336LGWA4H3V4H   \n",
       "21  178788  B0001WAMA0  A2HTHVCM8MEM3F   \n",
       "22  450065  B001SB6A7C  A2GOR08W4UGJO7   \n",
       "23  340470  B002ITIBQG   AKB3TXWM102DR   \n",
       "24  409742  B003LPZTTS  A2V8GTSHVKMFI3   \n",
       "25  302044  B0048CHI9M    AUUFW7PTUHLT   \n",
       "26  231195  B003FDC2I2  A2IZEN3G4J0605   \n",
       "27  391725  B000YQCDQY  A3F34JZEKQBH68   \n",
       "28  549077  B000WV153I  A27AB7VV7ETZ74   \n",
       "29  448115  B001FXU6QO   AKGIHE73N0HJW   \n",
       "30    5785  B003TIVBSU   AUXRFG41XNAI3   \n",
       "31  215615  B0019FM29M   ADGS32I8FDAU0   \n",
       "32  502232  B000GQ03K0  A2A0JAZSASXJWL   \n",
       "33  355280  B004KPMWLG  A1Z54EM24Y40LL   \n",
       "34    3303  B005K4Q1VI  A29WENSRNV44RY   \n",
       "35   57856  B000EVOSE4  A13P3HLPHS2PGJ   \n",
       "36  237704  B002L99DTC  A1I9SEYBPTWFTZ   \n",
       "37  214813  B001BBXP7M   AH0SAAFAGK5C5   \n",
       "38  335679  B000VTFIWK  A28S6CWIEP76BQ   \n",
       "39  284412  B003Z33WGI  A2GE7OOGW6LMYK   \n",
       "40  285673  B000KNDF7M  A17MURLSVTLNKN   \n",
       "41  393481  B0002ASM94  A1I327C0APIQBG   \n",
       "42  491468  B002FVUMU0   AGKC7QBBFRD5O   \n",
       "43  382883  B002T0IHPO  A1TSJR1YF6ORC0   \n",
       "44  558578  B000EMNKXS   A4EYDXJMLGZ2Q   \n",
       "45  182397  B008RWUKXK   AEC90GPFKLAAW   \n",
       "46  174198  B000LL0RKG  A2BO3RX7DEKPBS   \n",
       "47  519796  B0017128WO  A1FWJPC1B5PKII   \n",
       "48  348677  B000E46GFK  A1KU110KO2ILWG   \n",
       "49   29862  B0045CTYNI  A1X2A8LAZLOUO0   \n",
       "\n",
       "                                       ProfileName  HelpfulnessNumerator  \\\n",
       "0                        Corey Wright \"Democratus\"                     3   \n",
       "1                          D. Simpson \"Frugal SOB\"                     2   \n",
       "2                              Real Comments \"Lin\"                     0   \n",
       "3                                  Logan DeAngelis                     0   \n",
       "4                                             spal                     0   \n",
       "5                                           vertov                     0   \n",
       "6                                         carrera4                     1   \n",
       "7                           Patricia Fentriss \"PF\"                    11   \n",
       "8                                              lee                     0   \n",
       "9                                  Scott \"Scottso\"                    12   \n",
       "10                                Donna G. Spencer                     0   \n",
       "11                                       K. Harper                    14   \n",
       "12                          Alice McDaniel \"Alice\"                     0   \n",
       "13                                       L  Willis                     0   \n",
       "14                                        Maybelle                     0   \n",
       "15                             Kyle Smeby \"kyle78\"                     1   \n",
       "16                                          sponse                     0   \n",
       "17                                     Wendy in Pa                    12   \n",
       "18                                             Amy                     0   \n",
       "19                                           Pelly                     5   \n",
       "20                                         Blarney                     1   \n",
       "21  Nikijay88 \"Always hoping for happiness &#60;3\"                     2   \n",
       "22                                    austinwriter                     0   \n",
       "23                             Rebecca \"red roots\"                     0   \n",
       "24                                   Z. \"speedyZ.\"                     1   \n",
       "25                                      MamaSylvia                     0   \n",
       "26                                       Ultraquel                     1   \n",
       "27                                  Karen Canellos                     0   \n",
       "28                                     Danielle O.                     3   \n",
       "29                                        jennifer                     0   \n",
       "30                                        P. Souza                     0   \n",
       "31                              et \"et in Indiana\"                     0   \n",
       "32                              E. tamba \"colonia\"                     1   \n",
       "33                                              c2                     1   \n",
       "34                                       selketine                     0   \n",
       "35                                     saltpeanuts                     5   \n",
       "36                                  LARRY STANIFER                     0   \n",
       "37                     Road Warrior \"Road Warrior\"                     3   \n",
       "38                                           Laura                     1   \n",
       "39                                   Bill Barkoczy                     0   \n",
       "40                                       M. Bhatia                     0   \n",
       "41                                        Ginger23                     1   \n",
       "42                            Lord Marshal the 1st                     1   \n",
       "43                                      V. R. Heck                     2   \n",
       "44                                         Ydtrack                     0   \n",
       "45                                     Lisa Kearns                     0   \n",
       "46                              Ms. Cascadia \"Lis\"                    24   \n",
       "47                                            gman                     0   \n",
       "48                                          H. Rao                     0   \n",
       "49                                           Kathy                     0   \n",
       "\n",
       "    HelpfulnessDenominator  Prediction        Time  \\\n",
       "0                        3           5  1320537600   \n",
       "1                        2           5  1204329600   \n",
       "2                        0           4  1318464000   \n",
       "3                        0           5  1306540800   \n",
       "4                        0           4  1314921600   \n",
       "5                        0           5  1314835200   \n",
       "6                        1           5  1330646400   \n",
       "7                       13           1  1249344000   \n",
       "8                        0           5  1345852800   \n",
       "9                       16           3  1236729600   \n",
       "10                       1           1  1266019200   \n",
       "11                      20           4  1291593600   \n",
       "12                       0           3  1339977600   \n",
       "13                       1           5  1335657600   \n",
       "14                       0           5  1351123200   \n",
       "15                       1           5  1233878400   \n",
       "16                       0           4  1290988800   \n",
       "17                      12           1  1279670400   \n",
       "18                       0           1  1339718400   \n",
       "19                       5           4  1150329600   \n",
       "20                       1           2  1326412800   \n",
       "21                       2           5  1329350400   \n",
       "22                       1           4  1331510400   \n",
       "23                       0           5  1319760000   \n",
       "24                       1           3  1311811200   \n",
       "25                       0           5  1338163200   \n",
       "26                       1           5  1287964800   \n",
       "27                       0           5  1346630400   \n",
       "28                       3           5  1337212800   \n",
       "29                       0           5  1301875200   \n",
       "30                       0           5  1318204800   \n",
       "31                       8           3  1244073600   \n",
       "32                       2           5  1168300800   \n",
       "33                       1           5  1338249600   \n",
       "34                       0           3  1328832000   \n",
       "35                      14           1  1161820800   \n",
       "36                       0           2  1350691200   \n",
       "37                       5           5  1183939200   \n",
       "38                       1           5  1313971200   \n",
       "39                       0           2  1289088000   \n",
       "40                       4           5  1238630400   \n",
       "41                       1           5  1322438400   \n",
       "42                       1           5  1299888000   \n",
       "43                       3           5  1311552000   \n",
       "44                       0           5  1321142400   \n",
       "45                       0           4  1320883200   \n",
       "46                      27           1  1260144000   \n",
       "47                       0           5  1324944000   \n",
       "48                       0           4  1288569600   \n",
       "49                       0           1  1347062400   \n",
       "\n",
       "                                              Summary  \\\n",
       "0                                  Just what I needed   \n",
       "1                              Most excellent oatmeal   \n",
       "2                                         Quality Tea   \n",
       "3                       Great Coffee at a Great price   \n",
       "4                            Popchips Jalapeno flavor   \n",
       "5                            Our dog has fresh breath   \n",
       "6                              Great Pasta & Healthy!   \n",
       "7   Sugar bomb!!!  Same amount of sugar as a 12 oz...   \n",
       "8                         Pretty great for the price!   \n",
       "9                                              Its OK   \n",
       "10                                   Bad tasting soup   \n",
       "11         I like it, but it's a product of Taiwan...   \n",
       "12  Okay but learning that I'm just not into \"flav...   \n",
       "13                          This is very good coffee.   \n",
       "14                                         Delicious!   \n",
       "15                              Cure for sore throats   \n",
       "16                Gold coins were a great party favor   \n",
       "17  Is someone using Amazon as an outlet for dente...   \n",
       "18                                Don't buy from here   \n",
       "19                            Cheaper in supermarkets   \n",
       "20                                  Way too expensive   \n",
       "21                           Great Appreciation Gift!   \n",
       "22                            Great Taste, Small Bags   \n",
       "23                      TRY THESE, THEY'RE DELICIOUS!   \n",
       "24                                 With pros and cons   \n",
       "25                                  Sugar-free to go!   \n",
       "26                                             Great!   \n",
       "27                                good tasting flavor   \n",
       "28           Simply the best food I've ever consumed.   \n",
       "29                 Love this product works amazing!!!   \n",
       "30                                  Delicious beans!!   \n",
       "31                                       not so yummy   \n",
       "32                                         cool stuff   \n",
       "33                                      Just awesome!   \n",
       "34                      Kids love it - me not so much   \n",
       "35                                       Tasty Rubber   \n",
       "36                       Lemon Drops leave sour taste   \n",
       "37                                  Road Warrior-L.A.   \n",
       "38                                 Great kitten food!   \n",
       "39                                            Cashews   \n",
       "40                         On time and as described!!   \n",
       "41                                            durable   \n",
       "42                   Good quality, lightning shipping   \n",
       "43                                      Just Amazing!   \n",
       "44       Ships better than the liquid coffee creamers   \n",
       "45  Healthy and tastes great, but the clusters wer...   \n",
       "46  Boycott Silk! Irresponsible and shady business...   \n",
       "47                                        great steak   \n",
       "48                   Good oatmeal with unique flavors   \n",
       "49                                     bag was greasy   \n",
       "\n",
       "                                                 Text  Text_Length Sentiment  \\\n",
       "0   I got them in a very timely manner and they're...          271  positive   \n",
       "1   McCann's Steel Cut Oatmeal is the perfect brea...          401  positive   \n",
       "2   I would recommend it. Quality pearls and a few...          214  positive   \n",
       "3   I have to admit, I first purchased these Hazel...          247  positive   \n",
       "4   I bought a case of jalapeno chips as I love th...          303  positive   \n",
       "5   No doggie breath for our dog.  People are alwa...          268  positive   \n",
       "6   I tried this pasta after viewing the Dr. Oz sh...          331  positive   \n",
       "7   Check out the sugar content before you buy!  2...          187  negative   \n",
       "8   I drink Iron goddess oolong pretty often, it i...          543  positive   \n",
       "9   Maybe it's due to my tendency to prefer noodle...          825  negative   \n",
       "10  This is one of the worse tasting soups I've ev...          209  negative   \n",
       "11  While I love the product, if you read the labe...          215  positive   \n",
       "12  I ordered these and was excited about them.  T...          304  negative   \n",
       "13  We like our coffee strong but not bitter. This...          202  positive   \n",
       "14  This ghee is delicious. A little goes a long w...          189  positive   \n",
       "15  For about 5 years, especially during the winte...          505  positive   \n",
       "16  This product was perfect for a volunteer recog...          297  positive   \n",
       "17  I received Farmers Market Organic Pumpkin 12 p...          513  negative   \n",
       "18  I was expecting two packs of these like the de...          114  negative   \n",
       "19  This is a great fruit soda, will surprise you ...          417  positive   \n",
       "20  Like the product, but come on....  $38.00 for ...          117  negative   \n",
       "21  I sent this to my mother as a thank you for al...          207  positive   \n",
       "22  The taste of these chips is incredible. My onl...          139  positive   \n",
       "23  You have to treat yourself to these wonderful ...          147  positive   \n",
       "24  Pros:<br />1. Clumps well.<br />2. Easy to get...          593  negative   \n",
       "25  I always keep one of these in my purse because...          461  positive   \n",
       "26  Orgain is healthier than most drinks, so it sa...          133  positive   \n",
       "27  If you are trying to watch calories, these are...          122  positive   \n",
       "28  I can't stop eating this stuff! The taste is s...          365  positive   \n",
       "29  I love this product, first it was supose to ge...          308  positive   \n",
       "30  I bake quite often and I love to use fresh van...          659  positive   \n",
       "31  If you are hoping to buy the same product you ...          223  negative   \n",
       "32  I really like this gum, cool and free sugar an...           72  positive   \n",
       "33  This stuff, when thoroughly chilled, tastes li...          442  positive   \n",
       "34  I bought this brand of hot chocolate K cups ca...          526  negative   \n",
       "35  I expected something softer in texture, but th...          213  negative   \n",
       "36  Not the same drops from Flathau that I remembe...          113  negative   \n",
       "37  I have been using this powder mix for the last...          184  positive   \n",
       "38  This dry food is great!  My kitten (5 mos. old...          544  positive   \n",
       "39  These dry roasted cashews were noy dry roasted...          115  negative   \n",
       "40  I was very happy with my order.  It arrived on...           82  positive   \n",
       "41  These bones are awesome- my dog hasn't managed...          181  positive   \n",
       "42  Was wary about buying from this vendor with no...          243  positive   \n",
       "43  It's so much fun to make my own soda with as m...          115  positive   \n",
       "44  I have ordered the liquid coffee creamers in t...          206  positive   \n",
       "45  I received my bag of Kind Healthy Grains clust...         1057  positive   \n",
       "46  I used to be a loyal Silk drinker back when it...         1021  negative   \n",
       "47  these steaks are not as good as the private re...          134  positive   \n",
       "48  Ever since I was about 8 years old, I've been ...          406  positive   \n",
       "49  It was a real pain to throw out the whole bag....          207  negative   \n",
       "\n",
       "   Usefulness  \n",
       "0      useful  \n",
       "1      useful  \n",
       "2     useless  \n",
       "3     useless  \n",
       "4     useless  \n",
       "5     useless  \n",
       "6      useful  \n",
       "7      useful  \n",
       "8     useless  \n",
       "9     useless  \n",
       "10    useless  \n",
       "11    useless  \n",
       "12    useless  \n",
       "13    useless  \n",
       "14    useless  \n",
       "15     useful  \n",
       "16    useless  \n",
       "17     useful  \n",
       "18    useless  \n",
       "19     useful  \n",
       "20     useful  \n",
       "21     useful  \n",
       "22    useless  \n",
       "23    useless  \n",
       "24     useful  \n",
       "25    useless  \n",
       "26     useful  \n",
       "27    useless  \n",
       "28     useful  \n",
       "29    useless  \n",
       "30    useless  \n",
       "31    useless  \n",
       "32    useless  \n",
       "33     useful  \n",
       "34    useless  \n",
       "35    useless  \n",
       "36    useless  \n",
       "37    useless  \n",
       "38     useful  \n",
       "39    useless  \n",
       "40    useless  \n",
       "41     useful  \n",
       "42     useful  \n",
       "43    useless  \n",
       "44    useless  \n",
       "45    useless  \n",
       "46     useful  \n",
       "47    useless  \n",
       "48    useless  \n",
       "49    useless  "
      ]
     },
     "execution_count": 17,
     "metadata": {},
     "output_type": "execute_result"
    }
   ],
   "source": [
    "df[\"Sentiment\"] = df[\"Prediction\"].apply(lambda score: \"positive\" if score > 3 else \"negative\")\n",
    "df[\"Usefulness\"] = (df[\"HelpfulnessNumerator\"]/df[\"HelpfulnessDenominator\"]).apply(lambda n: \"useful\" if n > 0.8 else \"useless\")\n",
    "\n",
    "df.head(50)"
   ]
  },
  {
   "cell_type": "markdown",
   "metadata": {},
   "source": [
    "### Splitting dataframe into train and test data\n",
    "\n",
    "How will you do sentimental analysis on the datasets? How will you start implementations?"
   ]
  },
  {
   "cell_type": "code",
   "execution_count": 18,
   "metadata": {},
   "outputs": [
    {
     "name": "stdout",
     "output_type": "stream",
     "text": [
      "39997 items in training data, 10000 in test data\n"
     ]
    }
   ],
   "source": [
    "from sklearn.feature_extraction.text import CountVectorizer, TfidfTransformer\n",
    "from sklearn.model_selection import train_test_split\n",
    "import re\n",
    "import string\n",
    "import nltk\n",
    "\n",
    "cleanup_re = re.compile('[^a-z]+')\n",
    "def cleanup(sentence):\n",
    "    sentence = sentence.lower()\n",
    "    sentence = cleanup_re.sub(' ', sentence).strip()\n",
    "    #sentence = \" \".join(nltk.word_tokenize(sentence))\n",
    "    return sentence\n",
    "\n",
    "df[\"Summary_Clean\"] = df[\"Summary\"].apply(cleanup)\n",
    "\n",
    "train, test = train_test_split(df, test_size=0.2)\n",
    "print(\"%d items in training data, %d in test data\" % (len(train), len(test)))"
   ]
  },
  {
   "cell_type": "markdown",
   "metadata": {},
   "source": [
    "We can start implementation by creating Test and Train data. Here, 363778 data rows are in training data and 90945 data rows are in Test data. Now we can implement the diff analysis using this Train and Test data."
   ]
  },
  {
   "cell_type": "markdown",
   "metadata": {},
   "source": [
    "# Sentiment scores"
   ]
  },
  {
   "cell_type": "code",
   "execution_count": 19,
   "metadata": {},
   "outputs": [
    {
     "data": {
      "image/png": "[encoded data removed]",
      "text/plain": [
       "<matplotlib.figure.Figure at 0x10ea9dc18>"
      ]
     },
     "metadata": {},
     "output_type": "display_data"
    }
   ],
   "source": [
    "ax = plt.axes()\n",
    "sns.countplot(df.Prediction,ax=ax)\n",
    "ax.set_title('Prediction Distribution')\n",
    "plt.show()"
   ]
  },
  {
   "cell_type": "code",
   "execution_count": 20,
   "metadata": {},
   "outputs": [
    {
     "name": "stdout",
     "output_type": "stream",
     "text": [
      "Average Score:  4.177990679440766\n",
      "Median Score:  5.0\n"
     ]
    }
   ],
   "source": [
    "print(\"Average Score: \",np.mean(df.Prediction))\n",
    "print(\"Median Score: \",np.median(df.Prediction))"
   ]
  },
  {
   "cell_type": "markdown",
   "metadata": {},
   "source": [
    "After creating a new variable named Sentiment that is set to NEGATIVE when the Score is between 1 and 3, and POSITIVE when the Score is equal to 4 or 5, we get this new distribution:"
   ]
  },
  {
   "cell_type": "markdown",
   "metadata": {},
   "source": [
    "# Score prediction\n",
    "\n",
    "Logistic regression model on word count"
   ]
  },
  {
   "cell_type": "code",
   "execution_count": 21,
   "metadata": {
    "collapsed": true
   },
   "outputs": [],
   "source": [
    "from wordcloud import WordCloud, STOPWORDS\n",
    "\n",
    "# To cleanup stop words, add stop_words = STOPWORDS\n",
    "# But it seems to function better without it\n",
    "count_vect = CountVectorizer(min_df = 1, ngram_range = (1, 4))\n",
    "X_train_counts = count_vect.fit_transform(train[\"Summary_Clean\"])\n",
    "\n",
    "tfidf_transformer = TfidfTransformer()\n",
    "X_train_tfidf = tfidf_transformer.fit_transform(X_train_counts)\n",
    "\n",
    "X_new_counts = count_vect.transform(test[\"Summary_Clean\"])\n",
    "X_test_tfidf = tfidf_transformer.transform(X_new_counts)\n",
    "\n",
    "y_train = train[\"Sentiment\"]\n",
    "y_test = test[\"Sentiment\"]\n",
    "\n",
    "prediction = dict()"
   ]
  },
  {
   "cell_type": "markdown",
   "metadata": {},
   "source": [
    "# Model Accuracy\n",
    "\n",
    "Model Accuracy is found out to be great like around 93% with higly used positive and negative wors in the reviews."
   ]
  },
  {
   "cell_type": "code",
   "execution_count": 22,
   "metadata": {},
   "outputs": [
    {
     "name": "stdout",
     "output_type": "stream",
     "text": [
      "# features: 40528\n",
      "# train records: 34641\n",
      "# test records: 11547\n",
      "Model Accuracy: 0.9148696631159609\n",
      "\n",
      "-Top 20 positive-\n",
      "Coefficient          Word\n",
      "   2.236875     complaint\n",
      "   2.035461       awesome\n",
      "   1.899275     delicious\n",
      "   1.894017    reasonably\n",
      "   1.851596  surprisingly\n",
      "   1.766456         yummy\n",
      "   1.723691     boyfriend\n",
      "   1.710550     beautiful\n",
      "   1.687512     excellent\n",
      "   1.673610       perfect\n",
      "   1.630447         loves\n",
      "   1.583106        heaven\n",
      "   1.578446        hooked\n",
      "   1.561294        update\n",
      "   1.527788          fits\n",
      "   1.518601        smooth\n",
      "   1.502272         keeps\n",
      "   1.493244    complaints\n",
      "   1.492781    pleasantly\n",
      "   1.471916        highly\n",
      "\n",
      "-Top 20 negative-\n",
      "Coefficient            Word\n",
      "  -1.697347      overpriced\n",
      "  -1.706039       returning\n",
      "  -1.718108         heating\n",
      "  -1.728178            weak\n",
      "  -1.751525       cancelled\n",
      "  -1.769369         useless\n",
      "  -1.773553           stale\n",
      "  -1.782091           awful\n",
      "  -1.791874             mud\n",
      "  -1.795986         sounded\n",
      "  -1.837564           worse\n",
      "  -1.960977          ruined\n",
      "  -2.058222          edible\n",
      "  -2.139743             rip\n",
      "  -2.144283       tasteless\n",
      "  -2.279936           choke\n",
      "  -2.414106           worst\n",
      "  -2.462885        terrible\n",
      "  -2.463620  disappointment\n",
      "  -2.479789   disappointing\n"
     ]
    }
   ],
   "source": [
    "cdf = df[df['Prediction'] != 3]\n",
    "X = cdf['Text']\n",
    "y_dict = {1:0, 2:0, 4:1, 5:1}\n",
    "y = cdf['Prediction'].map(y_dict)\n",
    "\n",
    "c = CountVectorizer(stop_words = 'english')\n",
    "\n",
    "def text_fit(X, y, model,clf_model,coef_show=1):\n",
    "    \n",
    "    X_c = model.fit_transform(X)\n",
    "    print('# features: {}'.format(X_c.shape[1]))\n",
    "    X_train, X_test, y_train, y_test = train_test_split(X_c, y, random_state=0)\n",
    "    print('# train records: {}'.format(X_train.shape[0]))\n",
    "    print('# test records: {}'.format(X_test.shape[0]))\n",
    "    clf = clf_model.fit(X_train, y_train)\n",
    "    acc = clf.score(X_test, y_test)\n",
    "    print ('Model Accuracy: {}'.format(acc))\n",
    "    \n",
    "    if coef_show == 1: \n",
    "        w = model.get_feature_names()\n",
    "        coef = clf.coef_.tolist()[0]\n",
    "        coeff_df = pd.DataFrame({'Word' : w, 'Coefficient' : coef})\n",
    "        coeff_df = coeff_df.sort_values(['Coefficient', 'Word'], ascending=[0, 1])\n",
    "        print('')\n",
    "        print('-Top 20 positive-')\n",
    "        print(coeff_df.head(20).to_string(index=False))\n",
    "        print('')\n",
    "        print('-Top 20 negative-')        \n",
    "        print(coeff_df.tail(20).to_string(index=False))\n",
    "    \n",
    "    \n",
    "text_fit(X, y, c, LogisticRegression())"
   ]
  },
  {
   "cell_type": "markdown",
   "metadata": {},
   "source": [
    "# Logistic regression model on TFIDF\n",
    "\n",
    "Can we capture the list of the words for Positive reviews and Negative reviews from the dataset?"
   ]
  },
  {
   "cell_type": "code",
   "execution_count": 23,
   "metadata": {},
   "outputs": [
    {
     "name": "stdout",
     "output_type": "stream",
     "text": [
      "# features: 40528\n",
      "# train records: 34641\n",
      "# test records: 11547\n",
      "Model Accuracy: 0.9090672902052481\n",
      "\n",
      "-Top 20 positive-\n",
      "Coefficient       Word\n",
      "   9.509096      great\n",
      "   7.106274       best\n",
      "   6.491383  delicious\n",
      "   6.053665       love\n",
      "   5.367147    perfect\n",
      "   5.345422       good\n",
      "   5.330490      loves\n",
      "   4.595049  excellent\n",
      "   4.538043  wonderful\n",
      "   4.497269       nice\n",
      "   4.437109   favorite\n",
      "   4.178098     highly\n",
      "   3.558490    awesome\n",
      "   3.555140      happy\n",
      "   3.378256        day\n",
      "   3.323439      works\n",
      "   3.298859     smooth\n",
      "   3.298127       easy\n",
      "   3.162987    pleased\n",
      "   3.148371      tasty\n",
      "\n",
      "-Top 20 negative-\n",
      "Coefficient            Word\n",
      "  -3.220691        thinking\n",
      "  -3.259064           gross\n",
      "  -3.288021           maybe\n",
      "  -3.376573           nasty\n",
      "  -3.443924           china\n",
      "  -3.579517           threw\n",
      "  -3.693829             bad\n",
      "  -3.784569        horrible\n",
      "  -3.938371   unfortunately\n",
      "  -3.939239            weak\n",
      "  -4.038683  disappointment\n",
      "  -4.234805           stale\n",
      "  -4.414137          return\n",
      "  -4.540612           money\n",
      "  -4.574142         thought\n",
      "  -4.715086           awful\n",
      "  -4.795232   disappointing\n",
      "  -5.203762        terrible\n",
      "  -5.233363           worst\n",
      "  -5.968461    disappointed\n"
     ]
    }
   ],
   "source": [
    "from sklearn.feature_extraction.text import TfidfVectorizer\n",
    "\n",
    "\n",
    "tfidf = TfidfVectorizer(stop_words = 'english')\n",
    "text_fit(X, y, tfidf, LogisticRegression())"
   ]
  },
  {
   "cell_type": "markdown",
   "metadata": {},
   "source": [
    "From above logic, you can see that we have captured the 20 positive words used in dataset reviews and 20 negative words used in dataset review. Based on this words, we can predict the food reviews and based on that we can suggest the good and bad food from the productId of the Amazon food."
   ]
  },
  {
   "cell_type": "code",
   "execution_count": 24,
   "metadata": {},
   "outputs": [
    {
     "data": {
      "text/html": [
       "<div>\n",
       "<style>\n",
       "    .dataframe thead tr:only-child th {\n",
       "        text-align: right;\n",
       "    }\n",
       "\n",
       "    .dataframe thead th {\n",
       "        text-align: left;\n",
       "    }\n",
       "\n",
       "    .dataframe tbody tr th {\n",
       "        vertical-align: top;\n",
       "    }\n",
       "</style>\n",
       "<table border=\"1\" class=\"dataframe\">\n",
       "  <thead>\n",
       "    <tr style=\"text-align: right;\">\n",
       "      <th></th>\n",
       "      <th>Id</th>\n",
       "      <th>ProductId</th>\n",
       "      <th>UserId</th>\n",
       "      <th>ProfileName</th>\n",
       "      <th>HelpfulnessNumerator</th>\n",
       "      <th>HelpfulnessDenominator</th>\n",
       "      <th>Prediction</th>\n",
       "      <th>Time</th>\n",
       "      <th>Summary</th>\n",
       "      <th>Text</th>\n",
       "      <th>Helpful %</th>\n",
       "      <th>% Upvote</th>\n",
       "    </tr>\n",
       "  </thead>\n",
       "  <tbody>\n",
       "    <tr>\n",
       "      <th>0</th>\n",
       "      <td>492346</td>\n",
       "      <td>B001VNP0Y6</td>\n",
       "      <td>AEZRVY3CV52UZ</td>\n",
       "      <td>Corey Wright \"Democratus\"</td>\n",
       "      <td>3</td>\n",
       "      <td>3</td>\n",
       "      <td>5</td>\n",
       "      <td>1320537600</td>\n",
       "      <td>Just what I needed</td>\n",
       "      <td>I got them in a very timely manner and they're...</td>\n",
       "      <td>1.0</td>\n",
       "      <td>80-100%</td>\n",
       "    </tr>\n",
       "    <tr>\n",
       "      <th>1</th>\n",
       "      <td>343811</td>\n",
       "      <td>B008J1HO4C</td>\n",
       "      <td>A18VZYSLOUO060</td>\n",
       "      <td>D. Simpson \"Frugal SOB\"</td>\n",
       "      <td>2</td>\n",
       "      <td>2</td>\n",
       "      <td>5</td>\n",
       "      <td>1204329600</td>\n",
       "      <td>Most excellent oatmeal</td>\n",
       "      <td>McCann's Steel Cut Oatmeal is the perfect brea...</td>\n",
       "      <td>1.0</td>\n",
       "      <td>80-100%</td>\n",
       "    </tr>\n",
       "    <tr>\n",
       "      <th>2</th>\n",
       "      <td>347257</td>\n",
       "      <td>B000FFIL60</td>\n",
       "      <td>A28Y1M7GRG0I9M</td>\n",
       "      <td>Real Comments \"Lin\"</td>\n",
       "      <td>0</td>\n",
       "      <td>0</td>\n",
       "      <td>4</td>\n",
       "      <td>1318464000</td>\n",
       "      <td>Quality Tea</td>\n",
       "      <td>I would recommend it. Quality pearls and a few...</td>\n",
       "      <td>-1.0</td>\n",
       "      <td>Empty</td>\n",
       "    </tr>\n",
       "    <tr>\n",
       "      <th>3</th>\n",
       "      <td>225529</td>\n",
       "      <td>B002ZX1U9A</td>\n",
       "      <td>A245HC4T5J97WG</td>\n",
       "      <td>Logan DeAngelis</td>\n",
       "      <td>0</td>\n",
       "      <td>0</td>\n",
       "      <td>5</td>\n",
       "      <td>1306540800</td>\n",
       "      <td>Great Coffee at a Great price</td>\n",
       "      <td>I have to admit, I first purchased these Hazel...</td>\n",
       "      <td>-1.0</td>\n",
       "      <td>Empty</td>\n",
       "    </tr>\n",
       "    <tr>\n",
       "      <th>4</th>\n",
       "      <td>485488</td>\n",
       "      <td>B001RVFERK</td>\n",
       "      <td>AVABPJCKE2MR5</td>\n",
       "      <td>spal</td>\n",
       "      <td>0</td>\n",
       "      <td>0</td>\n",
       "      <td>4</td>\n",
       "      <td>1314921600</td>\n",
       "      <td>Popchips Jalapeno flavor</td>\n",
       "      <td>I bought a case of jalapeno chips as I love th...</td>\n",
       "      <td>-1.0</td>\n",
       "      <td>Empty</td>\n",
       "    </tr>\n",
       "  </tbody>\n",
       "</table>\n",
       "</div>"
      ],
      "text/plain": [
       "       Id   ProductId          UserId                ProfileName  \\\n",
       "0  492346  B001VNP0Y6   AEZRVY3CV52UZ  Corey Wright \"Democratus\"   \n",
       "1  343811  B008J1HO4C  A18VZYSLOUO060    D. Simpson \"Frugal SOB\"   \n",
       "2  347257  B000FFIL60  A28Y1M7GRG0I9M        Real Comments \"Lin\"   \n",
       "3  225529  B002ZX1U9A  A245HC4T5J97WG            Logan DeAngelis   \n",
       "4  485488  B001RVFERK   AVABPJCKE2MR5                       spal   \n",
       "\n",
       "   HelpfulnessNumerator  HelpfulnessDenominator  Prediction        Time  \\\n",
       "0                     3                       3           5  1320537600   \n",
       "1                     2                       2           5  1204329600   \n",
       "2                     0                       0           4  1318464000   \n",
       "3                     0                       0           5  1306540800   \n",
       "4                     0                       0           4  1314921600   \n",
       "\n",
       "                         Summary  \\\n",
       "0             Just what I needed   \n",
       "1         Most excellent oatmeal   \n",
       "2                    Quality Tea   \n",
       "3  Great Coffee at a Great price   \n",
       "4       Popchips Jalapeno flavor   \n",
       "\n",
       "                                                Text  Helpful % % Upvote  \n",
       "0  I got them in a very timely manner and they're...        1.0  80-100%  \n",
       "1  McCann's Steel Cut Oatmeal is the perfect brea...        1.0  80-100%  \n",
       "2  I would recommend it. Quality pearls and a few...       -1.0    Empty  \n",
       "3  I have to admit, I first purchased these Hazel...       -1.0    Empty  \n",
       "4  I bought a case of jalapeno chips as I love th...       -1.0    Empty  "
      ]
     },
     "execution_count": 24,
     "metadata": {},
     "output_type": "execute_result"
    }
   ],
   "source": [
    "odf = pd.read_csv('FoodReview.csv')\n",
    "odf['Helpful %'] = np.where(odf['HelpfulnessDenominator'] > 0, odf['HelpfulnessNumerator'] / odf['HelpfulnessDenominator'], -1)\n",
    "odf['% Upvote'] = pd.cut(odf['Helpful %'], bins = [-1, 0, 0.2, 0.4, 0.6, 0.8, 1.0], labels = ['Empty', '0-20%', '20-40%', '40-60%', '60-80%', '80-100%'], include_lowest = True)\n",
    "odf.head()"
   ]
  },
  {
   "cell_type": "code",
   "execution_count": 25,
   "metadata": {},
   "outputs": [
    {
     "data": {
      "image/png": "[encoded data removed]",
      "text/plain": [
       "<matplotlib.figure.Figure at 0x12368af60>"
      ]
     },
     "metadata": {},
     "output_type": "display_data"
    }
   ],
   "source": [
    "df_s = odf.groupby(['Prediction', '% Upvote']).agg({'Id': 'count'})\n",
    "df_s = df_s.unstack()\n",
    "df_s.columns = df_s.columns.get_level_values(1)\n",
    "fig = plt.figure(figsize=(15,10))\n",
    "\n",
    "sns.heatmap(df_s[df_s.columns[::-1]].T, cmap = 'YlGnBu', linewidths=.5, annot = True, fmt = 'd', cbar_kws={'label': '# reviews'})\n",
    "plt.yticks(rotation=0)\n",
    "plt.title('How helpful users find among user scores')\n",
    "plt.show()"
   ]
  },
  {
   "cell_type": "code",
   "execution_count": 172,
   "metadata": {
    "collapsed": true
   },
   "outputs": [],
   "source": [
    "cdf = odf[odf['Prediction'] != 3]\n",
    "X = cdf['Text']\n",
    "y_dict = {1:0, 2:0, 4:1, 5:1}\n",
    "y = cdf['Prediction'].map(y_dict)"
   ]
  },
  {
   "cell_type": "code",
   "execution_count": 173,
   "metadata": {},
   "outputs": [
    {
     "name": "stdout",
     "output_type": "stream",
     "text": [
      "# features: 40529\n",
      "# train records: 34643\n",
      "# test records: 11548\n",
      "Model Accuracy: 0.9133183235192242\n",
      "\n",
      "-Top 20 positive-\n",
      "Coefficient          Word\n",
      "   1.900403     delicious\n",
      "   1.796278    refreshing\n",
      "   1.795107     excellent\n",
      "   1.794320       awesome\n",
      "   1.785190    complaints\n",
      "   1.783095      addicted\n",
      "   1.778455         yummy\n",
      "   1.751457    reasonably\n",
      "   1.740685     complaint\n",
      "   1.736089     exception\n",
      "   1.733043         loves\n",
      "   1.718482  surprisingly\n",
      "   1.676317       perfect\n",
      "   1.585390        hooked\n",
      "   1.545296    pleasantly\n",
      "   1.520983     wonderful\n",
      "   1.515572         keeps\n",
      "   1.505594          best\n",
      "   1.473191      cheapest\n",
      "   1.467398         thank\n",
      "\n",
      "-Top 20 negative-\n",
      "Coefficient            Word\n",
      "  -1.697450            yuck\n",
      "  -1.714119            weak\n",
      "  -1.723477    disappointed\n",
      "  -1.732617        returned\n",
      "  -1.753435           stale\n",
      "  -1.772196      disgusting\n",
      "  -1.787297        horrible\n",
      "  -1.818849       tasteless\n",
      "  -1.825936             mud\n",
      "  -1.831647       returning\n",
      "  -1.841237           worse\n",
      "  -1.865097           awful\n",
      "  -1.923354          edible\n",
      "  -1.948296           choke\n",
      "  -1.967085            luck\n",
      "  -2.336508          ruined\n",
      "  -2.365838           worst\n",
      "  -2.446553   disappointing\n",
      "  -2.505548        terrible\n",
      "  -2.511374  disappointment\n"
     ]
    }
   ],
   "source": [
    "c = CountVectorizer(stop_words = 'english')\n",
    "\n",
    "def text_fit(X, y, model,clf_model,coef_show=1):\n",
    "    \n",
    "    X_c = model.fit_transform(X)\n",
    "    print('# features: {}'.format(X_c.shape[1]))\n",
    "    X_train, X_test, y_train, y_test = train_test_split(X_c, y, random_state=0)\n",
    "    print('# train records: {}'.format(X_train.shape[0]))\n",
    "    print('# test records: {}'.format(X_test.shape[0]))\n",
    "    clf = clf_model.fit(X_train, y_train)\n",
    "    acc = clf.score(X_test, y_test)\n",
    "    print ('Model Accuracy: {}'.format(acc))\n",
    "    \n",
    "    if coef_show == 1: \n",
    "        w = model.get_feature_names()\n",
    "        coef = clf.coef_.tolist()[0]\n",
    "        coeff_df = pd.DataFrame({'Word' : w, 'Coefficient' : coef})\n",
    "        coeff_df = coeff_df.sort_values(['Coefficient', 'Word'], ascending=[0, 1])\n",
    "        print('')\n",
    "        print('-Top 20 positive-')\n",
    "        print(coeff_df.head(20).to_string(index=False))\n",
    "        print('')\n",
    "        print('-Top 20 negative-')        \n",
    "        print(coeff_df.tail(20).to_string(index=False))\n",
    "    \n",
    "    \n",
    "text_fit(X, y, c, LogisticRegression())"
   ]
  },
  {
   "cell_type": "markdown",
   "metadata": {},
   "source": [
    "Accuracy is around 91.3% - not bad. However we notice that some of those significant coefficients are not meaningful, e.g. 280mg.\n",
    "\n"
   ]
  },
  {
   "cell_type": "code",
   "execution_count": 174,
   "metadata": {},
   "outputs": [
    {
     "name": "stdout",
     "output_type": "stream",
     "text": [
      "# features: 40529\n",
      "# train records: 34643\n",
      "# test records: 11548\n",
      "Model Accuracy: 0.7308624870107377\n"
     ]
    }
   ],
   "source": [
    "text_fit(X, y, c, DummyClassifier(),0)"
   ]
  },
  {
   "cell_type": "markdown",
   "metadata": {},
   "source": [
    "### Logistic regression model on TFIDF "
   ]
  },
  {
   "cell_type": "code",
   "execution_count": 175,
   "metadata": {},
   "outputs": [
    {
     "name": "stdout",
     "output_type": "stream",
     "text": [
      "# features: 40529\n",
      "# train records: 34643\n",
      "# test records: 11548\n",
      "Model Accuracy: 0.907776238309664\n",
      "\n",
      "-Top 20 positive-\n",
      "Coefficient       Word\n",
      "   9.406671      great\n",
      "   7.111112       best\n",
      "   6.646878  delicious\n",
      "   6.240188       love\n",
      "   5.622133      loves\n",
      "   5.524826       good\n",
      "   5.351043    perfect\n",
      "   4.919797  excellent\n",
      "   4.585235  wonderful\n",
      "   4.496860       nice\n",
      "   4.438826   favorite\n",
      "   4.137682     highly\n",
      "   3.550889      works\n",
      "   3.520353      happy\n",
      "   3.493334      tasty\n",
      "   3.365840     smooth\n",
      "   3.340125    amazing\n",
      "   3.335163    awesome\n",
      "   3.222663       easy\n",
      "   3.148111      yummy\n",
      "\n",
      "-Top 20 negative-\n",
      "Coefficient            Word\n",
      "  -3.273420           worse\n",
      "  -3.366496           maybe\n",
      "  -3.380910           china\n",
      "  -3.388270           threw\n",
      "  -3.389921            poor\n",
      "  -3.454534           bland\n",
      "  -3.618810             bad\n",
      "  -3.961844  disappointment\n",
      "  -4.005242   unfortunately\n",
      "  -4.211264            weak\n",
      "  -4.226713          return\n",
      "  -4.323792         thought\n",
      "  -4.377436           stale\n",
      "  -4.494429        horrible\n",
      "  -4.557956   disappointing\n",
      "  -4.675663           money\n",
      "  -4.761148           awful\n",
      "  -5.250999        terrible\n",
      "  -5.526123           worst\n",
      "  -5.978966    disappointed\n"
     ]
    }
   ],
   "source": [
    "tfidf = TfidfVectorizer(stop_words = 'english')\n",
    "text_fit(X, y, tfidf, LogisticRegression())"
   ]
  },
  {
   "cell_type": "markdown",
   "metadata": {},
   "source": [
    "Accurancy is roughly the same - 90.77%. However we notice that the significant words make much more sense now, with higher coefficient magnitude as well!"
   ]
  },
  {
   "cell_type": "code",
   "execution_count": 30,
   "metadata": {},
   "outputs": [
    {
     "name": "stdout",
     "output_type": "stream",
     "text": [
      "# features: 812863\n",
      "# train records: 34643\n",
      "# test records: 11548\n",
      "Model Accuracy: 0.8857810876342224\n",
      "\n",
      "-Top 20 positive-\n",
      "Coefficient       Word\n",
      "  11.125209      great\n",
      "   7.870764       best\n",
      "   7.789986       love\n",
      "   6.741824  delicious\n",
      "   6.376549       good\n",
      "   5.725082      loves\n",
      "   5.582242    perfect\n",
      "   5.005890   favorite\n",
      "   4.955681       nice\n",
      "   4.749816  excellent\n",
      "   4.514978  wonderful\n",
      "   3.765885       easy\n",
      "   3.676540      tasty\n",
      "   3.583019     highly\n",
      "   3.543941      happy\n",
      "   3.326616      snack\n",
      "   3.276813        day\n",
      "   3.197516     stores\n",
      "   3.145809     smooth\n",
      "   3.142435      works\n",
      "\n",
      "-Top 20 negative-\n",
      "Coefficient           Word\n",
      "  -3.458828    description\n",
      "  -3.492266    tastes like\n",
      "  -3.502440          threw\n",
      "  -3.665048          waste\n",
      "  -3.753715          china\n",
      "  -3.817016           weak\n",
      "  -3.896788          maybe\n",
      "  -3.997145  unfortunately\n",
      "  -4.069261  disappointing\n",
      "  -4.123043            did\n",
      "  -4.577122          stale\n",
      "  -4.695557         return\n",
      "  -4.758691       horrible\n",
      "  -4.938971          awful\n",
      "  -5.205250            bad\n",
      "  -5.236042       terrible\n",
      "  -5.271441          money\n",
      "  -5.293799        thought\n",
      "  -5.400702          worst\n",
      "  -7.298548   disappointed\n"
     ]
    }
   ],
   "source": [
    "tfidf_n = TfidfVectorizer(ngram_range=(1,2),stop_words = 'english')\n",
    "text_fit(X, y, tfidf_n, LogisticRegression())"
   ]
  },
  {
   "cell_type": "markdown",
   "metadata": {},
   "source": [
    "### Logistic regression model on TFIDF + ngram\n",
    "\n",
    "Can we capture the list of the words for Positive reviews and Negative reviews from the dataset?"
   ]
  },
  {
   "cell_type": "code",
   "execution_count": 31,
   "metadata": {},
   "outputs": [
    {
     "name": "stdout",
     "output_type": "stream",
     "text": [
      "Class distribution:\n",
      "1    13392\n",
      "0      232\n",
      "Name: % Upvote, dtype: int64\n"
     ]
    }
   ],
   "source": [
    "cdf = cdf[cdf['Prediction'] == 5]\n",
    "cdf = cdf[cdf['% Upvote'].isin(['0-20%', '20-40%', '60-80%', '80-100%'])]\n",
    "cdf.shape\n",
    "\n",
    "X = cdf['Text']\n",
    "y_dict = {'0-20%': 0, '20-40%': 0, '60-80%': 1, '80-100%': 1}\n",
    "y = cdf['% Upvote'].map(y_dict)\n",
    "\n",
    "print('Class distribution:')\n",
    "print(y.value_counts())"
   ]
  },
  {
   "cell_type": "markdown",
   "metadata": {},
   "source": [
    "From above logic, you can see that we have captured the 20 positive words used in dataset reviews and 20 negative words used in dataset review. Based on this words, we can predict the food reviews and based on that we can suggest the good and bad food from the productId of the Amazon food."
   ]
  },
  {
   "cell_type": "code",
   "execution_count": 32,
   "metadata": {},
   "outputs": [
    {
     "name": "stdout",
     "output_type": "stream",
     "text": [
      "Percentage of upvote transactions:  0.5\n",
      "Percentage of downvote transactions:  0.5\n",
      "Total number of records in resampled data:  464\n"
     ]
    }
   ],
   "source": [
    "df_s = pd.DataFrame(data = [X,y]).T\n",
    "\n",
    "Downvote_records = len(df_s[df_s['% Upvote'] == 0])\n",
    "Downvote_indices = np.array(df_s[df_s['% Upvote'] == 0].index)\n",
    "\n",
    "Upvote_indices = df_s[df_s['% Upvote'] == 1].index\n",
    "\n",
    "random_upvote_indices = np.random.choice(Upvote_indices, Downvote_records, replace = False)\n",
    "random_upvote_indices = np.array(random_upvote_indices)\n",
    "\n",
    "under_sample_indices = np.concatenate([Downvote_indices,random_upvote_indices])\n",
    "\n",
    "under_sample_data = df_s.ix[under_sample_indices, :]\n",
    "X_u = under_sample_data['Text']\n",
    "under_sample_data['% Upvote'] = under_sample_data['% Upvote'].astype(int)\n",
    "y_u = under_sample_data['% Upvote']\n",
    "\n",
    "\n",
    "print(\"Percentage of upvote transactions: \", len(under_sample_data[under_sample_data['% Upvote'] == 1])/len(under_sample_data))\n",
    "print(\"Percentage of downvote transactions: \", len(under_sample_data[under_sample_data['% Upvote'] == 0])/len(under_sample_data))\n",
    "print(\"Total number of records in resampled data: \", len(under_sample_data))"
   ]
  },
  {
   "cell_type": "markdown",
   "metadata": {},
   "source": [
    "After calculating the ratio between the frequency count in the positive review divided by the frequency count in the negative review for each word, here are the results:\n",
    "\n",
    "When the ratio is high (greater than 1), it means than the words tend to occur more often in positive reviews than in negative reviews.\n",
    "\n",
    "Can we filter the special characters from the text column?"
   ]
  },
  {
   "cell_type": "code",
   "execution_count": 33,
   "metadata": {},
   "outputs": [
    {
     "name": "stdout",
     "output_type": "stream",
     "text": [
      "# features: 4376\n",
      "# train records: 348\n",
      "# test records: 116\n",
      "Model Accuracy: 0.5603448275862069\n",
      "\n",
      "-Top 20 positive-\n",
      "Coefficient         Word\n",
      "   0.799758           ve\n",
      "   0.758751         make\n",
      "   0.689269       ginger\n",
      "   0.670242       bitter\n",
      "   0.648299        blend\n",
      "   0.622578         dogs\n",
      "   0.583257    wonderful\n",
      "   0.578314          oil\n",
      "   0.577700      protein\n",
      "   0.576293      flavors\n",
      "   0.572408         need\n",
      "   0.571506          try\n",
      "   0.554236      cookies\n",
      "   0.552134        light\n",
      "   0.549020         milk\n",
      "   0.545444   definitely\n",
      "   0.532131      tasting\n",
      "   0.529806      quality\n",
      "   0.527937  ingredients\n",
      "   0.525333      regular\n",
      "\n",
      "-Top 20 negative-\n",
      "Coefficient       Word\n",
      "  -0.408963     priced\n",
      "  -0.410372     easier\n",
      "  -0.424496       know\n",
      "  -0.436274      guess\n",
      "  -0.445096       life\n",
      "  -0.455009     highly\n",
      "  -0.467618  recommend\n",
      "  -0.477904      packs\n",
      "  -0.514334       list\n",
      "  -0.516429      early\n",
      "  -0.521031      drink\n",
      "  -0.555607     amazon\n",
      "  -0.556803      syrup\n",
      "  -0.603119     stores\n",
      "  -0.605142    waiting\n",
      "  -0.625885  delivered\n",
      "  -0.645629       cans\n",
      "  -0.663481     office\n",
      "  -0.715831    awesome\n",
      "  -0.773678     smooth\n"
     ]
    }
   ],
   "source": [
    "c = CountVectorizer(stop_words = 'english')\n",
    "\n",
    "text_fit(X_u, y_u, c, LogisticRegression())"
   ]
  },
  {
   "cell_type": "code",
   "execution_count": 34,
   "metadata": {},
   "outputs": [
    {
     "name": "stdout",
     "output_type": "stream",
     "text": [
      "# features: 19218\n",
      "# train records: 348\n",
      "# test records: 116\n",
      "Model Accuracy: 0.603448275862069\n",
      "\n",
      "-Top 20 positive-\n",
      "Coefficient          Word\n",
      "   0.575400            ve\n",
      "   0.518527          milk\n",
      "   0.512808          make\n",
      "   0.479241        ginger\n",
      "   0.471903          food\n",
      "   0.459899           cat\n",
      "   0.444517           dog\n",
      "   0.417989          dogs\n",
      "   0.407911         tried\n",
      "   0.380999   ingredients\n",
      "   0.376463        flavor\n",
      "   0.373451       flavors\n",
      "   0.371083         light\n",
      "   0.355310        little\n",
      "   0.354241           oil\n",
      "   0.348994       quality\n",
      "   0.345226          need\n",
      "   0.328104     wonderful\n",
      "   0.327364  best tasting\n",
      "   0.323748       tasting\n",
      "\n",
      "-Top 20 negative-\n",
      "Coefficient       Word\n",
      "  -0.237391  ice cream\n",
      "  -0.244588     steaks\n",
      "  -0.244874      br br\n",
      "  -0.245716   enjoying\n",
      "  -0.247453       life\n",
      "  -0.247937       item\n",
      "  -0.248063     skinny\n",
      "  -0.250378     course\n",
      "  -0.272275       know\n",
      "  -0.273472     highly\n",
      "  -0.273869      syrup\n",
      "  -0.274769      early\n",
      "  -0.283887  delivered\n",
      "  -0.304472     office\n",
      "  -0.304493      drink\n",
      "  -0.329209     smooth\n",
      "  -0.331881      order\n",
      "  -0.338894    waiting\n",
      "  -0.413260    awesome\n",
      "  -0.438727       cans\n"
     ]
    }
   ],
   "source": [
    "tfidf_n = TfidfVectorizer(ngram_range=(1,2),stop_words = 'english')\n",
    "\n",
    "text_fit(X_u, y_u, tfidf_n, LogisticRegression())"
   ]
  },
  {
   "cell_type": "code",
   "execution_count": 35,
   "metadata": {},
   "outputs": [
    {
     "name": "stdout",
     "output_type": "stream",
     "text": [
      "Downvote score 5 comments examples:\n",
      "845      I thank that the French  vanilla cappuccino  i...\n",
      "5156     It took two or three cans, but I love these no...\n",
      "9270     cook for all recipes and for everyday re-heati...\n",
      "15389    Non-GE - \"GE\" stands for genetic engineering a...\n",
      "19342    My daughter is away at bording shcool and loiv...\n",
      "Name: Text, dtype: object\n",
      "Upvote score 5 comments examples\n",
      "5245     If you haven't tried this chili powder yet, yo...\n",
      "21564    You might think pasta is pasta, but no.  This ...\n",
      "45445    Is Wellness relatively expensive? Yes. Is it w...\n",
      "21641    I fell in love with Jamaica Blue Mountain coff...\n",
      "3009     I have 2 cats and this has been their fav for ...\n",
      "Name: Text, dtype: object\n"
     ]
    }
   ],
   "source": [
    "print('Downvote score 5 comments examples:')\n",
    "print(under_sample_data[under_sample_data['% Upvote']==0]['Text'].iloc[:100:20])\n",
    "print('Upvote score 5 comments examples')\n",
    "print(under_sample_data[under_sample_data['% Upvote']==1]['Text'].iloc[:100:20])"
   ]
  },
  {
   "cell_type": "code",
   "execution_count": 36,
   "metadata": {},
   "outputs": [
    {
     "name": "stdout",
     "output_type": "stream",
     "text": [
      "% Upvote                  0          1\n",
      "word_count        72.784483  84.892241\n",
      "capital_count     18.607759  13.849138\n",
      "question_mark      0.163793   0.068966\n",
      "exclamation_mark   1.043103   0.918103\n",
      "punctuation       17.616379  20.086207\n"
     ]
    }
   ],
   "source": [
    "under_sample_data['word_count'] = under_sample_data['Text'].apply(lambda x: len(x.split()))\n",
    "under_sample_data['capital_count'] = under_sample_data['Text'].apply(lambda x: sum(1 for c in x if c.isupper()))\n",
    "under_sample_data['question_mark'] = under_sample_data['Text'].apply(lambda x: sum(1 for c in x if c == '?'))\n",
    "under_sample_data['exclamation_mark'] = under_sample_data['Text'].apply(lambda x: sum(1 for c in x if c == '!'))\n",
    "under_sample_data['punctuation'] = under_sample_data['Text'].apply(lambda x: sum(1 for c in x if c in punctuation))\n",
    "\n",
    "print(under_sample_data.groupby('% Upvote').agg({'word_count': 'mean', 'capital_count': 'mean', 'question_mark': 'mean', 'exclamation_mark': 'mean', 'punctuation': 'mean'}).T)\n",
    "\n",
    "X_num = under_sample_data[under_sample_data.columns.difference(['% Upvote', 'Text'])]\n",
    "y_num = under_sample_data['% Upvote']"
   ]
  },
  {
   "cell_type": "markdown",
   "metadata": {},
   "source": [
    "## Comparing the train and test data accuracy between Logistic Regressionn and SVM"
   ]
  },
  {
   "cell_type": "code",
   "execution_count": 37,
   "metadata": {},
   "outputs": [
    {
     "name": "stdout",
     "output_type": "stream",
     "text": [
      "Logistic Regression accuracy: 0.5689655172413793\n",
      "SVM accuracy: 0.5172413793103449\n"
     ]
    }
   ],
   "source": [
    "X_train, X_test, y_train, y_test = train_test_split(X_num, y_num, random_state=0)\n",
    "\n",
    "clf_lr = LogisticRegression().fit(X_train, y_train)\n",
    "acc_lr = clf_lr.score(X_test, y_test)\n",
    "print('Logistic Regression accuracy: {}'.format(acc_lr))\n",
    "\n",
    "clf_svm = svm.SVC().fit(X_train, y_train)\n",
    "acc_svm = clf_svm.score(X_test, y_test)\n",
    "print('SVM accuracy: {}'.format(acc_svm))"
   ]
  },
  {
   "cell_type": "code",
   "execution_count": 38,
   "metadata": {},
   "outputs": [
    {
     "name": "stdout",
     "output_type": "stream",
     "text": [
      "                                                       Prediction count  \\\n",
      "UserId         ProfileName                                                \n",
      "A1YUL9PCJR3JTY O. Brown \"Ms. O. Khannah-Brown\"                       41   \n",
      "AY12DBB0U420B  Gary Peterson                                         38   \n",
      "A3OXHLG6DIBRW8 C. F. Hill \"CFH\"                                      38   \n",
      "A281NPSIMI1C2R Rebecca of Amazon \"The Rebecca Review\"                32   \n",
      "A1Z54EM24Y40LL c2                                                    28   \n",
      "A3TVZM3ZIXG8YW christopher hayes                                     22   \n",
      "AKMEY1BSHSDG7  J. Arena                                              20   \n",
      "A3D6OI36USYOU1 Ghenghis                                              20   \n",
      "A31N6KB160O508 Fran W.                                               20   \n",
      "A1TMAVN4CEM8U8 Gunner                                                18   \n",
      "\n",
      "                                                       Prediction mean  \n",
      "UserId         ProfileName                                              \n",
      "A1YUL9PCJR3JTY O. Brown \"Ms. O. Khannah-Brown\"                4.414634  \n",
      "AY12DBB0U420B  Gary Peterson                                  4.605263  \n",
      "A3OXHLG6DIBRW8 C. F. Hill \"CFH\"                               4.552632  \n",
      "A281NPSIMI1C2R Rebecca of Amazon \"The Rebecca Review\"         4.968750  \n",
      "A1Z54EM24Y40LL c2                                             4.535714  \n",
      "A3TVZM3ZIXG8YW christopher hayes                              1.000000  \n",
      "AKMEY1BSHSDG7  J. Arena                                       4.900000  \n",
      "A3D6OI36USYOU1 Ghenghis                                       4.400000  \n",
      "A31N6KB160O508 Fran W.                                        4.500000  \n",
      "A1TMAVN4CEM8U8 Gunner                                         4.833333  \n"
     ]
    }
   ],
   "source": [
    "df_user = odf.groupby(['UserId', 'ProfileName']).agg({'Prediction':['count', 'mean']})\n",
    "df_user.columns = df_user.columns.get_level_values(1)\n",
    "df_user.columns = ['Prediction count', 'Prediction mean']\n",
    "df_user = df_user.sort_values(by = 'Prediction count', ascending = False)\n",
    "print(df_user.head(10))"
   ]
  },
  {
   "cell_type": "markdown",
   "metadata": {},
   "source": [
    "Based on the prediction value for each data, we can make a decision about the positive and negative reviews. Data with the prediction value less than 3 will be considered as a negative review and data with the greater than 3 will be considered as positive review. Based on this consideration, we will decide the product of amazon food."
   ]
  },
  {
   "cell_type": "code",
   "execution_count": 39,
   "metadata": {},
   "outputs": [
    {
     "data": {
      "image/png": "[encoded data removed]",
      "text/plain": [
       "<matplotlib.figure.Figure at 0x12a84d0f0>"
      ]
     },
     "metadata": {},
     "output_type": "display_data"
    }
   ],
   "source": [
    "def plot_user(UserId):\n",
    "    df_1user = odf[odf['UserId'] == UserId]['Prediction']\n",
    "    df_1user_plot = df_1user.value_counts(sort=False)\n",
    "    ax = df_1user_plot.plot(kind = 'bar', figsize = (15,10), title = 'Prediction distribution of user {} review'.format(odf[odf['UserId'] == UserId]['ProfileName'].iloc[0]))\n",
    "\n",
    "plot_user('A3OXHLG6DIBRW8')\n",
    "plt.show()"
   ]
  },
  {
   "cell_type": "code",
   "execution_count": 40,
   "metadata": {},
   "outputs": [
    {
     "name": "stdout",
     "output_type": "stream",
     "text": [
      "                                                             Prediction count  \\\n",
      "UserId         ProfileName                                                      \n",
      "A2XNJJ9TF70P4J Angie                                                       12   \n",
      "A1SCANWWQTEG9I TheLastCoyote                                               11   \n",
      "A2TN9C5E4A0I3F Jimmy                                                       10   \n",
      "A1M5D0DG09UGVM Bonne Maman                                                  9   \n",
      "A132ETQPMHQ585 Donna's Reviews \"I Love Shopping on Amazon!\"                 9   \n",
      "\n",
      "                                                             Prediction mean  \n",
      "UserId         ProfileName                                                    \n",
      "A2XNJJ9TF70P4J Angie                                                2.666667  \n",
      "A1SCANWWQTEG9I TheLastCoyote                                        3.000000  \n",
      "A2TN9C5E4A0I3F Jimmy                                                2.700000  \n",
      "A1M5D0DG09UGVM Bonne Maman                                          3.111111  \n",
      "A132ETQPMHQ585 Donna's Reviews \"I Love Shopping on Amazon!\"         2.888889  \n"
     ]
    }
   ],
   "source": [
    "print(df_user[(df_user['Prediction mean']<3.5) & (df_user['Prediction mean']>2.5)].head())"
   ]
  },
  {
   "cell_type": "markdown",
   "metadata": {},
   "source": [
    "# Prediction of user A.bennett reviews"
   ]
  },
  {
   "cell_type": "code",
   "execution_count": 41,
   "metadata": {
    "scrolled": true
   },
   "outputs": [
    {
     "data": {
      "image/png": "[encoded data removed]",
      "text/plain": [
       "<matplotlib.figure.Figure at 0x122bbecc0>"
      ]
     },
     "metadata": {},
     "output_type": "display_data"
    }
   ],
   "source": [
    "plot_user('A2M9D9BDHONV3Y')\n",
    "plt.show()"
   ]
  },
  {
   "cell_type": "markdown",
   "metadata": {},
   "source": [
    "The following code conducts basic sentiment analysis and finds the average sentiment PER WORD of each group of reviews. As expected, the higher the score given the more positive the review sentiment. Interestingly the sentiment seems to be stronger per word in the review title than in the text of the review itself. Presumably this is because the reviewer is trying to convay there happiness or displeasure as succinctly as possible."
   ]
  },
  {
   "cell_type": "code",
   "execution_count": 42,
   "metadata": {},
   "outputs": [
    {
     "name": "stdout",
     "output_type": "stream",
     "text": [
      "Prediction 1 reviews most popular 2-gram / 3-gram:\n",
      "    Count Occur %                                Phrase\n",
      "0     4.0   80.0%               (monosodium, glutamate)\n",
      "1     3.0   60.0%                          (like, salt)\n",
      "63    2.0   40.0%                          (real, food)\n",
      "73    2.0   40.0%                        (water, taste)\n",
      "72    2.0   40.0%  (would, manufacturers, deliberately)\n",
      "71    2.0   40.0%                           (use, real)\n",
      "70    2.0   40.0%                           (msg, like)\n",
      "69    2.0   40.0%                         (since, look)\n",
      "68    2.0   40.0%                   (well, know, study)\n",
      "67    2.0   40.0%                 (read, contain, much)\n",
      "66    2.0   40.0%    (customers, monosodium, glutamate)\n",
      "65    2.0   40.0%          (receive, consumers, really)\n",
      "64    2.0   40.0%                    (sound, delicious)\n",
      "62    2.0   40.0%                          (well, know)\n",
      "61    2.0   40.0%         (much, monosodium, glutamate)\n",
      "60    2.0   40.0%             (consumers, really, want)\n",
      "59    2.0   40.0%                      (look, terrific)\n",
      "58    2.0   40.0%                         (soup, since)\n",
      "57    2.0   40.0%                 (excellent, n't, buy)\n",
      "56    2.0   40.0%         (ingredients, excellent, n't)\n",
      "55    2.0   40.0%                      (use, msg, like)\n",
      "54    2.0   40.0%               (delicious, nutritious)\n",
      "53    2.0   40.0%         (look, terrific, ingredients)\n",
      "52    2.0   40.0%                            (use, msg)\n",
      "74    2.0   40.0%         (delicious, nutritious, read)\n",
      "75    2.0   40.0%                    (glutamate, would)\n",
      "76    2.0   40.0%        (sound, delicious, nutritious)\n",
      "77    2.0   40.0%                (keep, product, tasty)\n",
      "98    2.0   40.0%                           (buy, stop)\n",
      "97    2.0   40.0%                  (real, food, flavor)\n",
      "..    ...     ...                                   ...\n",
      "5     2.0   40.0%                (tasty, well, receive)\n",
      "4     2.0   40.0%                            (n't, use)\n",
      "3     2.0   40.0%                   (really, want, try)\n",
      "2     2.0   40.0%                         (try, poison)\n",
      "23    2.0   40.0%                       (well, receive)\n",
      "25    2.0   40.0%                        (flavor, keep)\n",
      "48    2.0   40.0%                            (..., ...)\n",
      "26    2.0   40.0%                    (much, monosodium)\n",
      "47    2.0   40.0%        (monosodium, glutamate, would)\n",
      "46    2.0   40.0%                      (n't, use, real)\n",
      "45    2.0   40.0%                   (hormel, compleats)\n",
      "44    2.0   40.0%                      (excellent, n't)\n",
      "43    2.0   40.0%              (study, neurotoxin, n't)\n",
      "42    2.0   40.0%                       (contain, much)\n",
      "41    2.0   40.0%              (ingredients, excellent)\n",
      "40    2.0   40.0%               (flavor, keep, product)\n",
      "39    2.0   40.0%                         (soup, sound)\n",
      "38    2.0   40.0%                  (receive, consumers)\n",
      "37    2.0   40.0%                   (soup, since, look)\n",
      "36    2.0   40.0%                     (neurotoxin, n't)\n",
      "35    2.0   40.0%              (try, poison, customers)\n",
      "34    2.0   40.0%                     (glutamate, well)\n",
      "33    2.0   40.0%                           (want, try)\n",
      "32    2.0   40.0%           (contain, much, monosodium)\n",
      "31    2.0   40.0%                         (know, study)\n",
      "30    2.0   40.0%                         (tasty, well)\n",
      "29    2.0   40.0%                     (msg, like, salt)\n",
      "28    2.0   40.0%               (glutamate, well, know)\n",
      "27    2.0   40.0%           (deliberately, try, poison)\n",
      "99    2.0   40.0%                      (product, tasty)\n",
      "\n",
      "[100 rows x 3 columns]\n",
      "Prediction 2 reviews most popular 2-gram / 3-gram:\n",
      "     Count Occur %                          Phrase\n",
      "0      2.0  100.0%            (sauce, ruin, whole)\n",
      "2      2.0  100.0%                   (ruin, whole)\n",
      "1      2.0  100.0%                   (sauce, ruin)\n",
      "156    1.0   50.0%                    (.give, try)\n",
      "107    1.0   50.0%  (delicious, complete, package)\n",
      "100    1.0   50.0%              (whole, roll, n't)\n",
      "101    1.0   50.0%        (two, treatments, would)\n",
      "102    1.0   50.0%   (tender, delicious, complete)\n",
      "103    1.0   50.0%            (product, ever, may)\n",
      "104    1.0   50.0%             (complete, package)\n",
      "105    1.0   50.0%       (flavor, black, cherries)\n",
      "106    1.0   50.0%             (taste, sauce, ...)\n",
      "108    1.0   50.0%                 (..., 'blahhhh)\n",
      "117    1.0   50.0%               (two, treatments)\n",
      "109    1.0   50.0%               (use, later, two)\n",
      "110    1.0   50.0%            (instead, make, pie)\n",
      "111    1.0   50.0%                 (deserve, even)\n",
      "112    1.0   50.0%                   (decide, use)\n",
      "113    1.0   50.0%         (desert, instead, make)\n",
      "114    1.0   50.0%              (.give, try, like)\n",
      "115    1.0   50.0%             (tender, delicious)\n",
      "99     1.0   50.0%                     (make, pie)\n",
      "98     1.0   50.0%            (highest, rat, feel)\n",
      "97     1.0   50.0%               (desert, highest)\n",
      "96     1.0   50.0%               (desert, instead)\n",
      "81     1.0   50.0%           (apply, awful, sauce)\n",
      "82     1.0   50.0%         (..., .goodness, sauce)\n",
      "83     1.0   50.0%                  (eat, staight)\n",
      "84     1.0   50.0%            (firm, mushy, taste)\n",
      "85     1.0   50.0%                     (pour, ice)\n",
      "..     ...     ...                             ...\n",
      "67     1.0   50.0%               (ever, may, like)\n",
      "69     1.0   50.0%                     (may, like)\n",
      "41     1.0   50.0%          (like, please, flavor)\n",
      "70     1.0   50.0%                    (use, later)\n",
      "71     1.0   50.0%        (flavor, instead, apply)\n",
      "72     1.0   50.0%                 (cherries, ...)\n",
      "73     1.0   50.0%                     (rat, feel)\n",
      "74     1.0   50.0%              (get, wrong, meat)\n",
      "75     1.0   50.0%          (experience, n't, buy)\n",
      "76     1.0   50.0%                (instead, apply)\n",
      "60     1.0   50.0%         (cherries, sweet, tart)\n",
      "59     1.0   50.0%            (guess, look, steak)\n",
      "58     1.0   50.0%               (make, pie, pour)\n",
      "57     1.0   50.0%        (complete, package, ...)\n",
      "42     1.0   50.0%                (cheese, flavor)\n",
      "43     1.0   50.0%                 (steak, cheese)\n",
      "44     1.0   50.0%      (buy, particular, product)\n",
      "45     1.0   50.0%            (like, taste, sauce)\n",
      "46     1.0   50.0%           (feel, deserve, even)\n",
      "47     1.0   50.0%        (cherries, ..., blahhhh)\n",
      "48     1.0   50.0%               (buy, particular)\n",
      "49     1.0   50.0%      (staight, desert, instead)\n",
      "50     1.0   50.0%                (cheese, spring)\n",
      "51     1.0   50.0%                  (even, though)\n",
      "52     1.0   50.0%                   (like, taste)\n",
      "53     1.0   50.0%             (sauce, ..., .give)\n",
      "54     1.0   50.0%          (cheese, spring, roll)\n",
      "55     1.0   50.0%                   (buy, desert)\n",
      "56     1.0   50.0%                   (firm, mushy)\n",
      "157    1.0   50.0%                  (taste, sauce)\n",
      "\n",
      "[158 rows x 3 columns]\n",
      "Prediction 3 reviews most popular 2-gram / 3-gram:\n",
      "     Count Occur %                      Phrase\n",
      "0      2.0  200.0%                  (..., ...)\n",
      "1      2.0  200.0%                (whole, lot)\n",
      "111    1.0  100.0%                (rack, lamb)\n",
      "70     1.0  100.0%         (fatty, horrendous)\n",
      "81     1.0  100.0%    (taste, terrific, whole)\n",
      "80     1.0  100.0%              (grease, come)\n",
      "79     1.0  100.0%      (really, nasty, fatty)\n",
      "78     1.0  100.0%      (terrific, whole, lot)\n",
      "77     1.0  100.0%       (lot, meat, chaulked)\n",
      "76     1.0  100.0%      (amount, grease, come)\n",
      "75     1.0  100.0%         (great, unhealthly)\n",
      "74     1.0  100.0%              (year, really)\n",
      "73     1.0  100.0%                (year, ever)\n",
      "72     1.0  100.0%            (..., ..., year)\n",
      "71     1.0  100.0%             (lamb, product)\n",
      "69     1.0  100.0%                 (let, rest)\n",
      "83     1.0  100.0%             (deadly, treat)\n",
      "68     1.0  100.0%          (rest, rack, cook)\n",
      "67     1.0  100.0%                 (ever, buy)\n",
      "66     1.0  100.0%  (nasty, fatty, horrendous)\n",
      "65     1.0  100.0%     (rub, plaster, wayyyyy)\n",
      "64     1.0  100.0%                 (clam, ...)\n",
      "63     1.0  100.0%             (really, nasty)\n",
      "62     1.0  100.0%    (cook, could, eliminate)\n",
      "61     1.0  100.0%           (year, ever, buy)\n",
      "60     1.0  100.0%              (nasty, fatty)\n",
      "59     1.0  100.0%               (cook, could)\n",
      "58     1.0  100.0%             (grease, whole)\n",
      "82     1.0  100.0%        (deadly, treat, eat)\n",
      "84     1.0  100.0%     (fatty, amount, grease)\n",
      "..     ...     ...                         ...\n",
      "2      1.0  100.0%     (grease, come, astound)\n",
      "26     1.0  100.0%    (meat, chaulked, really)\n",
      "28     1.0  100.0%        (unhealthly, ingest)\n",
      "54     1.0  100.0%            (clam, ..., ...)\n",
      "42     1.0  100.0%               (lot, herbal)\n",
      "53     1.0  100.0%      (really, taste, great)\n",
      "52     1.0  100.0%              (year, deadly)\n",
      "51     1.0  100.0%          (usually, reserve)\n",
      "50     1.0  100.0%        (lot, grease, whole)\n",
      "49     1.0  100.0%                (treat, eat)\n",
      "48     1.0  100.0%           (treat, eat, fry)\n",
      "47     1.0  100.0%              (astound, let)\n",
      "46     1.0  100.0%             (really, taste)\n",
      "45     1.0  100.0%  (recommend, lamb, product)\n",
      "44     1.0  100.0%               (meal, allow)\n",
      "43     1.0  100.0%          (meal, allow, eat)\n",
      "41     1.0  100.0%       (year, deadly, treat)\n",
      "29     1.0  100.0%            (fry, clam, ...)\n",
      "40     1.0  100.0%           (taste, terrific)\n",
      "39     1.0  100.0%             (reserve, year)\n",
      "38     1.0  100.0%         (cook, beautifully)\n",
      "37     1.0  100.0%   (fatty, horrendous, meal)\n",
      "36     1.0  100.0%            (meat, chaulked)\n",
      "35     1.0  100.0%              (rub, plaster)\n",
      "34     1.0  100.0%         (rack, cook, could)\n",
      "33     1.0  100.0%   (chaulked, really, nasty)\n",
      "32     1.0  100.0%      (ever, buy, recommend)\n",
      "31     1.0  100.0%   (plaster, wayyyyy, fatty)\n",
      "30     1.0  100.0%          (allow, eat, year)\n",
      "112    1.0  100.0%                (rest, rack)\n",
      "\n",
      "[113 rows x 3 columns]\n",
      "Prediction 4 reviews most popular 2-gram / 3-gram:\n"
     ]
    },
    {
     "ename": "KeyError",
     "evalue": "'Count'",
     "output_type": "error",
     "traceback": [
      "\u001b[0;31m---------------------------------------------------------------------------\u001b[0m",
      "\u001b[0;31mKeyError\u001b[0m                                  Traceback (most recent call last)",
      "\u001b[0;32m~/anaconda3/lib/python3.6/site-packages/pandas/core/indexes/base.py\u001b[0m in \u001b[0;36mget_loc\u001b[0;34m(self, key, method, tolerance)\u001b[0m\n\u001b[1;32m   2441\u001b[0m             \u001b[0;32mtry\u001b[0m\u001b[0;34m:\u001b[0m\u001b[0;34m\u001b[0m\u001b[0m\n\u001b[0;32m-> 2442\u001b[0;31m                 \u001b[0;32mreturn\u001b[0m \u001b[0mself\u001b[0m\u001b[0;34m.\u001b[0m\u001b[0m_engine\u001b[0m\u001b[0;34m.\u001b[0m\u001b[0mget_loc\u001b[0m\u001b[0;34m(\u001b[0m\u001b[0mkey\u001b[0m\u001b[0;34m)\u001b[0m\u001b[0;34m\u001b[0m\u001b[0m\n\u001b[0m\u001b[1;32m   2443\u001b[0m             \u001b[0;32mexcept\u001b[0m \u001b[0mKeyError\u001b[0m\u001b[0;34m:\u001b[0m\u001b[0;34m\u001b[0m\u001b[0m\n",
      "\u001b[0;32mpandas/_libs/index.pyx\u001b[0m in \u001b[0;36mpandas._libs.index.IndexEngine.get_loc\u001b[0;34m()\u001b[0m\n",
      "\u001b[0;32mpandas/_libs/index.pyx\u001b[0m in \u001b[0;36mpandas._libs.index.IndexEngine.get_loc\u001b[0;34m()\u001b[0m\n",
      "\u001b[0;32mpandas/_libs/hashtable_class_helper.pxi\u001b[0m in \u001b[0;36mpandas._libs.hashtable.PyObjectHashTable.get_item\u001b[0;34m()\u001b[0m\n",
      "\u001b[0;32mpandas/_libs/hashtable_class_helper.pxi\u001b[0m in \u001b[0;36mpandas._libs.hashtable.PyObjectHashTable.get_item\u001b[0;34m()\u001b[0m\n",
      "\u001b[0;31mKeyError\u001b[0m: 'Count'",
      "\nDuring handling of the above exception, another exception occurred:\n",
      "\u001b[0;31mKeyError\u001b[0m                                  Traceback (most recent call last)",
      "\u001b[0;32m<ipython-input-42-a6729470897e>\u001b[0m in \u001b[0;36m<module>\u001b[0;34m()\u001b[0m\n\u001b[1;32m     34\u001b[0m     \u001b[0;32mfor\u001b[0m \u001b[0mi\u001b[0m \u001b[0;32min\u001b[0m \u001b[0md\u001b[0m\u001b[0;34m:\u001b[0m\u001b[0;34m\u001b[0m\u001b[0m\n\u001b[1;32m     35\u001b[0m         \u001b[0mtest\u001b[0m \u001b[0;34m=\u001b[0m \u001b[0mtest\u001b[0m\u001b[0;34m.\u001b[0m\u001b[0mappend\u001b[0m\u001b[0;34m(\u001b[0m\u001b[0mpd\u001b[0m\u001b[0;34m.\u001b[0m\u001b[0mSeries\u001b[0m\u001b[0;34m(\u001b[0m\u001b[0mi\u001b[0m\u001b[0;34m,\u001b[0m \u001b[0mindex\u001b[0m \u001b[0;34m=\u001b[0m \u001b[0mindex\u001b[0m\u001b[0;34m)\u001b[0m\u001b[0;34m,\u001b[0m \u001b[0mignore_index\u001b[0m \u001b[0;34m=\u001b[0m \u001b[0;32mTrue\u001b[0m\u001b[0;34m)\u001b[0m\u001b[0;34m\u001b[0m\u001b[0m\n\u001b[0;32m---> 36\u001b[0;31m     \u001b[0mtest\u001b[0m \u001b[0;34m=\u001b[0m \u001b[0mtest\u001b[0m\u001b[0;34m.\u001b[0m\u001b[0msort_values\u001b[0m\u001b[0;34m(\u001b[0m\u001b[0;34m'Count'\u001b[0m\u001b[0;34m,\u001b[0m \u001b[0mascending\u001b[0m\u001b[0;34m=\u001b[0m\u001b[0;32mFalse\u001b[0m\u001b[0;34m)\u001b[0m\u001b[0;34m\u001b[0m\u001b[0m\n\u001b[0m\u001b[1;32m     37\u001b[0m     \u001b[0mprint\u001b[0m\u001b[0;34m(\u001b[0m\u001b[0mtest\u001b[0m\u001b[0;34m)\u001b[0m\u001b[0;34m\u001b[0m\u001b[0m\n",
      "\u001b[0;32m~/anaconda3/lib/python3.6/site-packages/pandas/core/frame.py\u001b[0m in \u001b[0;36msort_values\u001b[0;34m(self, by, axis, ascending, inplace, kind, na_position)\u001b[0m\n\u001b[1;32m   3184\u001b[0m \u001b[0;34m\u001b[0m\u001b[0m\n\u001b[1;32m   3185\u001b[0m             \u001b[0mby\u001b[0m \u001b[0;34m=\u001b[0m \u001b[0mby\u001b[0m\u001b[0;34m[\u001b[0m\u001b[0;36m0\u001b[0m\u001b[0;34m]\u001b[0m\u001b[0;34m\u001b[0m\u001b[0m\n\u001b[0;32m-> 3186\u001b[0;31m             \u001b[0mk\u001b[0m \u001b[0;34m=\u001b[0m \u001b[0mself\u001b[0m\u001b[0;34m.\u001b[0m\u001b[0mxs\u001b[0m\u001b[0;34m(\u001b[0m\u001b[0mby\u001b[0m\u001b[0;34m,\u001b[0m \u001b[0maxis\u001b[0m\u001b[0;34m=\u001b[0m\u001b[0mother_axis\u001b[0m\u001b[0;34m)\u001b[0m\u001b[0;34m.\u001b[0m\u001b[0mvalues\u001b[0m\u001b[0;34m\u001b[0m\u001b[0m\n\u001b[0m\u001b[1;32m   3187\u001b[0m             \u001b[0;32mif\u001b[0m \u001b[0mk\u001b[0m\u001b[0;34m.\u001b[0m\u001b[0mndim\u001b[0m \u001b[0;34m==\u001b[0m \u001b[0;36m2\u001b[0m\u001b[0;34m:\u001b[0m\u001b[0;34m\u001b[0m\u001b[0m\n\u001b[1;32m   3188\u001b[0m \u001b[0;34m\u001b[0m\u001b[0m\n",
      "\u001b[0;32m~/anaconda3/lib/python3.6/site-packages/pandas/core/generic.py\u001b[0m in \u001b[0;36mxs\u001b[0;34m(self, key, axis, level, drop_level)\u001b[0m\n\u001b[1;32m   2021\u001b[0m \u001b[0;34m\u001b[0m\u001b[0m\n\u001b[1;32m   2022\u001b[0m         \u001b[0;32mif\u001b[0m \u001b[0maxis\u001b[0m \u001b[0;34m==\u001b[0m \u001b[0;36m1\u001b[0m\u001b[0;34m:\u001b[0m\u001b[0;34m\u001b[0m\u001b[0m\n\u001b[0;32m-> 2023\u001b[0;31m             \u001b[0;32mreturn\u001b[0m \u001b[0mself\u001b[0m\u001b[0;34m[\u001b[0m\u001b[0mkey\u001b[0m\u001b[0;34m]\u001b[0m\u001b[0;34m\u001b[0m\u001b[0m\n\u001b[0m\u001b[1;32m   2024\u001b[0m \u001b[0;34m\u001b[0m\u001b[0m\n\u001b[1;32m   2025\u001b[0m         \u001b[0mself\u001b[0m\u001b[0;34m.\u001b[0m\u001b[0m_consolidate_inplace\u001b[0m\u001b[0;34m(\u001b[0m\u001b[0;34m)\u001b[0m\u001b[0;34m\u001b[0m\u001b[0m\n",
      "\u001b[0;32m~/anaconda3/lib/python3.6/site-packages/pandas/core/frame.py\u001b[0m in \u001b[0;36m__getitem__\u001b[0;34m(self, key)\u001b[0m\n\u001b[1;32m   1962\u001b[0m             \u001b[0;32mreturn\u001b[0m \u001b[0mself\u001b[0m\u001b[0;34m.\u001b[0m\u001b[0m_getitem_multilevel\u001b[0m\u001b[0;34m(\u001b[0m\u001b[0mkey\u001b[0m\u001b[0;34m)\u001b[0m\u001b[0;34m\u001b[0m\u001b[0m\n\u001b[1;32m   1963\u001b[0m         \u001b[0;32melse\u001b[0m\u001b[0;34m:\u001b[0m\u001b[0;34m\u001b[0m\u001b[0m\n\u001b[0;32m-> 1964\u001b[0;31m             \u001b[0;32mreturn\u001b[0m \u001b[0mself\u001b[0m\u001b[0;34m.\u001b[0m\u001b[0m_getitem_column\u001b[0m\u001b[0;34m(\u001b[0m\u001b[0mkey\u001b[0m\u001b[0;34m)\u001b[0m\u001b[0;34m\u001b[0m\u001b[0m\n\u001b[0m\u001b[1;32m   1965\u001b[0m \u001b[0;34m\u001b[0m\u001b[0m\n\u001b[1;32m   1966\u001b[0m     \u001b[0;32mdef\u001b[0m \u001b[0m_getitem_column\u001b[0m\u001b[0;34m(\u001b[0m\u001b[0mself\u001b[0m\u001b[0;34m,\u001b[0m \u001b[0mkey\u001b[0m\u001b[0;34m)\u001b[0m\u001b[0;34m:\u001b[0m\u001b[0;34m\u001b[0m\u001b[0m\n",
      "\u001b[0;32m~/anaconda3/lib/python3.6/site-packages/pandas/core/frame.py\u001b[0m in \u001b[0;36m_getitem_column\u001b[0;34m(self, key)\u001b[0m\n\u001b[1;32m   1969\u001b[0m         \u001b[0;31m# get column\u001b[0m\u001b[0;34m\u001b[0m\u001b[0;34m\u001b[0m\u001b[0m\n\u001b[1;32m   1970\u001b[0m         \u001b[0;32mif\u001b[0m \u001b[0mself\u001b[0m\u001b[0;34m.\u001b[0m\u001b[0mcolumns\u001b[0m\u001b[0;34m.\u001b[0m\u001b[0mis_unique\u001b[0m\u001b[0;34m:\u001b[0m\u001b[0;34m\u001b[0m\u001b[0m\n\u001b[0;32m-> 1971\u001b[0;31m             \u001b[0;32mreturn\u001b[0m \u001b[0mself\u001b[0m\u001b[0;34m.\u001b[0m\u001b[0m_get_item_cache\u001b[0m\u001b[0;34m(\u001b[0m\u001b[0mkey\u001b[0m\u001b[0;34m)\u001b[0m\u001b[0;34m\u001b[0m\u001b[0m\n\u001b[0m\u001b[1;32m   1972\u001b[0m \u001b[0;34m\u001b[0m\u001b[0m\n\u001b[1;32m   1973\u001b[0m         \u001b[0;31m# duplicate columns & possible reduce dimensionality\u001b[0m\u001b[0;34m\u001b[0m\u001b[0;34m\u001b[0m\u001b[0m\n",
      "\u001b[0;32m~/anaconda3/lib/python3.6/site-packages/pandas/core/generic.py\u001b[0m in \u001b[0;36m_get_item_cache\u001b[0;34m(self, item)\u001b[0m\n\u001b[1;32m   1643\u001b[0m         \u001b[0mres\u001b[0m \u001b[0;34m=\u001b[0m \u001b[0mcache\u001b[0m\u001b[0;34m.\u001b[0m\u001b[0mget\u001b[0m\u001b[0;34m(\u001b[0m\u001b[0mitem\u001b[0m\u001b[0;34m)\u001b[0m\u001b[0;34m\u001b[0m\u001b[0m\n\u001b[1;32m   1644\u001b[0m         \u001b[0;32mif\u001b[0m \u001b[0mres\u001b[0m \u001b[0;32mis\u001b[0m \u001b[0;32mNone\u001b[0m\u001b[0;34m:\u001b[0m\u001b[0;34m\u001b[0m\u001b[0m\n\u001b[0;32m-> 1645\u001b[0;31m             \u001b[0mvalues\u001b[0m \u001b[0;34m=\u001b[0m \u001b[0mself\u001b[0m\u001b[0;34m.\u001b[0m\u001b[0m_data\u001b[0m\u001b[0;34m.\u001b[0m\u001b[0mget\u001b[0m\u001b[0;34m(\u001b[0m\u001b[0mitem\u001b[0m\u001b[0;34m)\u001b[0m\u001b[0;34m\u001b[0m\u001b[0m\n\u001b[0m\u001b[1;32m   1646\u001b[0m             \u001b[0mres\u001b[0m \u001b[0;34m=\u001b[0m \u001b[0mself\u001b[0m\u001b[0;34m.\u001b[0m\u001b[0m_box_item_values\u001b[0m\u001b[0;34m(\u001b[0m\u001b[0mitem\u001b[0m\u001b[0;34m,\u001b[0m \u001b[0mvalues\u001b[0m\u001b[0;34m)\u001b[0m\u001b[0;34m\u001b[0m\u001b[0m\n\u001b[1;32m   1647\u001b[0m             \u001b[0mcache\u001b[0m\u001b[0;34m[\u001b[0m\u001b[0mitem\u001b[0m\u001b[0;34m]\u001b[0m \u001b[0;34m=\u001b[0m \u001b[0mres\u001b[0m\u001b[0;34m\u001b[0m\u001b[0m\n",
      "\u001b[0;32m~/anaconda3/lib/python3.6/site-packages/pandas/core/internals.py\u001b[0m in \u001b[0;36mget\u001b[0;34m(self, item, fastpath)\u001b[0m\n\u001b[1;32m   3588\u001b[0m \u001b[0;34m\u001b[0m\u001b[0m\n\u001b[1;32m   3589\u001b[0m             \u001b[0;32mif\u001b[0m \u001b[0;32mnot\u001b[0m \u001b[0misnull\u001b[0m\u001b[0;34m(\u001b[0m\u001b[0mitem\u001b[0m\u001b[0;34m)\u001b[0m\u001b[0;34m:\u001b[0m\u001b[0;34m\u001b[0m\u001b[0m\n\u001b[0;32m-> 3590\u001b[0;31m                 \u001b[0mloc\u001b[0m \u001b[0;34m=\u001b[0m \u001b[0mself\u001b[0m\u001b[0;34m.\u001b[0m\u001b[0mitems\u001b[0m\u001b[0;34m.\u001b[0m\u001b[0mget_loc\u001b[0m\u001b[0;34m(\u001b[0m\u001b[0mitem\u001b[0m\u001b[0;34m)\u001b[0m\u001b[0;34m\u001b[0m\u001b[0m\n\u001b[0m\u001b[1;32m   3591\u001b[0m             \u001b[0;32melse\u001b[0m\u001b[0;34m:\u001b[0m\u001b[0;34m\u001b[0m\u001b[0m\n\u001b[1;32m   3592\u001b[0m                 \u001b[0mindexer\u001b[0m \u001b[0;34m=\u001b[0m \u001b[0mnp\u001b[0m\u001b[0;34m.\u001b[0m\u001b[0marange\u001b[0m\u001b[0;34m(\u001b[0m\u001b[0mlen\u001b[0m\u001b[0;34m(\u001b[0m\u001b[0mself\u001b[0m\u001b[0;34m.\u001b[0m\u001b[0mitems\u001b[0m\u001b[0;34m)\u001b[0m\u001b[0;34m)\u001b[0m\u001b[0;34m[\u001b[0m\u001b[0misnull\u001b[0m\u001b[0;34m(\u001b[0m\u001b[0mself\u001b[0m\u001b[0;34m.\u001b[0m\u001b[0mitems\u001b[0m\u001b[0;34m)\u001b[0m\u001b[0;34m]\u001b[0m\u001b[0;34m\u001b[0m\u001b[0m\n",
      "\u001b[0;32m~/anaconda3/lib/python3.6/site-packages/pandas/core/indexes/base.py\u001b[0m in \u001b[0;36mget_loc\u001b[0;34m(self, key, method, tolerance)\u001b[0m\n\u001b[1;32m   2442\u001b[0m                 \u001b[0;32mreturn\u001b[0m \u001b[0mself\u001b[0m\u001b[0;34m.\u001b[0m\u001b[0m_engine\u001b[0m\u001b[0;34m.\u001b[0m\u001b[0mget_loc\u001b[0m\u001b[0;34m(\u001b[0m\u001b[0mkey\u001b[0m\u001b[0;34m)\u001b[0m\u001b[0;34m\u001b[0m\u001b[0m\n\u001b[1;32m   2443\u001b[0m             \u001b[0;32mexcept\u001b[0m \u001b[0mKeyError\u001b[0m\u001b[0;34m:\u001b[0m\u001b[0;34m\u001b[0m\u001b[0m\n\u001b[0;32m-> 2444\u001b[0;31m                 \u001b[0;32mreturn\u001b[0m \u001b[0mself\u001b[0m\u001b[0;34m.\u001b[0m\u001b[0m_engine\u001b[0m\u001b[0;34m.\u001b[0m\u001b[0mget_loc\u001b[0m\u001b[0;34m(\u001b[0m\u001b[0mself\u001b[0m\u001b[0;34m.\u001b[0m\u001b[0m_maybe_cast_indexer\u001b[0m\u001b[0;34m(\u001b[0m\u001b[0mkey\u001b[0m\u001b[0;34m)\u001b[0m\u001b[0;34m)\u001b[0m\u001b[0;34m\u001b[0m\u001b[0m\n\u001b[0m\u001b[1;32m   2445\u001b[0m \u001b[0;34m\u001b[0m\u001b[0m\n\u001b[1;32m   2446\u001b[0m         \u001b[0mindexer\u001b[0m \u001b[0;34m=\u001b[0m \u001b[0mself\u001b[0m\u001b[0;34m.\u001b[0m\u001b[0mget_indexer\u001b[0m\u001b[0;34m(\u001b[0m\u001b[0;34m[\u001b[0m\u001b[0mkey\u001b[0m\u001b[0;34m]\u001b[0m\u001b[0;34m,\u001b[0m \u001b[0mmethod\u001b[0m\u001b[0;34m=\u001b[0m\u001b[0mmethod\u001b[0m\u001b[0;34m,\u001b[0m \u001b[0mtolerance\u001b[0m\u001b[0;34m=\u001b[0m\u001b[0mtolerance\u001b[0m\u001b[0;34m)\u001b[0m\u001b[0;34m\u001b[0m\u001b[0m\n",
      "\u001b[0;32mpandas/_libs/index.pyx\u001b[0m in \u001b[0;36mpandas._libs.index.IndexEngine.get_loc\u001b[0;34m()\u001b[0m\n",
      "\u001b[0;32mpandas/_libs/index.pyx\u001b[0m in \u001b[0;36mpandas._libs.index.IndexEngine.get_loc\u001b[0;34m()\u001b[0m\n",
      "\u001b[0;32mpandas/_libs/hashtable_class_helper.pxi\u001b[0m in \u001b[0;36mpandas._libs.hashtable.PyObjectHashTable.get_item\u001b[0;34m()\u001b[0m\n",
      "\u001b[0;32mpandas/_libs/hashtable_class_helper.pxi\u001b[0m in \u001b[0;36mpandas._libs.hashtable.PyObjectHashTable.get_item\u001b[0;34m()\u001b[0m\n",
      "\u001b[0;31mKeyError\u001b[0m: 'Count'"
     ]
    }
   ],
   "source": [
    "def get_token_ngram(prediction, benchmark, userid='all'):\n",
    "\n",
    "    if userid != 'all':\n",
    "        cdf = odf[(odf['UserId'] == userid) & (odf['Prediction'] == prediction)]['Text']\n",
    "    else:\n",
    "        cdf = odf[odf['Prediction'] == prediction]['Text']\n",
    "        \n",
    "    count = len(cdf)\n",
    "    total_text = ' '.join(cdf)\n",
    "    total_text = total_text.lower()\n",
    "    stop = set(stopwords.words('english'))\n",
    "    total_text = nltk.word_tokenize(total_text)\n",
    "    total_text = [word for word in total_text if word not in stop and len(word) >= 3]\n",
    "    lemmatizer = WordNetLemmatizer()\n",
    "    total_text = [lemmatizer.lemmatize(w,'v') for w in total_text]\n",
    "    bigrams = ngrams(total_text,2)\n",
    "    trigrams = ngrams(total_text, 3)\n",
    "\n",
    "    # look at 2-gram and 3-gram together\n",
    "    combine = chain(bigrams, trigrams)\n",
    "    text = nltk.Text(combine)\n",
    "    fdist = nltk.FreqDist(text)\n",
    "    \n",
    "    # return only phrase occurs more than benchmark of his reviews\n",
    "    return sorted([(w,fdist[w],str(round(fdist[w]/count*100,2))+'%') for w in set(text) if fdist[w] >= count*benchmark], key=lambda x: -x[1])\n",
    "\n",
    "# score 1-5 reviews with this user\n",
    "index = ['Phrase', 'Count', 'Occur %']\n",
    "\n",
    "for j in range(1,6):\n",
    "    test = pd.DataFrame()\n",
    "    d = get_token_ngram(j, 0.25, 'A2M9D9BDHONV3Y')\n",
    "    print('Prediction {} reviews most popular 2-gram / 3-gram:'.format(j))\n",
    "    for i in d:\n",
    "        test = test.append(pd.Series(i, index = index), ignore_index = True)\n",
    "    test = test.sort_values('Count', ascending=False)\n",
    "    print(test)"
   ]
  },
  {
   "cell_type": "markdown",
   "metadata": {},
   "source": [
    "From the above result, we can see that for the prediction value : 1 occur of the words are too large and acc is mre thna 100% while for the prediction value : 2 there is slightly change in the occur of the words and accuracy is also decreased. Number of the users who have rated the products with prediction value of 3 are more than the users who have reviewed 1 or 2 grade out of 5 scale. Almost 55% users predict 4 scores for the food products on Amazon and words are all positive in the summary and text as well. "
   ]
  },
  {
   "cell_type": "code",
   "execution_count": 43,
   "metadata": {},
   "outputs": [
    {
     "name": "stdout",
     "output_type": "stream",
     "text": [
      "Prediction 1 reviews most popular 2-gram / 3-gram:\n",
      "   Count Occur %          Phrase\n",
      "0  496.0  10.74%   (taste, like)\n",
      "1  200.0   4.33%  (waste, money)\n",
      "2  181.0   3.92%    (could, n't)\n",
      "3  180.0    3.9%     (n't, even)\n",
      "4  173.0   3.75%     (n't, know)\n",
      "5  153.0   3.31%      (n't, buy)\n",
      "6  146.0   3.16%    (would, n't)\n",
      "Prediction 2 reviews most popular 2-gram / 3-gram:\n",
      "    Count Occur %          Phrase\n",
      "0   264.0   9.94%   (taste, like)\n",
      "1   134.0   5.04%     (n't, like)\n",
      "2   120.0   4.52%      (..., ...)\n",
      "3   117.0    4.4%      (n't, buy)\n",
      "4   110.0   4.14%    (would, n't)\n",
      "5   104.0   3.91%  (think, would)\n",
      "6    93.0    3.5%   (href=, http)\n",
      "7    86.0   3.24%     (n't, know)\n",
      "8    85.0    3.2%  (much, better)\n",
      "9    83.0   3.12%    (n't, taste)\n",
      "10   80.0   3.01%    (could, n't)\n",
      "Prediction 3 reviews most popular 2-gram / 3-gram:\n",
      "   Count Occur %            Phrase\n",
      "0  277.0   7.27%     (taste, like)\n",
      "1  169.0   4.44%      (would, n't)\n",
      "2  152.0   3.99%     (href=, http)\n",
      "3  140.0   3.68%     (taste, good)\n",
      "4  132.0   3.47%       (n't, know)\n",
      "5  120.0   3.15%      (green, tea)\n",
      "6  117.0   3.07%  (peanut, butter)\n",
      "7  115.0   3.02%    (much, better)\n",
      "Prediction 4 reviews most popular 2-gram / 3-gram:\n",
      "   Count Occur %          Phrase\n",
      "0  350.0   4.97%   (taste, like)\n",
      "1  274.0   3.89%   (href=, http)\n",
      "2  272.0   3.86%   (taste, good)\n",
      "3  237.0   3.36%  (pretty, good)\n",
      "4  216.0   3.07%  (really, like)\n",
      "Prediction 5 reviews most popular 2-gram / 3-gram:\n",
      "    Count Occur %               Phrase\n",
      "0  1632.0   5.12%  (highly, recommend)\n",
      "1  1313.0   4.12%        (taste, like)\n",
      "2  1029.0   3.23%     (grocery, store)\n",
      "3   979.0   3.07%       (taste, great)\n"
     ]
    }
   ],
   "source": [
    "# score 1-5 reviews with all users\n",
    "index = ['Phrase', 'Count', 'Occur %']\n",
    "\n",
    "for j in range(1,6):\n",
    "    test = pd.DataFrame()\n",
    "    # easier benchmark since we have many different users here, thus different phrase\n",
    "    d = get_token_ngram(j, 0.03)\n",
    "    print('Prediction {} reviews most popular 2-gram / 3-gram:'.format(j))\n",
    "    for i in d:\n",
    "        test = test.append(pd.Series(i, index = index), ignore_index = True)\n",
    "    test = test.sort_values('Count', ascending=False)\n",
    "    print(test)"
   ]
  },
  {
   "cell_type": "code",
   "execution_count": 44,
   "metadata": {
    "collapsed": true
   },
   "outputs": [],
   "source": [
    "def get_token_adj(prediction, benchmark, userid='all'):\n",
    "    \n",
    "    if userid != 'all':\n",
    "        cdf = odf[(odf['UserId'] == userid) & (odf['Prediction'] == prediction)]['Text']\n",
    "    else:\n",
    "        cdf = odf[odf['Prediction'] == prediction]['Text']\n",
    "        \n",
    "    count = len(cdf)\n",
    "    total_text = ' '.join(cdf)\n",
    "    total_text = total_text.lower()\n",
    "    stop = set(stopwords.words('english'))\n",
    "    total_text = nltk.word_tokenize(total_text)\n",
    "    total_text = [word for word in total_text if word not in stop and len(word) >= 3]\n",
    "    lemmatizer = WordNetLemmatizer()\n",
    "    total_text = [lemmatizer.lemmatize(w,'a') for w in total_text]\n",
    "    # get adjective only\n",
    "    total_text = [word for word, form in nltk.pos_tag(total_text) if form == 'JJ']\n",
    "    \n",
    "    text = nltk.Text(total_text)\n",
    "    fdist = nltk.FreqDist(text)\n",
    "    \n",
    "    # return only phrase occurs more than benchmark of his reviews\n",
    "    return sorted([(w,fdist[w],str(round(fdist[w]/count*100,2))+'%') for w in set(text) if fdist[w] >= count*benchmark], key=lambda x: -x[1])"
   ]
  },
  {
   "cell_type": "code",
   "execution_count": 45,
   "metadata": {},
   "outputs": [
    {
     "name": "stdout",
     "output_type": "stream",
     "text": [
      "prediction 1 reviews most popular adjectives word:\n",
      "    Count Occur %      Phrase\n",
      "0     4.0   80.0%   delicious\n",
      "1     4.0   80.0%         bad\n",
      "2     3.0   60.0%        much\n",
      "3     2.0   40.0%         fat\n",
      "4     2.0   40.0%        real\n",
      "5     2.0   40.0%   glutamate\n",
      "6     2.0   40.0%     bottled\n",
      "7     2.0   40.0%        lean\n",
      "8     2.0   40.0%       awful\n",
      "9     2.0   40.0%  nutritious\n",
      "10    2.0   40.0%    terrific\n",
      "11    2.0   40.0%      hormel\n",
      "prediction 2 reviews most popular adjectives word:\n",
      "    Count Occur %      Phrase\n",
      "0     2.0  100.0%      cheese\n",
      "2     2.0  100.0%       whole\n",
      "1     2.0  100.0%      desert\n",
      "11    1.0   50.0%         pie\n",
      "17    1.0   50.0%  particular\n",
      "16    1.0   50.0%        late\n",
      "15    1.0   50.0%        firm\n",
      "14    1.0   50.0%       awful\n",
      "13    1.0   50.0%     pleased\n",
      "12    1.0   50.0%        high\n",
      "9     1.0   50.0%       .give\n",
      "10    1.0   50.0%       sweet\n",
      "8     1.0   50.0%    complete\n",
      "7     1.0   50.0%       steak\n",
      "6     1.0   50.0%       wrong\n",
      "5     1.0   50.0%       black\n",
      "4     1.0   50.0%   .goodness\n",
      "3     1.0   50.0%   delicious\n",
      "18    1.0   50.0%         ate\n",
      "prediction 3 reviews most popular adjectives word:\n",
      "    Count Occur %      Phrase\n",
      "0     2.0  200.0%       whole\n",
      "1     1.0  100.0%      herbal\n",
      "2     1.0  100.0%  unhealthly\n",
      "3     1.0  100.0%       fatty\n",
      "4     1.0  100.0%      grease\n",
      "5     1.0  100.0%    terrific\n",
      "6     1.0  100.0%       fried\n",
      "7     1.0  100.0%       nasty\n",
      "8     1.0  100.0%         eat\n",
      "9     1.0  100.0%     wayyyyy\n",
      "10    1.0  100.0%       great\n",
      "11    1.0  100.0%        lamb\n",
      "12    1.0  100.0%  horrendous\n",
      "prediction 4 reviews most popular adjectives word:\n"
     ]
    },
    {
     "ename": "KeyError",
     "evalue": "'Count'",
     "output_type": "error",
     "traceback": [
      "\u001b[0;31m---------------------------------------------------------------------------\u001b[0m",
      "\u001b[0;31mKeyError\u001b[0m                                  Traceback (most recent call last)",
      "\u001b[0;32m~/anaconda3/lib/python3.6/site-packages/pandas/core/indexes/base.py\u001b[0m in \u001b[0;36mget_loc\u001b[0;34m(self, key, method, tolerance)\u001b[0m\n\u001b[1;32m   2441\u001b[0m             \u001b[0;32mtry\u001b[0m\u001b[0;34m:\u001b[0m\u001b[0;34m\u001b[0m\u001b[0m\n\u001b[0;32m-> 2442\u001b[0;31m                 \u001b[0;32mreturn\u001b[0m \u001b[0mself\u001b[0m\u001b[0;34m.\u001b[0m\u001b[0m_engine\u001b[0m\u001b[0;34m.\u001b[0m\u001b[0mget_loc\u001b[0m\u001b[0;34m(\u001b[0m\u001b[0mkey\u001b[0m\u001b[0;34m)\u001b[0m\u001b[0;34m\u001b[0m\u001b[0m\n\u001b[0m\u001b[1;32m   2443\u001b[0m             \u001b[0;32mexcept\u001b[0m \u001b[0mKeyError\u001b[0m\u001b[0;34m:\u001b[0m\u001b[0;34m\u001b[0m\u001b[0m\n",
      "\u001b[0;32mpandas/_libs/index.pyx\u001b[0m in \u001b[0;36mpandas._libs.index.IndexEngine.get_loc\u001b[0;34m()\u001b[0m\n",
      "\u001b[0;32mpandas/_libs/index.pyx\u001b[0m in \u001b[0;36mpandas._libs.index.IndexEngine.get_loc\u001b[0;34m()\u001b[0m\n",
      "\u001b[0;32mpandas/_libs/hashtable_class_helper.pxi\u001b[0m in \u001b[0;36mpandas._libs.hashtable.PyObjectHashTable.get_item\u001b[0;34m()\u001b[0m\n",
      "\u001b[0;32mpandas/_libs/hashtable_class_helper.pxi\u001b[0m in \u001b[0;36mpandas._libs.hashtable.PyObjectHashTable.get_item\u001b[0;34m()\u001b[0m\n",
      "\u001b[0;31mKeyError\u001b[0m: 'Count'",
      "\nDuring handling of the above exception, another exception occurred:\n",
      "\u001b[0;31mKeyError\u001b[0m                                  Traceback (most recent call last)",
      "\u001b[0;32m<ipython-input-45-84dbebffbf17>\u001b[0m in \u001b[0;36m<module>\u001b[0;34m()\u001b[0m\n\u001b[1;32m      8\u001b[0m     \u001b[0;32mfor\u001b[0m \u001b[0mi\u001b[0m \u001b[0;32min\u001b[0m \u001b[0md\u001b[0m\u001b[0;34m:\u001b[0m\u001b[0;34m\u001b[0m\u001b[0m\n\u001b[1;32m      9\u001b[0m         \u001b[0mtest\u001b[0m \u001b[0;34m=\u001b[0m \u001b[0mtest\u001b[0m\u001b[0;34m.\u001b[0m\u001b[0mappend\u001b[0m\u001b[0;34m(\u001b[0m\u001b[0mpd\u001b[0m\u001b[0;34m.\u001b[0m\u001b[0mSeries\u001b[0m\u001b[0;34m(\u001b[0m\u001b[0mi\u001b[0m\u001b[0;34m,\u001b[0m \u001b[0mindex\u001b[0m \u001b[0;34m=\u001b[0m \u001b[0mindex\u001b[0m\u001b[0;34m)\u001b[0m\u001b[0;34m,\u001b[0m \u001b[0mignore_index\u001b[0m \u001b[0;34m=\u001b[0m \u001b[0;32mTrue\u001b[0m\u001b[0;34m)\u001b[0m\u001b[0;34m\u001b[0m\u001b[0m\n\u001b[0;32m---> 10\u001b[0;31m     \u001b[0mtest\u001b[0m \u001b[0;34m=\u001b[0m \u001b[0mtest\u001b[0m\u001b[0;34m.\u001b[0m\u001b[0msort_values\u001b[0m\u001b[0;34m(\u001b[0m\u001b[0;34m'Count'\u001b[0m\u001b[0;34m,\u001b[0m \u001b[0mascending\u001b[0m\u001b[0;34m=\u001b[0m\u001b[0;32mFalse\u001b[0m\u001b[0;34m)\u001b[0m\u001b[0;34m\u001b[0m\u001b[0m\n\u001b[0m\u001b[1;32m     11\u001b[0m     \u001b[0mprint\u001b[0m\u001b[0;34m(\u001b[0m\u001b[0mtest\u001b[0m\u001b[0;34m)\u001b[0m\u001b[0;34m\u001b[0m\u001b[0m\n",
      "\u001b[0;32m~/anaconda3/lib/python3.6/site-packages/pandas/core/frame.py\u001b[0m in \u001b[0;36msort_values\u001b[0;34m(self, by, axis, ascending, inplace, kind, na_position)\u001b[0m\n\u001b[1;32m   3184\u001b[0m \u001b[0;34m\u001b[0m\u001b[0m\n\u001b[1;32m   3185\u001b[0m             \u001b[0mby\u001b[0m \u001b[0;34m=\u001b[0m \u001b[0mby\u001b[0m\u001b[0;34m[\u001b[0m\u001b[0;36m0\u001b[0m\u001b[0;34m]\u001b[0m\u001b[0;34m\u001b[0m\u001b[0m\n\u001b[0;32m-> 3186\u001b[0;31m             \u001b[0mk\u001b[0m \u001b[0;34m=\u001b[0m \u001b[0mself\u001b[0m\u001b[0;34m.\u001b[0m\u001b[0mxs\u001b[0m\u001b[0;34m(\u001b[0m\u001b[0mby\u001b[0m\u001b[0;34m,\u001b[0m \u001b[0maxis\u001b[0m\u001b[0;34m=\u001b[0m\u001b[0mother_axis\u001b[0m\u001b[0;34m)\u001b[0m\u001b[0;34m.\u001b[0m\u001b[0mvalues\u001b[0m\u001b[0;34m\u001b[0m\u001b[0m\n\u001b[0m\u001b[1;32m   3187\u001b[0m             \u001b[0;32mif\u001b[0m \u001b[0mk\u001b[0m\u001b[0;34m.\u001b[0m\u001b[0mndim\u001b[0m \u001b[0;34m==\u001b[0m \u001b[0;36m2\u001b[0m\u001b[0;34m:\u001b[0m\u001b[0;34m\u001b[0m\u001b[0m\n\u001b[1;32m   3188\u001b[0m \u001b[0;34m\u001b[0m\u001b[0m\n",
      "\u001b[0;32m~/anaconda3/lib/python3.6/site-packages/pandas/core/generic.py\u001b[0m in \u001b[0;36mxs\u001b[0;34m(self, key, axis, level, drop_level)\u001b[0m\n\u001b[1;32m   2021\u001b[0m \u001b[0;34m\u001b[0m\u001b[0m\n\u001b[1;32m   2022\u001b[0m         \u001b[0;32mif\u001b[0m \u001b[0maxis\u001b[0m \u001b[0;34m==\u001b[0m \u001b[0;36m1\u001b[0m\u001b[0;34m:\u001b[0m\u001b[0;34m\u001b[0m\u001b[0m\n\u001b[0;32m-> 2023\u001b[0;31m             \u001b[0;32mreturn\u001b[0m \u001b[0mself\u001b[0m\u001b[0;34m[\u001b[0m\u001b[0mkey\u001b[0m\u001b[0;34m]\u001b[0m\u001b[0;34m\u001b[0m\u001b[0m\n\u001b[0m\u001b[1;32m   2024\u001b[0m \u001b[0;34m\u001b[0m\u001b[0m\n\u001b[1;32m   2025\u001b[0m         \u001b[0mself\u001b[0m\u001b[0;34m.\u001b[0m\u001b[0m_consolidate_inplace\u001b[0m\u001b[0;34m(\u001b[0m\u001b[0;34m)\u001b[0m\u001b[0;34m\u001b[0m\u001b[0m\n",
      "\u001b[0;32m~/anaconda3/lib/python3.6/site-packages/pandas/core/frame.py\u001b[0m in \u001b[0;36m__getitem__\u001b[0;34m(self, key)\u001b[0m\n\u001b[1;32m   1962\u001b[0m             \u001b[0;32mreturn\u001b[0m \u001b[0mself\u001b[0m\u001b[0;34m.\u001b[0m\u001b[0m_getitem_multilevel\u001b[0m\u001b[0;34m(\u001b[0m\u001b[0mkey\u001b[0m\u001b[0;34m)\u001b[0m\u001b[0;34m\u001b[0m\u001b[0m\n\u001b[1;32m   1963\u001b[0m         \u001b[0;32melse\u001b[0m\u001b[0;34m:\u001b[0m\u001b[0;34m\u001b[0m\u001b[0m\n\u001b[0;32m-> 1964\u001b[0;31m             \u001b[0;32mreturn\u001b[0m \u001b[0mself\u001b[0m\u001b[0;34m.\u001b[0m\u001b[0m_getitem_column\u001b[0m\u001b[0;34m(\u001b[0m\u001b[0mkey\u001b[0m\u001b[0;34m)\u001b[0m\u001b[0;34m\u001b[0m\u001b[0m\n\u001b[0m\u001b[1;32m   1965\u001b[0m \u001b[0;34m\u001b[0m\u001b[0m\n\u001b[1;32m   1966\u001b[0m     \u001b[0;32mdef\u001b[0m \u001b[0m_getitem_column\u001b[0m\u001b[0;34m(\u001b[0m\u001b[0mself\u001b[0m\u001b[0;34m,\u001b[0m \u001b[0mkey\u001b[0m\u001b[0;34m)\u001b[0m\u001b[0;34m:\u001b[0m\u001b[0;34m\u001b[0m\u001b[0m\n",
      "\u001b[0;32m~/anaconda3/lib/python3.6/site-packages/pandas/core/frame.py\u001b[0m in \u001b[0;36m_getitem_column\u001b[0;34m(self, key)\u001b[0m\n\u001b[1;32m   1969\u001b[0m         \u001b[0;31m# get column\u001b[0m\u001b[0;34m\u001b[0m\u001b[0;34m\u001b[0m\u001b[0m\n\u001b[1;32m   1970\u001b[0m         \u001b[0;32mif\u001b[0m \u001b[0mself\u001b[0m\u001b[0;34m.\u001b[0m\u001b[0mcolumns\u001b[0m\u001b[0;34m.\u001b[0m\u001b[0mis_unique\u001b[0m\u001b[0;34m:\u001b[0m\u001b[0;34m\u001b[0m\u001b[0m\n\u001b[0;32m-> 1971\u001b[0;31m             \u001b[0;32mreturn\u001b[0m \u001b[0mself\u001b[0m\u001b[0;34m.\u001b[0m\u001b[0m_get_item_cache\u001b[0m\u001b[0;34m(\u001b[0m\u001b[0mkey\u001b[0m\u001b[0;34m)\u001b[0m\u001b[0;34m\u001b[0m\u001b[0m\n\u001b[0m\u001b[1;32m   1972\u001b[0m \u001b[0;34m\u001b[0m\u001b[0m\n\u001b[1;32m   1973\u001b[0m         \u001b[0;31m# duplicate columns & possible reduce dimensionality\u001b[0m\u001b[0;34m\u001b[0m\u001b[0;34m\u001b[0m\u001b[0m\n",
      "\u001b[0;32m~/anaconda3/lib/python3.6/site-packages/pandas/core/generic.py\u001b[0m in \u001b[0;36m_get_item_cache\u001b[0;34m(self, item)\u001b[0m\n\u001b[1;32m   1643\u001b[0m         \u001b[0mres\u001b[0m \u001b[0;34m=\u001b[0m \u001b[0mcache\u001b[0m\u001b[0;34m.\u001b[0m\u001b[0mget\u001b[0m\u001b[0;34m(\u001b[0m\u001b[0mitem\u001b[0m\u001b[0;34m)\u001b[0m\u001b[0;34m\u001b[0m\u001b[0m\n\u001b[1;32m   1644\u001b[0m         \u001b[0;32mif\u001b[0m \u001b[0mres\u001b[0m \u001b[0;32mis\u001b[0m \u001b[0;32mNone\u001b[0m\u001b[0;34m:\u001b[0m\u001b[0;34m\u001b[0m\u001b[0m\n\u001b[0;32m-> 1645\u001b[0;31m             \u001b[0mvalues\u001b[0m \u001b[0;34m=\u001b[0m \u001b[0mself\u001b[0m\u001b[0;34m.\u001b[0m\u001b[0m_data\u001b[0m\u001b[0;34m.\u001b[0m\u001b[0mget\u001b[0m\u001b[0;34m(\u001b[0m\u001b[0mitem\u001b[0m\u001b[0;34m)\u001b[0m\u001b[0;34m\u001b[0m\u001b[0m\n\u001b[0m\u001b[1;32m   1646\u001b[0m             \u001b[0mres\u001b[0m \u001b[0;34m=\u001b[0m \u001b[0mself\u001b[0m\u001b[0;34m.\u001b[0m\u001b[0m_box_item_values\u001b[0m\u001b[0;34m(\u001b[0m\u001b[0mitem\u001b[0m\u001b[0;34m,\u001b[0m \u001b[0mvalues\u001b[0m\u001b[0;34m)\u001b[0m\u001b[0;34m\u001b[0m\u001b[0m\n\u001b[1;32m   1647\u001b[0m             \u001b[0mcache\u001b[0m\u001b[0;34m[\u001b[0m\u001b[0mitem\u001b[0m\u001b[0;34m]\u001b[0m \u001b[0;34m=\u001b[0m \u001b[0mres\u001b[0m\u001b[0;34m\u001b[0m\u001b[0m\n",
      "\u001b[0;32m~/anaconda3/lib/python3.6/site-packages/pandas/core/internals.py\u001b[0m in \u001b[0;36mget\u001b[0;34m(self, item, fastpath)\u001b[0m\n\u001b[1;32m   3588\u001b[0m \u001b[0;34m\u001b[0m\u001b[0m\n\u001b[1;32m   3589\u001b[0m             \u001b[0;32mif\u001b[0m \u001b[0;32mnot\u001b[0m \u001b[0misnull\u001b[0m\u001b[0;34m(\u001b[0m\u001b[0mitem\u001b[0m\u001b[0;34m)\u001b[0m\u001b[0;34m:\u001b[0m\u001b[0;34m\u001b[0m\u001b[0m\n\u001b[0;32m-> 3590\u001b[0;31m                 \u001b[0mloc\u001b[0m \u001b[0;34m=\u001b[0m \u001b[0mself\u001b[0m\u001b[0;34m.\u001b[0m\u001b[0mitems\u001b[0m\u001b[0;34m.\u001b[0m\u001b[0mget_loc\u001b[0m\u001b[0;34m(\u001b[0m\u001b[0mitem\u001b[0m\u001b[0;34m)\u001b[0m\u001b[0;34m\u001b[0m\u001b[0m\n\u001b[0m\u001b[1;32m   3591\u001b[0m             \u001b[0;32melse\u001b[0m\u001b[0;34m:\u001b[0m\u001b[0;34m\u001b[0m\u001b[0m\n\u001b[1;32m   3592\u001b[0m                 \u001b[0mindexer\u001b[0m \u001b[0;34m=\u001b[0m \u001b[0mnp\u001b[0m\u001b[0;34m.\u001b[0m\u001b[0marange\u001b[0m\u001b[0;34m(\u001b[0m\u001b[0mlen\u001b[0m\u001b[0;34m(\u001b[0m\u001b[0mself\u001b[0m\u001b[0;34m.\u001b[0m\u001b[0mitems\u001b[0m\u001b[0;34m)\u001b[0m\u001b[0;34m)\u001b[0m\u001b[0;34m[\u001b[0m\u001b[0misnull\u001b[0m\u001b[0;34m(\u001b[0m\u001b[0mself\u001b[0m\u001b[0;34m.\u001b[0m\u001b[0mitems\u001b[0m\u001b[0;34m)\u001b[0m\u001b[0;34m]\u001b[0m\u001b[0;34m\u001b[0m\u001b[0m\n",
      "\u001b[0;32m~/anaconda3/lib/python3.6/site-packages/pandas/core/indexes/base.py\u001b[0m in \u001b[0;36mget_loc\u001b[0;34m(self, key, method, tolerance)\u001b[0m\n\u001b[1;32m   2442\u001b[0m                 \u001b[0;32mreturn\u001b[0m \u001b[0mself\u001b[0m\u001b[0;34m.\u001b[0m\u001b[0m_engine\u001b[0m\u001b[0;34m.\u001b[0m\u001b[0mget_loc\u001b[0m\u001b[0;34m(\u001b[0m\u001b[0mkey\u001b[0m\u001b[0;34m)\u001b[0m\u001b[0;34m\u001b[0m\u001b[0m\n\u001b[1;32m   2443\u001b[0m             \u001b[0;32mexcept\u001b[0m \u001b[0mKeyError\u001b[0m\u001b[0;34m:\u001b[0m\u001b[0;34m\u001b[0m\u001b[0m\n\u001b[0;32m-> 2444\u001b[0;31m                 \u001b[0;32mreturn\u001b[0m \u001b[0mself\u001b[0m\u001b[0;34m.\u001b[0m\u001b[0m_engine\u001b[0m\u001b[0;34m.\u001b[0m\u001b[0mget_loc\u001b[0m\u001b[0;34m(\u001b[0m\u001b[0mself\u001b[0m\u001b[0;34m.\u001b[0m\u001b[0m_maybe_cast_indexer\u001b[0m\u001b[0;34m(\u001b[0m\u001b[0mkey\u001b[0m\u001b[0;34m)\u001b[0m\u001b[0;34m)\u001b[0m\u001b[0;34m\u001b[0m\u001b[0m\n\u001b[0m\u001b[1;32m   2445\u001b[0m \u001b[0;34m\u001b[0m\u001b[0m\n\u001b[1;32m   2446\u001b[0m         \u001b[0mindexer\u001b[0m \u001b[0;34m=\u001b[0m \u001b[0mself\u001b[0m\u001b[0;34m.\u001b[0m\u001b[0mget_indexer\u001b[0m\u001b[0;34m(\u001b[0m\u001b[0;34m[\u001b[0m\u001b[0mkey\u001b[0m\u001b[0;34m]\u001b[0m\u001b[0;34m,\u001b[0m \u001b[0mmethod\u001b[0m\u001b[0;34m=\u001b[0m\u001b[0mmethod\u001b[0m\u001b[0;34m,\u001b[0m \u001b[0mtolerance\u001b[0m\u001b[0;34m=\u001b[0m\u001b[0mtolerance\u001b[0m\u001b[0;34m)\u001b[0m\u001b[0;34m\u001b[0m\u001b[0m\n",
      "\u001b[0;32mpandas/_libs/index.pyx\u001b[0m in \u001b[0;36mpandas._libs.index.IndexEngine.get_loc\u001b[0;34m()\u001b[0m\n",
      "\u001b[0;32mpandas/_libs/index.pyx\u001b[0m in \u001b[0;36mpandas._libs.index.IndexEngine.get_loc\u001b[0;34m()\u001b[0m\n",
      "\u001b[0;32mpandas/_libs/hashtable_class_helper.pxi\u001b[0m in \u001b[0;36mpandas._libs.hashtable.PyObjectHashTable.get_item\u001b[0;34m()\u001b[0m\n",
      "\u001b[0;32mpandas/_libs/hashtable_class_helper.pxi\u001b[0m in \u001b[0;36mpandas._libs.hashtable.PyObjectHashTable.get_item\u001b[0;34m()\u001b[0m\n",
      "\u001b[0;31mKeyError\u001b[0m: 'Count'"
     ]
    }
   ],
   "source": [
    "# score 1-5 reviews with this user\n",
    "index = ['Phrase', 'Count', 'Occur %']\n",
    "\n",
    "for j in range(1,6):\n",
    "    test = pd.DataFrame()\n",
    "    d = get_token_adj(j, 0.25, 'A2M9D9BDHONV3Y')\n",
    "    print('prediction {} reviews most popular adjectives word:'.format(j))\n",
    "    for i in d:\n",
    "        test = test.append(pd.Series(i, index = index), ignore_index = True)\n",
    "    test = test.sort_values('Count', ascending=False)\n",
    "    print(test)"
   ]
  },
  {
   "cell_type": "code",
   "execution_count": 46,
   "metadata": {},
   "outputs": [
    {
     "name": "stdout",
     "output_type": "stream",
     "text": [
      "prediction 1 reviews most popular adjectives word:\n",
      "     Count Occur %        Phrase\n",
      "0   1423.0  30.81%          good\n",
      "1    938.0  20.31%           bad\n",
      "2    437.0   9.46%         great\n",
      "3    419.0   9.07%          much\n",
      "4    418.0   9.05%        little\n",
      "5    377.0   8.16%           old\n",
      "6    362.0   7.84%         first\n",
      "7    348.0   7.54%          many\n",
      "8    332.0   7.19%          real\n",
      "9    316.0   6.84%           new\n",
      "10   309.0   6.69%         small\n",
      "11   306.0   6.63%     different\n",
      "12   263.0    5.7%  disappointed\n",
      "13   257.0   5.57%          diet\n",
      "14   249.0   5.39%        amazon\n",
      "15   247.0   5.35%          sure\n",
      "16   244.0   5.28%          free\n",
      "17   241.0   5.22%       natural\n",
      "18   237.0   5.13%          last\n",
      "19   234.0   5.07%           hot\n",
      "prediction 2 reviews most popular adjectives word:\n",
      "     Count Occur %        Phrase\n",
      "0   1213.0  45.65%          good\n",
      "1    381.0  14.34%           bad\n",
      "2    380.0   14.3%          much\n",
      "3    356.0   13.4%         great\n",
      "4    340.0   12.8%        little\n",
      "5    252.0   9.48%         small\n",
      "6    221.0   8.32%        strong\n",
      "7    219.0   8.24%     different\n",
      "8    216.0   8.13%         first\n",
      "9    193.0   7.26%         sweet\n",
      "10   189.0   7.11%          many\n",
      "11   187.0   7.04%  disappointed\n",
      "12   181.0   6.81%          high\n",
      "13   179.0   6.74%          hard\n",
      "14   165.0   6.21%          sure\n",
      "15   161.0   6.06%           big\n",
      "16   157.0   5.91%           old\n",
      "17   153.0   5.76%         whole\n",
      "18   150.0   5.65%       organic\n",
      "19   146.0   5.49%          free\n",
      "20   145.0   5.46%           hot\n",
      "21   145.0   5.46%         green\n",
      "22   144.0   5.42%       healthy\n",
      "23   143.0   5.38%       regular\n",
      "24   137.0   5.16%       natural\n",
      "prediction 3 reviews most popular adjectives word:\n",
      "     Count Occur %     Phrase\n",
      "0   2261.0  59.36%       good\n",
      "1    704.0  18.48%      great\n",
      "2    659.0   17.3%     little\n",
      "3    659.0   17.3%       much\n",
      "4    527.0  13.84%        bad\n",
      "5    440.0  11.55%     strong\n",
      "6    435.0  11.42%      small\n",
      "7    342.0   8.98%      sweet\n",
      "8    302.0   7.93%      first\n",
      "9    300.0   7.88%       nice\n",
      "10   294.0   7.72%  different\n",
      "11   292.0   7.67%       sure\n",
      "12   279.0   7.32%      green\n",
      "13   278.0    7.3%        big\n",
      "14   261.0   6.85%        hot\n",
      "15   260.0   6.83%       high\n",
      "16   258.0   6.77%    organic\n",
      "17   257.0   6.75%       many\n",
      "18   255.0   6.69%    healthy\n",
      "19   246.0   6.46%      large\n",
      "20   245.0   6.43%       hard\n",
      "21   227.0   5.96%    regular\n",
      "22   225.0   5.91%       free\n",
      "23   215.0   5.64%      whole\n",
      "24   213.0   5.59%    natural\n",
      "25   209.0   5.49%        old\n",
      "26   208.0   5.46%        low\n",
      "27   206.0   5.41%        dry\n",
      "28   205.0   5.38%       real\n",
      "29   192.0   5.04%       easy\n",
      "30   191.0   5.01%       last\n",
      "prediction 4 reviews most popular adjectives word:\n",
      "     Count Occur %     Phrase\n",
      "0   4652.0  66.01%       good\n",
      "1   1974.0  28.01%      great\n",
      "2   1459.0   20.7%     little\n",
      "3    920.0  13.06%       much\n",
      "4    791.0  11.22%       nice\n",
      "5    752.0  10.67%      small\n",
      "6    750.0  10.64%      sweet\n",
      "7    723.0  10.26%     strong\n",
      "8    595.0   8.44%    healthy\n",
      "9    567.0   8.05%       easy\n",
      "10   559.0   7.93%        hot\n",
      "11   505.0   7.17%        bad\n",
      "12   503.0   7.14%       high\n",
      "13   501.0   7.11%        big\n",
      "14   490.0   6.95%    organic\n",
      "15   488.0   6.92%       many\n",
      "16   484.0   6.87%      first\n",
      "17   475.0   6.74%  different\n",
      "18   456.0   6.47%       sure\n",
      "19   451.0    6.4%    regular\n",
      "20   434.0   6.16%       free\n",
      "21   424.0   6.02%      green\n",
      "22   417.0   5.92%      tasty\n",
      "23   410.0   5.82%        old\n",
      "24   403.0   5.72%      fresh\n",
      "25   384.0   5.45%        low\n",
      "26   383.0   5.43%      whole\n",
      "27   377.0   5.35%      large\n",
      "28   359.0   5.09%  delicious\n",
      "prediction 5 reviews most popular adjectives word:\n",
      "      Count Occur %     Phrase\n",
      "0   13309.0  41.76%       good\n",
      "1   11121.0   34.9%      great\n",
      "2    3936.0  12.35%     little\n",
      "3    2933.0    9.2%  delicious\n",
      "4    2776.0   8.71%       much\n",
      "5    2646.0    8.3%    healthy\n",
      "6    2387.0   7.49%       many\n",
      "7    2375.0   7.45%       free\n",
      "8    2243.0   7.04%       easy\n",
      "9    2214.0   6.95%        hot\n",
      "10   2180.0   6.84%   favorite\n",
      "11   2171.0   6.81%      small\n",
      "12   2085.0   6.54%       nice\n",
      "13   2034.0   6.38%      sweet\n",
      "14   1885.0   5.91%        old\n",
      "15   1844.0   5.79%      happy\n",
      "16   1834.0   5.75%       high\n",
      "17   1800.0   5.65%      fresh\n",
      "18   1797.0   5.64%     strong\n",
      "19   1700.0   5.33%  different\n",
      "20   1682.0   5.28%      local\n",
      "21   1641.0   5.15%  wonderful\n",
      "22   1625.0    5.1%    organic\n",
      "23   1610.0   5.05%      first\n",
      "24   1602.0   5.03%        big\n"
     ]
    }
   ],
   "source": [
    "# score 1-5 reviews with all users\n",
    "index = ['Phrase', 'Count', 'Occur %']\n",
    "\n",
    "for j in range(1,6):\n",
    "    test = pd.DataFrame()\n",
    "    d = get_token_adj(j, 0.05)\n",
    "    print('prediction {} reviews most popular adjectives word:'.format(j))\n",
    "    for i in d:\n",
    "        test = test.append(pd.Series(i, index = index), ignore_index = True)\n",
    "    test = test.sort_values('Count', ascending=False)\n",
    "    print(test)"
   ]
  },
  {
   "cell_type": "markdown",
   "metadata": {},
   "source": [
    "## Removing Stopwords and displaying appropriate good word reviews\n"
   ]
  },
  {
   "cell_type": "code",
   "execution_count": 47,
   "metadata": {},
   "outputs": [
    {
     "data": {
      "image/png": "[encoded data removed]",
      "text/plain": [
       "<matplotlib.figure.Figure at 0x1206bb908>"
      ]
     },
     "metadata": {},
     "output_type": "display_data"
    }
   ],
   "source": [
    "from wordcloud import WordCloud, STOPWORDS\n",
    "import matplotlib as mpl\n",
    "\n",
    "\n",
    "stopwords = set(STOPWORDS)\n",
    "\n",
    "#mpl.rcParams['figure.figsize']=(8.0,6.0)    #(6.0,4.0)\n",
    "mpl.rcParams['font.size']=12                #10 \n",
    "mpl.rcParams['savefig.dpi']=100             #72 \n",
    "mpl.rcParams['figure.subplot.bottom']=.1 \n",
    "\n",
    "\n",
    "def show_wordcloud(data, title = None):\n",
    "    wordcloud = WordCloud(\n",
    "        background_color='white',\n",
    "        stopwords=stopwords,\n",
    "        max_words=200,\n",
    "        max_font_size=40, \n",
    "        scale=3,\n",
    "        random_state=1 # chosen at random by flipping a coin; it was heads\n",
    "    ).generate(str(data))\n",
    "    \n",
    "    fig = plt.figure(1, figsize=(8, 8))\n",
    "    plt.axis('off')\n",
    "    if title: \n",
    "        fig.suptitle(title, fontsize=20)\n",
    "        fig.subplots_adjust(top=2.3)\n",
    "\n",
    "    plt.imshow(wordcloud)\n",
    "    plt.show()\n",
    "    \n",
    "show_wordcloud(df[\"Summary_Clean\"])"
   ]
  },
  {
   "cell_type": "markdown",
   "metadata": {},
   "source": [
    "In the word cloud above, some words that stand out are \"highly\", \"addictive\", \"soothing\", and \"enjoy,\" which have a positive meaning. Certain ingredients or products are also highlighted like \"chili\", \"magnesium\", \"almonds,\" etc. These word are neutral, but probably appear often in positive reviews as a result of Amazon's inventory; Amazon likely selects to distribute products, like almonds or chili, that meet or surpass users' expectations.\n",
    "\n"
   ]
  },
  {
   "cell_type": "markdown",
   "metadata": {},
   "source": [
    "### Displaying reviews of words with low scoring\n",
    "\n",
    "Reviews of low sccoring means that words that are not quite frequently used ,but even if those are used the rating is considered to be negative of those words"
   ]
  },
  {
   "cell_type": "code",
   "execution_count": 48,
   "metadata": {},
   "outputs": [
    {
     "data": {
      "image/png": "[encoded data removed]",
      "text/plain": [
       "<matplotlib.figure.Figure at 0x12c1147b8>"
      ]
     },
     "metadata": {},
     "output_type": "display_data"
    }
   ],
   "source": [
    "show_wordcloud(df[df.Prediction == 1][\"Summary_Clean\"], title = \"Low scoring\")"
   ]
  },
  {
   "cell_type": "markdown",
   "metadata": {},
   "source": [
    "Above images shows the bad words captured from the review data column from the dataset. Summary of the reviews will be chosen to decide the low category food than the Text which is user comment about the food product"
   ]
  },
  {
   "cell_type": "code",
   "execution_count": 49,
   "metadata": {},
   "outputs": [
    {
     "data": {
      "image/png": "[encoded data removed]",
      "text/plain": [
       "<matplotlib.figure.Figure at 0x11cf3cba8>"
      ]
     },
     "metadata": {},
     "output_type": "display_data"
    }
   ],
   "source": [
    "show_wordcloud(df[df.Prediction == 5][\"Summary_Clean\"], title = \"High scoring\")"
   ]
  },
  {
   "cell_type": "code",
   "execution_count": 50,
   "metadata": {
    "collapsed": true
   },
   "outputs": [],
   "source": [
    "df_class = df[(df['Prediction'] == 1) | (df['Prediction'] == 5)]\n",
    "df_class.shape\n",
    "\n",
    "X = df_class['Text']\n",
    "y = df_class['Prediction']"
   ]
  },
  {
   "cell_type": "markdown",
   "metadata": {},
   "source": [
    "## Applying Multinominal Naive Bayes Learning Method\n",
    "\n",
    "\n",
    "Multinomial naive bayes explicitly models the word counts and adjusts the underlying calculations to deal with in. Implementation of Multinominal Naive Bayes method to predict the positive and negative reviews and accuracy of the model using this algorithm."
   ]
  },
  {
   "cell_type": "code",
   "execution_count": 51,
   "metadata": {
    "collapsed": true
   },
   "outputs": [],
   "source": [
    "import string\n",
    "import nltk\n",
    "from nltk.corpus import stopwords\n",
    "def text_process(text):\n",
    "    '''\n",
    "    Takes in a string of text, then performs the following:\n",
    "    1. Remove all punctuation\n",
    "    2. Remove all stopwords\n",
    "    3. Return the cleaned text as a list of words\n",
    "    '''\n",
    "    nopunc = [char for char in text if char not in string.punctuation]\n",
    "    nopunc = ''.join(nopunc)\n",
    "    \n",
    "    return [word for word in nopunc.split() if word.lower() not in stopwords.words('english')]"
   ]
  },
  {
   "cell_type": "code",
   "execution_count": 52,
   "metadata": {},
   "outputs": [
    {
     "name": "stdout",
     "output_type": "stream",
     "text": [
      "['take', 'hiking', 'camping', 'time', 'gives', 'good', 'energy', 'without', 'nasty', 'corn', 'sryup', 'tasty', 'clean', 'whole', 'food', 'Dates', 'Almonds', 'Apples', 'Walnuts', 'Raisins', 'Cinnamon', 'whats', 'like', 'Toss', '34', 'day', 'pack', 'Along', 'lunch', 'plenty', 'water', 'Im', 'good', 'day']\n"
     ]
    }
   ],
   "source": [
    "sample_text = \"I take these with me hiking and camping all the time. It gives me good energy without the nasty corn sryup. Very tasty, and clean whole food. Dates, Almonds, Apples, Walnuts, Raisins, and Cinnamon, whats not to like?. Toss 3-4 of these in my day pack, Along with a lunch and plenty of water, and I'm good for the day.\"\n",
    "print(text_process(sample_text))"
   ]
  },
  {
   "cell_type": "markdown",
   "metadata": {},
   "source": [
    "Let’s import CountVectorizer and fit an instance to our review text (stored in X), passing in our text_process function as the analyser."
   ]
  },
  {
   "cell_type": "code",
   "execution_count": 53,
   "metadata": {
    "collapsed": true
   },
   "outputs": [],
   "source": [
    "bow_transformer = CountVectorizer(analyzer=text_process).fit(X)"
   ]
  },
  {
   "cell_type": "markdown",
   "metadata": {},
   "source": [
    "Now, we can look at the size of the vocabulary stored in the vectoriser (based on X) like this:"
   ]
  },
  {
   "cell_type": "code",
   "execution_count": 54,
   "metadata": {},
   "outputs": [
    {
     "data": {
      "text/plain": [
       "65452"
      ]
     },
     "execution_count": 54,
     "metadata": {},
     "output_type": "execute_result"
    }
   ],
   "source": [
    "len(bow_transformer.vocabulary_)"
   ]
  },
  {
   "cell_type": "code",
   "execution_count": 55,
   "metadata": {
    "collapsed": true
   },
   "outputs": [],
   "source": [
    "X = bow_transformer.transform(X)"
   ]
  },
  {
   "cell_type": "markdown",
   "metadata": {},
   "source": [
    "Now that we’ve seen how the vectorisation process works, we can transform our X dataframe into a sparse matrix. To do this, let’s use the .transform() method on our bag-of-words transformed object.\n"
   ]
  },
  {
   "cell_type": "markdown",
   "metadata": {},
   "source": [
    "print('Shape of Sparse Matrix: ', X.shape)\n",
    "print('Amount of Non-Zero occurrences: ', X.nnz)\n",
    "\n",
    "# Percentage of non-zero values\n",
    "density = (100.0 * X.nnz / (X.shape[0] * X.shape[1]))"
   ]
  },
  {
   "cell_type": "markdown",
   "metadata": {},
   "source": [
    "Create Train and Test data"
   ]
  },
  {
   "cell_type": "code",
   "execution_count": 58,
   "metadata": {
    "collapsed": true
   },
   "outputs": [],
   "source": [
    "from sklearn.model_selection import train_test_split\n",
    "\n",
    "X_train, X_test, y_train, y_test = train_test_split(X, y, test_size=0.3, random_state=101)"
   ]
  },
  {
   "cell_type": "markdown",
   "metadata": {},
   "source": [
    "Multinomial Naive Bayes is a specialised version of Naive Bayes designed more for text documents. Let’s build a Multinomial Naive Bayes model and fit it to our training set (X_train and y_train)."
   ]
  },
  {
   "cell_type": "code",
   "execution_count": 87,
   "metadata": {},
   "outputs": [],
   "source": [
    "from sklearn.naive_bayes import MultinomialNB\n",
    "\n",
    "nb = MultinomialNB()\n",
    "nb.fit(X_train, y_train)\n",
    "prediction = nb.predict(X_test)"
   ]
  },
  {
   "cell_type": "markdown",
   "metadata": {},
   "source": [
    "Next, let’s evaluate our predictions against the actual ratings (stored in y_test) using confusion_matrix and classification_report from Scikit-learn."
   ]
  },
  {
   "cell_type": "code",
   "execution_count": 61,
   "metadata": {},
   "outputs": [
    {
     "name": "stdout",
     "output_type": "stream",
     "text": [
      "[[ 610  738]\n",
      " [ 246 9352]]\n",
      "\n",
      "\n",
      "             precision    recall  f1-score   support\n",
      "\n",
      "          1       0.71      0.45      0.55      1348\n",
      "          5       0.93      0.97      0.95      9598\n",
      "\n",
      "avg / total       0.90      0.91      0.90     10946\n",
      "\n"
     ]
    }
   ],
   "source": [
    "from sklearn.metrics import confusion_matrix, classification_report\n",
    "\n",
    "print(confusion_matrix(y_test, prediction))\n",
    "print('\\n')\n",
    "print(classification_report(y_test, prediction))"
   ]
  },
  {
   "cell_type": "markdown",
   "metadata": {},
   "source": [
    "Looks like our model has achieved 91% accuracy! This means that our model can predict whether a user liked a local business or not, based on what they typed!"
   ]
  },
  {
   "cell_type": "markdown",
   "metadata": {},
   "source": [
    "### Predicting a singular positive review "
   ]
  },
  {
   "cell_type": "code",
   "execution_count": 76,
   "metadata": {},
   "outputs": [
    {
     "data": {
      "text/plain": [
       "5"
      ]
     },
     "execution_count": 76,
     "metadata": {},
     "output_type": "execute_result"
    }
   ],
   "source": [
    "positive_review = df_class['Text'][567]\n",
    "positive_review\n",
    "\n",
    "positive_review_transformed = bow_transformer.transform([positive_review])\n",
    "nb.predict(positive_review_transformed)[0]"
   ]
  },
  {
   "cell_type": "markdown",
   "metadata": {},
   "source": [
    "### Predicting a singular negative review"
   ]
  },
  {
   "cell_type": "code",
   "execution_count": 75,
   "metadata": {},
   "outputs": [
    {
     "data": {
      "text/plain": [
       "1"
      ]
     },
     "execution_count": 75,
     "metadata": {},
     "output_type": "execute_result"
    }
   ],
   "source": [
    "negative_review = df_class['Text'][271]\n",
    "negative_review\n",
    "\n",
    "negative_review_transformed = bow_transformer.transform([negative_review])\n",
    "nb.predict(negative_review_transformed)[0]"
   ]
  },
  {
   "cell_type": "markdown",
   "metadata": {},
   "source": [
    "## Applying Bernoulli Naive Bayes Learning Method\n",
    "\n",
    "Bernoulli Naive Bayes generates boolean value/indicator about each term of the vocabulary equal to 1 if the term belongs to examining document,if not it marks 0. Non accruing terms in document are takes into document and they are factored when computing the conditional probabilities and thus the absence of terms is taken into account. Implementation of Bernoulli Naive Bayes method to predict the positive and negative reviews and accuracy of the model using this algorithm."
   ]
  },
  {
   "cell_type": "code",
   "execution_count": 77,
   "metadata": {
    "collapsed": true
   },
   "outputs": [],
   "source": [
    "from sklearn.naive_bayes import BernoulliNB\n",
    "\n",
    "model = BernoulliNB().fit(X_train, y_train)\n",
    "predic = model.predict(X_test)\n"
   ]
  },
  {
   "cell_type": "code",
   "execution_count": 78,
   "metadata": {},
   "outputs": [
    {
     "name": "stdout",
     "output_type": "stream",
     "text": [
      "[[ 336 1012]\n",
      " [ 357 9241]]\n",
      "\n",
      "\n",
      "             precision    recall  f1-score   support\n",
      "\n",
      "          1       0.48      0.25      0.33      1348\n",
      "          5       0.90      0.96      0.93      9598\n",
      "\n",
      "avg / total       0.85      0.87      0.86     10946\n",
      "\n"
     ]
    }
   ],
   "source": [
    "print(confusion_matrix(y_test, predic))\n",
    "print('\\n')\n",
    "print(classification_report(y_test, predic))"
   ]
  },
  {
   "cell_type": "markdown",
   "metadata": {},
   "source": [
    "Looks like our model has achieved 85% accuracy! This means that our model can predict whether a user liked a local business or not, based on what they typed!"
   ]
  },
  {
   "cell_type": "markdown",
   "metadata": {},
   "source": [
    "### Predicting a singular positive review"
   ]
  },
  {
   "cell_type": "code",
   "execution_count": 79,
   "metadata": {},
   "outputs": [
    {
     "data": {
      "text/plain": [
       "5"
      ]
     },
     "execution_count": 79,
     "metadata": {},
     "output_type": "execute_result"
    }
   ],
   "source": [
    "pos_review = df_class['Text'][567]\n",
    "pos_review\n",
    "\n",
    "pos_review_transformed = bow_transformer.transform([pos_review])\n",
    "nb.predict(pos_review_transformed)[0]"
   ]
  },
  {
   "cell_type": "markdown",
   "metadata": {},
   "source": [
    "### Predicting a singular Negative review"
   ]
  },
  {
   "cell_type": "code",
   "execution_count": 80,
   "metadata": {},
   "outputs": [
    {
     "data": {
      "text/plain": [
       "1"
      ]
     },
     "execution_count": 80,
     "metadata": {},
     "output_type": "execute_result"
    }
   ],
   "source": [
    "neg_review = df_class['Text'][271]\n",
    "neg_review\n",
    "\n",
    "neg_review_transformed = bow_transformer.transform([neg_review])\n",
    "nb.predict(neg_review_transformed)[0]"
   ]
  },
  {
   "cell_type": "markdown",
   "metadata": {},
   "source": [
    "## Applying Logistic Regression Learning method\n",
    "\n",
    "Implementation of logistic regression method to predict the positive and negative reviews and accuracy of the model using this algorithm."
   ]
  },
  {
   "cell_type": "code",
   "execution_count": 81,
   "metadata": {
    "collapsed": true
   },
   "outputs": [],
   "source": [
    "from sklearn.linear_model import LogisticRegression\n",
    "\n",
    "logreg = LogisticRegression(C=1e5).fit(X_train, y_train)\n",
    "prdct = logreg.predict(X_test)\n",
    "\n"
   ]
  },
  {
   "cell_type": "code",
   "execution_count": 82,
   "metadata": {},
   "outputs": [
    {
     "name": "stdout",
     "output_type": "stream",
     "text": [
      "[[ 950  398]\n",
      " [ 311 9287]]\n",
      "\n",
      "\n",
      "             precision    recall  f1-score   support\n",
      "\n",
      "          1       0.75      0.70      0.73      1348\n",
      "          5       0.96      0.97      0.96      9598\n",
      "\n",
      "avg / total       0.93      0.94      0.93     10946\n",
      "\n"
     ]
    }
   ],
   "source": [
    "print(confusion_matrix(y_test, prdct))\n",
    "print('\\n')\n",
    "print(classification_report(y_test, prdct))"
   ]
  },
  {
   "cell_type": "markdown",
   "metadata": {},
   "source": [
    "Looks like our model has achieved 93% accuracy! This means that our model can predict whether a user liked a local business or not, based on what they typed!"
   ]
  },
  {
   "cell_type": "markdown",
   "metadata": {},
   "source": [
    "### Predicting a singular positive review"
   ]
  },
  {
   "cell_type": "code",
   "execution_count": 83,
   "metadata": {},
   "outputs": [
    {
     "data": {
      "text/plain": [
       "5"
      ]
     },
     "execution_count": 83,
     "metadata": {},
     "output_type": "execute_result"
    }
   ],
   "source": [
    "pstv_review = df_class['Text'][567]\n",
    "pstv_review\n",
    "\n",
    "pstv_review_transformed = bow_transformer.transform([pstv_review])\n",
    "nb.predict(pstv_review_transformed)[0]"
   ]
  },
  {
   "cell_type": "markdown",
   "metadata": {},
   "source": [
    "### Predicting a singular negative review"
   ]
  },
  {
   "cell_type": "code",
   "execution_count": 84,
   "metadata": {},
   "outputs": [
    {
     "data": {
      "text/plain": [
       "1"
      ]
     },
     "execution_count": 84,
     "metadata": {},
     "output_type": "execute_result"
    }
   ],
   "source": [
    "ngtv_review = df_class['Text'][271]\n",
    "ngtv_review\n",
    "\n",
    "ngtv_review_transformed = bow_transformer.transform([ngtv_review])\n",
    "nb.predict(ngtv_review_transformed)[0]"
   ]
  },
  {
   "cell_type": "markdown",
   "metadata": {},
   "source": [
    "# Looking at best words by the co-efficients"
   ]
  },
  {
   "cell_type": "code",
   "execution_count": 90,
   "metadata": {},
   "outputs": [
    {
     "data": {
      "text/html": [
       "<div>\n",
       "<style>\n",
       "    .dataframe thead tr:only-child th {\n",
       "        text-align: right;\n",
       "    }\n",
       "\n",
       "    .dataframe thead th {\n",
       "        text-align: left;\n",
       "    }\n",
       "\n",
       "    .dataframe tbody tr th {\n",
       "        vertical-align: top;\n",
       "    }\n",
       "</style>\n",
       "<table border=\"1\" class=\"dataframe\">\n",
       "  <thead>\n",
       "    <tr style=\"text-align: right;\">\n",
       "      <th></th>\n",
       "      <th>feature</th>\n",
       "      <th>coef</th>\n",
       "    </tr>\n",
       "  </thead>\n",
       "  <tbody>\n",
       "    <tr>\n",
       "      <th>58933</th>\n",
       "      <td>gayle</td>\n",
       "      <td>-18.300395</td>\n",
       "    </tr>\n",
       "    <tr>\n",
       "      <th>22159</th>\n",
       "      <td>but order was</td>\n",
       "      <td>-15.527647</td>\n",
       "    </tr>\n",
       "    <tr>\n",
       "      <th>64929</th>\n",
       "      <td>great any time</td>\n",
       "      <td>-14.661673</td>\n",
       "    </tr>\n",
       "    <tr>\n",
       "      <th>46851</th>\n",
       "      <td>excellent quality my</td>\n",
       "      <td>-13.741647</td>\n",
       "    </tr>\n",
       "    <tr>\n",
       "      <th>48918</th>\n",
       "      <td>faulty packaging</td>\n",
       "      <td>-12.432722</td>\n",
       "    </tr>\n",
       "    <tr>\n",
       "      <th>60254</th>\n",
       "      <td>glasses</td>\n",
       "      <td>-11.989689</td>\n",
       "    </tr>\n",
       "    <tr>\n",
       "      <th>225</th>\n",
       "      <td>absolute worst</td>\n",
       "      <td>-11.910354</td>\n",
       "    </tr>\n",
       "    <tr>\n",
       "      <th>51611</th>\n",
       "      <td>flavor or produce</td>\n",
       "      <td>-11.764256</td>\n",
       "    </tr>\n",
       "    <tr>\n",
       "      <th>33673</th>\n",
       "      <td>could be misleading ingredient</td>\n",
       "      <td>-11.681514</td>\n",
       "    </tr>\n",
       "    <tr>\n",
       "      <th>54527</th>\n",
       "      <td>for liquid</td>\n",
       "      <td>-11.533751</td>\n",
       "    </tr>\n",
       "    <tr>\n",
       "      <th>40863</th>\n",
       "      <td>dog if she quick</td>\n",
       "      <td>-11.432853</td>\n",
       "    </tr>\n",
       "    <tr>\n",
       "      <th>37106</th>\n",
       "      <td>del ginger snaps</td>\n",
       "      <td>-11.129272</td>\n",
       "    </tr>\n",
       "    <tr>\n",
       "      <th>61159</th>\n",
       "      <td>good amount</td>\n",
       "      <td>-10.973137</td>\n",
       "    </tr>\n",
       "    <tr>\n",
       "      <th>47787</th>\n",
       "      <td>extremely satisified</td>\n",
       "      <td>-10.758688</td>\n",
       "    </tr>\n",
       "    <tr>\n",
       "      <th>33796</th>\n",
       "      <td>coulda</td>\n",
       "      <td>-10.684587</td>\n",
       "    </tr>\n",
       "    <tr>\n",
       "      <th>56076</th>\n",
       "      <td>for use while</td>\n",
       "      <td>-10.650729</td>\n",
       "    </tr>\n",
       "    <tr>\n",
       "      <th>55059</th>\n",
       "      <td>for outdoor roaches</td>\n",
       "      <td>-10.502336</td>\n",
       "    </tr>\n",
       "    <tr>\n",
       "      <th>17732</th>\n",
       "      <td>bites original beef dry</td>\n",
       "      <td>-10.449121</td>\n",
       "    </tr>\n",
       "    <tr>\n",
       "      <th>58398</th>\n",
       "      <td>fuel dark</td>\n",
       "      <td>-10.428875</td>\n",
       "    </tr>\n",
       "    <tr>\n",
       "      <th>60053</th>\n",
       "      <td>give our cat more</td>\n",
       "      <td>-10.176653</td>\n",
       "    </tr>\n",
       "    <tr>\n",
       "      <th>32685</th>\n",
       "      <td>content not as</td>\n",
       "      <td>-10.041111</td>\n",
       "    </tr>\n",
       "    <tr>\n",
       "      <th>33912</th>\n",
       "      <td>country choice oatmeal</td>\n",
       "      <td>-10.014932</td>\n",
       "    </tr>\n",
       "    <tr>\n",
       "      <th>60643</th>\n",
       "      <td>gnawhide rings</td>\n",
       "      <td>-10.008268</td>\n",
       "    </tr>\n",
       "    <tr>\n",
       "      <th>45506</th>\n",
       "      <td>evaluation</td>\n",
       "      <td>-9.907656</td>\n",
       "    </tr>\n",
       "    <tr>\n",
       "      <th>58497</th>\n",
       "      <td>full of candied fruits</td>\n",
       "      <td>-9.625633</td>\n",
       "    </tr>\n",
       "    <tr>\n",
       "      <th>10755</th>\n",
       "      <td>back ribs potato chips</td>\n",
       "      <td>-9.596062</td>\n",
       "    </tr>\n",
       "    <tr>\n",
       "      <th>58172</th>\n",
       "      <td>fruit crisp tasty</td>\n",
       "      <td>-9.578170</td>\n",
       "    </tr>\n",
       "    <tr>\n",
       "      <th>15371</th>\n",
       "      <td>best marinara</td>\n",
       "      <td>-9.538442</td>\n",
       "    </tr>\n",
       "    <tr>\n",
       "      <th>54986</th>\n",
       "      <td>for older</td>\n",
       "      <td>-9.536811</td>\n",
       "    </tr>\n",
       "    <tr>\n",
       "      <th>4794</th>\n",
       "      <td>and grossly overpriced read</td>\n",
       "      <td>-9.495271</td>\n",
       "    </tr>\n",
       "    <tr>\n",
       "      <th>...</th>\n",
       "      <td>...</td>\n",
       "      <td>...</td>\n",
       "    </tr>\n",
       "    <tr>\n",
       "      <th>47913</th>\n",
       "      <td>fabulous osmanthus tea</td>\n",
       "      <td>7.816076</td>\n",
       "    </tr>\n",
       "    <tr>\n",
       "      <th>24820</th>\n",
       "      <td>can pretzel taste this</td>\n",
       "      <td>7.823369</td>\n",
       "    </tr>\n",
       "    <tr>\n",
       "      <th>32904</th>\n",
       "      <td>convenient when out</td>\n",
       "      <td>7.825229</td>\n",
       "    </tr>\n",
       "    <tr>\n",
       "      <th>13123</th>\n",
       "      <td>because of</td>\n",
       "      <td>7.868191</td>\n",
       "    </tr>\n",
       "    <tr>\n",
       "      <th>43187</th>\n",
       "      <td>dry sweetener</td>\n",
       "      <td>7.905761</td>\n",
       "    </tr>\n",
       "    <tr>\n",
       "      <th>26731</th>\n",
       "      <td>causes bad</td>\n",
       "      <td>7.969281</td>\n",
       "    </tr>\n",
       "    <tr>\n",
       "      <th>36442</th>\n",
       "      <td>deal from the good</td>\n",
       "      <td>8.053235</td>\n",
       "    </tr>\n",
       "    <tr>\n",
       "      <th>14942</th>\n",
       "      <td>best ginger candy ever</td>\n",
       "      <td>8.293031</td>\n",
       "    </tr>\n",
       "    <tr>\n",
       "      <th>13116</th>\n",
       "      <td>because it so</td>\n",
       "      <td>8.295613</td>\n",
       "    </tr>\n",
       "    <tr>\n",
       "      <th>61716</th>\n",
       "      <td>good caviar good</td>\n",
       "      <td>8.338790</td>\n",
       "    </tr>\n",
       "    <tr>\n",
       "      <th>20690</th>\n",
       "      <td>busting open while</td>\n",
       "      <td>8.547158</td>\n",
       "    </tr>\n",
       "    <tr>\n",
       "      <th>26461</th>\n",
       "      <td>cats favorite food</td>\n",
       "      <td>8.590689</td>\n",
       "    </tr>\n",
       "    <tr>\n",
       "      <th>39971</th>\n",
       "      <td>distribution</td>\n",
       "      <td>8.743288</td>\n",
       "    </tr>\n",
       "    <tr>\n",
       "      <th>10736</th>\n",
       "      <td>back in italy</td>\n",
       "      <td>8.875953</td>\n",
       "    </tr>\n",
       "    <tr>\n",
       "      <th>30461</th>\n",
       "      <td>coco nuts with</td>\n",
       "      <td>8.882107</td>\n",
       "    </tr>\n",
       "    <tr>\n",
       "      <th>7976</th>\n",
       "      <td>are yogurt flavor my</td>\n",
       "      <td>8.943597</td>\n",
       "    </tr>\n",
       "    <tr>\n",
       "      <th>57330</th>\n",
       "      <td>frenchies love</td>\n",
       "      <td>8.946751</td>\n",
       "    </tr>\n",
       "    <tr>\n",
       "      <th>54063</th>\n",
       "      <td>for for people who</td>\n",
       "      <td>9.116223</td>\n",
       "    </tr>\n",
       "    <tr>\n",
       "      <th>1018</th>\n",
       "      <td>aerator set</td>\n",
       "      <td>9.315526</td>\n",
       "    </tr>\n",
       "    <tr>\n",
       "      <th>64913</th>\n",
       "      <td>great and tasty product</td>\n",
       "      <td>9.319428</td>\n",
       "    </tr>\n",
       "    <tr>\n",
       "      <th>9084</th>\n",
       "      <td>as the other ones</td>\n",
       "      <td>9.601827</td>\n",
       "    </tr>\n",
       "    <tr>\n",
       "      <th>1136</th>\n",
       "      <td>after month</td>\n",
       "      <td>9.737856</td>\n",
       "    </tr>\n",
       "    <tr>\n",
       "      <th>15734</th>\n",
       "      <td>best price around</td>\n",
       "      <td>9.929518</td>\n",
       "    </tr>\n",
       "    <tr>\n",
       "      <th>52078</th>\n",
       "      <td>flavors but little</td>\n",
       "      <td>9.933617</td>\n",
       "    </tr>\n",
       "    <tr>\n",
       "      <th>2404</th>\n",
       "      <td>also no sugar</td>\n",
       "      <td>10.031661</td>\n",
       "    </tr>\n",
       "    <tr>\n",
       "      <th>45201</th>\n",
       "      <td>envirokidz</td>\n",
       "      <td>10.416258</td>\n",
       "    </tr>\n",
       "    <tr>\n",
       "      <th>45502</th>\n",
       "      <td>european style bread sort</td>\n",
       "      <td>10.695577</td>\n",
       "    </tr>\n",
       "    <tr>\n",
       "      <th>64794</th>\n",
       "      <td>great addon to</td>\n",
       "      <td>10.739170</td>\n",
       "    </tr>\n",
       "    <tr>\n",
       "      <th>11432</th>\n",
       "      <td>baked texture</td>\n",
       "      <td>11.092075</td>\n",
       "    </tr>\n",
       "    <tr>\n",
       "      <th>40813</th>\n",
       "      <td>dog gives</td>\n",
       "      <td>11.342806</td>\n",
       "    </tr>\n",
       "  </tbody>\n",
       "</table>\n",
       "<p>65452 rows × 2 columns</p>\n",
       "</div>"
      ],
      "text/plain": [
       "                              feature       coef\n",
       "58933                           gayle -18.300395\n",
       "22159                   but order was -15.527647\n",
       "64929                  great any time -14.661673\n",
       "46851            excellent quality my -13.741647\n",
       "48918                faulty packaging -12.432722\n",
       "60254                         glasses -11.989689\n",
       "225                    absolute worst -11.910354\n",
       "51611               flavor or produce -11.764256\n",
       "33673  could be misleading ingredient -11.681514\n",
       "54527                      for liquid -11.533751\n",
       "40863                dog if she quick -11.432853\n",
       "37106                del ginger snaps -11.129272\n",
       "61159                     good amount -10.973137\n",
       "47787            extremely satisified -10.758688\n",
       "33796                          coulda -10.684587\n",
       "56076                   for use while -10.650729\n",
       "55059             for outdoor roaches -10.502336\n",
       "17732         bites original beef dry -10.449121\n",
       "58398                       fuel dark -10.428875\n",
       "60053               give our cat more -10.176653\n",
       "32685                  content not as -10.041111\n",
       "33912          country choice oatmeal -10.014932\n",
       "60643                  gnawhide rings -10.008268\n",
       "45506                      evaluation  -9.907656\n",
       "58497          full of candied fruits  -9.625633\n",
       "10755          back ribs potato chips  -9.596062\n",
       "58172               fruit crisp tasty  -9.578170\n",
       "15371                   best marinara  -9.538442\n",
       "54986                       for older  -9.536811\n",
       "4794      and grossly overpriced read  -9.495271\n",
       "...                               ...        ...\n",
       "47913          fabulous osmanthus tea   7.816076\n",
       "24820          can pretzel taste this   7.823369\n",
       "32904             convenient when out   7.825229\n",
       "13123                      because of   7.868191\n",
       "43187                   dry sweetener   7.905761\n",
       "26731                      causes bad   7.969281\n",
       "36442              deal from the good   8.053235\n",
       "14942          best ginger candy ever   8.293031\n",
       "13116                   because it so   8.295613\n",
       "61716                good caviar good   8.338790\n",
       "20690              busting open while   8.547158\n",
       "26461              cats favorite food   8.590689\n",
       "39971                    distribution   8.743288\n",
       "10736                   back in italy   8.875953\n",
       "30461                  coco nuts with   8.882107\n",
       "7976             are yogurt flavor my   8.943597\n",
       "57330                  frenchies love   8.946751\n",
       "54063              for for people who   9.116223\n",
       "1018                      aerator set   9.315526\n",
       "64913         great and tasty product   9.319428\n",
       "9084                as the other ones   9.601827\n",
       "1136                      after month   9.737856\n",
       "15734               best price around   9.929518\n",
       "52078              flavors but little   9.933617\n",
       "2404                    also no sugar  10.031661\n",
       "45201                      envirokidz  10.416258\n",
       "45502       european style bread sort  10.695577\n",
       "64794                  great addon to  10.739170\n",
       "11432                   baked texture  11.092075\n",
       "40813                       dog gives  11.342806\n",
       "\n",
       "[65452 rows x 2 columns]"
      ]
     },
     "execution_count": 90,
     "metadata": {},
     "output_type": "execute_result"
    }
   ],
   "source": [
    "words = count_vect.get_feature_names()\n",
    "feature_coefs = pd.DataFrame(\n",
    "    data = list(zip(words, logreg.coef_[0])),\n",
    "    columns = ['feature', 'coef'])\n",
    "\n",
    "feature_coefs.sort_values(by='coef')"
   ]
  },
  {
   "cell_type": "code",
   "execution_count": 93,
   "metadata": {},
   "outputs": [
    {
     "name": "stdout",
     "output_type": "stream",
     "text": [
      "39997 items in training data, 10000 in test data\n"
     ]
    }
   ],
   "source": [
    "from sklearn.feature_extraction.text import CountVectorizer, TfidfTransformer\n",
    "from sklearn.model_selection import train_test_split\n",
    "import re\n",
    "import string\n",
    "import nltk\n",
    "\n",
    "cleanup_re = re.compile('[^a-z]+')\n",
    "def cleanup(sentence):\n",
    "    sentence = sentence.lower()\n",
    "    sentence = cleanup_re.sub(' ', sentence).strip()\n",
    "    #sentence = \" \".join(nltk.word_tokenize(sentence))\n",
    "    return sentence\n",
    "\n",
    "df[\"Summary_Clean\"] = df[\"Summary\"].apply(cleanup)\n",
    "\n",
    "train, test = train_test_split(df, test_size=0.2)\n",
    "print(\"%d items in training data, %d in test data\" % (len(train), len(test)))"
   ]
  },
  {
   "cell_type": "code",
   "execution_count": 94,
   "metadata": {
    "collapsed": true
   },
   "outputs": [],
   "source": [
    "from wordcloud import WordCloud, STOPWORDS\n",
    "\n",
    "# To cleanup stop words, add stop_words = STOPWORDS\n",
    "# But it seems to function better without it\n",
    "count_vect = CountVectorizer(min_df = 1, ngram_range = (1, 4))\n",
    "X_train_counts = count_vect.fit_transform(train[\"Summary_Clean\"])\n",
    "\n",
    "tfidf_transformer = TfidfTransformer()\n",
    "X_train_tfidf = tfidf_transformer.fit_transform(X_train_counts)\n",
    "\n",
    "X_new_counts = count_vect.transform(test[\"Summary_Clean\"])\n",
    "X_test_tfidf = tfidf_transformer.transform(X_new_counts)\n",
    "\n",
    "y_train = train[\"Sentiment\"]\n",
    "y_test = test[\"Sentiment\"]\n",
    "\n",
    "prediction = dict()"
   ]
  },
  {
   "cell_type": "code",
   "execution_count": 95,
   "metadata": {
    "collapsed": true
   },
   "outputs": [],
   "source": [
    "from sklearn.naive_bayes import BernoulliNB\n",
    "\n",
    "model = BernoulliNB().fit(X_train_tfidf, y_train)\n",
    "prediction['Bernoulli'] = model.predict(X_test_tfidf)"
   ]
  },
  {
   "cell_type": "code",
   "execution_count": 96,
   "metadata": {
    "collapsed": true
   },
   "outputs": [],
   "source": [
    "from sklearn.linear_model import LogisticRegression\n",
    "\n",
    "logreg = LogisticRegression(C=1e5)\n",
    "logreg_result = logreg.fit(X_train_tfidf, y_train)\n",
    "prediction['Logistic'] = logreg.predict(X_test_tfidf)"
   ]
  },
  {
   "cell_type": "code",
   "execution_count": 97,
   "metadata": {
    "collapsed": true
   },
   "outputs": [],
   "source": [
    "from sklearn.naive_bayes import MultinomialNB\n",
    "model = MultinomialNB().fit(X_train_tfidf, y_train)\n",
    "prediction['Multinomial'] = model.predict(X_test_tfidf)"
   ]
  },
  {
   "cell_type": "code",
   "execution_count": 98,
   "metadata": {},
   "outputs": [
    {
     "data": {
      "image/png": "[encoded data removed]",
      "text/plain": [
       "<matplotlib.figure.Figure at 0x10ea87400>"
      ]
     },
     "metadata": {},
     "output_type": "display_data"
    }
   ],
   "source": [
    "from sklearn.metrics import roc_curve, auc\n",
    "\n",
    "\n",
    "def formatt(x):\n",
    "    if x == 'negative':\n",
    "        return 0\n",
    "    return 1\n",
    "vfunc = np.vectorize(formatt)\n",
    "\n",
    "cmp = 0\n",
    "colors = ['b', 'g', 'y', 'm', 'k']\n",
    "for model, predicted in prediction.items():\n",
    "    false_positive_rate, true_positive_rate, thresholds = roc_curve(y_test.map(formatt), vfunc(predicted))\n",
    "    roc_auc = auc(false_positive_rate, true_positive_rate)\n",
    "    plt.plot(false_positive_rate, true_positive_rate, colors[cmp], label='%s: AUC %0.2f'% (model,roc_auc))\n",
    "    cmp += 1\n",
    "\n",
    "plt.title('Classifiers comparaison with ROC')\n",
    "plt.legend(loc='lower right')\n",
    "plt.plot([0,1],[0,1],'r--')\n",
    "plt.xlim([-0.1,1.2])\n",
    "plt.ylim([-0.1,1.2])\n",
    "plt.ylabel('True Positive Rate')\n",
    "plt.xlabel('False Positive Rate')\n",
    "plt.show()"
   ]
  },
  {
   "cell_type": "code",
   "execution_count": 99,
   "metadata": {},
   "outputs": [
    {
     "data": {
      "image/png": "[encoded data removed]",
      "text/plain": [
       "<matplotlib.figure.Figure at 0x11b9732b0>"
      ]
     },
     "metadata": {},
     "output_type": "display_data"
    },
    {
     "data": {
      "image/png": "[encoded data removed]",
      "text/plain": [
       "<matplotlib.figure.Figure at 0x12db3e2e8>"
      ]
     },
     "metadata": {},
     "output_type": "display_data"
    }
   ],
   "source": [
    "from sklearn.metrics import confusion_matrix\n",
    "\n",
    "def plot_confusion_matrix(cm, title='Confusion matrix', cmap=plt.cm.Blues, labels=[\"positive\", \"negative\"]):\n",
    "    plt.imshow(cm, interpolation='nearest', cmap=cmap)\n",
    "    plt.title(title)\n",
    "    plt.colorbar()\n",
    "    tick_marks = np.arange(len(labels))\n",
    "    plt.xticks(tick_marks, labels, rotation=45)\n",
    "    plt.yticks(tick_marks, labels)\n",
    "    plt.tight_layout()\n",
    "    plt.ylabel('True label')\n",
    "    plt.xlabel('Predicted label')\n",
    "    \n",
    "# Compute confusion matrix\n",
    "cm = confusion_matrix(y_test, prediction['Logistic'])\n",
    "np.set_printoptions(precision=2)\n",
    "plt.figure()\n",
    "plot_confusion_matrix(cm)    \n",
    "\n",
    "cm_normalized = cm.astype('float') / cm.sum(axis=1)[:, np.newaxis]\n",
    "plt.figure()\n",
    "plot_confusion_matrix(cm_normalized, title='Normalized confusion matrix')\n",
    "plt.show()"
   ]
  },
  {
   "cell_type": "code",
   "execution_count": 100,
   "metadata": {},
   "outputs": [
    {
     "name": "stdout",
     "output_type": "stream",
     "text": [
      "Sample estimated as POSITIVE: negative prob 0.076792, positive prob 0.923208\n",
      "Sample estimated as NEGATIVE: negative prob 0.999974, positive prob 0.000026\n",
      "Sample estimated as NEGATIVE: negative prob 0.999186, positive prob 0.000814\n"
     ]
    }
   ],
   "source": [
    "def test_sample(model, sample):\n",
    "    sample_counts = count_vect.transform([sample])\n",
    "    sample_tfidf = tfidf_transformer.transform(sample_counts)\n",
    "    result = model.predict(sample_tfidf)[0]\n",
    "    prob = model.predict_proba(sample_tfidf)[0]\n",
    "    print(\"Sample estimated as %s: negative prob %f, positive prob %f\" % (result.upper(), prob[0], prob[1]))\n",
    "\n",
    "test_sample(logreg, \"The food was delicious, it smelled great and the taste was awesome\")\n",
    "test_sample(logreg, \"The whole experience was horrible. The smell was so bad that it literally made me sick.\")\n",
    "test_sample(logreg, \"The food was ok, I guess. The smell wasn't very good, but the taste was ok.\")"
   ]
  },
  {
   "cell_type": "markdown",
   "metadata": {},
   "source": [
    "Example of the POSITIVE and NEGATIVE result is shown above using the TEXT value of the dataset. negative probability for the first sentense is 0.01 and Positive probability is 0.98 which clearly shows that product review is positive and product is good. Same for the second example, positive prob is 0.002 and Negative prob is 0.999 which shows that second product is really bad and not suggested by any of the users."
   ]
  },
  {
   "cell_type": "code",
   "execution_count": 104,
   "metadata": {},
   "outputs": [
    {
     "name": "stdout",
     "output_type": "stream",
     "text": [
      "# features: 4376\n",
      "# train records: 348\n",
      "# test records: 116\n",
      "Model Accuracy: 0.5603448275862069\n",
      "\n",
      "-Top 20 positive-\n",
      "Coefficient         Word\n",
      "   0.799758           ve\n",
      "   0.758751         make\n",
      "   0.689269       ginger\n",
      "   0.670242       bitter\n",
      "   0.648299        blend\n",
      "   0.622578         dogs\n",
      "   0.583257    wonderful\n",
      "   0.578314          oil\n",
      "   0.577700      protein\n",
      "   0.576293      flavors\n",
      "   0.572408         need\n",
      "   0.571506          try\n",
      "   0.554236      cookies\n",
      "   0.552134        light\n",
      "   0.549020         milk\n",
      "   0.545444   definitely\n",
      "   0.532131      tasting\n",
      "   0.529806      quality\n",
      "   0.527937  ingredients\n",
      "   0.525333      regular\n",
      "\n",
      "-Top 20 negative-\n",
      "Coefficient       Word\n",
      "  -0.408963     priced\n",
      "  -0.410372     easier\n",
      "  -0.424496       know\n",
      "  -0.436274      guess\n",
      "  -0.445096       life\n",
      "  -0.455009     highly\n",
      "  -0.467618  recommend\n",
      "  -0.477904      packs\n",
      "  -0.514334       list\n",
      "  -0.516429      early\n",
      "  -0.521031      drink\n",
      "  -0.555607     amazon\n",
      "  -0.556803      syrup\n",
      "  -0.603119     stores\n",
      "  -0.605142    waiting\n",
      "  -0.625885  delivered\n",
      "  -0.645629       cans\n",
      "  -0.663481     office\n",
      "  -0.715831    awesome\n",
      "  -0.773678     smooth\n"
     ]
    }
   ],
   "source": [
    "c = CountVectorizer(stop_words = 'english')\n",
    "\n",
    "text_fit(X_u, y_u, c, LogisticRegression())"
   ]
  },
  {
   "cell_type": "code",
   "execution_count": 105,
   "metadata": {},
   "outputs": [
    {
     "name": "stdout",
     "output_type": "stream",
     "text": [
      "# features: 19218\n",
      "# train records: 348\n",
      "# test records: 116\n",
      "Model Accuracy: 0.603448275862069\n",
      "\n",
      "-Top 20 positive-\n",
      "Coefficient          Word\n",
      "   0.575400            ve\n",
      "   0.518527          milk\n",
      "   0.512808          make\n",
      "   0.479241        ginger\n",
      "   0.471903          food\n",
      "   0.459899           cat\n",
      "   0.444517           dog\n",
      "   0.417989          dogs\n",
      "   0.407911         tried\n",
      "   0.380999   ingredients\n",
      "   0.376463        flavor\n",
      "   0.373451       flavors\n",
      "   0.371083         light\n",
      "   0.355310        little\n",
      "   0.354241           oil\n",
      "   0.348994       quality\n",
      "   0.345226          need\n",
      "   0.328104     wonderful\n",
      "   0.327364  best tasting\n",
      "   0.323748       tasting\n",
      "\n",
      "-Top 20 negative-\n",
      "Coefficient       Word\n",
      "  -0.237391  ice cream\n",
      "  -0.244588     steaks\n",
      "  -0.244874      br br\n",
      "  -0.245716   enjoying\n",
      "  -0.247453       life\n",
      "  -0.247937       item\n",
      "  -0.248063     skinny\n",
      "  -0.250378     course\n",
      "  -0.272275       know\n",
      "  -0.273472     highly\n",
      "  -0.273869      syrup\n",
      "  -0.274769      early\n",
      "  -0.283887  delivered\n",
      "  -0.304472     office\n",
      "  -0.304493      drink\n",
      "  -0.329209     smooth\n",
      "  -0.331881      order\n",
      "  -0.338894    waiting\n",
      "  -0.413260    awesome\n",
      "  -0.438727       cans\n"
     ]
    }
   ],
   "source": [
    "tfidf_n = TfidfVectorizer(ngram_range=(1,2),stop_words = 'english')\n",
    "\n",
    "text_fit(X_u, y_u, tfidf_n, LogisticRegression())"
   ]
  },
  {
   "cell_type": "code",
   "execution_count": 106,
   "metadata": {},
   "outputs": [
    {
     "name": "stdout",
     "output_type": "stream",
     "text": [
      "Downvote score 5 comments examples:\n",
      "845      I thank that the French  vanilla cappuccino  i...\n",
      "5156     It took two or three cans, but I love these no...\n",
      "9270     cook for all recipes and for everyday re-heati...\n",
      "15389    Non-GE - \"GE\" stands for genetic engineering a...\n",
      "19342    My daughter is away at bording shcool and loiv...\n",
      "Name: Text, dtype: object\n",
      "Upvote score 5 comments examples\n",
      "5245     If you haven't tried this chili powder yet, yo...\n",
      "21564    You might think pasta is pasta, but no.  This ...\n",
      "45445    Is Wellness relatively expensive? Yes. Is it w...\n",
      "21641    I fell in love with Jamaica Blue Mountain coff...\n",
      "3009     I have 2 cats and this has been their fav for ...\n",
      "Name: Text, dtype: object\n"
     ]
    }
   ],
   "source": [
    "print('Downvote score 5 comments examples:')\n",
    "print(under_sample_data[under_sample_data['% Upvote']==0]['Text'].iloc[:100:20])\n",
    "print('Upvote score 5 comments examples')\n",
    "print(under_sample_data[under_sample_data['% Upvote']==1]['Text'].iloc[:100:20])"
   ]
  },
  {
   "cell_type": "code",
   "execution_count": 107,
   "metadata": {},
   "outputs": [
    {
     "name": "stdout",
     "output_type": "stream",
     "text": [
      "Logistic Regression accuracy: 0.5689655172413793\n",
      "SVM accuracy: 0.5172413793103449\n"
     ]
    }
   ],
   "source": [
    "X_train, X_test, y_train, y_test = train_test_split(X_num, y_num, random_state=0)\n",
    "\n",
    "clf_lr = LogisticRegression().fit(X_train, y_train)\n",
    "acc_lr = clf_lr.score(X_test, y_test)\n",
    "print('Logistic Regression accuracy: {}'.format(acc_lr))\n",
    "\n",
    "clf_svm = svm.SVC().fit(X_train, y_train)\n",
    "acc_svm = clf_svm.score(X_test, y_test)\n",
    "print('SVM accuracy: {}'.format(acc_svm))"
   ]
  },
  {
   "cell_type": "code",
   "execution_count": 108,
   "metadata": {},
   "outputs": [
    {
     "name": "stdout",
     "output_type": "stream",
     "text": [
      "                                                       Prediction count  \\\n",
      "UserId         ProfileName                                                \n",
      "A1YUL9PCJR3JTY O. Brown \"Ms. O. Khannah-Brown\"                       41   \n",
      "AY12DBB0U420B  Gary Peterson                                         38   \n",
      "A3OXHLG6DIBRW8 C. F. Hill \"CFH\"                                      38   \n",
      "A281NPSIMI1C2R Rebecca of Amazon \"The Rebecca Review\"                32   \n",
      "A1Z54EM24Y40LL c2                                                    28   \n",
      "A3TVZM3ZIXG8YW christopher hayes                                     22   \n",
      "AKMEY1BSHSDG7  J. Arena                                              20   \n",
      "A3D6OI36USYOU1 Ghenghis                                              20   \n",
      "A31N6KB160O508 Fran W.                                               20   \n",
      "A1TMAVN4CEM8U8 Gunner                                                18   \n",
      "\n",
      "                                                       Prediction mean  \n",
      "UserId         ProfileName                                              \n",
      "A1YUL9PCJR3JTY O. Brown \"Ms. O. Khannah-Brown\"                4.414634  \n",
      "AY12DBB0U420B  Gary Peterson                                  4.605263  \n",
      "A3OXHLG6DIBRW8 C. F. Hill \"CFH\"                               4.552632  \n",
      "A281NPSIMI1C2R Rebecca of Amazon \"The Rebecca Review\"         4.968750  \n",
      "A1Z54EM24Y40LL c2                                             4.535714  \n",
      "A3TVZM3ZIXG8YW christopher hayes                              1.000000  \n",
      "AKMEY1BSHSDG7  J. Arena                                       4.900000  \n",
      "A3D6OI36USYOU1 Ghenghis                                       4.400000  \n",
      "A31N6KB160O508 Fran W.                                        4.500000  \n",
      "A1TMAVN4CEM8U8 Gunner                                         4.833333  \n"
     ]
    }
   ],
   "source": [
    "df_user = odf.groupby(['UserId', 'ProfileName']).agg({'Prediction':['count', 'mean']})\n",
    "df_user.columns = df_user.columns.get_level_values(1)\n",
    "df_user.columns = ['Prediction count', 'Prediction mean']\n",
    "df_user = df_user.sort_values(by = 'Prediction count', ascending = False)\n",
    "print(df_user.head(10))"
   ]
  },
  {
   "cell_type": "code",
   "execution_count": 109,
   "metadata": {},
   "outputs": [
    {
     "name": "stdout",
     "output_type": "stream",
     "text": [
      "Sample estimated as NEGATIVE: negative prob 0.558326, positive prob 0.441674\n"
     ]
    }
   ],
   "source": [
    "test_sample(logreg, \"The smell reminded me of ammonia\")"
   ]
  },
  {
   "cell_type": "code",
   "execution_count": 111,
   "metadata": {},
   "outputs": [
    {
     "name": "stderr",
     "output_type": "stream",
     "text": [
      "/Users/user/anaconda3/lib/python3.6/site-packages/ipykernel_launcher.py:11: SettingWithCopyWarning: \n",
      "A value is trying to be set on a copy of a slice from a DataFrame.\n",
      "Try using .loc[row_indexer,col_indexer] = value instead\n",
      "\n",
      "See the caveats in the documentation: http://pandas.pydata.org/pandas-docs/stable/indexing.html#indexing-view-versus-copy\n",
      "  # This is added back by InteractiveShellApp.init_path()\n"
     ]
    },
    {
     "data": {
      "text/plain": [
       "0    I got them in a very timely manner and theyre ...\n",
       "1    McCanns Steel Cut Oatmeal is the perfect break...\n",
       "2    I would recommend it Quality pearls and a few ...\n",
       "3    I have to admit I first purchased these Hazeln...\n",
       "Name: Text, dtype: object"
      ]
     },
     "execution_count": 111,
     "metadata": {},
     "output_type": "execute_result"
    }
   ],
   "source": [
    "#remove punctuation\n",
    "import unicodedata\n",
    "import sys\n",
    "\n",
    "df1 = df.iloc[:, [4,5,6,9]]\n",
    "tbl = dict.fromkeys(i for i in range(sys.maxunicode)\n",
    "                      if unicodedata.category(chr(i)).startswith('P'))\n",
    "def remove_punctuation(text):\n",
    "    return text.translate(tbl)\n",
    "\n",
    "df1['Text']=df1['Text'].apply( lambda x: remove_punctuation(x))\n",
    "df1[\"Text\"].head(4)"
   ]
  },
  {
   "cell_type": "code",
   "execution_count": 113,
   "metadata": {},
   "outputs": [
    {
     "name": "stdout",
     "output_type": "stream",
     "text": [
      "Prediction 1 reviews most popular 2-gram / 3-gram:\n",
      "    Count Occur %                                Phrase\n",
      "0     4.0   80.0%               (monosodium, glutamate)\n",
      "1     3.0   60.0%                          (like, salt)\n",
      "63    2.0   40.0%                          (real, food)\n",
      "73    2.0   40.0%                        (water, taste)\n",
      "72    2.0   40.0%  (would, manufacturers, deliberately)\n",
      "71    2.0   40.0%                           (use, real)\n",
      "70    2.0   40.0%                           (msg, like)\n",
      "69    2.0   40.0%                         (since, look)\n",
      "68    2.0   40.0%                   (well, know, study)\n",
      "67    2.0   40.0%                 (read, contain, much)\n",
      "66    2.0   40.0%    (customers, monosodium, glutamate)\n",
      "65    2.0   40.0%          (receive, consumers, really)\n",
      "64    2.0   40.0%                    (sound, delicious)\n",
      "62    2.0   40.0%                          (well, know)\n",
      "61    2.0   40.0%         (much, monosodium, glutamate)\n",
      "60    2.0   40.0%             (consumers, really, want)\n",
      "59    2.0   40.0%                      (look, terrific)\n",
      "58    2.0   40.0%                         (soup, since)\n",
      "57    2.0   40.0%                 (excellent, n't, buy)\n",
      "56    2.0   40.0%         (ingredients, excellent, n't)\n",
      "55    2.0   40.0%                      (use, msg, like)\n",
      "54    2.0   40.0%               (delicious, nutritious)\n",
      "53    2.0   40.0%         (look, terrific, ingredients)\n",
      "52    2.0   40.0%                            (use, msg)\n",
      "74    2.0   40.0%         (delicious, nutritious, read)\n",
      "75    2.0   40.0%                    (glutamate, would)\n",
      "76    2.0   40.0%        (sound, delicious, nutritious)\n",
      "77    2.0   40.0%                (keep, product, tasty)\n",
      "98    2.0   40.0%                           (buy, stop)\n",
      "97    2.0   40.0%                  (real, food, flavor)\n",
      "..    ...     ...                                   ...\n",
      "5     2.0   40.0%                (tasty, well, receive)\n",
      "4     2.0   40.0%                            (n't, use)\n",
      "3     2.0   40.0%                   (really, want, try)\n",
      "2     2.0   40.0%                         (try, poison)\n",
      "23    2.0   40.0%                       (well, receive)\n",
      "25    2.0   40.0%                        (flavor, keep)\n",
      "48    2.0   40.0%                            (..., ...)\n",
      "26    2.0   40.0%                    (much, monosodium)\n",
      "47    2.0   40.0%        (monosodium, glutamate, would)\n",
      "46    2.0   40.0%                      (n't, use, real)\n",
      "45    2.0   40.0%                   (hormel, compleats)\n",
      "44    2.0   40.0%                      (excellent, n't)\n",
      "43    2.0   40.0%              (study, neurotoxin, n't)\n",
      "42    2.0   40.0%                       (contain, much)\n",
      "41    2.0   40.0%              (ingredients, excellent)\n",
      "40    2.0   40.0%               (flavor, keep, product)\n",
      "39    2.0   40.0%                         (soup, sound)\n",
      "38    2.0   40.0%                  (receive, consumers)\n",
      "37    2.0   40.0%                   (soup, since, look)\n",
      "36    2.0   40.0%                     (neurotoxin, n't)\n",
      "35    2.0   40.0%              (try, poison, customers)\n",
      "34    2.0   40.0%                     (glutamate, well)\n",
      "33    2.0   40.0%                           (want, try)\n",
      "32    2.0   40.0%           (contain, much, monosodium)\n",
      "31    2.0   40.0%                         (know, study)\n",
      "30    2.0   40.0%                         (tasty, well)\n",
      "29    2.0   40.0%                     (msg, like, salt)\n",
      "28    2.0   40.0%               (glutamate, well, know)\n",
      "27    2.0   40.0%           (deliberately, try, poison)\n",
      "99    2.0   40.0%                      (product, tasty)\n",
      "\n",
      "[100 rows x 3 columns]\n",
      "Prediction 2 reviews most popular 2-gram / 3-gram:\n",
      "     Count Occur %                          Phrase\n",
      "0      2.0  100.0%            (sauce, ruin, whole)\n",
      "2      2.0  100.0%                   (ruin, whole)\n",
      "1      2.0  100.0%                   (sauce, ruin)\n",
      "156    1.0   50.0%                    (.give, try)\n",
      "107    1.0   50.0%  (delicious, complete, package)\n",
      "100    1.0   50.0%              (whole, roll, n't)\n",
      "101    1.0   50.0%        (two, treatments, would)\n",
      "102    1.0   50.0%   (tender, delicious, complete)\n",
      "103    1.0   50.0%            (product, ever, may)\n",
      "104    1.0   50.0%             (complete, package)\n",
      "105    1.0   50.0%       (flavor, black, cherries)\n",
      "106    1.0   50.0%             (taste, sauce, ...)\n",
      "108    1.0   50.0%                 (..., 'blahhhh)\n",
      "117    1.0   50.0%               (two, treatments)\n",
      "109    1.0   50.0%               (use, later, two)\n",
      "110    1.0   50.0%            (instead, make, pie)\n",
      "111    1.0   50.0%                 (deserve, even)\n",
      "112    1.0   50.0%                   (decide, use)\n",
      "113    1.0   50.0%         (desert, instead, make)\n",
      "114    1.0   50.0%              (.give, try, like)\n",
      "115    1.0   50.0%             (tender, delicious)\n",
      "99     1.0   50.0%                     (make, pie)\n",
      "98     1.0   50.0%            (highest, rat, feel)\n",
      "97     1.0   50.0%               (desert, highest)\n",
      "96     1.0   50.0%               (desert, instead)\n",
      "81     1.0   50.0%           (apply, awful, sauce)\n",
      "82     1.0   50.0%         (..., .goodness, sauce)\n",
      "83     1.0   50.0%                  (eat, staight)\n",
      "84     1.0   50.0%            (firm, mushy, taste)\n",
      "85     1.0   50.0%                     (pour, ice)\n",
      "..     ...     ...                             ...\n",
      "67     1.0   50.0%               (ever, may, like)\n",
      "69     1.0   50.0%                     (may, like)\n",
      "41     1.0   50.0%          (like, please, flavor)\n",
      "70     1.0   50.0%                    (use, later)\n",
      "71     1.0   50.0%        (flavor, instead, apply)\n",
      "72     1.0   50.0%                 (cherries, ...)\n",
      "73     1.0   50.0%                     (rat, feel)\n",
      "74     1.0   50.0%              (get, wrong, meat)\n",
      "75     1.0   50.0%          (experience, n't, buy)\n",
      "76     1.0   50.0%                (instead, apply)\n",
      "60     1.0   50.0%         (cherries, sweet, tart)\n",
      "59     1.0   50.0%            (guess, look, steak)\n",
      "58     1.0   50.0%               (make, pie, pour)\n",
      "57     1.0   50.0%        (complete, package, ...)\n",
      "42     1.0   50.0%                (cheese, flavor)\n",
      "43     1.0   50.0%                 (steak, cheese)\n",
      "44     1.0   50.0%      (buy, particular, product)\n",
      "45     1.0   50.0%            (like, taste, sauce)\n",
      "46     1.0   50.0%           (feel, deserve, even)\n",
      "47     1.0   50.0%        (cherries, ..., blahhhh)\n",
      "48     1.0   50.0%               (buy, particular)\n",
      "49     1.0   50.0%      (staight, desert, instead)\n",
      "50     1.0   50.0%                (cheese, spring)\n",
      "51     1.0   50.0%                  (even, though)\n",
      "52     1.0   50.0%                   (like, taste)\n",
      "53     1.0   50.0%             (sauce, ..., .give)\n",
      "54     1.0   50.0%          (cheese, spring, roll)\n",
      "55     1.0   50.0%                   (buy, desert)\n",
      "56     1.0   50.0%                   (firm, mushy)\n",
      "157    1.0   50.0%                  (taste, sauce)\n",
      "\n",
      "[158 rows x 3 columns]\n",
      "Prediction 3 reviews most popular 2-gram / 3-gram:\n",
      "     Count Occur %                      Phrase\n",
      "0      2.0  200.0%                  (..., ...)\n",
      "1      2.0  200.0%                (whole, lot)\n",
      "111    1.0  100.0%                (rack, lamb)\n",
      "70     1.0  100.0%         (fatty, horrendous)\n",
      "81     1.0  100.0%    (taste, terrific, whole)\n",
      "80     1.0  100.0%              (grease, come)\n",
      "79     1.0  100.0%      (really, nasty, fatty)\n",
      "78     1.0  100.0%      (terrific, whole, lot)\n",
      "77     1.0  100.0%       (lot, meat, chaulked)\n",
      "76     1.0  100.0%      (amount, grease, come)\n",
      "75     1.0  100.0%         (great, unhealthly)\n",
      "74     1.0  100.0%              (year, really)\n",
      "73     1.0  100.0%                (year, ever)\n",
      "72     1.0  100.0%            (..., ..., year)\n",
      "71     1.0  100.0%             (lamb, product)\n",
      "69     1.0  100.0%                 (let, rest)\n",
      "83     1.0  100.0%             (deadly, treat)\n",
      "68     1.0  100.0%          (rest, rack, cook)\n",
      "67     1.0  100.0%                 (ever, buy)\n",
      "66     1.0  100.0%  (nasty, fatty, horrendous)\n",
      "65     1.0  100.0%     (rub, plaster, wayyyyy)\n",
      "64     1.0  100.0%                 (clam, ...)\n",
      "63     1.0  100.0%             (really, nasty)\n",
      "62     1.0  100.0%    (cook, could, eliminate)\n",
      "61     1.0  100.0%           (year, ever, buy)\n",
      "60     1.0  100.0%              (nasty, fatty)\n",
      "59     1.0  100.0%               (cook, could)\n",
      "58     1.0  100.0%             (grease, whole)\n",
      "82     1.0  100.0%        (deadly, treat, eat)\n",
      "84     1.0  100.0%     (fatty, amount, grease)\n",
      "..     ...     ...                         ...\n",
      "2      1.0  100.0%     (grease, come, astound)\n",
      "26     1.0  100.0%    (meat, chaulked, really)\n",
      "28     1.0  100.0%        (unhealthly, ingest)\n",
      "54     1.0  100.0%            (clam, ..., ...)\n",
      "42     1.0  100.0%               (lot, herbal)\n",
      "53     1.0  100.0%      (really, taste, great)\n",
      "52     1.0  100.0%              (year, deadly)\n",
      "51     1.0  100.0%          (usually, reserve)\n",
      "50     1.0  100.0%        (lot, grease, whole)\n",
      "49     1.0  100.0%                (treat, eat)\n",
      "48     1.0  100.0%           (treat, eat, fry)\n",
      "47     1.0  100.0%              (astound, let)\n",
      "46     1.0  100.0%             (really, taste)\n",
      "45     1.0  100.0%  (recommend, lamb, product)\n",
      "44     1.0  100.0%               (meal, allow)\n",
      "43     1.0  100.0%          (meal, allow, eat)\n",
      "41     1.0  100.0%       (year, deadly, treat)\n",
      "29     1.0  100.0%            (fry, clam, ...)\n",
      "40     1.0  100.0%           (taste, terrific)\n",
      "39     1.0  100.0%             (reserve, year)\n",
      "38     1.0  100.0%         (cook, beautifully)\n",
      "37     1.0  100.0%   (fatty, horrendous, meal)\n",
      "36     1.0  100.0%            (meat, chaulked)\n",
      "35     1.0  100.0%              (rub, plaster)\n",
      "34     1.0  100.0%         (rack, cook, could)\n",
      "33     1.0  100.0%   (chaulked, really, nasty)\n",
      "32     1.0  100.0%      (ever, buy, recommend)\n",
      "31     1.0  100.0%   (plaster, wayyyyy, fatty)\n",
      "30     1.0  100.0%          (allow, eat, year)\n",
      "112    1.0  100.0%                (rest, rack)\n",
      "\n",
      "[113 rows x 3 columns]\n",
      "Prediction 4 reviews most popular 2-gram / 3-gram:\n"
     ]
    },
    {
     "ename": "KeyError",
     "evalue": "'Count'",
     "output_type": "error",
     "traceback": [
      "\u001b[0;31m---------------------------------------------------------------------------\u001b[0m",
      "\u001b[0;31mKeyError\u001b[0m                                  Traceback (most recent call last)",
      "\u001b[0;32m~/anaconda3/lib/python3.6/site-packages/pandas/core/indexes/base.py\u001b[0m in \u001b[0;36mget_loc\u001b[0;34m(self, key, method, tolerance)\u001b[0m\n\u001b[1;32m   2441\u001b[0m             \u001b[0;32mtry\u001b[0m\u001b[0;34m:\u001b[0m\u001b[0;34m\u001b[0m\u001b[0m\n\u001b[0;32m-> 2442\u001b[0;31m                 \u001b[0;32mreturn\u001b[0m \u001b[0mself\u001b[0m\u001b[0;34m.\u001b[0m\u001b[0m_engine\u001b[0m\u001b[0;34m.\u001b[0m\u001b[0mget_loc\u001b[0m\u001b[0;34m(\u001b[0m\u001b[0mkey\u001b[0m\u001b[0;34m)\u001b[0m\u001b[0;34m\u001b[0m\u001b[0m\n\u001b[0m\u001b[1;32m   2443\u001b[0m             \u001b[0;32mexcept\u001b[0m \u001b[0mKeyError\u001b[0m\u001b[0;34m:\u001b[0m\u001b[0;34m\u001b[0m\u001b[0m\n",
      "\u001b[0;32mpandas/_libs/index.pyx\u001b[0m in \u001b[0;36mpandas._libs.index.IndexEngine.get_loc\u001b[0;34m()\u001b[0m\n",
      "\u001b[0;32mpandas/_libs/index.pyx\u001b[0m in \u001b[0;36mpandas._libs.index.IndexEngine.get_loc\u001b[0;34m()\u001b[0m\n",
      "\u001b[0;32mpandas/_libs/hashtable_class_helper.pxi\u001b[0m in \u001b[0;36mpandas._libs.hashtable.PyObjectHashTable.get_item\u001b[0;34m()\u001b[0m\n",
      "\u001b[0;32mpandas/_libs/hashtable_class_helper.pxi\u001b[0m in \u001b[0;36mpandas._libs.hashtable.PyObjectHashTable.get_item\u001b[0;34m()\u001b[0m\n",
      "\u001b[0;31mKeyError\u001b[0m: 'Count'",
      "\nDuring handling of the above exception, another exception occurred:\n",
      "\u001b[0;31mKeyError\u001b[0m                                  Traceback (most recent call last)",
      "\u001b[0;32m<ipython-input-113-68c5f9c9bd50>\u001b[0m in \u001b[0;36m<module>\u001b[0;34m()\u001b[0m\n\u001b[1;32m     39\u001b[0m     \u001b[0;32mfor\u001b[0m \u001b[0mi\u001b[0m \u001b[0;32min\u001b[0m \u001b[0md\u001b[0m\u001b[0;34m:\u001b[0m\u001b[0;34m\u001b[0m\u001b[0m\n\u001b[1;32m     40\u001b[0m         \u001b[0mtest\u001b[0m \u001b[0;34m=\u001b[0m \u001b[0mtest\u001b[0m\u001b[0;34m.\u001b[0m\u001b[0mappend\u001b[0m\u001b[0;34m(\u001b[0m\u001b[0mpd\u001b[0m\u001b[0;34m.\u001b[0m\u001b[0mSeries\u001b[0m\u001b[0;34m(\u001b[0m\u001b[0mi\u001b[0m\u001b[0;34m,\u001b[0m \u001b[0mindex\u001b[0m \u001b[0;34m=\u001b[0m \u001b[0mindex\u001b[0m\u001b[0;34m)\u001b[0m\u001b[0;34m,\u001b[0m \u001b[0mignore_index\u001b[0m \u001b[0;34m=\u001b[0m \u001b[0;32mTrue\u001b[0m\u001b[0;34m)\u001b[0m\u001b[0;34m\u001b[0m\u001b[0m\n\u001b[0;32m---> 41\u001b[0;31m     \u001b[0mtest\u001b[0m \u001b[0;34m=\u001b[0m \u001b[0mtest\u001b[0m\u001b[0;34m.\u001b[0m\u001b[0msort_values\u001b[0m\u001b[0;34m(\u001b[0m\u001b[0;34m'Count'\u001b[0m\u001b[0;34m,\u001b[0m \u001b[0mascending\u001b[0m\u001b[0;34m=\u001b[0m\u001b[0;32mFalse\u001b[0m\u001b[0;34m)\u001b[0m\u001b[0;34m\u001b[0m\u001b[0m\n\u001b[0m\u001b[1;32m     42\u001b[0m     \u001b[0mprint\u001b[0m\u001b[0;34m(\u001b[0m\u001b[0mtest\u001b[0m\u001b[0;34m)\u001b[0m\u001b[0;34m\u001b[0m\u001b[0m\n",
      "\u001b[0;32m~/anaconda3/lib/python3.6/site-packages/pandas/core/frame.py\u001b[0m in \u001b[0;36msort_values\u001b[0;34m(self, by, axis, ascending, inplace, kind, na_position)\u001b[0m\n\u001b[1;32m   3184\u001b[0m \u001b[0;34m\u001b[0m\u001b[0m\n\u001b[1;32m   3185\u001b[0m             \u001b[0mby\u001b[0m \u001b[0;34m=\u001b[0m \u001b[0mby\u001b[0m\u001b[0;34m[\u001b[0m\u001b[0;36m0\u001b[0m\u001b[0;34m]\u001b[0m\u001b[0;34m\u001b[0m\u001b[0m\n\u001b[0;32m-> 3186\u001b[0;31m             \u001b[0mk\u001b[0m \u001b[0;34m=\u001b[0m \u001b[0mself\u001b[0m\u001b[0;34m.\u001b[0m\u001b[0mxs\u001b[0m\u001b[0;34m(\u001b[0m\u001b[0mby\u001b[0m\u001b[0;34m,\u001b[0m \u001b[0maxis\u001b[0m\u001b[0;34m=\u001b[0m\u001b[0mother_axis\u001b[0m\u001b[0;34m)\u001b[0m\u001b[0;34m.\u001b[0m\u001b[0mvalues\u001b[0m\u001b[0;34m\u001b[0m\u001b[0m\n\u001b[0m\u001b[1;32m   3187\u001b[0m             \u001b[0;32mif\u001b[0m \u001b[0mk\u001b[0m\u001b[0;34m.\u001b[0m\u001b[0mndim\u001b[0m \u001b[0;34m==\u001b[0m \u001b[0;36m2\u001b[0m\u001b[0;34m:\u001b[0m\u001b[0;34m\u001b[0m\u001b[0m\n\u001b[1;32m   3188\u001b[0m \u001b[0;34m\u001b[0m\u001b[0m\n",
      "\u001b[0;32m~/anaconda3/lib/python3.6/site-packages/pandas/core/generic.py\u001b[0m in \u001b[0;36mxs\u001b[0;34m(self, key, axis, level, drop_level)\u001b[0m\n\u001b[1;32m   2021\u001b[0m \u001b[0;34m\u001b[0m\u001b[0m\n\u001b[1;32m   2022\u001b[0m         \u001b[0;32mif\u001b[0m \u001b[0maxis\u001b[0m \u001b[0;34m==\u001b[0m \u001b[0;36m1\u001b[0m\u001b[0;34m:\u001b[0m\u001b[0;34m\u001b[0m\u001b[0m\n\u001b[0;32m-> 2023\u001b[0;31m             \u001b[0;32mreturn\u001b[0m \u001b[0mself\u001b[0m\u001b[0;34m[\u001b[0m\u001b[0mkey\u001b[0m\u001b[0;34m]\u001b[0m\u001b[0;34m\u001b[0m\u001b[0m\n\u001b[0m\u001b[1;32m   2024\u001b[0m \u001b[0;34m\u001b[0m\u001b[0m\n\u001b[1;32m   2025\u001b[0m         \u001b[0mself\u001b[0m\u001b[0;34m.\u001b[0m\u001b[0m_consolidate_inplace\u001b[0m\u001b[0;34m(\u001b[0m\u001b[0;34m)\u001b[0m\u001b[0;34m\u001b[0m\u001b[0m\n",
      "\u001b[0;32m~/anaconda3/lib/python3.6/site-packages/pandas/core/frame.py\u001b[0m in \u001b[0;36m__getitem__\u001b[0;34m(self, key)\u001b[0m\n\u001b[1;32m   1962\u001b[0m             \u001b[0;32mreturn\u001b[0m \u001b[0mself\u001b[0m\u001b[0;34m.\u001b[0m\u001b[0m_getitem_multilevel\u001b[0m\u001b[0;34m(\u001b[0m\u001b[0mkey\u001b[0m\u001b[0;34m)\u001b[0m\u001b[0;34m\u001b[0m\u001b[0m\n\u001b[1;32m   1963\u001b[0m         \u001b[0;32melse\u001b[0m\u001b[0;34m:\u001b[0m\u001b[0;34m\u001b[0m\u001b[0m\n\u001b[0;32m-> 1964\u001b[0;31m             \u001b[0;32mreturn\u001b[0m \u001b[0mself\u001b[0m\u001b[0;34m.\u001b[0m\u001b[0m_getitem_column\u001b[0m\u001b[0;34m(\u001b[0m\u001b[0mkey\u001b[0m\u001b[0;34m)\u001b[0m\u001b[0;34m\u001b[0m\u001b[0m\n\u001b[0m\u001b[1;32m   1965\u001b[0m \u001b[0;34m\u001b[0m\u001b[0m\n\u001b[1;32m   1966\u001b[0m     \u001b[0;32mdef\u001b[0m \u001b[0m_getitem_column\u001b[0m\u001b[0;34m(\u001b[0m\u001b[0mself\u001b[0m\u001b[0;34m,\u001b[0m \u001b[0mkey\u001b[0m\u001b[0;34m)\u001b[0m\u001b[0;34m:\u001b[0m\u001b[0;34m\u001b[0m\u001b[0m\n",
      "\u001b[0;32m~/anaconda3/lib/python3.6/site-packages/pandas/core/frame.py\u001b[0m in \u001b[0;36m_getitem_column\u001b[0;34m(self, key)\u001b[0m\n\u001b[1;32m   1969\u001b[0m         \u001b[0;31m# get column\u001b[0m\u001b[0;34m\u001b[0m\u001b[0;34m\u001b[0m\u001b[0m\n\u001b[1;32m   1970\u001b[0m         \u001b[0;32mif\u001b[0m \u001b[0mself\u001b[0m\u001b[0;34m.\u001b[0m\u001b[0mcolumns\u001b[0m\u001b[0;34m.\u001b[0m\u001b[0mis_unique\u001b[0m\u001b[0;34m:\u001b[0m\u001b[0;34m\u001b[0m\u001b[0m\n\u001b[0;32m-> 1971\u001b[0;31m             \u001b[0;32mreturn\u001b[0m \u001b[0mself\u001b[0m\u001b[0;34m.\u001b[0m\u001b[0m_get_item_cache\u001b[0m\u001b[0;34m(\u001b[0m\u001b[0mkey\u001b[0m\u001b[0;34m)\u001b[0m\u001b[0;34m\u001b[0m\u001b[0m\n\u001b[0m\u001b[1;32m   1972\u001b[0m \u001b[0;34m\u001b[0m\u001b[0m\n\u001b[1;32m   1973\u001b[0m         \u001b[0;31m# duplicate columns & possible reduce dimensionality\u001b[0m\u001b[0;34m\u001b[0m\u001b[0;34m\u001b[0m\u001b[0m\n",
      "\u001b[0;32m~/anaconda3/lib/python3.6/site-packages/pandas/core/generic.py\u001b[0m in \u001b[0;36m_get_item_cache\u001b[0;34m(self, item)\u001b[0m\n\u001b[1;32m   1643\u001b[0m         \u001b[0mres\u001b[0m \u001b[0;34m=\u001b[0m \u001b[0mcache\u001b[0m\u001b[0;34m.\u001b[0m\u001b[0mget\u001b[0m\u001b[0;34m(\u001b[0m\u001b[0mitem\u001b[0m\u001b[0;34m)\u001b[0m\u001b[0;34m\u001b[0m\u001b[0m\n\u001b[1;32m   1644\u001b[0m         \u001b[0;32mif\u001b[0m \u001b[0mres\u001b[0m \u001b[0;32mis\u001b[0m \u001b[0;32mNone\u001b[0m\u001b[0;34m:\u001b[0m\u001b[0;34m\u001b[0m\u001b[0m\n\u001b[0;32m-> 1645\u001b[0;31m             \u001b[0mvalues\u001b[0m \u001b[0;34m=\u001b[0m \u001b[0mself\u001b[0m\u001b[0;34m.\u001b[0m\u001b[0m_data\u001b[0m\u001b[0;34m.\u001b[0m\u001b[0mget\u001b[0m\u001b[0;34m(\u001b[0m\u001b[0mitem\u001b[0m\u001b[0;34m)\u001b[0m\u001b[0;34m\u001b[0m\u001b[0m\n\u001b[0m\u001b[1;32m   1646\u001b[0m             \u001b[0mres\u001b[0m \u001b[0;34m=\u001b[0m \u001b[0mself\u001b[0m\u001b[0;34m.\u001b[0m\u001b[0m_box_item_values\u001b[0m\u001b[0;34m(\u001b[0m\u001b[0mitem\u001b[0m\u001b[0;34m,\u001b[0m \u001b[0mvalues\u001b[0m\u001b[0;34m)\u001b[0m\u001b[0;34m\u001b[0m\u001b[0m\n\u001b[1;32m   1647\u001b[0m             \u001b[0mcache\u001b[0m\u001b[0;34m[\u001b[0m\u001b[0mitem\u001b[0m\u001b[0;34m]\u001b[0m \u001b[0;34m=\u001b[0m \u001b[0mres\u001b[0m\u001b[0;34m\u001b[0m\u001b[0m\n",
      "\u001b[0;32m~/anaconda3/lib/python3.6/site-packages/pandas/core/internals.py\u001b[0m in \u001b[0;36mget\u001b[0;34m(self, item, fastpath)\u001b[0m\n\u001b[1;32m   3588\u001b[0m \u001b[0;34m\u001b[0m\u001b[0m\n\u001b[1;32m   3589\u001b[0m             \u001b[0;32mif\u001b[0m \u001b[0;32mnot\u001b[0m \u001b[0misnull\u001b[0m\u001b[0;34m(\u001b[0m\u001b[0mitem\u001b[0m\u001b[0;34m)\u001b[0m\u001b[0;34m:\u001b[0m\u001b[0;34m\u001b[0m\u001b[0m\n\u001b[0;32m-> 3590\u001b[0;31m                 \u001b[0mloc\u001b[0m \u001b[0;34m=\u001b[0m \u001b[0mself\u001b[0m\u001b[0;34m.\u001b[0m\u001b[0mitems\u001b[0m\u001b[0;34m.\u001b[0m\u001b[0mget_loc\u001b[0m\u001b[0;34m(\u001b[0m\u001b[0mitem\u001b[0m\u001b[0;34m)\u001b[0m\u001b[0;34m\u001b[0m\u001b[0m\n\u001b[0m\u001b[1;32m   3591\u001b[0m             \u001b[0;32melse\u001b[0m\u001b[0;34m:\u001b[0m\u001b[0;34m\u001b[0m\u001b[0m\n\u001b[1;32m   3592\u001b[0m                 \u001b[0mindexer\u001b[0m \u001b[0;34m=\u001b[0m \u001b[0mnp\u001b[0m\u001b[0;34m.\u001b[0m\u001b[0marange\u001b[0m\u001b[0;34m(\u001b[0m\u001b[0mlen\u001b[0m\u001b[0;34m(\u001b[0m\u001b[0mself\u001b[0m\u001b[0;34m.\u001b[0m\u001b[0mitems\u001b[0m\u001b[0;34m)\u001b[0m\u001b[0;34m)\u001b[0m\u001b[0;34m[\u001b[0m\u001b[0misnull\u001b[0m\u001b[0;34m(\u001b[0m\u001b[0mself\u001b[0m\u001b[0;34m.\u001b[0m\u001b[0mitems\u001b[0m\u001b[0;34m)\u001b[0m\u001b[0;34m]\u001b[0m\u001b[0;34m\u001b[0m\u001b[0m\n",
      "\u001b[0;32m~/anaconda3/lib/python3.6/site-packages/pandas/core/indexes/base.py\u001b[0m in \u001b[0;36mget_loc\u001b[0;34m(self, key, method, tolerance)\u001b[0m\n\u001b[1;32m   2442\u001b[0m                 \u001b[0;32mreturn\u001b[0m \u001b[0mself\u001b[0m\u001b[0;34m.\u001b[0m\u001b[0m_engine\u001b[0m\u001b[0;34m.\u001b[0m\u001b[0mget_loc\u001b[0m\u001b[0;34m(\u001b[0m\u001b[0mkey\u001b[0m\u001b[0;34m)\u001b[0m\u001b[0;34m\u001b[0m\u001b[0m\n\u001b[1;32m   2443\u001b[0m             \u001b[0;32mexcept\u001b[0m \u001b[0mKeyError\u001b[0m\u001b[0;34m:\u001b[0m\u001b[0;34m\u001b[0m\u001b[0m\n\u001b[0;32m-> 2444\u001b[0;31m                 \u001b[0;32mreturn\u001b[0m \u001b[0mself\u001b[0m\u001b[0;34m.\u001b[0m\u001b[0m_engine\u001b[0m\u001b[0;34m.\u001b[0m\u001b[0mget_loc\u001b[0m\u001b[0;34m(\u001b[0m\u001b[0mself\u001b[0m\u001b[0;34m.\u001b[0m\u001b[0m_maybe_cast_indexer\u001b[0m\u001b[0;34m(\u001b[0m\u001b[0mkey\u001b[0m\u001b[0;34m)\u001b[0m\u001b[0;34m)\u001b[0m\u001b[0;34m\u001b[0m\u001b[0m\n\u001b[0m\u001b[1;32m   2445\u001b[0m \u001b[0;34m\u001b[0m\u001b[0m\n\u001b[1;32m   2446\u001b[0m         \u001b[0mindexer\u001b[0m \u001b[0;34m=\u001b[0m \u001b[0mself\u001b[0m\u001b[0;34m.\u001b[0m\u001b[0mget_indexer\u001b[0m\u001b[0;34m(\u001b[0m\u001b[0;34m[\u001b[0m\u001b[0mkey\u001b[0m\u001b[0;34m]\u001b[0m\u001b[0;34m,\u001b[0m \u001b[0mmethod\u001b[0m\u001b[0;34m=\u001b[0m\u001b[0mmethod\u001b[0m\u001b[0;34m,\u001b[0m \u001b[0mtolerance\u001b[0m\u001b[0;34m=\u001b[0m\u001b[0mtolerance\u001b[0m\u001b[0;34m)\u001b[0m\u001b[0;34m\u001b[0m\u001b[0m\n",
      "\u001b[0;32mpandas/_libs/index.pyx\u001b[0m in \u001b[0;36mpandas._libs.index.IndexEngine.get_loc\u001b[0;34m()\u001b[0m\n",
      "\u001b[0;32mpandas/_libs/index.pyx\u001b[0m in \u001b[0;36mpandas._libs.index.IndexEngine.get_loc\u001b[0;34m()\u001b[0m\n",
      "\u001b[0;32mpandas/_libs/hashtable_class_helper.pxi\u001b[0m in \u001b[0;36mpandas._libs.hashtable.PyObjectHashTable.get_item\u001b[0;34m()\u001b[0m\n",
      "\u001b[0;32mpandas/_libs/hashtable_class_helper.pxi\u001b[0m in \u001b[0;36mpandas._libs.hashtable.PyObjectHashTable.get_item\u001b[0;34m()\u001b[0m\n",
      "\u001b[0;31mKeyError\u001b[0m: 'Count'"
     ]
    }
   ],
   "source": [
    "from nltk.corpus import stopwords\n",
    "from nltk.stem import WordNetLemmatizer\n",
    "from nltk import ngrams\n",
    "from itertools import chain\n",
    "\n",
    "def get_token_ngram(Prediction, benchmark, userid='all'):\n",
    "\n",
    "    if userid != 'all':\n",
    "        odf = df[(df['UserId'] == userid) & (df['Prediction'] == Prediction)]['Text']\n",
    "    else:\n",
    "        odf = df[df['Prediction'] == Prediction]['Text']\n",
    "        \n",
    "    count = len(odf)\n",
    "    total_text = ' '.join(odf)\n",
    "    total_text = total_text.lower()\n",
    "    stop = set(stopwords.words('english'))\n",
    "    total_text = nltk.word_tokenize(total_text)\n",
    "    total_text = [word for word in total_text if word not in stop and len(word) >= 3]\n",
    "    lemmatizer = WordNetLemmatizer()\n",
    "    total_text = [lemmatizer.lemmatize(w,'v') for w in total_text]\n",
    "    bigrams = ngrams(total_text,2)\n",
    "    trigrams = ngrams(total_text, 3)\n",
    "\n",
    "    # look at 2-gram and 3-gram together\n",
    "    combine = chain(bigrams, trigrams)\n",
    "    text = nltk.Text(combine)\n",
    "    fdist = nltk.FreqDist(text)\n",
    "    \n",
    "    # return only phrase occurs more than benchmark of his reviews\n",
    "    return sorted([(w,fdist[w],str(round(fdist[w]/count*100,2))+'%') for w in set(text) if fdist[w] >= count*benchmark], key=lambda x: -x[1])\n",
    "\n",
    "# score 1-5 reviews with this user\n",
    "index = ['Phrase', 'Count', 'Occur %']\n",
    "\n",
    "for j in range(1,6):\n",
    "    test = pd.DataFrame()\n",
    "    d = get_token_ngram(j, 0.25, 'A2M9D9BDHONV3Y')\n",
    "    print('Prediction {} reviews most popular 2-gram / 3-gram:'.format(j))\n",
    "    for i in d:\n",
    "        test = test.append(pd.Series(i, index = index), ignore_index = True)\n",
    "    test = test.sort_values('Count', ascending=False)\n",
    "    print(test)"
   ]
  },
  {
   "cell_type": "code",
   "execution_count": 114,
   "metadata": {},
   "outputs": [
    {
     "name": "stdout",
     "output_type": "stream",
     "text": [
      "score 1 reviews most popular 2-gram / 3-gram:\n",
      "   Count Occur %          Phrase\n",
      "0  496.0  10.74%   (taste, like)\n",
      "1  200.0   4.33%  (waste, money)\n",
      "2  181.0   3.92%    (could, n't)\n",
      "3  179.0   3.88%     (n't, even)\n",
      "4  172.0   3.73%     (n't, know)\n",
      "5  153.0   3.31%      (n't, buy)\n",
      "6  146.0   3.16%    (would, n't)\n",
      "score 2 reviews most popular 2-gram / 3-gram:\n",
      "    Count Occur %          Phrase\n",
      "0   264.0   9.94%   (taste, like)\n",
      "1   134.0   5.05%     (n't, like)\n",
      "2   120.0   4.52%      (..., ...)\n",
      "3   117.0   4.41%      (n't, buy)\n",
      "4   110.0   4.14%    (would, n't)\n",
      "5   104.0   3.92%  (think, would)\n",
      "6    93.0    3.5%   (href=, http)\n",
      "7    86.0   3.24%     (n't, know)\n",
      "8    85.0    3.2%  (much, better)\n",
      "9    83.0   3.13%    (n't, taste)\n",
      "10   80.0   3.01%    (could, n't)\n",
      "score 3 reviews most popular 2-gram / 3-gram:\n",
      "   Count Occur %            Phrase\n",
      "0  277.0   7.27%     (taste, like)\n",
      "1  169.0   4.44%      (would, n't)\n",
      "2  152.0   3.99%     (href=, http)\n",
      "3  140.0   3.68%     (taste, good)\n",
      "4  132.0   3.47%       (n't, know)\n",
      "5  120.0   3.15%      (green, tea)\n",
      "6  117.0   3.07%  (peanut, butter)\n",
      "7  115.0   3.02%    (much, better)\n",
      "score 4 reviews most popular 2-gram / 3-gram:\n",
      "   Count Occur %          Phrase\n",
      "0  350.0   4.97%   (taste, like)\n",
      "1  274.0   3.89%   (href=, http)\n",
      "2  272.0   3.86%   (taste, good)\n",
      "3  237.0   3.36%  (pretty, good)\n",
      "4  216.0   3.07%  (really, like)\n",
      "score 5 reviews most popular 2-gram / 3-gram:\n",
      "    Count Occur %               Phrase\n",
      "0  1632.0   5.12%  (highly, recommend)\n",
      "1  1313.0   4.12%        (taste, like)\n",
      "2  1029.0   3.23%     (grocery, store)\n",
      "3   979.0   3.07%       (taste, great)\n"
     ]
    }
   ],
   "source": [
    "# score 1-5 reviews with all users\n",
    "index = ['Phrase', 'Count', 'Occur %']\n",
    "\n",
    "for j in range(1,6):\n",
    "    test = pd.DataFrame()\n",
    "    # easier benchmark since we have many different users here, thus different phrase\n",
    "    d = get_token_ngram(j, 0.03)\n",
    "    print('score {} reviews most popular 2-gram / 3-gram:'.format(j))\n",
    "    for i in d:\n",
    "        test = test.append(pd.Series(i, index = index), ignore_index = True)\n",
    "    test = test.sort_values('Count', ascending=False)\n",
    "    print(test)"
   ]
  },
  {
   "cell_type": "code",
   "execution_count": 115,
   "metadata": {
    "collapsed": true
   },
   "outputs": [],
   "source": [
    "def get_token_adj(Prediction, benchmark, userid='all'):\n",
    "    \n",
    "    if userid != 'all':\n",
    "        odf = df[(df['UserId'] == userid) & (df['Prediction'] == Prediction)]['Text']\n",
    "    else:\n",
    "        odf = df[df['Prediction'] == Prediction]['Text']\n",
    "        \n",
    "    count = len(odf)\n",
    "    total_text = ' '.join(odf)\n",
    "    total_text = total_text.lower()\n",
    "    stop = set(stopwords.words('english'))\n",
    "    total_text = nltk.word_tokenize(total_text)\n",
    "    total_text = [word for word in total_text if word not in stop and len(word) >= 3]\n",
    "    lemmatizer = WordNetLemmatizer()\n",
    "    total_text = [lemmatizer.lemmatize(w,'a') for w in total_text]\n",
    "    # get adjective only\n",
    "    total_text = [word for word, form in nltk.pos_tag(total_text) if form == 'JJ']\n",
    "    \n",
    "    text = nltk.Text(total_text)\n",
    "    fdist = nltk.FreqDist(text)\n",
    "    \n",
    "    # return only phrase occurs more than benchmark of his reviews\n",
    "    return sorted([(w,fdist[w],str(round(fdist[w]/count*100,2))+'%') for w in set(text) if fdist[w] >= count*benchmark], key=lambda x: -x[1])"
   ]
  },
  {
   "cell_type": "code",
   "execution_count": 116,
   "metadata": {},
   "outputs": [
    {
     "name": "stdout",
     "output_type": "stream",
     "text": [
      "score 1 reviews most popular adjectives word:\n",
      "    Count Occur %      Phrase\n",
      "0     4.0   80.0%   delicious\n",
      "1     4.0   80.0%         bad\n",
      "2     3.0   60.0%        much\n",
      "3     2.0   40.0%         fat\n",
      "4     2.0   40.0%        real\n",
      "5     2.0   40.0%   glutamate\n",
      "6     2.0   40.0%     bottled\n",
      "7     2.0   40.0%        lean\n",
      "8     2.0   40.0%       awful\n",
      "9     2.0   40.0%  nutritious\n",
      "10    2.0   40.0%    terrific\n",
      "11    2.0   40.0%      hormel\n",
      "score 2 reviews most popular adjectives word:\n",
      "    Count Occur %      Phrase\n",
      "0     2.0  100.0%      cheese\n",
      "2     2.0  100.0%       whole\n",
      "1     2.0  100.0%      desert\n",
      "11    1.0   50.0%         pie\n",
      "17    1.0   50.0%  particular\n",
      "16    1.0   50.0%        late\n",
      "15    1.0   50.0%        firm\n",
      "14    1.0   50.0%       awful\n",
      "13    1.0   50.0%     pleased\n",
      "12    1.0   50.0%        high\n",
      "9     1.0   50.0%       .give\n",
      "10    1.0   50.0%       sweet\n",
      "8     1.0   50.0%    complete\n",
      "7     1.0   50.0%       steak\n",
      "6     1.0   50.0%       wrong\n",
      "5     1.0   50.0%       black\n",
      "4     1.0   50.0%   .goodness\n",
      "3     1.0   50.0%   delicious\n",
      "18    1.0   50.0%         ate\n",
      "score 3 reviews most popular adjectives word:\n",
      "    Count Occur %      Phrase\n",
      "0     2.0  200.0%       whole\n",
      "1     1.0  100.0%      herbal\n",
      "2     1.0  100.0%  unhealthly\n",
      "3     1.0  100.0%       fatty\n",
      "4     1.0  100.0%      grease\n",
      "5     1.0  100.0%    terrific\n",
      "6     1.0  100.0%       fried\n",
      "7     1.0  100.0%       nasty\n",
      "8     1.0  100.0%         eat\n",
      "9     1.0  100.0%     wayyyyy\n",
      "10    1.0  100.0%       great\n",
      "11    1.0  100.0%        lamb\n",
      "12    1.0  100.0%  horrendous\n",
      "score 4 reviews most popular adjectives word:\n"
     ]
    },
    {
     "ename": "KeyError",
     "evalue": "'Count'",
     "output_type": "error",
     "traceback": [
      "\u001b[0;31m---------------------------------------------------------------------------\u001b[0m",
      "\u001b[0;31mKeyError\u001b[0m                                  Traceback (most recent call last)",
      "\u001b[0;32m~/anaconda3/lib/python3.6/site-packages/pandas/core/indexes/base.py\u001b[0m in \u001b[0;36mget_loc\u001b[0;34m(self, key, method, tolerance)\u001b[0m\n\u001b[1;32m   2441\u001b[0m             \u001b[0;32mtry\u001b[0m\u001b[0;34m:\u001b[0m\u001b[0;34m\u001b[0m\u001b[0m\n\u001b[0;32m-> 2442\u001b[0;31m                 \u001b[0;32mreturn\u001b[0m \u001b[0mself\u001b[0m\u001b[0;34m.\u001b[0m\u001b[0m_engine\u001b[0m\u001b[0;34m.\u001b[0m\u001b[0mget_loc\u001b[0m\u001b[0;34m(\u001b[0m\u001b[0mkey\u001b[0m\u001b[0;34m)\u001b[0m\u001b[0;34m\u001b[0m\u001b[0m\n\u001b[0m\u001b[1;32m   2443\u001b[0m             \u001b[0;32mexcept\u001b[0m \u001b[0mKeyError\u001b[0m\u001b[0;34m:\u001b[0m\u001b[0;34m\u001b[0m\u001b[0m\n",
      "\u001b[0;32mpandas/_libs/index.pyx\u001b[0m in \u001b[0;36mpandas._libs.index.IndexEngine.get_loc\u001b[0;34m()\u001b[0m\n",
      "\u001b[0;32mpandas/_libs/index.pyx\u001b[0m in \u001b[0;36mpandas._libs.index.IndexEngine.get_loc\u001b[0;34m()\u001b[0m\n",
      "\u001b[0;32mpandas/_libs/hashtable_class_helper.pxi\u001b[0m in \u001b[0;36mpandas._libs.hashtable.PyObjectHashTable.get_item\u001b[0;34m()\u001b[0m\n",
      "\u001b[0;32mpandas/_libs/hashtable_class_helper.pxi\u001b[0m in \u001b[0;36mpandas._libs.hashtable.PyObjectHashTable.get_item\u001b[0;34m()\u001b[0m\n",
      "\u001b[0;31mKeyError\u001b[0m: 'Count'",
      "\nDuring handling of the above exception, another exception occurred:\n",
      "\u001b[0;31mKeyError\u001b[0m                                  Traceback (most recent call last)",
      "\u001b[0;32m<ipython-input-116-ebd38c1cb660>\u001b[0m in \u001b[0;36m<module>\u001b[0;34m()\u001b[0m\n\u001b[1;32m      8\u001b[0m     \u001b[0;32mfor\u001b[0m \u001b[0mi\u001b[0m \u001b[0;32min\u001b[0m \u001b[0md\u001b[0m\u001b[0;34m:\u001b[0m\u001b[0;34m\u001b[0m\u001b[0m\n\u001b[1;32m      9\u001b[0m         \u001b[0mtest\u001b[0m \u001b[0;34m=\u001b[0m \u001b[0mtest\u001b[0m\u001b[0;34m.\u001b[0m\u001b[0mappend\u001b[0m\u001b[0;34m(\u001b[0m\u001b[0mpd\u001b[0m\u001b[0;34m.\u001b[0m\u001b[0mSeries\u001b[0m\u001b[0;34m(\u001b[0m\u001b[0mi\u001b[0m\u001b[0;34m,\u001b[0m \u001b[0mindex\u001b[0m \u001b[0;34m=\u001b[0m \u001b[0mindex\u001b[0m\u001b[0;34m)\u001b[0m\u001b[0;34m,\u001b[0m \u001b[0mignore_index\u001b[0m \u001b[0;34m=\u001b[0m \u001b[0;32mTrue\u001b[0m\u001b[0;34m)\u001b[0m\u001b[0;34m\u001b[0m\u001b[0m\n\u001b[0;32m---> 10\u001b[0;31m     \u001b[0mtest\u001b[0m \u001b[0;34m=\u001b[0m \u001b[0mtest\u001b[0m\u001b[0;34m.\u001b[0m\u001b[0msort_values\u001b[0m\u001b[0;34m(\u001b[0m\u001b[0;34m'Count'\u001b[0m\u001b[0;34m,\u001b[0m \u001b[0mascending\u001b[0m\u001b[0;34m=\u001b[0m\u001b[0;32mFalse\u001b[0m\u001b[0;34m)\u001b[0m\u001b[0;34m\u001b[0m\u001b[0m\n\u001b[0m\u001b[1;32m     11\u001b[0m     \u001b[0mprint\u001b[0m\u001b[0;34m(\u001b[0m\u001b[0mtest\u001b[0m\u001b[0;34m)\u001b[0m\u001b[0;34m\u001b[0m\u001b[0m\n",
      "\u001b[0;32m~/anaconda3/lib/python3.6/site-packages/pandas/core/frame.py\u001b[0m in \u001b[0;36msort_values\u001b[0;34m(self, by, axis, ascending, inplace, kind, na_position)\u001b[0m\n\u001b[1;32m   3184\u001b[0m \u001b[0;34m\u001b[0m\u001b[0m\n\u001b[1;32m   3185\u001b[0m             \u001b[0mby\u001b[0m \u001b[0;34m=\u001b[0m \u001b[0mby\u001b[0m\u001b[0;34m[\u001b[0m\u001b[0;36m0\u001b[0m\u001b[0;34m]\u001b[0m\u001b[0;34m\u001b[0m\u001b[0m\n\u001b[0;32m-> 3186\u001b[0;31m             \u001b[0mk\u001b[0m \u001b[0;34m=\u001b[0m \u001b[0mself\u001b[0m\u001b[0;34m.\u001b[0m\u001b[0mxs\u001b[0m\u001b[0;34m(\u001b[0m\u001b[0mby\u001b[0m\u001b[0;34m,\u001b[0m \u001b[0maxis\u001b[0m\u001b[0;34m=\u001b[0m\u001b[0mother_axis\u001b[0m\u001b[0;34m)\u001b[0m\u001b[0;34m.\u001b[0m\u001b[0mvalues\u001b[0m\u001b[0;34m\u001b[0m\u001b[0m\n\u001b[0m\u001b[1;32m   3187\u001b[0m             \u001b[0;32mif\u001b[0m \u001b[0mk\u001b[0m\u001b[0;34m.\u001b[0m\u001b[0mndim\u001b[0m \u001b[0;34m==\u001b[0m \u001b[0;36m2\u001b[0m\u001b[0;34m:\u001b[0m\u001b[0;34m\u001b[0m\u001b[0m\n\u001b[1;32m   3188\u001b[0m \u001b[0;34m\u001b[0m\u001b[0m\n",
      "\u001b[0;32m~/anaconda3/lib/python3.6/site-packages/pandas/core/generic.py\u001b[0m in \u001b[0;36mxs\u001b[0;34m(self, key, axis, level, drop_level)\u001b[0m\n\u001b[1;32m   2021\u001b[0m \u001b[0;34m\u001b[0m\u001b[0m\n\u001b[1;32m   2022\u001b[0m         \u001b[0;32mif\u001b[0m \u001b[0maxis\u001b[0m \u001b[0;34m==\u001b[0m \u001b[0;36m1\u001b[0m\u001b[0;34m:\u001b[0m\u001b[0;34m\u001b[0m\u001b[0m\n\u001b[0;32m-> 2023\u001b[0;31m             \u001b[0;32mreturn\u001b[0m \u001b[0mself\u001b[0m\u001b[0;34m[\u001b[0m\u001b[0mkey\u001b[0m\u001b[0;34m]\u001b[0m\u001b[0;34m\u001b[0m\u001b[0m\n\u001b[0m\u001b[1;32m   2024\u001b[0m \u001b[0;34m\u001b[0m\u001b[0m\n\u001b[1;32m   2025\u001b[0m         \u001b[0mself\u001b[0m\u001b[0;34m.\u001b[0m\u001b[0m_consolidate_inplace\u001b[0m\u001b[0;34m(\u001b[0m\u001b[0;34m)\u001b[0m\u001b[0;34m\u001b[0m\u001b[0m\n",
      "\u001b[0;32m~/anaconda3/lib/python3.6/site-packages/pandas/core/frame.py\u001b[0m in \u001b[0;36m__getitem__\u001b[0;34m(self, key)\u001b[0m\n\u001b[1;32m   1962\u001b[0m             \u001b[0;32mreturn\u001b[0m \u001b[0mself\u001b[0m\u001b[0;34m.\u001b[0m\u001b[0m_getitem_multilevel\u001b[0m\u001b[0;34m(\u001b[0m\u001b[0mkey\u001b[0m\u001b[0;34m)\u001b[0m\u001b[0;34m\u001b[0m\u001b[0m\n\u001b[1;32m   1963\u001b[0m         \u001b[0;32melse\u001b[0m\u001b[0;34m:\u001b[0m\u001b[0;34m\u001b[0m\u001b[0m\n\u001b[0;32m-> 1964\u001b[0;31m             \u001b[0;32mreturn\u001b[0m \u001b[0mself\u001b[0m\u001b[0;34m.\u001b[0m\u001b[0m_getitem_column\u001b[0m\u001b[0;34m(\u001b[0m\u001b[0mkey\u001b[0m\u001b[0;34m)\u001b[0m\u001b[0;34m\u001b[0m\u001b[0m\n\u001b[0m\u001b[1;32m   1965\u001b[0m \u001b[0;34m\u001b[0m\u001b[0m\n\u001b[1;32m   1966\u001b[0m     \u001b[0;32mdef\u001b[0m \u001b[0m_getitem_column\u001b[0m\u001b[0;34m(\u001b[0m\u001b[0mself\u001b[0m\u001b[0;34m,\u001b[0m \u001b[0mkey\u001b[0m\u001b[0;34m)\u001b[0m\u001b[0;34m:\u001b[0m\u001b[0;34m\u001b[0m\u001b[0m\n",
      "\u001b[0;32m~/anaconda3/lib/python3.6/site-packages/pandas/core/frame.py\u001b[0m in \u001b[0;36m_getitem_column\u001b[0;34m(self, key)\u001b[0m\n\u001b[1;32m   1969\u001b[0m         \u001b[0;31m# get column\u001b[0m\u001b[0;34m\u001b[0m\u001b[0;34m\u001b[0m\u001b[0m\n\u001b[1;32m   1970\u001b[0m         \u001b[0;32mif\u001b[0m \u001b[0mself\u001b[0m\u001b[0;34m.\u001b[0m\u001b[0mcolumns\u001b[0m\u001b[0;34m.\u001b[0m\u001b[0mis_unique\u001b[0m\u001b[0;34m:\u001b[0m\u001b[0;34m\u001b[0m\u001b[0m\n\u001b[0;32m-> 1971\u001b[0;31m             \u001b[0;32mreturn\u001b[0m \u001b[0mself\u001b[0m\u001b[0;34m.\u001b[0m\u001b[0m_get_item_cache\u001b[0m\u001b[0;34m(\u001b[0m\u001b[0mkey\u001b[0m\u001b[0;34m)\u001b[0m\u001b[0;34m\u001b[0m\u001b[0m\n\u001b[0m\u001b[1;32m   1972\u001b[0m \u001b[0;34m\u001b[0m\u001b[0m\n\u001b[1;32m   1973\u001b[0m         \u001b[0;31m# duplicate columns & possible reduce dimensionality\u001b[0m\u001b[0;34m\u001b[0m\u001b[0;34m\u001b[0m\u001b[0m\n",
      "\u001b[0;32m~/anaconda3/lib/python3.6/site-packages/pandas/core/generic.py\u001b[0m in \u001b[0;36m_get_item_cache\u001b[0;34m(self, item)\u001b[0m\n\u001b[1;32m   1643\u001b[0m         \u001b[0mres\u001b[0m \u001b[0;34m=\u001b[0m \u001b[0mcache\u001b[0m\u001b[0;34m.\u001b[0m\u001b[0mget\u001b[0m\u001b[0;34m(\u001b[0m\u001b[0mitem\u001b[0m\u001b[0;34m)\u001b[0m\u001b[0;34m\u001b[0m\u001b[0m\n\u001b[1;32m   1644\u001b[0m         \u001b[0;32mif\u001b[0m \u001b[0mres\u001b[0m \u001b[0;32mis\u001b[0m \u001b[0;32mNone\u001b[0m\u001b[0;34m:\u001b[0m\u001b[0;34m\u001b[0m\u001b[0m\n\u001b[0;32m-> 1645\u001b[0;31m             \u001b[0mvalues\u001b[0m \u001b[0;34m=\u001b[0m \u001b[0mself\u001b[0m\u001b[0;34m.\u001b[0m\u001b[0m_data\u001b[0m\u001b[0;34m.\u001b[0m\u001b[0mget\u001b[0m\u001b[0;34m(\u001b[0m\u001b[0mitem\u001b[0m\u001b[0;34m)\u001b[0m\u001b[0;34m\u001b[0m\u001b[0m\n\u001b[0m\u001b[1;32m   1646\u001b[0m             \u001b[0mres\u001b[0m \u001b[0;34m=\u001b[0m \u001b[0mself\u001b[0m\u001b[0;34m.\u001b[0m\u001b[0m_box_item_values\u001b[0m\u001b[0;34m(\u001b[0m\u001b[0mitem\u001b[0m\u001b[0;34m,\u001b[0m \u001b[0mvalues\u001b[0m\u001b[0;34m)\u001b[0m\u001b[0;34m\u001b[0m\u001b[0m\n\u001b[1;32m   1647\u001b[0m             \u001b[0mcache\u001b[0m\u001b[0;34m[\u001b[0m\u001b[0mitem\u001b[0m\u001b[0;34m]\u001b[0m \u001b[0;34m=\u001b[0m \u001b[0mres\u001b[0m\u001b[0;34m\u001b[0m\u001b[0m\n",
      "\u001b[0;32m~/anaconda3/lib/python3.6/site-packages/pandas/core/internals.py\u001b[0m in \u001b[0;36mget\u001b[0;34m(self, item, fastpath)\u001b[0m\n\u001b[1;32m   3588\u001b[0m \u001b[0;34m\u001b[0m\u001b[0m\n\u001b[1;32m   3589\u001b[0m             \u001b[0;32mif\u001b[0m \u001b[0;32mnot\u001b[0m \u001b[0misnull\u001b[0m\u001b[0;34m(\u001b[0m\u001b[0mitem\u001b[0m\u001b[0;34m)\u001b[0m\u001b[0;34m:\u001b[0m\u001b[0;34m\u001b[0m\u001b[0m\n\u001b[0;32m-> 3590\u001b[0;31m                 \u001b[0mloc\u001b[0m \u001b[0;34m=\u001b[0m \u001b[0mself\u001b[0m\u001b[0;34m.\u001b[0m\u001b[0mitems\u001b[0m\u001b[0;34m.\u001b[0m\u001b[0mget_loc\u001b[0m\u001b[0;34m(\u001b[0m\u001b[0mitem\u001b[0m\u001b[0;34m)\u001b[0m\u001b[0;34m\u001b[0m\u001b[0m\n\u001b[0m\u001b[1;32m   3591\u001b[0m             \u001b[0;32melse\u001b[0m\u001b[0;34m:\u001b[0m\u001b[0;34m\u001b[0m\u001b[0m\n\u001b[1;32m   3592\u001b[0m                 \u001b[0mindexer\u001b[0m \u001b[0;34m=\u001b[0m \u001b[0mnp\u001b[0m\u001b[0;34m.\u001b[0m\u001b[0marange\u001b[0m\u001b[0;34m(\u001b[0m\u001b[0mlen\u001b[0m\u001b[0;34m(\u001b[0m\u001b[0mself\u001b[0m\u001b[0;34m.\u001b[0m\u001b[0mitems\u001b[0m\u001b[0;34m)\u001b[0m\u001b[0;34m)\u001b[0m\u001b[0;34m[\u001b[0m\u001b[0misnull\u001b[0m\u001b[0;34m(\u001b[0m\u001b[0mself\u001b[0m\u001b[0;34m.\u001b[0m\u001b[0mitems\u001b[0m\u001b[0;34m)\u001b[0m\u001b[0;34m]\u001b[0m\u001b[0;34m\u001b[0m\u001b[0m\n",
      "\u001b[0;32m~/anaconda3/lib/python3.6/site-packages/pandas/core/indexes/base.py\u001b[0m in \u001b[0;36mget_loc\u001b[0;34m(self, key, method, tolerance)\u001b[0m\n\u001b[1;32m   2442\u001b[0m                 \u001b[0;32mreturn\u001b[0m \u001b[0mself\u001b[0m\u001b[0;34m.\u001b[0m\u001b[0m_engine\u001b[0m\u001b[0;34m.\u001b[0m\u001b[0mget_loc\u001b[0m\u001b[0;34m(\u001b[0m\u001b[0mkey\u001b[0m\u001b[0;34m)\u001b[0m\u001b[0;34m\u001b[0m\u001b[0m\n\u001b[1;32m   2443\u001b[0m             \u001b[0;32mexcept\u001b[0m \u001b[0mKeyError\u001b[0m\u001b[0;34m:\u001b[0m\u001b[0;34m\u001b[0m\u001b[0m\n\u001b[0;32m-> 2444\u001b[0;31m                 \u001b[0;32mreturn\u001b[0m \u001b[0mself\u001b[0m\u001b[0;34m.\u001b[0m\u001b[0m_engine\u001b[0m\u001b[0;34m.\u001b[0m\u001b[0mget_loc\u001b[0m\u001b[0;34m(\u001b[0m\u001b[0mself\u001b[0m\u001b[0;34m.\u001b[0m\u001b[0m_maybe_cast_indexer\u001b[0m\u001b[0;34m(\u001b[0m\u001b[0mkey\u001b[0m\u001b[0;34m)\u001b[0m\u001b[0;34m)\u001b[0m\u001b[0;34m\u001b[0m\u001b[0m\n\u001b[0m\u001b[1;32m   2445\u001b[0m \u001b[0;34m\u001b[0m\u001b[0m\n\u001b[1;32m   2446\u001b[0m         \u001b[0mindexer\u001b[0m \u001b[0;34m=\u001b[0m \u001b[0mself\u001b[0m\u001b[0;34m.\u001b[0m\u001b[0mget_indexer\u001b[0m\u001b[0;34m(\u001b[0m\u001b[0;34m[\u001b[0m\u001b[0mkey\u001b[0m\u001b[0;34m]\u001b[0m\u001b[0;34m,\u001b[0m \u001b[0mmethod\u001b[0m\u001b[0;34m=\u001b[0m\u001b[0mmethod\u001b[0m\u001b[0;34m,\u001b[0m \u001b[0mtolerance\u001b[0m\u001b[0;34m=\u001b[0m\u001b[0mtolerance\u001b[0m\u001b[0;34m)\u001b[0m\u001b[0;34m\u001b[0m\u001b[0m\n",
      "\u001b[0;32mpandas/_libs/index.pyx\u001b[0m in \u001b[0;36mpandas._libs.index.IndexEngine.get_loc\u001b[0;34m()\u001b[0m\n",
      "\u001b[0;32mpandas/_libs/index.pyx\u001b[0m in \u001b[0;36mpandas._libs.index.IndexEngine.get_loc\u001b[0;34m()\u001b[0m\n",
      "\u001b[0;32mpandas/_libs/hashtable_class_helper.pxi\u001b[0m in \u001b[0;36mpandas._libs.hashtable.PyObjectHashTable.get_item\u001b[0;34m()\u001b[0m\n",
      "\u001b[0;32mpandas/_libs/hashtable_class_helper.pxi\u001b[0m in \u001b[0;36mpandas._libs.hashtable.PyObjectHashTable.get_item\u001b[0;34m()\u001b[0m\n",
      "\u001b[0;31mKeyError\u001b[0m: 'Count'"
     ]
    }
   ],
   "source": [
    "# score 1-5 reviews with this user\n",
    "index = ['Phrase', 'Count', 'Occur %']\n",
    "\n",
    "for j in range(1,6):\n",
    "    test = pd.DataFrame()\n",
    "    d = get_token_adj(j, 0.25, 'A2M9D9BDHONV3Y')\n",
    "    print('score {} reviews most popular adjectives word:'.format(j))\n",
    "    for i in d:\n",
    "        test = test.append(pd.Series(i, index = index), ignore_index = True)\n",
    "    test = test.sort_values('Count', ascending=False)\n",
    "    print(test)"
   ]
  },
  {
   "cell_type": "code",
   "execution_count": 117,
   "metadata": {
    "collapsed": true
   },
   "outputs": [],
   "source": [
    "reviews = df[['Prediction','Summary']]"
   ]
  },
  {
   "cell_type": "code",
   "execution_count": 118,
   "metadata": {},
   "outputs": [
    {
     "name": "stderr",
     "output_type": "stream",
     "text": [
      "/Users/user/anaconda3/lib/python3.6/site-packages/ipykernel_launcher.py:2: SettingWithCopyWarning: \n",
      "A value is trying to be set on a copy of a slice from a DataFrame.\n",
      "Try using .loc[row_indexer,col_indexer] = value instead\n",
      "\n",
      "See the caveats in the documentation: http://pandas.pydata.org/pandas-docs/stable/indexing.html#indexing-view-versus-copy\n",
      "  \n"
     ]
    }
   ],
   "source": [
    "scores = reviews['Prediction']\n",
    "reviews['Prediction'] = reviews['Prediction'].apply(lambda x : 'pos' if x > 3 else 'neg')"
   ]
  },
  {
   "cell_type": "code",
   "execution_count": 119,
   "metadata": {},
   "outputs": [
    {
     "data": {
      "text/plain": [
       "4.177990679440766"
      ]
     },
     "execution_count": 119,
     "metadata": {},
     "output_type": "execute_result"
    }
   ],
   "source": [
    "scores.mean()"
   ]
  },
  {
   "cell_type": "code",
   "execution_count": 120,
   "metadata": {},
   "outputs": [
    {
     "data": {
      "text/plain": [
       "Prediction\n",
       "neg    11081\n",
       "pos    38916\n",
       "Name: Summary, dtype: int64"
      ]
     },
     "execution_count": 120,
     "metadata": {},
     "output_type": "execute_result"
    }
   ],
   "source": [
    "reviews.groupby('Prediction')['Summary'].count()"
   ]
  },
  {
   "cell_type": "markdown",
   "metadata": {},
   "source": [
    "Count the number of the users who for the positive and negative reviews based on the prediction value greater than 3 out of 5 scale. "
   ]
  },
  {
   "cell_type": "code",
   "execution_count": 121,
   "metadata": {},
   "outputs": [
    {
     "data": {
      "image/png": "[encoded data removed]",
      "text/plain": [
       "<matplotlib.figure.Figure at 0x11f615c18>"
      ]
     },
     "metadata": {},
     "output_type": "display_data"
    }
   ],
   "source": [
    "reviews.groupby('Prediction')['Summary'].count().plot(kind='bar',color=['r','g'],title='Label Distribution',figsize=(10,6))\n",
    "plt.show()"
   ]
  },
  {
   "cell_type": "code",
   "execution_count": 122,
   "metadata": {},
   "outputs": [
    {
     "name": "stdout",
     "output_type": "stream",
     "text": [
      "Percentage of negative reviews 22.16 %\n",
      "Percentage of positive reviews 77.84 %\n"
     ]
    }
   ],
   "source": [
    "\n",
    "print ('Percentage of negative reviews %.2f %%' % ((reviews.groupby('Prediction')['Summary'].count()['neg'])*100.0/len(reviews)))\n",
    "print ('Percentage of positive reviews %.2f %%' % ((reviews.groupby('Prediction')['Summary'].count()['pos'])*100.0/len(reviews)))"
   ]
  },
  {
   "cell_type": "markdown",
   "metadata": {},
   "source": [
    "We can see that almost 78 % reviews are positive for the amazon food products. Users who have rated less than 3 out of 5 star are only 22% which shows that Amazon food provides the good service and food and customers are happy with the services."
   ]
  },
  {
   "cell_type": "markdown",
   "metadata": {},
   "source": [
    "## splitting data based on labels"
   ]
  },
  {
   "cell_type": "code",
   "execution_count": 123,
   "metadata": {
    "collapsed": true
   },
   "outputs": [],
   "source": [
    "def splitPosNeg(Summaries):\n",
    "    neg = reviews.loc[Summaries['Prediction']=='neg']\n",
    "    pos = reviews.loc[Summaries['Prediction']=='pos']\n",
    "    return [pos,neg]"
   ]
  },
  {
   "cell_type": "code",
   "execution_count": 124,
   "metadata": {
    "collapsed": true
   },
   "outputs": [],
   "source": [
    "[pos,neg] = splitPosNeg(reviews)"
   ]
  },
  {
   "cell_type": "markdown",
   "metadata": {},
   "source": [
    "# Preprocessing\n",
    "\n",
    "## Using lemmatization as it was giving better results than stemming. Other steps include removing punctuation amd upper case to lower case conversion."
   ]
  },
  {
   "cell_type": "code",
   "execution_count": 125,
   "metadata": {
    "collapsed": true
   },
   "outputs": [],
   "source": [
    "#preprocessing steps\n",
    "\n",
    "#stemmer = PorterStemmer()\n",
    "lemmatizer = nltk.WordNetLemmatizer()\n",
    "stop = stopwords.words('english')\n",
    "translation = str.maketrans(string.punctuation,' '*len(string.punctuation))\n",
    "\n",
    "def preprocessing(line):\n",
    "    tokens=[]\n",
    "    line = line.translate(translation)\n",
    "    line = nltk.word_tokenize(line.lower())\n",
    "    for t in line:\n",
    "        #if(t not in stop):\n",
    "            #stemmed = stemmer.stem(t)\n",
    "        stemmed = lemmatizer.lemmatize(t)\n",
    "        tokens.append(stemmed)\n",
    "    return ' '.join(tokens)"
   ]
  },
  {
   "cell_type": "code",
   "execution_count": 126,
   "metadata": {
    "collapsed": true
   },
   "outputs": [],
   "source": [
    "pos_data = []\n",
    "neg_data = []\n",
    "for p in pos['Summary']:\n",
    "    pos_data.append(preprocessing(p))\n",
    "\n",
    "for n in neg['Summary']:\n",
    "    neg_data.append(preprocessing(n))"
   ]
  },
  {
   "cell_type": "code",
   "execution_count": 127,
   "metadata": {
    "collapsed": true
   },
   "outputs": [],
   "source": [
    "data = pos_data + neg_data\n",
    "labels = np.concatenate((pos['Prediction'].values,neg['Prediction'].values))"
   ]
  },
  {
   "cell_type": "markdown",
   "metadata": {},
   "source": [
    "# Splitting the data into train and test using a stratified strategy\n"
   ]
  },
  {
   "cell_type": "code",
   "execution_count": 128,
   "metadata": {
    "collapsed": true
   },
   "outputs": [],
   "source": [
    "\n",
    "[Data_train,Data_test,Train_labels,Test_labels] = train_test_split(data,labels , test_size=0.25, random_state=20160121,stratify=labels)"
   ]
  },
  {
   "cell_type": "code",
   "execution_count": 129,
   "metadata": {
    "collapsed": true
   },
   "outputs": [],
   "source": [
    "## tokenizing the training data to find frequency of words\n",
    "t = []\n",
    "for line in Data_train:\n",
    "    l = nltk.word_tokenize(line)\n",
    "    for w in l:\n",
    "        t.append(w)"
   ]
  },
  {
   "cell_type": "code",
   "execution_count": 130,
   "metadata": {},
   "outputs": [
    {
     "name": "stdout",
     "output_type": "stream",
     "text": [
      "9150\n"
     ]
    }
   ],
   "source": [
    "\n",
    "word_features = nltk.FreqDist(t)\n",
    "print (len(word_features))"
   ]
  },
  {
   "cell_type": "markdown",
   "metadata": {},
   "source": [
    "### We can see that the number of unique words in the dataset is pretty huge. When doing text classification the vocabulary of the data set becomes the featureset.\n",
    "\n",
    "### We would want to reduce the size of this feature set. This can be done in severals ways. \n",
    "\n",
    "### One of them is feature reduction using PCA\n",
    "\n",
    "\n",
    "# Feature Reduction\n",
    "\n",
    "#### Using PCA"
   ]
  },
  {
   "cell_type": "code",
   "execution_count": 131,
   "metadata": {
    "collapsed": true
   },
   "outputs": [],
   "source": [
    "vec_all = CountVectorizer()\n",
    "ctr_features_all = vec_all.fit_transform(Data_train)"
   ]
  },
  {
   "cell_type": "code",
   "execution_count": 132,
   "metadata": {
    "collapsed": true
   },
   "outputs": [],
   "source": [
    "tf_vec_all = TfidfTransformer()\n",
    "tr_features_all = tf_vec_all.fit_transform(ctr_features_all)"
   ]
  },
  {
   "cell_type": "code",
   "execution_count": 133,
   "metadata": {
    "collapsed": true
   },
   "outputs": [],
   "source": [
    "cte_features_all = vec_all.transform(Data_test)\n",
    "te_features_all = tf_vec_all.transform(cte_features_all)"
   ]
  },
  {
   "cell_type": "markdown",
   "metadata": {},
   "source": [
    "## Pca doesn't apply to sparse matrices so we use a different version of PCA called Truncated SVD\n",
    "\n",
    "\n",
    "# Implement SVD "
   ]
  },
  {
   "cell_type": "code",
   "execution_count": 134,
   "metadata": {
    "collapsed": true
   },
   "outputs": [],
   "source": [
    "from sklearn.decomposition import TruncatedSVD\n",
    "\n",
    "svd = TruncatedSVD(n_components=200)\n",
    "tr_features_truncated = svd.fit_transform(tr_features_all)"
   ]
  },
  {
   "cell_type": "code",
   "execution_count": 135,
   "metadata": {
    "collapsed": true
   },
   "outputs": [],
   "source": [
    "te_features_truncated = svd.transform(te_features_all)"
   ]
  },
  {
   "cell_type": "code",
   "execution_count": 136,
   "metadata": {
    "collapsed": true
   },
   "outputs": [],
   "source": [
    "svd = TruncatedSVD(n_components=200)\n",
    "ctr_features_truncated = svd.fit_transform(ctr_features_all)\n",
    "cte_features_truncated = svd.transform(cte_features_all)"
   ]
  },
  {
   "cell_type": "markdown",
   "metadata": {},
   "source": [
    "### Running 4 classification algorithms : Naive Bayes, Logistic Regression, Decision Trees and Perceptron\n",
    "\n",
    "# Comparison of the Diff Classifiers"
   ]
  },
  {
   "cell_type": "code",
   "execution_count": 137,
   "metadata": {
    "collapsed": true
   },
   "outputs": [],
   "source": [
    "from sklearn import linear_model\n",
    "from sklearn.tree import DecisionTreeClassifier\n",
    "\n",
    "models = {'BernoulliNB': BernoulliNB(binarize=0.5)\n",
    "          ,'Logistic' : linear_model.LogisticRegression(C=1e5),'Decision Tree' : DecisionTreeClassifier(random_state=20160121, criterion='entropy'),\n",
    "                                                                                                        'Perceptron': linear_model.Perceptron(n_iter=1000)}"
   ]
  },
  {
   "cell_type": "code",
   "execution_count": 138,
   "metadata": {},
   "outputs": [
    {
     "name": "stdout",
     "output_type": "stream",
     "text": [
      "           Model  TF-IDF Accuracy\n",
      "0    BernoulliNB          0.78912\n",
      "1       Logistic          0.84296\n",
      "2  Decision Tree          0.80960\n",
      "3     Perceptron          0.77992\n"
     ]
    }
   ],
   "source": [
    "results_svd = pd.DataFrame()\n",
    "\n",
    "foldnum = 0\n",
    "tfprediction = {}\n",
    "cprediction = {}\n",
    "for name,model in models.items():\n",
    "        model.fit(tr_features_truncated, Train_labels)\n",
    "        tfprediction[name] = model.predict(te_features_truncated)\n",
    "        tfaccuracy = metrics.accuracy_score(tfprediction[name],Test_labels)\n",
    "        \n",
    "        #model.fit(ctr_features_truncated,Train_labels)\n",
    "        #cprediction[name] = model.predict(cte_features_truncated)\n",
    "        #caccuracy = metrics.accuracy_score(cprediction[name],Test_labels)\n",
    "\n",
    "        results_svd.loc[foldnum,'Model']=name\n",
    "        results_svd.loc[foldnum,'TF-IDF Accuracy']=tfaccuracy\n",
    "        #results_svd.loc[foldnum,'Count Accuracy']=caccuracy\n",
    "        foldnum = foldnum+1\n",
    "print (results_svd)"
   ]
  },
  {
   "cell_type": "markdown",
   "metadata": {},
   "source": [
    "It is clear that for the data model of Amazon food reviews, Decision tree classifier is the best as the accuracy provided by the Decision tree classifier is almost 86% which is best out of all the 4 classiefier that we have implemented. After that, Logistic regression classifier has accuracy of 84.4% which is slightly less than the Decision tree but better than the other 2 classifiers. Same like the logistic regression, Perceptron has almost 82.2% accuracy which is good for the model. We can notice that BernoulliNB has accuracy of 79 which is lower than all other classifier that we have implemented for the Amazon food review model."
   ]
  },
  {
   "cell_type": "code",
   "execution_count": 139,
   "metadata": {},
   "outputs": [
    {
     "name": "stdout",
     "output_type": "stream",
     "text": [
      "Classification report for  BernoulliNB\n",
      "             precision    recall  f1-score   support\n",
      "\n",
      "        neg       0.90      0.05      0.10      2770\n",
      "        pos       0.79      1.00      0.88      9730\n",
      "\n",
      "avg / total       0.81      0.79      0.71     12500\n",
      "\n",
      "\n",
      "\n",
      "Classification report for  Logistic\n",
      "             precision    recall  f1-score   support\n",
      "\n",
      "        neg       0.75      0.43      0.55      2770\n",
      "        pos       0.86      0.96      0.90      9730\n",
      "\n",
      "avg / total       0.83      0.84      0.83     12500\n",
      "\n",
      "\n",
      "\n",
      "Classification report for  Decision Tree\n",
      "             precision    recall  f1-score   support\n",
      "\n",
      "        neg       0.57      0.58      0.57      2770\n",
      "        pos       0.88      0.88      0.88      9730\n",
      "\n",
      "avg / total       0.81      0.81      0.81     12500\n",
      "\n",
      "\n",
      "\n",
      "Classification report for  Perceptron\n",
      "             precision    recall  f1-score   support\n",
      "\n",
      "        neg       0.50      0.72      0.59      2770\n",
      "        pos       0.91      0.80      0.85      9730\n",
      "\n",
      "avg / total       0.82      0.78      0.79     12500\n",
      "\n",
      "\n",
      "\n"
     ]
    }
   ],
   "source": [
    "for name,model in models.items():\n",
    "    print (\"Classification report for \",name)\n",
    "    print(metrics.classification_report(Test_labels, tfprediction[name]))\n",
    "    print(\"\\n\")"
   ]
  },
  {
   "cell_type": "code",
   "execution_count": 141,
   "metadata": {},
   "outputs": [
    {
     "data": {
      "image/png": "[encoded data removed]",
      "text/plain": [
       "<matplotlib.figure.Figure at 0x12e2ad2b0>"
      ]
     },
     "metadata": {},
     "output_type": "display_data"
    },
    {
     "data": {
      "image/png": "[encoded data removed]",
      "text/plain": [
       "<matplotlib.figure.Figure at 0x12e334390>"
      ]
     },
     "metadata": {},
     "output_type": "display_data"
    }
   ],
   "source": [
    "results_svd.plot(kind='bar',color=['r','g','b','y'],title='Model Performance',figsize=(10,6),x='Model',legend=False)\n",
    "plt.show()"
   ]
  },
  {
   "cell_type": "markdown",
   "metadata": {},
   "source": [
    "# Random Forest Classifier"
   ]
  },
  {
   "cell_type": "code",
   "execution_count": 144,
   "metadata": {},
   "outputs": [
    {
     "name": "stdout",
     "output_type": "stream",
     "text": [
      "       Id   ProductId          UserId                ProfileName  \\\n",
      "0  492346  B001VNP0Y6   AEZRVY3CV52UZ  Corey Wright \"Democratus\"   \n",
      "1  343811  B008J1HO4C  A18VZYSLOUO060    D. Simpson \"Frugal SOB\"   \n",
      "2  347257  B000FFIL60  A28Y1M7GRG0I9M        Real Comments \"Lin\"   \n",
      "3  225529  B002ZX1U9A  A245HC4T5J97WG            Logan DeAngelis   \n",
      "4  485488  B001RVFERK   AVABPJCKE2MR5                       spal   \n",
      "\n",
      "   HelpfulnessNumerator  HelpfulnessDenominator  Prediction        Time  \\\n",
      "0                     3                       3           5  1320537600   \n",
      "1                     2                       2           5  1204329600   \n",
      "2                     0                       0           4  1318464000   \n",
      "3                     0                       0           5  1306540800   \n",
      "4                     0                       0           4  1314921600   \n",
      "\n",
      "                         Summary  \\\n",
      "0             Just what I needed   \n",
      "1         Most excellent oatmeal   \n",
      "2                    Quality Tea   \n",
      "3  Great Coffee at a Great price   \n",
      "4       Popchips Jalapeno flavor   \n",
      "\n",
      "                                                Text  Text_Length Sentiment  \\\n",
      "0  I got them in a very timely manner and they're...          271  positive   \n",
      "1  McCann's Steel Cut Oatmeal is the perfect brea...          401  positive   \n",
      "2  I would recommend it. Quality pearls and a few...          214  positive   \n",
      "3  I have to admit, I first purchased these Hazel...          247  positive   \n",
      "4  I bought a case of jalapeno chips as I love th...          303  positive   \n",
      "\n",
      "  Usefulness                  Summary_Clean  \\\n",
      "0     useful             just what i needed   \n",
      "1     useful         most excellent oatmeal   \n",
      "2    useless                    quality tea   \n",
      "3    useless  great coffee at a great price   \n",
      "4    useless       popchips jalapeno flavor   \n",
      "\n",
      "                                         comment_tok  \n",
      "0  [got_VBD, timely_JJ, manner_NN, 're_VBP, large...  \n",
      "1  [mccann_NN, steel_NN, cut_NN, oatmeal_NN, perf...  \n",
      "2  [would_MD, recommend_VB, quality_NN, pearl_NN,...  \n",
      "3  [admit_VB, first_RB, purchased_VBN, hazelnut_J...  \n",
      "4  [bought_VBD, case_NN, jalapeno_JJ, chip_NNS, l...  \n",
      "(500, 15)\n"
     ]
    },
    {
     "name": "stderr",
     "output_type": "stream",
     "text": [
      "/Users/user/anaconda3/lib/python3.6/site-packages/ipykernel_launcher.py:20: SettingWithCopyWarning: \n",
      "A value is trying to be set on a copy of a slice from a DataFrame.\n",
      "Try using .loc[row_indexer,col_indexer] = value instead\n",
      "\n",
      "See the caveats in the documentation: http://pandas.pydata.org/pandas-docs/stable/indexing.html#indexing-view-versus-copy\n"
     ]
    }
   ],
   "source": [
    "### Cleaning data to remove Stopwords and Small length words also lemmatized data to bring into common format\n",
    "\n",
    "from nltk.corpus import stopwords\n",
    "from nltk.tokenize import word_tokenize, sent_tokenize\n",
    "from nltk.stem.wordnet import WordNetLemmatizer\n",
    "from nltk import pos_tag\n",
    "import re\n",
    "\n",
    "lmtzr = WordNetLemmatizer()\n",
    "negation = re.compile(r\"(?:^(?:never|no|nothing|nowhere|noone|none|not|havent|hasnt|hadnt|cant|couldnt|shouldnt|wont|wouldnt|dont|doesnt|didnt|isnt|arent|aint)$)|n't\",re.I)\n",
    "clp = re.compile(r\"^[.:;!?]$\",re.I)\n",
    "    \n",
    "def extract_words_from_comments(df):\n",
    "    comments_tok = []\n",
    "    for index, datapoint in df.iterrows():\n",
    "        tokenized_words = word_tokenize(datapoint[\"Text\"].lower(),language='english')\n",
    "        pos_tagged_words = pos_tag(tokenized_words)\n",
    "        tokenized_words = [\"_\".join([lmtzr.lemmatize(i[0]),i[1]]) for i in pos_tagged_words if (i[0] not in stopwords.words(\"english\") and len(i[0]) > 2)]\n",
    "        comments_tok.append(tokenized_words)\n",
    "    df[\"comment_tok\"] = comments_tok\n",
    "    return df\n",
    "\n",
    "df = extract_words_from_comments(df.head(500))\n",
    "print (df.head())\n",
    "print (df.shape)"
   ]
  },
  {
   "cell_type": "markdown",
   "metadata": {},
   "source": [
    "# Vectorize words using BOW technique\n"
   ]
  },
  {
   "cell_type": "code",
   "execution_count": 145,
   "metadata": {},
   "outputs": [
    {
     "name": "stdout",
     "output_type": "stream",
     "text": [
      "(500, 1950)\n"
     ]
    }
   ],
   "source": [
    "from gensim import matutils,corpora, models\n",
    "\n",
    "def vectorize_comments(df):\n",
    "    d = corpora.Dictionary(df[\"comment_tok\"])\n",
    "    d.filter_extremes(no_below=2, no_above=0.8)\n",
    "    d.compactify()\n",
    "    corpus = [d.doc2bow(text) for text in df[\"comment_tok\"]]\n",
    "    # tfidf = TfidfModel(corpus=corpus,id2word=d)\n",
    "    # corpus_tfidf = tfidf[corpus]\n",
    "    # corpus_tfidf = matutils.corpus2csc(corpus_tfidf,num_terms=len(d.token2id))\n",
    "    corpus = matutils.corpus2csc(corpus, num_terms=len(d.token2id))\n",
    "    corpus = corpus.transpose()\n",
    "    return d, corpus\n",
    "\n",
    "dictionary,corpus = vectorize_comments(df)\n",
    "print (corpus.shape)"
   ]
  },
  {
   "cell_type": "markdown",
   "metadata": {},
   "source": [
    "# Train Random forest classifier\n"
   ]
  },
  {
   "cell_type": "code",
   "execution_count": 146,
   "metadata": {},
   "outputs": [
    {
     "name": "stderr",
     "output_type": "stream",
     "text": [
      "[Parallel(n_jobs=4)]: Done  42 tasks      | elapsed:    0.1s\n",
      "[Parallel(n_jobs=4)]: Done 100 out of 100 | elapsed:    0.2s finished\n",
      "[Parallel(n_jobs=4)]: Done  42 tasks      | elapsed:    0.0s\n",
      "[Parallel(n_jobs=4)]: Done 100 out of 100 | elapsed:    0.0s finished\n",
      "[Parallel(n_jobs=4)]: Done  42 tasks      | elapsed:    0.1s\n",
      "[Parallel(n_jobs=4)]: Done 100 out of 100 | elapsed:    0.1s finished\n",
      "[Parallel(n_jobs=4)]: Done  42 tasks      | elapsed:    0.0s\n",
      "[Parallel(n_jobs=4)]: Done 100 out of 100 | elapsed:    0.0s finished\n",
      "[Parallel(n_jobs=4)]: Done  42 tasks      | elapsed:    0.1s\n",
      "[Parallel(n_jobs=4)]: Done 100 out of 100 | elapsed:    0.1s finished\n",
      "[Parallel(n_jobs=4)]: Done  42 tasks      | elapsed:    0.0s\n",
      "[Parallel(n_jobs=4)]: Done 100 out of 100 | elapsed:    0.0s finished\n",
      "[Parallel(n_jobs=4)]: Done  42 tasks      | elapsed:    0.1s\n",
      "[Parallel(n_jobs=4)]: Done 100 out of 100 | elapsed:    0.1s finished\n",
      "[Parallel(n_jobs=4)]: Done  42 tasks      | elapsed:    0.0s\n",
      "[Parallel(n_jobs=4)]: Done 100 out of 100 | elapsed:    0.0s finished\n",
      "[Parallel(n_jobs=4)]: Done  42 tasks      | elapsed:    0.1s\n",
      "[Parallel(n_jobs=4)]: Done 100 out of 100 | elapsed:    0.1s finished\n",
      "[Parallel(n_jobs=4)]: Done  42 tasks      | elapsed:    0.0s\n",
      "[Parallel(n_jobs=4)]: Done 100 out of 100 | elapsed:    0.0s finished\n"
     ]
    },
    {
     "name": "stdout",
     "output_type": "stream",
     "text": [
      "0.610204081632653 ----------------Accuracy score on Cross Validation Sets\n",
      "0.5\n"
     ]
    }
   ],
   "source": [
    "from sklearn import cross_validation\n",
    "from sklearn.grid_search import GridSearchCV\n",
    "from sklearn.ensemble import RandomForestClassifier as RFC\n",
    "import warnings\n",
    "warnings.filterwarnings(\"ignore\", category=DeprecationWarning)\n",
    "import pickle\n",
    "\n",
    "\n",
    "def train_classifier(X,y):\n",
    "    n_estimators = [100]\n",
    "    min_samples_split = [2]\n",
    "    min_samples_leaf = [1]\n",
    "    bootstrap = [True]\n",
    "\n",
    "    parameters = {'n_estimators': n_estimators, 'min_samples_leaf': min_samples_leaf,\n",
    "                  'min_samples_split': min_samples_split}\n",
    "\n",
    "    clf = GridSearchCV(RFC(verbose=1,n_jobs=4), cv=4, param_grid=parameters)\n",
    "    clf.fit(X, y)\n",
    "    return clf\n",
    "\n",
    "X_train, X_test, y_train, y_test = cross_validation.train_test_split(corpus, df[\"Prediction\"], test_size=0.02, random_state=17)\n",
    "classifier = train_classifier(X_train,y_train)\n",
    "print (classifier.best_score_, \"----------------Accuracy score on Cross Validation Sets\")\n",
    "print (classifier.score(X_test,y_test))"
   ]
  },
  {
   "cell_type": "code",
   "execution_count": 147,
   "metadata": {
    "collapsed": true
   },
   "outputs": [],
   "source": [
    "#Apply TfidfVectorizer to review text\n",
    "\n",
    "from sklearn.feature_extraction.text import TfidfVectorizer\n",
    "from sklearn.cluster import KMeans\n",
    "from sklearn import metrics\n",
    "\n"
   ]
  },
  {
   "cell_type": "markdown",
   "metadata": {},
   "source": [
    "# Improving Prediction with K-Means Clustering of Reviews"
   ]
  },
  {
   "cell_type": "code",
   "execution_count": 148,
   "metadata": {},
   "outputs": [
    {
     "data": {
      "text/plain": [
       "TfidfVectorizer(analyzer='word', binary=False, decode_error='strict',\n",
       "        dtype=<class 'numpy.int64'>, encoding='utf-8', input='content',\n",
       "        lowercase=True, max_df=0.95, max_features=None, min_df=0.05,\n",
       "        ngram_range=(1, 2), norm='l2', preprocessor=None, smooth_idf=True,\n",
       "        stop_words='english', strip_accents=None, sublinear_tf=False,\n",
       "        token_pattern='(?u)\\\\b\\\\w\\\\w+\\\\b', tokenizer=None, use_idf=True,\n",
       "        vocabulary=None)"
      ]
     },
     "execution_count": 148,
     "metadata": {},
     "output_type": "execute_result"
    }
   ],
   "source": [
    "model = KMeans(n_clusters=4, init='k-means++', max_iter=100, n_init=1,random_state=5)\n",
    "\n",
    "vectorizer = TfidfVectorizer(min_df = 0.05, max_df=0.95,\n",
    "                             ngram_range=(1, 2), \n",
    "                             stop_words='english')\n",
    "vectorizer.fit(df1['Text'])"
   ]
  },
  {
   "cell_type": "code",
   "execution_count": 149,
   "metadata": {
    "collapsed": true
   },
   "outputs": [],
   "source": [
    "X_train = vectorizer.transform(df1['Text'])\n",
    "vocab = vectorizer.get_feature_names()\n",
    "sse_err = []\n",
    "res = model.fit(X_train)\n",
    "vocab = np.array(vocab)\n",
    "cluster_centers = np.array(res.cluster_centers_)\n",
    "sorted_vals = [res.cluster_centers_[i].argsort() for i in range(0,np.shape(res.cluster_centers_)[0])]\n",
    "words=set()\n",
    "for i in range(len(res.cluster_centers_)):\n",
    "    words = words.union(set(vocab[sorted_vals[i][-10:]]))\n",
    "words=list(words)"
   ]
  },
  {
   "cell_type": "code",
   "execution_count": 150,
   "metadata": {},
   "outputs": [
    {
     "data": {
      "text/plain": [
       "['tea',\n",
       " 'food',\n",
       " 'drink',\n",
       " 'flavor',\n",
       " 'br br',\n",
       " 'really',\n",
       " 'good',\n",
       " 'coffee',\n",
       " 'best',\n",
       " 'great',\n",
       " 'product',\n",
       " 'love',\n",
       " 'br',\n",
       " 'cup',\n",
       " 'like',\n",
       " 'amazon',\n",
       " 'taste',\n",
       " 'use',\n",
       " 'price',\n",
       " 'just']"
      ]
     },
     "execution_count": 150,
     "metadata": {},
     "output_type": "execute_result"
    }
   ],
   "source": [
    "#top 10 words for each cluster\n",
    "words"
   ]
  },
  {
   "cell_type": "code",
   "execution_count": 151,
   "metadata": {
    "collapsed": true
   },
   "outputs": [],
   "source": [
    "#add top words to train set\n",
    "train_set=X_train[:,[np.argwhere(vocab==i)[0][0] for i in words]]"
   ]
  },
  {
   "cell_type": "code",
   "execution_count": 152,
   "metadata": {},
   "outputs": [
    {
     "name": "stderr",
     "output_type": "stream",
     "text": [
      "/Users/user/anaconda3/lib/python3.6/site-packages/ipykernel_launcher.py:2: SettingWithCopyWarning: \n",
      "A value is trying to be set on a copy of a slice from a DataFrame.\n",
      "Try using .loc[row_indexer,col_indexer] = value instead\n",
      "\n",
      "See the caveats in the documentation: http://pandas.pydata.org/pandas-docs/stable/indexing.html#indexing-view-versus-copy\n",
      "  \n"
     ]
    },
    {
     "data": {
      "text/html": [
       "<div>\n",
       "<style>\n",
       "    .dataframe thead tr:only-child th {\n",
       "        text-align: right;\n",
       "    }\n",
       "\n",
       "    .dataframe thead th {\n",
       "        text-align: left;\n",
       "    }\n",
       "\n",
       "    .dataframe tbody tr th {\n",
       "        vertical-align: top;\n",
       "    }\n",
       "</style>\n",
       "<table border=\"1\" class=\"dataframe\">\n",
       "  <thead>\n",
       "    <tr style=\"text-align: right;\">\n",
       "      <th></th>\n",
       "      <th>HelpfulnessNumerator</th>\n",
       "      <th>HelpfulnessDenominator</th>\n",
       "      <th>Prediction</th>\n",
       "      <th>Text</th>\n",
       "    </tr>\n",
       "    <tr>\n",
       "      <th>cluster</th>\n",
       "      <th></th>\n",
       "      <th></th>\n",
       "      <th></th>\n",
       "      <th></th>\n",
       "    </tr>\n",
       "  </thead>\n",
       "  <tbody>\n",
       "    <tr>\n",
       "      <th>0</th>\n",
       "      <td>7506</td>\n",
       "      <td>7506</td>\n",
       "      <td>7506</td>\n",
       "      <td>7506</td>\n",
       "    </tr>\n",
       "    <tr>\n",
       "      <th>1</th>\n",
       "      <td>27729</td>\n",
       "      <td>27729</td>\n",
       "      <td>27729</td>\n",
       "      <td>27729</td>\n",
       "    </tr>\n",
       "    <tr>\n",
       "      <th>2</th>\n",
       "      <td>5519</td>\n",
       "      <td>5519</td>\n",
       "      <td>5519</td>\n",
       "      <td>5519</td>\n",
       "    </tr>\n",
       "    <tr>\n",
       "      <th>3</th>\n",
       "      <td>9243</td>\n",
       "      <td>9243</td>\n",
       "      <td>9243</td>\n",
       "      <td>9243</td>\n",
       "    </tr>\n",
       "  </tbody>\n",
       "</table>\n",
       "</div>"
      ],
      "text/plain": [
       "         HelpfulnessNumerator  HelpfulnessDenominator  Prediction   Text\n",
       "cluster                                                                 \n",
       "0                        7506                    7506        7506   7506\n",
       "1                       27729                   27729       27729  27729\n",
       "2                        5519                    5519        5519   5519\n",
       "3                        9243                    9243        9243   9243"
      ]
     },
     "execution_count": 152,
     "metadata": {},
     "output_type": "execute_result"
    }
   ],
   "source": [
    "# how many observations are in each cluster\n",
    "df1['cluster'] = model.labels_\n",
    "df1.groupby('cluster').count()"
   ]
  },
  {
   "cell_type": "code",
   "execution_count": 153,
   "metadata": {},
   "outputs": [
    {
     "data": {
      "text/html": [
       "<div>\n",
       "<style>\n",
       "    .dataframe thead tr:only-child th {\n",
       "        text-align: right;\n",
       "    }\n",
       "\n",
       "    .dataframe thead th {\n",
       "        text-align: left;\n",
       "    }\n",
       "\n",
       "    .dataframe tbody tr th {\n",
       "        vertical-align: top;\n",
       "    }\n",
       "</style>\n",
       "<table border=\"1\" class=\"dataframe\">\n",
       "  <thead>\n",
       "    <tr style=\"text-align: right;\">\n",
       "      <th></th>\n",
       "      <th>HelpfulnessNumerator</th>\n",
       "      <th>HelpfulnessDenominator</th>\n",
       "      <th>Prediction</th>\n",
       "    </tr>\n",
       "    <tr>\n",
       "      <th>cluster</th>\n",
       "      <th></th>\n",
       "      <th></th>\n",
       "      <th></th>\n",
       "    </tr>\n",
       "  </thead>\n",
       "  <tbody>\n",
       "    <tr>\n",
       "      <th>0</th>\n",
       "      <td>1.634559</td>\n",
       "      <td>2.006395</td>\n",
       "      <td>4.223954</td>\n",
       "    </tr>\n",
       "    <tr>\n",
       "      <th>1</th>\n",
       "      <td>1.383461</td>\n",
       "      <td>1.810127</td>\n",
       "      <td>4.237874</td>\n",
       "    </tr>\n",
       "    <tr>\n",
       "      <th>2</th>\n",
       "      <td>1.734191</td>\n",
       "      <td>2.351694</td>\n",
       "      <td>4.019750</td>\n",
       "    </tr>\n",
       "    <tr>\n",
       "      <th>3</th>\n",
       "      <td>2.809802</td>\n",
       "      <td>3.481554</td>\n",
       "      <td>4.055501</td>\n",
       "    </tr>\n",
       "  </tbody>\n",
       "</table>\n",
       "</div>"
      ],
      "text/plain": [
       "         HelpfulnessNumerator  HelpfulnessDenominator  Prediction\n",
       "cluster                                                          \n",
       "0                    1.634559                2.006395    4.223954\n",
       "1                    1.383461                1.810127    4.237874\n",
       "2                    1.734191                2.351694    4.019750\n",
       "3                    2.809802                3.481554    4.055501"
      ]
     },
     "execution_count": 153,
     "metadata": {},
     "output_type": "execute_result"
    }
   ],
   "source": [
    "# what does each cluster look like\n",
    "df1.groupby('cluster').mean()"
   ]
  },
  {
   "cell_type": "markdown",
   "metadata": {},
   "source": [
    "# Improving Prediction with Logistic Regression of Reviews\n"
   ]
  },
  {
   "cell_type": "code",
   "execution_count": 154,
   "metadata": {
    "collapsed": true
   },
   "outputs": [],
   "source": [
    "stops = set(stopwords.words(\"english\"))\n",
    "\n",
    "def binarize_prediction(prediction):\n",
    "    \"\"\"\n",
    "    set prediction of 1-3 to 0 and 4-5 as 1\n",
    "    \"\"\"\n",
    "    \n",
    "    if prediction <3:\n",
    "        return 0\n",
    "    else:\n",
    "        return 1\n",
    "\n",
    "\n",
    "\n",
    "def review_to_words( review ):\n",
    "    \"\"\"\n",
    "    Return a list of cleaned word tokens from the raw review\n",
    "    \n",
    "    \"\"\"\n",
    "        \n",
    "    #Remove any HTML tags and convert to lower case\n",
    "    review_text = BeautifulSoup(review).get_text().lower() \n",
    "    \n",
    "    #Replace smiliey and frown faces, ! and ? with coded word SM{int} in case these are valuable\n",
    "    review_text=re.sub(\"(:\\))\",r' SM1',review_text)\n",
    "    review_text=re.sub(\"(:\\()\",r' SM2',review_text)\n",
    "    review_text=re.sub(\"(!)\",r' SM3',review_text)\n",
    "    review_text=re.sub(\"(\\?)\",r' SM4',review_text)\n",
    "    \n",
    "    #keep 'not' and the next word as negation may be important\n",
    "    review_text=re.sub(r\"not\\s\\b(.*?)\\b\", r\"not_\\1\", review_text)\n",
    "    \n",
    "    #keep letters and the coded words above, replace the rest with whitespace\n",
    "    nonnumbers_only=re.sub(\"[^a-zA-Z\\_(SM\\d)]\",\" \",review_text)  \n",
    "    \n",
    "    #Split into individual words on whitespace\n",
    "    words = nonnumbers_only.split()                             \n",
    "    \n",
    "    #Remove stop words\n",
    "    words = [w for w in words if not w in stops]   \n",
    "    \n",
    "    return (words)\n",
    "\n",
    "\n",
    "\n",
    "def avg_word_vectors(wordlist,size):\n",
    "    \"\"\"\n",
    "    returns a vector of zero for reviews containing words where none of them\n",
    "    met the min_count or were not seen in the training set\n",
    "    \n",
    "    Otherwise return an average of the embeddings vectors\n",
    "    \n",
    "    \"\"\"\n",
    "    \n",
    "    sumvec=np.zeros(shape=(1,size))\n",
    "    wordcnt=0\n",
    "    \n",
    "    for w in wordlist:\n",
    "        if w in model:\n",
    "            sumvec += model[w]\n",
    "            wordcnt +=1\n",
    "    \n",
    "    if wordcnt ==0:\n",
    "        return sumvec\n",
    "    \n",
    "    else:\n",
    "        return sumvec / wordcnt"
   ]
  },
  {
   "cell_type": "code",
   "execution_count": 155,
   "metadata": {},
   "outputs": [
    {
     "name": "stderr",
     "output_type": "stream",
     "text": [
      "/Users/user/anaconda3/lib/python3.6/site-packages/ipykernel_launcher.py:3: SettingWithCopyWarning: \n",
      "A value is trying to be set on a copy of a slice from a DataFrame.\n",
      "Try using .loc[row_indexer,col_indexer] = value instead\n",
      "\n",
      "See the caveats in the documentation: http://pandas.pydata.org/pandas-docs/stable/indexing.html#indexing-view-versus-copy\n",
      "  This is separate from the ipykernel package so we can avoid doing imports until\n",
      "/Users/user/anaconda3/lib/python3.6/site-packages/bs4/__init__.py:181: UserWarning: No parser was explicitly specified, so I'm using the best available HTML parser for this system (\"lxml\"). This usually isn't a problem, but if you run this code on another system, or in a different virtual environment, it may use a different parser and behave differently.\n",
      "\n",
      "The code that caused this warning is on line 193 of the file /Users/user/anaconda3/lib/python3.6/runpy.py. To get rid of this warning, change code that looks like this:\n",
      "\n",
      " BeautifulSoup(YOUR_MARKUP})\n",
      "\n",
      "to this:\n",
      "\n",
      " BeautifulSoup(YOUR_MARKUP, \"lxml\")\n",
      "\n",
      "  markup_type=markup_type))\n"
     ]
    },
    {
     "name": "stdout",
     "output_type": "stream",
     "text": [
      "       Id   ProductId          UserId                ProfileName  \\\n",
      "0  492346  B001VNP0Y6   AEZRVY3CV52UZ  Corey Wright \"Democratus\"   \n",
      "1  343811  B008J1HO4C  A18VZYSLOUO060    D. Simpson \"Frugal SOB\"   \n",
      "2  347257  B000FFIL60  A28Y1M7GRG0I9M        Real Comments \"Lin\"   \n",
      "3  225529  B002ZX1U9A  A245HC4T5J97WG            Logan DeAngelis   \n",
      "4  485488  B001RVFERK   AVABPJCKE2MR5                       spal   \n",
      "5   74981  B0026RQTGE  A161Y9NAR43WCW                     vertov   \n",
      "6  204180  B000F0FZE6  A1H35JZ9UUCVIF                   carrera4   \n",
      "7  454372  B0019K981W  A13H71301WENPW     Patricia Fentriss \"PF\"   \n",
      "8  112235  B0009JJB4S  A2HBOYLMGW2A5Y                        lee   \n",
      "9  295251  B000LQNK50   ATO0RF3HWQ3WW            Scott \"Scottso\"   \n",
      "\n",
      "   HelpfulnessNumerator  HelpfulnessDenominator  Prediction        Time  \\\n",
      "0                     3                       3           5  1320537600   \n",
      "1                     2                       2           5  1204329600   \n",
      "2                     0                       0           4  1318464000   \n",
      "3                     0                       0           5  1306540800   \n",
      "4                     0                       0           4  1314921600   \n",
      "5                     0                       0           5  1314835200   \n",
      "6                     1                       1           5  1330646400   \n",
      "7                    11                      13           1  1249344000   \n",
      "8                     0                       0           5  1345852800   \n",
      "9                    12                      16           3  1236729600   \n",
      "\n",
      "                                             Summary  \\\n",
      "0                                 Just what I needed   \n",
      "1                             Most excellent oatmeal   \n",
      "2                                        Quality Tea   \n",
      "3                      Great Coffee at a Great price   \n",
      "4                           Popchips Jalapeno flavor   \n",
      "5                           Our dog has fresh breath   \n",
      "6                             Great Pasta & Healthy!   \n",
      "7  Sugar bomb!!!  Same amount of sugar as a 12 oz...   \n",
      "8                        Pretty great for the price!   \n",
      "9                                             Its OK   \n",
      "\n",
      "                                                Text  Text_Length Sentiment  \\\n",
      "0  I got them in a very timely manner and they're...          271  positive   \n",
      "1  McCann's Steel Cut Oatmeal is the perfect brea...          401  positive   \n",
      "2  I would recommend it. Quality pearls and a few...          214  positive   \n",
      "3  I have to admit, I first purchased these Hazel...          247  positive   \n",
      "4  I bought a case of jalapeno chips as I love th...          303  positive   \n",
      "5  No doggie breath for our dog.  People are alwa...          268  positive   \n",
      "6  I tried this pasta after viewing the Dr. Oz sh...          331  positive   \n",
      "7  Check out the sugar content before you buy!  2...          187  negative   \n",
      "8  I drink Iron goddess oolong pretty often, it i...          543  positive   \n",
      "9  Maybe it's due to my tendency to prefer noodle...          825  negative   \n",
      "\n",
      "  Usefulness                                 Summary_Clean  \\\n",
      "0     useful                            just what i needed   \n",
      "1     useful                        most excellent oatmeal   \n",
      "2    useless                                   quality tea   \n",
      "3    useless                 great coffee at a great price   \n",
      "4    useless                      popchips jalapeno flavor   \n",
      "5    useless                      our dog has fresh breath   \n",
      "6     useful                           great pasta healthy   \n",
      "7     useful  sugar bomb same amount of sugar as a oz coke   \n",
      "8    useless                    pretty great for the price   \n",
      "9    useless                                        its ok   \n",
      "\n",
      "                                         comment_tok  Prediction_binary  \\\n",
      "0  [got_VBD, timely_JJ, manner_NN, 're_VBP, large...                  1   \n",
      "1  [mccann_NN, steel_NN, cut_NN, oatmeal_NN, perf...                  1   \n",
      "2  [would_MD, recommend_VB, quality_NN, pearl_NN,...                  1   \n",
      "3  [admit_VB, first_RB, purchased_VBN, hazelnut_J...                  1   \n",
      "4  [bought_VBD, case_NN, jalapeno_JJ, chip_NNS, l...                  1   \n",
      "5  [doggie_NN, breath_NN, dog_NN, people_NNS, alw...                  1   \n",
      "6  [tried_VBD, pasta_NN, viewing_VBG, dr._NN, sho...                  1   \n",
      "7  [check_VB, sugar_NN, content_NN, buy_VBP, gram...                  0   \n",
      "8  [drink_VBP, iron_NN, goddess_NN, oolong_IN, pr...                  1   \n",
      "9  [maybe_RB, due_JJ, tendency_NN, prefer_VB, noo...                  1   \n",
      "\n",
      "                                           word_list  \n",
      "0                                           [needed]  \n",
      "1                               [excellent, oatmeal]  \n",
      "2                                     [quality, tea]  \n",
      "3                      [great, coffee, great, price]  \n",
      "4                       [popchips, jalapeno, flavor]  \n",
      "5                               [dog, fresh, breath]  \n",
      "6                       [great, pasta, healthy, SM3]  \n",
      "7  [sugar, bomb, SM3, SM3, SM3, amount, sugar, 12...  \n",
      "8                        [pretty, great, price, SM3]  \n",
      "9                                               [ok]  \n"
     ]
    },
    {
     "name": "stderr",
     "output_type": "stream",
     "text": [
      "/Users/user/anaconda3/lib/python3.6/site-packages/ipykernel_launcher.py:4: SettingWithCopyWarning: \n",
      "A value is trying to be set on a copy of a slice from a DataFrame.\n",
      "Try using .loc[row_indexer,col_indexer] = value instead\n",
      "\n",
      "See the caveats in the documentation: http://pandas.pydata.org/pandas-docs/stable/indexing.html#indexing-view-versus-copy\n",
      "  after removing the cwd from sys.path.\n"
     ]
    }
   ],
   "source": [
    "from bs4 import BeautifulSoup\n",
    "\n",
    "df['Prediction_binary']=df['Prediction'].apply(binarize_prediction)\n",
    "df['word_list']=df['Summary'].apply(review_to_words)\n",
    "\n",
    "print (df.head(n=10))"
   ]
  },
  {
   "cell_type": "code",
   "execution_count": 156,
   "metadata": {
    "collapsed": true
   },
   "outputs": [],
   "source": [
    "from gensim.models import Word2Vec\n",
    "\n",
    "X_train, X_test, y_train, y_test = train_test_split(df['word_list'], df['Prediction_binary'], test_size=0.1, random_state=42)\n",
    "\n",
    "\n",
    "#size of hidden layer (length of continuous word representation)\n",
    "dimsize=400\n",
    "\n",
    "#train word2vec on 80% of training data\n",
    "model = Word2Vec(X_train.values, size=dimsize, window=5, min_count=5, workers=4)\n",
    "\n",
    "#create average vector for train and test from model\n",
    "#returned list of numpy arrays are then stacked \n",
    "X_train=np.concatenate([avg_word_vectors(w,dimsize) for w in X_train])\n",
    "X_test=np.concatenate([avg_word_vectors(w,dimsize) for w in X_test])"
   ]
  },
  {
   "cell_type": "code",
   "execution_count": 157,
   "metadata": {},
   "outputs": [
    {
     "name": "stderr",
     "output_type": "stream",
     "text": [
      "/Users/user/anaconda3/lib/python3.6/site-packages/sklearn/linear_model/stochastic_gradient.py:128: FutureWarning: max_iter and tol parameters have been added in <class 'sklearn.linear_model.stochastic_gradient.SGDClassifier'> in 0.19. If both are left unset, they default to max_iter=5 and tol=None. If tol is not None, max_iter defaults to max_iter=1000. From 0.21, default max_iter will be 1000, and default tol will be 1e-3.\n",
      "  \"and default tol will be 1e-3.\" % type(self), FutureWarning)\n"
     ]
    },
    {
     "data": {
      "text/plain": [
       "0.6950757575757576"
      ]
     },
     "execution_count": 157,
     "metadata": {},
     "output_type": "execute_result"
    }
   ],
   "source": [
    "#basic logistic regression with SGD\n",
    "from sklearn import linear_model\n",
    "from sklearn.metrics import roc_auc_score\n",
    "\n",
    "clf = linear_model.SGDClassifier(loss='log')\n",
    "clf.fit(X_train, y_train)\n",
    "p=clf.predict_proba(X_test)\n",
    "roc_auc_score(y_test,p[:,1])"
   ]
  },
  {
   "cell_type": "code",
   "execution_count": 161,
   "metadata": {},
   "outputs": [
    {
     "name": "stdout",
     "output_type": "stream",
     "text": [
      "Accuracy score using kNN is 0.9\n"
     ]
    }
   ],
   "source": [
    "# setting kNN classifier\n",
    "knn = KNeighborsClassifier(n_neighbors=11)\n",
    "\n",
    "# kNN cross validation\n",
    "\n",
    "# print(\"KfoldCrossVal mean score using kNN is %s\" %cross_val_score(knn,X,y,cv=10).mean())\n",
    "\n",
    "# kNN metrics\n",
    "kNNm = knn.fit(X_train, y_train)\n",
    "\n",
    "y_pred = kNNm.predict(X_test)\n",
    "print(\"Accuracy score using kNN is %s\" %metrics.accuracy_score(y_test, y_pred))"
   ]
  },
  {
   "cell_type": "markdown",
   "metadata": {},
   "source": [
    "### Accuracy which we get here is 90% using the KNN which was previously less than this using other classifiers"
   ]
  },
  {
   "cell_type": "code",
   "execution_count": 162,
   "metadata": {
    "collapsed": true
   },
   "outputs": [],
   "source": [
    "from sklearn.feature_extraction.text import TfidfVectorizer\n",
    "\n",
    "# Initialize the \"CountVectorizer\" object, which is scikit-learn's bag of words tool.  \n",
    "# min_df=5, discard words appearing in less than 5 documents\n",
    "# max_df=0.8, discard words appering in more than 80% of the documents\n",
    "# sublinear_tf=True, use sublinear weighting\n",
    "# use_idf=True, enable IDF\n",
    "vectorizer = TfidfVectorizer(min_df=5,\n",
    "                             max_df = 0.8,\n",
    "                             sublinear_tf=True,\n",
    "                             use_idf=True)\n",
    "\n",
    "train_vectors = vectorizer.fit_transform(df[\"Text\"])\n",
    "feature_names = vectorizer.get_feature_names()"
   ]
  },
  {
   "cell_type": "code",
   "execution_count": 163,
   "metadata": {},
   "outputs": [
    {
     "name": "stdout",
     "output_type": "stream",
     "text": [
      "['10', '100', '12', '16', '20', '23', '24', '30', '40', '50', '99', 'able', 'about', 'above', 'absolutely', 'actually', 'add', 'added', 'adding', 'additives', 'admit', 'after', 'afternoon', 'aftertaste', 'again', 'ago', 'air', 'all', 'allergic', 'almond', 'almonds', 'almost', 'already', 'also', 'alternative', 'although', 'always', 'am', 'amazing', 'amazon', 'amount', 'an', 'and', 'another', 'any', 'anyone', 'anything', 'anywhere', 'apple', 'apples', 'appreciate', 'are', 'area', 'around', 'arrived', 'artificial', 'as', 'at', 'ate', 'available', 'average', 'avoid', 'away', 'awesome', 'baby', 'back', 'bad', 'bag', 'bags', 'bar', 'bars', 'based', 'be', 'bean', 'beans', 'beat', 'because', 'bed', 'beef', 'been', 'before', 'being', 'believe', 'benefit', 'best', 'better', 'between', 'big', 'bit', 'bite', 'bitter', 'black', 'blend', 'blueberry', 'bold', 'bones', 'both', 'bottle', 'bottom', 'bought', 'bowl', 'box', 'boxes', 'br', 'brand', 'brands', 'break', 'breakfast', 'breath', 'brew', 'brewed', 'brewing', 'broken', 'brown', 'but', 'butter', 'buy', 'buying', 'by', 'caffeine', 'call', 'called', 'calorie', 'calories', 'came', 'can', 'candies', 'candy', 'canned', 'cannot', 'cans', 'carbs', 'care', 'carrying', 'case', 'cat', 'cats', 'cereal', 'certainly', 'change', 'changed', 'cheaper', 'check', 'chew', 'chewing', 'chicken', 'chip', 'chips', 'chocolate', 'choice', 'choose', 'christmas', 'cinnamon', 'citrus', 'clean', 'close', 'coffee', 'coffees', 'cold', 'color', 'com', 'combined', 'come', 'comes', 'coming', 'company', 'compare', 'compared', 'complex', 'considering', 'consistency', 'contain', 'container', 'contains', 'continue', 'convenience', 'cook', 'cookie', 'cookies', 'cooking', 'cool', 'corn', 'cost', 'could', 'couldn', 'couple', 'course', 'craving', 'cream', 'crunch', 'crunchy', 'cup', 'cups', 'cut', 'dark', 'date', 'day', 'days', 'deal']\n"
     ]
    }
   ],
   "source": [
    "# Take a look at the words in the vocabulary\n",
    "vocab = vectorizer.get_feature_names()\n",
    "print (vocab[1:200])"
   ]
  },
  {
   "cell_type": "code",
   "execution_count": 164,
   "metadata": {},
   "outputs": [
    {
     "name": "stdout",
     "output_type": "stream",
     "text": [
      "Training the random forest...\n"
     ]
    }
   ],
   "source": [
    "from sklearn.metrics import accuracy_score\n",
    "\n",
    "print (\"Training the random forest...\")\n",
    "from sklearn.ensemble import RandomForestClassifier\n",
    "\n",
    "# Initialize a Random Forest classifier with 100 trees\n",
    "forest = RandomForestClassifier(n_estimators = 100) \n",
    "\n",
    "# Fit the forest to the training set, using the bag of words as \n",
    "# features and the sentiment labels as the response variable\n",
    "#\n",
    "# This may take a few minutes to run\n",
    "forest = forest.fit( train_vectors, df[\"Summary\"] )\n",
    "\n",
    "# prediction_rbf = classifier_rbf.predict(test_vectors)"
   ]
  },
  {
   "cell_type": "code",
   "execution_count": 165,
   "metadata": {},
   "outputs": [
    {
     "name": "stdout",
     "output_type": "stream",
     "text": [
      "  Prediction                                               Text  \\\n",
      "0          5  My neighbor gave me a sample from a local Pet ...   \n",
      "1          5  We have a very difficult cat when it comes to ...   \n",
      "2          5  My puppy is a Boxador (Boxer/Lab) and she love...   \n",
      "3          5  I bought one of each color, blue, orange and g...   \n",
      "4          5  Love the Lavazza crema E Gusto. It is very fin...   \n",
      "\n",
      "                                             Summary  \n",
      "0                        Great Treat for small Dogs!  \n",
      "1  We order them from oversees since our cat only...  \n",
      "2                                  Great Puppy Chow!  \n",
      "3                      great ice cubes for baby food  \n",
      "4     excellent espresso coffee with very fine grind  \n",
      "(25000, 3)\n"
     ]
    }
   ],
   "source": [
    "def sampling_dataset(df):\n",
    "    count = 5000\n",
    "    class_df_sampled = pd.DataFrame(columns = [\"Prediction\",\"Text\", \"Summary\"])\n",
    "    temp = []\n",
    "    for c in df.Prediction.unique():\n",
    "        class_indexes = df[df.Prediction == c].index\n",
    "        random_indexes = np.random.choice(class_indexes, count, replace=True)\n",
    "        temp.append(df.loc[random_indexes])\n",
    "        \n",
    "    for each_df in temp:\n",
    "        class_df_sampled = pd.concat([class_df_sampled,each_df],axis=0)\n",
    "    \n",
    "    return class_df_sampled\n",
    "\n",
    "df_Sample = sampling_dataset(df.loc[:,[\"Prediction\",\"Text\",\"Summary\"]])\n",
    "df_Sample.reset_index(drop=True,inplace=True)\n",
    "print (df_Sample.head())\n",
    "print (df_Sample.shape)\n",
    "\n"
   ]
  },
  {
   "cell_type": "code",
   "execution_count": 166,
   "metadata": {},
   "outputs": [
    {
     "name": "stdout",
     "output_type": "stream",
     "text": [
      "  Prediction                                               Text  \\\n",
      "0          5  I can't find these anywhere on the west coast....   \n",
      "1          5  We buy alot of coffee and this starbucks coffe...   \n",
      "2          5  This pepperoni is a fixture at our family New ...   \n",
      "3          5  Have tasted these in CA and wanted them here i...   \n",
      "4          5  I usually try to glance at the ingredients lis...   \n",
      "\n",
      "                               Summary  \n",
      "0                              Awesome  \n",
      "1         Starbucks Via Instant Coffee  \n",
      "2                    Always delicious!  \n",
      "3  Primal Spirit Vegan Jerky Texas BBQ  \n",
      "4                  Spicy and delicious  \n",
      "(25000, 3)\n"
     ]
    }
   ],
   "source": [
    "df_TestSample = sampling_dataset(df.loc[:,[\"Prediction\",\"Text\",\"Summary\"]])\n",
    "df_TestSample.reset_index(drop=True,inplace=True)\n",
    "\n",
    "print (df_TestSample.head())\n",
    "print (df_TestSample.shape)"
   ]
  },
  {
   "cell_type": "code",
   "execution_count": 167,
   "metadata": {
    "collapsed": true
   },
   "outputs": [],
   "source": [
    "test_vectors = vectorizer.transform(df_TestSample[\"Summary\"])\n",
    "prediction_rbf = forest.predict(test_vectors)"
   ]
  },
  {
   "cell_type": "code",
   "execution_count": 168,
   "metadata": {
    "collapsed": true
   },
   "outputs": [],
   "source": [
    "from sklearn.linear_model import LogisticRegression\n",
    "from sklearn.neighbors import KNeighborsClassifier\n",
    "from sklearn.svm import SVC, LinearSVC, NuSVC\n",
    "from sklearn.tree import DecisionTreeClassifier\n",
    "from sklearn.ensemble import RandomForestClassifier, AdaBoostClassifier, GradientBoostingClassifier\n",
    "from sklearn.naive_bayes import GaussianNB\n",
    "from sklearn.discriminant_analysis import LinearDiscriminantAnalysis\n",
    "from sklearn.discriminant_analysis import QuadraticDiscriminantAnalysis\n",
    "from sklearn.metrics import accuracy_score\n",
    "\n",
    "Classifiers = [\n",
    "#     LogisticRegression(C=0.000000001,solver='liblinear',max_iter=200),\n",
    "    KNeighborsClassifier(3),\n",
    "#     SVC(kernel=\"rbf\", C=0.025, probability=True),\n",
    "    DecisionTreeClassifier(),\n",
    "#     RandomForestClassifier(n_estimators=200),\n",
    "#     AdaBoostClassifier(),\n",
    "    GaussianNB()\n",
    "]"
   ]
  },
  {
   "cell_type": "markdown",
   "metadata": {},
   "source": [
    "## REFERENCES\n",
    "\n",
    "1.) Burke, R., Hybrid Recommender Systems: Survey and Experiments, <http://josquin.cs.depaul.edu/rburke/pubs/burke-umuai02.pdf>.\n",
    "\n",
    "2.) Gunawardana A., Shani G, Evaluating Recommendation Systems, <http://research.microsoft.com/pubs/115396/evaluationmetrics.tr.pdf>.\n",
    "\n",
    "3.) Wikipedia, Singular Value Decomposition, <http://en.wikipedia.org/ wiki/Singular value decomposition>.\n",
    "\n",
    "4.) Koren, Y., Factorization Meets the Neighborhood: a Multifaceted Col-laborative Filtering Model,<http://public.research.att.com/ volinsky/netflix/kdd08koren.pdf>.\n",
    "\n",
    "5.) Shang, M., Fu, Y., Chen, D., Personal Recommendation Using Weighted BiPartite Graph Projection, Apperceiving Computing and Intelligence Analysis, 2008. ICACIA 2008. International Conference on , vol., no., pp.198,202,\n",
    "13-15 Dec. 2008\n",
    "\n",
    "6.) Breese, J.S., Heckerman, D., Kadie, C., Empirical Analysis of Predictive Algorithms for Collaborative Filtering, <http://research.microsoft.com/ pubs/69656/tr-98-12.pdf>\n",
    "\n",
    "\n",
    "# LICENCE : \n",
    "\n",
    "The code in the document by Ronak Shingala and Spurthi Shetty is licensed under the MIT License https://opensource.org/licenses/MIT\n",
    "\n",
    "https://github.com/shingalaronak/Advance-Data-Science-Final-Project"
   ]
  },
  {
   "cell_type": "code",
   "execution_count": null,
   "metadata": {
    "collapsed": true
   },
   "outputs": [],
   "source": []
  }
 ],
 "metadata": {
  "kernelspec": {
   "display_name": "Python 3",
   "language": "python",
   "name": "python3"
  },
  "language_info": {
   "codemirror_mode": {
    "name": "ipython",
    "version": 3
   },
   "file_extension": ".py",
   "mimetype": "text/x-python",
   "name": "python",
   "nbconvert_exporter": "python",
   "pygments_lexer": "ipython3",
   "version": "3.6.4"
  }
 },
 "nbformat": 4,
 "nbformat_minor": 2
}
