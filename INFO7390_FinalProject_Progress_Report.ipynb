{
 "cells": [
  {
   "cell_type": "markdown",
   "metadata": {},
   "source": [
    "# Amazon Food Reviews Sentiment Analysis"
   ]
  },
  {
   "cell_type": "code",
   "execution_count": 1,
   "metadata": {},
   "outputs": [
    {
     "data": {
      "text/plain": [
       "'/Users/user/Desktop'"
      ]
     },
     "execution_count": 1,
     "metadata": {},
     "output_type": "execute_result"
    }
   ],
   "source": [
    "pwd"
   ]
  },
  {
   "cell_type": "code",
   "execution_count": 2,
   "metadata": {
    "collapsed": true
   },
   "outputs": [],
   "source": [
    "import os\n",
    "import matplotlib.pyplot as plt\n",
    "import numpy as np\n",
    "import pandas as pd\n",
    "from scipy import stats\n",
    "import seaborn as sns"
   ]
  },
  {
   "cell_type": "markdown",
   "metadata": {},
   "source": [
    "# Project Overview\n",
    "\n",
    "Sentimental analysis is area of research for the social media and reviews. It can deliver the different services like marekting data, how to improve product or service, about medicine and also many other services. It is very interesting to work with sentimental analysis because we have to interact with the human languages (words/reviews/comments) and identify subjective informations.\n",
    "\n",
    "Few algorithms like Naive Bayes and SVM are commonly used for snetimental analysis. Also, RNN (Recurrent Neural Network), Deep Learning and Machine Learning has started to perform all other functions because of its ability to predict the meaning of sentence based on sentence structure. \n",
    "\n",
    "For this project, I have performed sentiment analysis on the Amazon Food Review dataset."
   ]
  },
  {
   "cell_type": "markdown",
   "metadata": {},
   "source": [
    "# Problem Statement\n",
    "Here I need to predict the positive or negative target reviews for each data row. The goal will be to maximize the accuracy of this classification. We will train our model on a dataset containing thousands of reviews presented as unstructured text. Each review will be labeled as positive or negative.\n",
    "\n",
    "To solve this problem we will perform the following tasks:\n",
    "\n",
    "Preprocess the data.\n",
    "Train and tune the hyperparameters of the recurrent neural network.\n",
    "Test the accuracy of the model on the testing set."
   ]
  },
  {
   "cell_type": "markdown",
   "metadata": {},
   "source": [
    "# Importing the data set"
   ]
  },
  {
   "cell_type": "code",
   "execution_count": 3,
   "metadata": {
    "collapsed": true
   },
   "outputs": [],
   "source": [
    "df = pd.read_csv(\"FoodReview.csv\")"
   ]
  },
  {
   "cell_type": "markdown",
   "metadata": {},
   "source": [
    "Data Type Count"
   ]
  },
  {
   "cell_type": "code",
   "execution_count": 4,
   "metadata": {},
   "outputs": [
    {
     "data": {
      "text/plain": [
       "int64     5\n",
       "object    5\n",
       "dtype: int64"
      ]
     },
     "execution_count": 4,
     "metadata": {},
     "output_type": "execute_result"
    }
   ],
   "source": [
    "df.get_dtype_counts()"
   ]
  },
  {
   "cell_type": "markdown",
   "metadata": {},
   "source": [
    "What are the fields provided in the Amazon fine food reviews dataset?"
   ]
  },
  {
   "cell_type": "code",
   "execution_count": 5,
   "metadata": {},
   "outputs": [
    {
     "data": {
      "text/html": [
       "<div>\n",
       "<style>\n",
       "    .dataframe thead tr:only-child th {\n",
       "        text-align: right;\n",
       "    }\n",
       "\n",
       "    .dataframe thead th {\n",
       "        text-align: left;\n",
       "    }\n",
       "\n",
       "    .dataframe tbody tr th {\n",
       "        vertical-align: top;\n",
       "    }\n",
       "</style>\n",
       "<table border=\"1\" class=\"dataframe\">\n",
       "  <thead>\n",
       "    <tr style=\"text-align: right;\">\n",
       "      <th></th>\n",
       "      <th>Id</th>\n",
       "      <th>ProductId</th>\n",
       "      <th>UserId</th>\n",
       "      <th>ProfileName</th>\n",
       "      <th>HelpfulnessNumerator</th>\n",
       "      <th>HelpfulnessDenominator</th>\n",
       "      <th>Prediction</th>\n",
       "      <th>Time</th>\n",
       "      <th>Summary</th>\n",
       "      <th>Text</th>\n",
       "    </tr>\n",
       "  </thead>\n",
       "  <tbody>\n",
       "    <tr>\n",
       "      <th>0</th>\n",
       "      <td>492346</td>\n",
       "      <td>B001VNP0Y6</td>\n",
       "      <td>AEZRVY3CV52UZ</td>\n",
       "      <td>Corey Wright \"Democratus\"</td>\n",
       "      <td>3</td>\n",
       "      <td>3</td>\n",
       "      <td>5</td>\n",
       "      <td>1320537600</td>\n",
       "      <td>Just what I needed</td>\n",
       "      <td>I got them in a very timely manner and they're...</td>\n",
       "    </tr>\n",
       "    <tr>\n",
       "      <th>1</th>\n",
       "      <td>343811</td>\n",
       "      <td>B008J1HO4C</td>\n",
       "      <td>A18VZYSLOUO060</td>\n",
       "      <td>D. Simpson \"Frugal SOB\"</td>\n",
       "      <td>2</td>\n",
       "      <td>2</td>\n",
       "      <td>5</td>\n",
       "      <td>1204329600</td>\n",
       "      <td>Most excellent oatmeal</td>\n",
       "      <td>McCann's Steel Cut Oatmeal is the perfect brea...</td>\n",
       "    </tr>\n",
       "    <tr>\n",
       "      <th>2</th>\n",
       "      <td>347257</td>\n",
       "      <td>B000FFIL60</td>\n",
       "      <td>A28Y1M7GRG0I9M</td>\n",
       "      <td>Real Comments \"Lin\"</td>\n",
       "      <td>0</td>\n",
       "      <td>0</td>\n",
       "      <td>4</td>\n",
       "      <td>1318464000</td>\n",
       "      <td>Quality Tea</td>\n",
       "      <td>I would recommend it. Quality pearls and a few...</td>\n",
       "    </tr>\n",
       "    <tr>\n",
       "      <th>3</th>\n",
       "      <td>225529</td>\n",
       "      <td>B002ZX1U9A</td>\n",
       "      <td>A245HC4T5J97WG</td>\n",
       "      <td>Logan DeAngelis</td>\n",
       "      <td>0</td>\n",
       "      <td>0</td>\n",
       "      <td>5</td>\n",
       "      <td>1306540800</td>\n",
       "      <td>Great Coffee at a Great price</td>\n",
       "      <td>I have to admit, I first purchased these Hazel...</td>\n",
       "    </tr>\n",
       "    <tr>\n",
       "      <th>4</th>\n",
       "      <td>485488</td>\n",
       "      <td>B001RVFERK</td>\n",
       "      <td>AVABPJCKE2MR5</td>\n",
       "      <td>spal</td>\n",
       "      <td>0</td>\n",
       "      <td>0</td>\n",
       "      <td>4</td>\n",
       "      <td>1314921600</td>\n",
       "      <td>Popchips Jalapeno flavor</td>\n",
       "      <td>I bought a case of jalapeno chips as I love th...</td>\n",
       "    </tr>\n",
       "  </tbody>\n",
       "</table>\n",
       "</div>"
      ],
      "text/plain": [
       "       Id   ProductId          UserId                ProfileName  \\\n",
       "0  492346  B001VNP0Y6   AEZRVY3CV52UZ  Corey Wright \"Democratus\"   \n",
       "1  343811  B008J1HO4C  A18VZYSLOUO060    D. Simpson \"Frugal SOB\"   \n",
       "2  347257  B000FFIL60  A28Y1M7GRG0I9M        Real Comments \"Lin\"   \n",
       "3  225529  B002ZX1U9A  A245HC4T5J97WG            Logan DeAngelis   \n",
       "4  485488  B001RVFERK   AVABPJCKE2MR5                       spal   \n",
       "\n",
       "   HelpfulnessNumerator  HelpfulnessDenominator  Prediction        Time  \\\n",
       "0                     3                       3           5  1320537600   \n",
       "1                     2                       2           5  1204329600   \n",
       "2                     0                       0           4  1318464000   \n",
       "3                     0                       0           5  1306540800   \n",
       "4                     0                       0           4  1314921600   \n",
       "\n",
       "                         Summary  \\\n",
       "0             Just what I needed   \n",
       "1         Most excellent oatmeal   \n",
       "2                    Quality Tea   \n",
       "3  Great Coffee at a Great price   \n",
       "4       Popchips Jalapeno flavor   \n",
       "\n",
       "                                                Text  \n",
       "0  I got them in a very timely manner and they're...  \n",
       "1  McCann's Steel Cut Oatmeal is the perfect brea...  \n",
       "2  I would recommend it. Quality pearls and a few...  \n",
       "3  I have to admit, I first purchased these Hazel...  \n",
       "4  I bought a case of jalapeno chips as I love th...  "
      ]
     },
     "execution_count": 5,
     "metadata": {},
     "output_type": "execute_result"
    }
   ],
   "source": [
    "df.head()"
   ]
  },
  {
   "cell_type": "markdown",
   "metadata": {},
   "source": [
    "Here, data contains the column \"TEXT\" for the specific user to represent the review of that product having unique productId. Also, unique productId can help to find the product from the list on Amazon and can find all the reviews related to that product and can review the product. The UserId is used to get the user information who have logged in to review the food product. Two columns HelpfulnessNumerator and HelpfullnessDenominator are helpful to provide the review information based on the summary. The column Prediction shows the review based on scale fof 5. Time column provide the information about the review posted time by the user on Amazon. Summary can help to get idea about positive or negative review for the product.\n",
    "\n",
    "More importantly, for each review, we have a “Prediction” variable representing a rating from 1 to 5 (1 is a poor review, and 5 is an excellent review).\n",
    "\n"
   ]
  },
  {
   "cell_type": "markdown",
   "metadata": {},
   "source": [
    "# Removing Null data"
   ]
  },
  {
   "cell_type": "code",
   "execution_count": 6,
   "metadata": {},
   "outputs": [
    {
     "data": {
      "text/plain": [
       "Id                         0\n",
       "ProductId                  0\n",
       "UserId                     0\n",
       "ProfileName               16\n",
       "HelpfulnessNumerator       0\n",
       "HelpfulnessDenominator     0\n",
       "Prediction                 0\n",
       "Time                       0\n",
       "Summary                   21\n",
       "Text                       0\n",
       "dtype: int64"
      ]
     },
     "execution_count": 6,
     "metadata": {},
     "output_type": "execute_result"
    }
   ],
   "source": [
    "df.apply(lambda x: sum(x.isnull()),axis=0)"
   ]
  },
  {
   "cell_type": "code",
   "execution_count": 7,
   "metadata": {
    "collapsed": true
   },
   "outputs": [],
   "source": [
    "df.dropna(subset=['ProfileName'], inplace=True)"
   ]
  },
  {
   "cell_type": "code",
   "execution_count": 8,
   "metadata": {
    "collapsed": true
   },
   "outputs": [],
   "source": [
    "df.dropna(subset=['Summary'], inplace=True)"
   ]
  },
  {
   "cell_type": "code",
   "execution_count": 9,
   "metadata": {},
   "outputs": [
    {
     "data": {
      "text/plain": [
       "Id                        0\n",
       "ProductId                 0\n",
       "UserId                    0\n",
       "ProfileName               0\n",
       "HelpfulnessNumerator      0\n",
       "HelpfulnessDenominator    0\n",
       "Prediction                0\n",
       "Time                      0\n",
       "Summary                   0\n",
       "Text                      0\n",
       "dtype: int64"
      ]
     },
     "execution_count": 9,
     "metadata": {},
     "output_type": "execute_result"
    }
   ],
   "source": [
    "df.apply(lambda x: sum(x.isnull()),axis=0)"
   ]
  },
  {
   "cell_type": "code",
   "execution_count": 10,
   "metadata": {},
   "outputs": [
    {
     "data": {
      "text/html": [
       "<div>\n",
       "<style>\n",
       "    .dataframe thead tr:only-child th {\n",
       "        text-align: right;\n",
       "    }\n",
       "\n",
       "    .dataframe thead th {\n",
       "        text-align: left;\n",
       "    }\n",
       "\n",
       "    .dataframe tbody tr th {\n",
       "        vertical-align: top;\n",
       "    }\n",
       "</style>\n",
       "<table border=\"1\" class=\"dataframe\">\n",
       "  <thead>\n",
       "    <tr style=\"text-align: right;\">\n",
       "      <th></th>\n",
       "      <th>Id</th>\n",
       "      <th>HelpfulnessNumerator</th>\n",
       "      <th>HelpfulnessDenominator</th>\n",
       "      <th>Prediction</th>\n",
       "      <th>Time</th>\n",
       "    </tr>\n",
       "  </thead>\n",
       "  <tbody>\n",
       "    <tr>\n",
       "      <th>count</th>\n",
       "      <td>454723.000000</td>\n",
       "      <td>454723.000000</td>\n",
       "      <td>454723.000000</td>\n",
       "      <td>454723.000000</td>\n",
       "      <td>4.547230e+05</td>\n",
       "    </tr>\n",
       "    <tr>\n",
       "      <th>mean</th>\n",
       "      <td>284326.575368</td>\n",
       "      <td>1.757736</td>\n",
       "      <td>2.242508</td>\n",
       "      <td>4.183114</td>\n",
       "      <td>1.296251e+09</td>\n",
       "    </tr>\n",
       "    <tr>\n",
       "      <th>std</th>\n",
       "      <td>164028.607930</td>\n",
       "      <td>7.904016</td>\n",
       "      <td>8.545508</td>\n",
       "      <td>1.310205</td>\n",
       "      <td>4.802309e+07</td>\n",
       "    </tr>\n",
       "    <tr>\n",
       "      <th>min</th>\n",
       "      <td>1.000000</td>\n",
       "      <td>0.000000</td>\n",
       "      <td>0.000000</td>\n",
       "      <td>1.000000</td>\n",
       "      <td>9.393408e+08</td>\n",
       "    </tr>\n",
       "    <tr>\n",
       "      <th>25%</th>\n",
       "      <td>142435.500000</td>\n",
       "      <td>0.000000</td>\n",
       "      <td>0.000000</td>\n",
       "      <td>4.000000</td>\n",
       "      <td>1.271376e+09</td>\n",
       "    </tr>\n",
       "    <tr>\n",
       "      <th>50%</th>\n",
       "      <td>284376.000000</td>\n",
       "      <td>0.000000</td>\n",
       "      <td>1.000000</td>\n",
       "      <td>5.000000</td>\n",
       "      <td>1.311034e+09</td>\n",
       "    </tr>\n",
       "    <tr>\n",
       "      <th>75%</th>\n",
       "      <td>426256.500000</td>\n",
       "      <td>2.000000</td>\n",
       "      <td>2.000000</td>\n",
       "      <td>5.000000</td>\n",
       "      <td>1.332720e+09</td>\n",
       "    </tr>\n",
       "    <tr>\n",
       "      <th>max</th>\n",
       "      <td>568453.000000</td>\n",
       "      <td>866.000000</td>\n",
       "      <td>923.000000</td>\n",
       "      <td>5.000000</td>\n",
       "      <td>1.351210e+09</td>\n",
       "    </tr>\n",
       "  </tbody>\n",
       "</table>\n",
       "</div>"
      ],
      "text/plain": [
       "                  Id  HelpfulnessNumerator  HelpfulnessDenominator  \\\n",
       "count  454723.000000         454723.000000           454723.000000   \n",
       "mean   284326.575368              1.757736                2.242508   \n",
       "std    164028.607930              7.904016                8.545508   \n",
       "min         1.000000              0.000000                0.000000   \n",
       "25%    142435.500000              0.000000                0.000000   \n",
       "50%    284376.000000              0.000000                1.000000   \n",
       "75%    426256.500000              2.000000                2.000000   \n",
       "max    568453.000000            866.000000              923.000000   \n",
       "\n",
       "          Prediction          Time  \n",
       "count  454723.000000  4.547230e+05  \n",
       "mean        4.183114  1.296251e+09  \n",
       "std         1.310205  4.802309e+07  \n",
       "min         1.000000  9.393408e+08  \n",
       "25%         4.000000  1.271376e+09  \n",
       "50%         5.000000  1.311034e+09  \n",
       "75%         5.000000  1.332720e+09  \n",
       "max         5.000000  1.351210e+09  "
      ]
     },
     "execution_count": 10,
     "metadata": {},
     "output_type": "execute_result"
    }
   ],
   "source": [
    "df.describe()"
   ]
  },
  {
   "cell_type": "markdown",
   "metadata": {},
   "source": [
    "### Checking for Unique values"
   ]
  },
  {
   "cell_type": "code",
   "execution_count": 61,
   "metadata": {},
   "outputs": [
    {
     "data": {
      "text/plain": [
       "Sentiment                      2\n",
       "Usefulness                     2\n",
       "Prediction                     5\n",
       "HelpfulnessNumerator         221\n",
       "HelpfulnessDenominator       225\n",
       "Time                        3112\n",
       "ProductId                  67726\n",
       "ProfileName               189020\n",
       "Summary_Clean             213284\n",
       "UserId                    219794\n",
       "Summary                   247756\n",
       "Text                      325823\n",
       "Id                        454723\n",
       "dtype: int64"
      ]
     },
     "execution_count": 61,
     "metadata": {},
     "output_type": "execute_result"
    }
   ],
   "source": [
    "Nunique = df.nunique()\n",
    "Nunique = Nunique.sort_values()\n",
    "Nunique"
   ]
  },
  {
   "cell_type": "markdown",
   "metadata": {},
   "source": [
    "We can see that, dataframe contains around 67726 different products and around 219794 \n",
    "users have reviewd the food products which helps to get the different reviews around 454723 for the food. "
   ]
  },
  {
   "cell_type": "markdown",
   "metadata": {},
   "source": [
    "### Non Zero Prediction Values"
   ]
  },
  {
   "cell_type": "markdown",
   "metadata": {},
   "source": [
    "How many reviews are included in this dataset?"
   ]
  },
  {
   "cell_type": "code",
   "execution_count": 12,
   "metadata": {},
   "outputs": [
    {
     "name": "stdout",
     "output_type": "stream",
     "text": [
      "non-zero values for Prediction\n",
      "454723\n"
     ]
    }
   ],
   "source": [
    "print(\"non-zero values for Prediction\")\n",
    "print(sum(df['Prediction']>0))"
   ]
  },
  {
   "cell_type": "markdown",
   "metadata": {},
   "source": [
    "The dataset contains 568,454 food reviews Amazon users."
   ]
  },
  {
   "cell_type": "markdown",
   "metadata": {},
   "source": [
    "### Correlation btween the columns of data set"
   ]
  },
  {
   "cell_type": "markdown",
   "metadata": {},
   "source": [
    "How will you find the relations between the columns in dataframes?"
   ]
  },
  {
   "cell_type": "code",
   "execution_count": 13,
   "metadata": {},
   "outputs": [
    {
     "name": "stdout",
     "output_type": "stream",
     "text": [
      "List of highly correlated variables:\n",
      "\n",
      "HelpfulnessNumerator  and  HelpfulnessDenominator\n",
      "HelpfulnessDenominator  and  HelpfulnessNumerator\n"
     ]
    }
   ],
   "source": [
    "correlations = [[(index1, index2) for index2, column in row.iteritems() if column>0.6 and index1 != index2] \n",
    " for index1, row in df.corr().iterrows()]\n",
    "print(\"List of highly correlated variables:\")\n",
    "print()\n",
    "for correlation in correlations:\n",
    "    for item in correlation:\n",
    "        print(item[0],\" and \",item[1])"
   ]
  },
  {
   "cell_type": "markdown",
   "metadata": {},
   "source": [
    "Above result shows that HelpfullnessNumerator and HelpfullnessDenominator are very \n",
    "close to each other and cor-related to each other. "
   ]
  },
  {
   "cell_type": "markdown",
   "metadata": {},
   "source": [
    "### Correlation via Heat-Map"
   ]
  },
  {
   "cell_type": "markdown",
   "metadata": {},
   "source": [
    "Can we check the correlation between all the columns?"
   ]
  },
  {
   "cell_type": "code",
   "execution_count": 14,
   "metadata": {},
   "outputs": [
    {
     "name": "stdout",
     "output_type": "stream",
     "text": [
      "                        HelpfulnessNumerator  HelpfulnessDenominator  \\\n",
      "HelpfulnessNumerator                1.000000                0.976387   \n",
      "HelpfulnessDenominator              0.976387                1.000000   \n",
      "Prediction                         -0.032307               -0.095452   \n",
      "Time                               -0.150231               -0.168216   \n",
      "\n",
      "                        Prediction      Time  \n",
      "HelpfulnessNumerator     -0.032307 -0.150231  \n",
      "HelpfulnessDenominator   -0.095452 -0.168216  \n",
      "Prediction                1.000000 -0.063888  \n",
      "Time                     -0.063888  1.000000  \n"
     ]
    },
    {
     "data": {
      "image/png": "[encoded data removed]",
      "text/plain": [
       "<matplotlib.figure.Figure at 0x1a1b1da3c8>"
      ]
     },
     "metadata": {},
     "output_type": "display_data"
    }
   ],
   "source": [
    "cmap = sns.diverging_palette(0, 255, sep=1, n=256, as_cmap=True)\n",
    "\n",
    "correlations = df[['HelpfulnessNumerator', 'HelpfulnessDenominator', 'Prediction', 'Time']].corr()\n",
    "print (correlations)\n",
    "sns.heatmap(correlations, cmap=cmap)\n",
    "plt.show()"
   ]
  },
  {
   "cell_type": "markdown",
   "metadata": {},
   "source": [
    "Above figure shows the relation between all the numerical columns that are related to each other and how much they are related to others. We can figure out that column having value near to 1.o is most correlated to that other column."
   ]
  },
  {
   "cell_type": "markdown",
   "metadata": {},
   "source": [
    "### Displaying Usefulness of the review"
   ]
  },
  {
   "cell_type": "markdown",
   "metadata": {},
   "source": [
    "Can we get idea about the usefulness of the reviews from dataset?"
   ]
  },
  {
   "cell_type": "code",
   "execution_count": 15,
   "metadata": {},
   "outputs": [
    {
     "data": {
      "text/html": [
       "<div>\n",
       "<style>\n",
       "    .dataframe thead tr:only-child th {\n",
       "        text-align: right;\n",
       "    }\n",
       "\n",
       "    .dataframe thead th {\n",
       "        text-align: left;\n",
       "    }\n",
       "\n",
       "    .dataframe tbody tr th {\n",
       "        vertical-align: top;\n",
       "    }\n",
       "</style>\n",
       "<table border=\"1\" class=\"dataframe\">\n",
       "  <thead>\n",
       "    <tr style=\"text-align: right;\">\n",
       "      <th></th>\n",
       "      <th>Id</th>\n",
       "      <th>ProductId</th>\n",
       "      <th>UserId</th>\n",
       "      <th>ProfileName</th>\n",
       "      <th>HelpfulnessNumerator</th>\n",
       "      <th>HelpfulnessDenominator</th>\n",
       "      <th>Prediction</th>\n",
       "      <th>Time</th>\n",
       "      <th>Summary</th>\n",
       "      <th>Text</th>\n",
       "      <th>Sentiment</th>\n",
       "      <th>Usefulness</th>\n",
       "    </tr>\n",
       "  </thead>\n",
       "  <tbody>\n",
       "    <tr>\n",
       "      <th>0</th>\n",
       "      <td>492346</td>\n",
       "      <td>B001VNP0Y6</td>\n",
       "      <td>AEZRVY3CV52UZ</td>\n",
       "      <td>Corey Wright \"Democratus\"</td>\n",
       "      <td>3</td>\n",
       "      <td>3</td>\n",
       "      <td>5</td>\n",
       "      <td>1320537600</td>\n",
       "      <td>Just what I needed</td>\n",
       "      <td>I got them in a very timely manner and they're...</td>\n",
       "      <td>positive</td>\n",
       "      <td>useful</td>\n",
       "    </tr>\n",
       "    <tr>\n",
       "      <th>1</th>\n",
       "      <td>343811</td>\n",
       "      <td>B008J1HO4C</td>\n",
       "      <td>A18VZYSLOUO060</td>\n",
       "      <td>D. Simpson \"Frugal SOB\"</td>\n",
       "      <td>2</td>\n",
       "      <td>2</td>\n",
       "      <td>5</td>\n",
       "      <td>1204329600</td>\n",
       "      <td>Most excellent oatmeal</td>\n",
       "      <td>McCann's Steel Cut Oatmeal is the perfect brea...</td>\n",
       "      <td>positive</td>\n",
       "      <td>useful</td>\n",
       "    </tr>\n",
       "    <tr>\n",
       "      <th>2</th>\n",
       "      <td>347257</td>\n",
       "      <td>B000FFIL60</td>\n",
       "      <td>A28Y1M7GRG0I9M</td>\n",
       "      <td>Real Comments \"Lin\"</td>\n",
       "      <td>0</td>\n",
       "      <td>0</td>\n",
       "      <td>4</td>\n",
       "      <td>1318464000</td>\n",
       "      <td>Quality Tea</td>\n",
       "      <td>I would recommend it. Quality pearls and a few...</td>\n",
       "      <td>positive</td>\n",
       "      <td>useless</td>\n",
       "    </tr>\n",
       "    <tr>\n",
       "      <th>3</th>\n",
       "      <td>225529</td>\n",
       "      <td>B002ZX1U9A</td>\n",
       "      <td>A245HC4T5J97WG</td>\n",
       "      <td>Logan DeAngelis</td>\n",
       "      <td>0</td>\n",
       "      <td>0</td>\n",
       "      <td>5</td>\n",
       "      <td>1306540800</td>\n",
       "      <td>Great Coffee at a Great price</td>\n",
       "      <td>I have to admit, I first purchased these Hazel...</td>\n",
       "      <td>positive</td>\n",
       "      <td>useless</td>\n",
       "    </tr>\n",
       "    <tr>\n",
       "      <th>4</th>\n",
       "      <td>485488</td>\n",
       "      <td>B001RVFERK</td>\n",
       "      <td>AVABPJCKE2MR5</td>\n",
       "      <td>spal</td>\n",
       "      <td>0</td>\n",
       "      <td>0</td>\n",
       "      <td>4</td>\n",
       "      <td>1314921600</td>\n",
       "      <td>Popchips Jalapeno flavor</td>\n",
       "      <td>I bought a case of jalapeno chips as I love th...</td>\n",
       "      <td>positive</td>\n",
       "      <td>useless</td>\n",
       "    </tr>\n",
       "    <tr>\n",
       "      <th>5</th>\n",
       "      <td>74981</td>\n",
       "      <td>B0026RQTGE</td>\n",
       "      <td>A161Y9NAR43WCW</td>\n",
       "      <td>vertov</td>\n",
       "      <td>0</td>\n",
       "      <td>0</td>\n",
       "      <td>5</td>\n",
       "      <td>1314835200</td>\n",
       "      <td>Our dog has fresh breath</td>\n",
       "      <td>No doggie breath for our dog.  People are alwa...</td>\n",
       "      <td>positive</td>\n",
       "      <td>useless</td>\n",
       "    </tr>\n",
       "    <tr>\n",
       "      <th>6</th>\n",
       "      <td>204180</td>\n",
       "      <td>B000F0FZE6</td>\n",
       "      <td>A1H35JZ9UUCVIF</td>\n",
       "      <td>carrera4</td>\n",
       "      <td>1</td>\n",
       "      <td>1</td>\n",
       "      <td>5</td>\n",
       "      <td>1330646400</td>\n",
       "      <td>Great Pasta &amp; Healthy!</td>\n",
       "      <td>I tried this pasta after viewing the Dr. Oz sh...</td>\n",
       "      <td>positive</td>\n",
       "      <td>useful</td>\n",
       "    </tr>\n",
       "    <tr>\n",
       "      <th>7</th>\n",
       "      <td>454372</td>\n",
       "      <td>B0019K981W</td>\n",
       "      <td>A13H71301WENPW</td>\n",
       "      <td>Patricia Fentriss \"PF\"</td>\n",
       "      <td>11</td>\n",
       "      <td>13</td>\n",
       "      <td>1</td>\n",
       "      <td>1249344000</td>\n",
       "      <td>Sugar bomb!!!  Same amount of sugar as a 12 oz...</td>\n",
       "      <td>Check out the sugar content before you buy!  2...</td>\n",
       "      <td>negative</td>\n",
       "      <td>useful</td>\n",
       "    </tr>\n",
       "    <tr>\n",
       "      <th>8</th>\n",
       "      <td>112235</td>\n",
       "      <td>B0009JJB4S</td>\n",
       "      <td>A2HBOYLMGW2A5Y</td>\n",
       "      <td>lee</td>\n",
       "      <td>0</td>\n",
       "      <td>0</td>\n",
       "      <td>5</td>\n",
       "      <td>1345852800</td>\n",
       "      <td>Pretty great for the price!</td>\n",
       "      <td>I drink Iron goddess oolong pretty often, it i...</td>\n",
       "      <td>positive</td>\n",
       "      <td>useless</td>\n",
       "    </tr>\n",
       "    <tr>\n",
       "      <th>9</th>\n",
       "      <td>295251</td>\n",
       "      <td>B000LQNK50</td>\n",
       "      <td>ATO0RF3HWQ3WW</td>\n",
       "      <td>Scott \"Scottso\"</td>\n",
       "      <td>12</td>\n",
       "      <td>16</td>\n",
       "      <td>3</td>\n",
       "      <td>1236729600</td>\n",
       "      <td>Its OK</td>\n",
       "      <td>Maybe it's due to my tendency to prefer noodle...</td>\n",
       "      <td>negative</td>\n",
       "      <td>useless</td>\n",
       "    </tr>\n",
       "    <tr>\n",
       "      <th>10</th>\n",
       "      <td>2544</td>\n",
       "      <td>B000G7UDPY</td>\n",
       "      <td>A392JXFKJ5GG17</td>\n",
       "      <td>Donna G. Spencer</td>\n",
       "      <td>0</td>\n",
       "      <td>1</td>\n",
       "      <td>1</td>\n",
       "      <td>1266019200</td>\n",
       "      <td>Bad tasting soup</td>\n",
       "      <td>This is one of the worse tasting soups I've ev...</td>\n",
       "      <td>negative</td>\n",
       "      <td>useless</td>\n",
       "    </tr>\n",
       "    <tr>\n",
       "      <th>11</th>\n",
       "      <td>435949</td>\n",
       "      <td>B0016COPSY</td>\n",
       "      <td>A6KL17KKN0A5L</td>\n",
       "      <td>K. Harper</td>\n",
       "      <td>14</td>\n",
       "      <td>20</td>\n",
       "      <td>4</td>\n",
       "      <td>1291593600</td>\n",
       "      <td>I like it, but it's a product of Taiwan...</td>\n",
       "      <td>While I love the product, if you read the labe...</td>\n",
       "      <td>positive</td>\n",
       "      <td>useless</td>\n",
       "    </tr>\n",
       "    <tr>\n",
       "      <th>12</th>\n",
       "      <td>179209</td>\n",
       "      <td>B000V1FI5U</td>\n",
       "      <td>A2DQ0KE7NH5A08</td>\n",
       "      <td>Alice McDaniel \"Alice\"</td>\n",
       "      <td>0</td>\n",
       "      <td>0</td>\n",
       "      <td>3</td>\n",
       "      <td>1339977600</td>\n",
       "      <td>Okay but learning that I'm just not into \"flav...</td>\n",
       "      <td>I ordered these and was excited about them.  T...</td>\n",
       "      <td>negative</td>\n",
       "      <td>useless</td>\n",
       "    </tr>\n",
       "    <tr>\n",
       "      <th>13</th>\n",
       "      <td>243805</td>\n",
       "      <td>B001LQNVOE</td>\n",
       "      <td>A3JJOUVMIIXLFQ</td>\n",
       "      <td>L  Willis</td>\n",
       "      <td>0</td>\n",
       "      <td>1</td>\n",
       "      <td>5</td>\n",
       "      <td>1335657600</td>\n",
       "      <td>This is very good coffee.</td>\n",
       "      <td>We like our coffee strong but not bitter. This...</td>\n",
       "      <td>positive</td>\n",
       "      <td>useless</td>\n",
       "    </tr>\n",
       "    <tr>\n",
       "      <th>14</th>\n",
       "      <td>11688</td>\n",
       "      <td>B0032RPLSY</td>\n",
       "      <td>A2ELBN89JT1S4T</td>\n",
       "      <td>Maybelle</td>\n",
       "      <td>0</td>\n",
       "      <td>0</td>\n",
       "      <td>5</td>\n",
       "      <td>1351123200</td>\n",
       "      <td>Delicious!</td>\n",
       "      <td>This ghee is delicious. A little goes a long w...</td>\n",
       "      <td>positive</td>\n",
       "      <td>useless</td>\n",
       "    </tr>\n",
       "    <tr>\n",
       "      <th>15</th>\n",
       "      <td>459662</td>\n",
       "      <td>B000LKTJUG</td>\n",
       "      <td>A3PNHHF9XWHJGR</td>\n",
       "      <td>Kyle Smeby \"kyle78\"</td>\n",
       "      <td>1</td>\n",
       "      <td>1</td>\n",
       "      <td>5</td>\n",
       "      <td>1233878400</td>\n",
       "      <td>Cure for sore throats</td>\n",
       "      <td>For about 5 years, especially during the winte...</td>\n",
       "      <td>positive</td>\n",
       "      <td>useful</td>\n",
       "    </tr>\n",
       "    <tr>\n",
       "      <th>16</th>\n",
       "      <td>525701</td>\n",
       "      <td>B0015V1WMS</td>\n",
       "      <td>A3BTGGLX2B6Q6N</td>\n",
       "      <td>sponse</td>\n",
       "      <td>0</td>\n",
       "      <td>0</td>\n",
       "      <td>4</td>\n",
       "      <td>1290988800</td>\n",
       "      <td>Gold coins were a great party favor</td>\n",
       "      <td>This product was perfect for a volunteer recog...</td>\n",
       "      <td>positive</td>\n",
       "      <td>useless</td>\n",
       "    </tr>\n",
       "    <tr>\n",
       "      <th>17</th>\n",
       "      <td>31901</td>\n",
       "      <td>B0062A87HA</td>\n",
       "      <td>ACVLAI219S7TT</td>\n",
       "      <td>Wendy in Pa</td>\n",
       "      <td>12</td>\n",
       "      <td>12</td>\n",
       "      <td>1</td>\n",
       "      <td>1279670400</td>\n",
       "      <td>Is someone using Amazon as an outlet for dente...</td>\n",
       "      <td>I received Farmers Market Organic Pumpkin 12 p...</td>\n",
       "      <td>negative</td>\n",
       "      <td>useful</td>\n",
       "    </tr>\n",
       "    <tr>\n",
       "      <th>18</th>\n",
       "      <td>135696</td>\n",
       "      <td>B003THML30</td>\n",
       "      <td>A1RC6AKHUZKRQS</td>\n",
       "      <td>Amy</td>\n",
       "      <td>0</td>\n",
       "      <td>0</td>\n",
       "      <td>1</td>\n",
       "      <td>1339718400</td>\n",
       "      <td>Don't buy from here</td>\n",
       "      <td>I was expecting two packs of these like the de...</td>\n",
       "      <td>negative</td>\n",
       "      <td>useless</td>\n",
       "    </tr>\n",
       "    <tr>\n",
       "      <th>19</th>\n",
       "      <td>16179</td>\n",
       "      <td>B0001BVD04</td>\n",
       "      <td>A2YDEO5BR1OA5R</td>\n",
       "      <td>Pelly</td>\n",
       "      <td>5</td>\n",
       "      <td>5</td>\n",
       "      <td>4</td>\n",
       "      <td>1150329600</td>\n",
       "      <td>Cheaper in supermarkets</td>\n",
       "      <td>This is a great fruit soda, will surprise you ...</td>\n",
       "      <td>positive</td>\n",
       "      <td>useful</td>\n",
       "    </tr>\n",
       "    <tr>\n",
       "      <th>20</th>\n",
       "      <td>79185</td>\n",
       "      <td>B002WDCIXK</td>\n",
       "      <td>A336LGWA4H3V4H</td>\n",
       "      <td>Blarney</td>\n",
       "      <td>1</td>\n",
       "      <td>1</td>\n",
       "      <td>2</td>\n",
       "      <td>1326412800</td>\n",
       "      <td>Way too expensive</td>\n",
       "      <td>Like the product, but come on....  $38.00 for ...</td>\n",
       "      <td>negative</td>\n",
       "      <td>useful</td>\n",
       "    </tr>\n",
       "    <tr>\n",
       "      <th>21</th>\n",
       "      <td>178788</td>\n",
       "      <td>B0001WAMA0</td>\n",
       "      <td>A2HTHVCM8MEM3F</td>\n",
       "      <td>Nikijay88 \"Always hoping for happiness &amp;#60;3\"</td>\n",
       "      <td>2</td>\n",
       "      <td>2</td>\n",
       "      <td>5</td>\n",
       "      <td>1329350400</td>\n",
       "      <td>Great Appreciation Gift!</td>\n",
       "      <td>I sent this to my mother as a thank you for al...</td>\n",
       "      <td>positive</td>\n",
       "      <td>useful</td>\n",
       "    </tr>\n",
       "    <tr>\n",
       "      <th>22</th>\n",
       "      <td>450065</td>\n",
       "      <td>B001SB6A7C</td>\n",
       "      <td>A2GOR08W4UGJO7</td>\n",
       "      <td>austinwriter</td>\n",
       "      <td>0</td>\n",
       "      <td>1</td>\n",
       "      <td>4</td>\n",
       "      <td>1331510400</td>\n",
       "      <td>Great Taste, Small Bags</td>\n",
       "      <td>The taste of these chips is incredible. My onl...</td>\n",
       "      <td>positive</td>\n",
       "      <td>useless</td>\n",
       "    </tr>\n",
       "    <tr>\n",
       "      <th>23</th>\n",
       "      <td>340470</td>\n",
       "      <td>B002ITIBQG</td>\n",
       "      <td>AKB3TXWM102DR</td>\n",
       "      <td>Rebecca \"red roots\"</td>\n",
       "      <td>0</td>\n",
       "      <td>0</td>\n",
       "      <td>5</td>\n",
       "      <td>1319760000</td>\n",
       "      <td>TRY THESE, THEY'RE DELICIOUS!</td>\n",
       "      <td>You have to treat yourself to these wonderful ...</td>\n",
       "      <td>positive</td>\n",
       "      <td>useless</td>\n",
       "    </tr>\n",
       "    <tr>\n",
       "      <th>24</th>\n",
       "      <td>409742</td>\n",
       "      <td>B003LPZTTS</td>\n",
       "      <td>A2V8GTSHVKMFI3</td>\n",
       "      <td>Z. \"speedyZ.\"</td>\n",
       "      <td>1</td>\n",
       "      <td>1</td>\n",
       "      <td>3</td>\n",
       "      <td>1311811200</td>\n",
       "      <td>With pros and cons</td>\n",
       "      <td>Pros:&lt;br /&gt;1. Clumps well.&lt;br /&gt;2. Easy to get...</td>\n",
       "      <td>negative</td>\n",
       "      <td>useful</td>\n",
       "    </tr>\n",
       "    <tr>\n",
       "      <th>25</th>\n",
       "      <td>302044</td>\n",
       "      <td>B0048CHI9M</td>\n",
       "      <td>AUUFW7PTUHLT</td>\n",
       "      <td>MamaSylvia</td>\n",
       "      <td>0</td>\n",
       "      <td>0</td>\n",
       "      <td>5</td>\n",
       "      <td>1338163200</td>\n",
       "      <td>Sugar-free to go!</td>\n",
       "      <td>I always keep one of these in my purse because...</td>\n",
       "      <td>positive</td>\n",
       "      <td>useless</td>\n",
       "    </tr>\n",
       "    <tr>\n",
       "      <th>26</th>\n",
       "      <td>231195</td>\n",
       "      <td>B003FDC2I2</td>\n",
       "      <td>A2IZEN3G4J0605</td>\n",
       "      <td>Ultraquel</td>\n",
       "      <td>1</td>\n",
       "      <td>1</td>\n",
       "      <td>5</td>\n",
       "      <td>1287964800</td>\n",
       "      <td>Great!</td>\n",
       "      <td>Orgain is healthier than most drinks, so it sa...</td>\n",
       "      <td>positive</td>\n",
       "      <td>useful</td>\n",
       "    </tr>\n",
       "    <tr>\n",
       "      <th>27</th>\n",
       "      <td>391725</td>\n",
       "      <td>B000YQCDQY</td>\n",
       "      <td>A3F34JZEKQBH68</td>\n",
       "      <td>Karen Canellos</td>\n",
       "      <td>0</td>\n",
       "      <td>0</td>\n",
       "      <td>5</td>\n",
       "      <td>1346630400</td>\n",
       "      <td>good tasting flavor</td>\n",
       "      <td>If you are trying to watch calories, these are...</td>\n",
       "      <td>positive</td>\n",
       "      <td>useless</td>\n",
       "    </tr>\n",
       "    <tr>\n",
       "      <th>28</th>\n",
       "      <td>549077</td>\n",
       "      <td>B000WV153I</td>\n",
       "      <td>A27AB7VV7ETZ74</td>\n",
       "      <td>Danielle O.</td>\n",
       "      <td>3</td>\n",
       "      <td>3</td>\n",
       "      <td>5</td>\n",
       "      <td>1337212800</td>\n",
       "      <td>Simply the best food I've ever consumed.</td>\n",
       "      <td>I can't stop eating this stuff! The taste is s...</td>\n",
       "      <td>positive</td>\n",
       "      <td>useful</td>\n",
       "    </tr>\n",
       "    <tr>\n",
       "      <th>29</th>\n",
       "      <td>448115</td>\n",
       "      <td>B001FXU6QO</td>\n",
       "      <td>AKGIHE73N0HJW</td>\n",
       "      <td>jennifer</td>\n",
       "      <td>0</td>\n",
       "      <td>0</td>\n",
       "      <td>5</td>\n",
       "      <td>1301875200</td>\n",
       "      <td>Love this product works amazing!!!</td>\n",
       "      <td>I love this product, first it was supose to ge...</td>\n",
       "      <td>positive</td>\n",
       "      <td>useless</td>\n",
       "    </tr>\n",
       "    <tr>\n",
       "      <th>30</th>\n",
       "      <td>5785</td>\n",
       "      <td>B003TIVBSU</td>\n",
       "      <td>AUXRFG41XNAI3</td>\n",
       "      <td>P. Souza</td>\n",
       "      <td>0</td>\n",
       "      <td>0</td>\n",
       "      <td>5</td>\n",
       "      <td>1318204800</td>\n",
       "      <td>Delicious beans!!</td>\n",
       "      <td>I bake quite often and I love to use fresh van...</td>\n",
       "      <td>positive</td>\n",
       "      <td>useless</td>\n",
       "    </tr>\n",
       "    <tr>\n",
       "      <th>31</th>\n",
       "      <td>215615</td>\n",
       "      <td>B0019FM29M</td>\n",
       "      <td>ADGS32I8FDAU0</td>\n",
       "      <td>et \"et in Indiana\"</td>\n",
       "      <td>0</td>\n",
       "      <td>8</td>\n",
       "      <td>3</td>\n",
       "      <td>1244073600</td>\n",
       "      <td>not so yummy</td>\n",
       "      <td>If you are hoping to buy the same product you ...</td>\n",
       "      <td>negative</td>\n",
       "      <td>useless</td>\n",
       "    </tr>\n",
       "    <tr>\n",
       "      <th>32</th>\n",
       "      <td>502232</td>\n",
       "      <td>B000GQ03K0</td>\n",
       "      <td>A2A0JAZSASXJWL</td>\n",
       "      <td>E. tamba \"colonia\"</td>\n",
       "      <td>1</td>\n",
       "      <td>2</td>\n",
       "      <td>5</td>\n",
       "      <td>1168300800</td>\n",
       "      <td>cool stuff</td>\n",
       "      <td>I really like this gum, cool and free sugar an...</td>\n",
       "      <td>positive</td>\n",
       "      <td>useless</td>\n",
       "    </tr>\n",
       "    <tr>\n",
       "      <th>33</th>\n",
       "      <td>355280</td>\n",
       "      <td>B004KPMWLG</td>\n",
       "      <td>A1Z54EM24Y40LL</td>\n",
       "      <td>c2</td>\n",
       "      <td>1</td>\n",
       "      <td>1</td>\n",
       "      <td>5</td>\n",
       "      <td>1338249600</td>\n",
       "      <td>Just awesome!</td>\n",
       "      <td>This stuff, when thoroughly chilled, tastes li...</td>\n",
       "      <td>positive</td>\n",
       "      <td>useful</td>\n",
       "    </tr>\n",
       "    <tr>\n",
       "      <th>34</th>\n",
       "      <td>3303</td>\n",
       "      <td>B005K4Q1VI</td>\n",
       "      <td>A29WENSRNV44RY</td>\n",
       "      <td>selketine</td>\n",
       "      <td>0</td>\n",
       "      <td>0</td>\n",
       "      <td>3</td>\n",
       "      <td>1328832000</td>\n",
       "      <td>Kids love it - me not so much</td>\n",
       "      <td>I bought this brand of hot chocolate K cups ca...</td>\n",
       "      <td>negative</td>\n",
       "      <td>useless</td>\n",
       "    </tr>\n",
       "    <tr>\n",
       "      <th>35</th>\n",
       "      <td>57856</td>\n",
       "      <td>B000EVOSE4</td>\n",
       "      <td>A13P3HLPHS2PGJ</td>\n",
       "      <td>saltpeanuts</td>\n",
       "      <td>5</td>\n",
       "      <td>14</td>\n",
       "      <td>1</td>\n",
       "      <td>1161820800</td>\n",
       "      <td>Tasty Rubber</td>\n",
       "      <td>I expected something softer in texture, but th...</td>\n",
       "      <td>negative</td>\n",
       "      <td>useless</td>\n",
       "    </tr>\n",
       "    <tr>\n",
       "      <th>36</th>\n",
       "      <td>237704</td>\n",
       "      <td>B002L99DTC</td>\n",
       "      <td>A1I9SEYBPTWFTZ</td>\n",
       "      <td>LARRY STANIFER</td>\n",
       "      <td>0</td>\n",
       "      <td>0</td>\n",
       "      <td>2</td>\n",
       "      <td>1350691200</td>\n",
       "      <td>Lemon Drops leave sour taste</td>\n",
       "      <td>Not the same drops from Flathau that I remembe...</td>\n",
       "      <td>negative</td>\n",
       "      <td>useless</td>\n",
       "    </tr>\n",
       "    <tr>\n",
       "      <th>37</th>\n",
       "      <td>214813</td>\n",
       "      <td>B001BBXP7M</td>\n",
       "      <td>AH0SAAFAGK5C5</td>\n",
       "      <td>Road Warrior \"Road Warrior\"</td>\n",
       "      <td>3</td>\n",
       "      <td>5</td>\n",
       "      <td>5</td>\n",
       "      <td>1183939200</td>\n",
       "      <td>Road Warrior-L.A.</td>\n",
       "      <td>I have been using this powder mix for the last...</td>\n",
       "      <td>positive</td>\n",
       "      <td>useless</td>\n",
       "    </tr>\n",
       "    <tr>\n",
       "      <th>38</th>\n",
       "      <td>335679</td>\n",
       "      <td>B000VTFIWK</td>\n",
       "      <td>A28S6CWIEP76BQ</td>\n",
       "      <td>Laura</td>\n",
       "      <td>1</td>\n",
       "      <td>1</td>\n",
       "      <td>5</td>\n",
       "      <td>1313971200</td>\n",
       "      <td>Great kitten food!</td>\n",
       "      <td>This dry food is great!  My kitten (5 mos. old...</td>\n",
       "      <td>positive</td>\n",
       "      <td>useful</td>\n",
       "    </tr>\n",
       "    <tr>\n",
       "      <th>39</th>\n",
       "      <td>284412</td>\n",
       "      <td>B003Z33WGI</td>\n",
       "      <td>A2GE7OOGW6LMYK</td>\n",
       "      <td>Bill Barkoczy</td>\n",
       "      <td>0</td>\n",
       "      <td>0</td>\n",
       "      <td>2</td>\n",
       "      <td>1289088000</td>\n",
       "      <td>Cashews</td>\n",
       "      <td>These dry roasted cashews were noy dry roasted...</td>\n",
       "      <td>negative</td>\n",
       "      <td>useless</td>\n",
       "    </tr>\n",
       "    <tr>\n",
       "      <th>40</th>\n",
       "      <td>285673</td>\n",
       "      <td>B000KNDF7M</td>\n",
       "      <td>A17MURLSVTLNKN</td>\n",
       "      <td>M. Bhatia</td>\n",
       "      <td>0</td>\n",
       "      <td>4</td>\n",
       "      <td>5</td>\n",
       "      <td>1238630400</td>\n",
       "      <td>On time and as described!!</td>\n",
       "      <td>I was very happy with my order.  It arrived on...</td>\n",
       "      <td>positive</td>\n",
       "      <td>useless</td>\n",
       "    </tr>\n",
       "    <tr>\n",
       "      <th>41</th>\n",
       "      <td>393481</td>\n",
       "      <td>B0002ASM94</td>\n",
       "      <td>A1I327C0APIQBG</td>\n",
       "      <td>Ginger23</td>\n",
       "      <td>1</td>\n",
       "      <td>1</td>\n",
       "      <td>5</td>\n",
       "      <td>1322438400</td>\n",
       "      <td>durable</td>\n",
       "      <td>These bones are awesome- my dog hasn't managed...</td>\n",
       "      <td>positive</td>\n",
       "      <td>useful</td>\n",
       "    </tr>\n",
       "    <tr>\n",
       "      <th>42</th>\n",
       "      <td>491468</td>\n",
       "      <td>B002FVUMU0</td>\n",
       "      <td>AGKC7QBBFRD5O</td>\n",
       "      <td>Lord Marshal the 1st</td>\n",
       "      <td>1</td>\n",
       "      <td>1</td>\n",
       "      <td>5</td>\n",
       "      <td>1299888000</td>\n",
       "      <td>Good quality, lightning shipping</td>\n",
       "      <td>Was wary about buying from this vendor with no...</td>\n",
       "      <td>positive</td>\n",
       "      <td>useful</td>\n",
       "    </tr>\n",
       "    <tr>\n",
       "      <th>43</th>\n",
       "      <td>382883</td>\n",
       "      <td>B002T0IHPO</td>\n",
       "      <td>A1TSJR1YF6ORC0</td>\n",
       "      <td>V. R. Heck</td>\n",
       "      <td>2</td>\n",
       "      <td>3</td>\n",
       "      <td>5</td>\n",
       "      <td>1311552000</td>\n",
       "      <td>Just Amazing!</td>\n",
       "      <td>It's so much fun to make my own soda with as m...</td>\n",
       "      <td>positive</td>\n",
       "      <td>useless</td>\n",
       "    </tr>\n",
       "    <tr>\n",
       "      <th>44</th>\n",
       "      <td>558578</td>\n",
       "      <td>B000EMNKXS</td>\n",
       "      <td>A4EYDXJMLGZ2Q</td>\n",
       "      <td>Ydtrack</td>\n",
       "      <td>0</td>\n",
       "      <td>0</td>\n",
       "      <td>5</td>\n",
       "      <td>1321142400</td>\n",
       "      <td>Ships better than the liquid coffee creamers</td>\n",
       "      <td>I have ordered the liquid coffee creamers in t...</td>\n",
       "      <td>positive</td>\n",
       "      <td>useless</td>\n",
       "    </tr>\n",
       "    <tr>\n",
       "      <th>45</th>\n",
       "      <td>182397</td>\n",
       "      <td>B008RWUKXK</td>\n",
       "      <td>AEC90GPFKLAAW</td>\n",
       "      <td>Lisa Kearns</td>\n",
       "      <td>0</td>\n",
       "      <td>0</td>\n",
       "      <td>4</td>\n",
       "      <td>1320883200</td>\n",
       "      <td>Healthy and tastes great, but the clusters wer...</td>\n",
       "      <td>I received my bag of Kind Healthy Grains clust...</td>\n",
       "      <td>positive</td>\n",
       "      <td>useless</td>\n",
       "    </tr>\n",
       "    <tr>\n",
       "      <th>46</th>\n",
       "      <td>174198</td>\n",
       "      <td>B000LL0RKG</td>\n",
       "      <td>A2BO3RX7DEKPBS</td>\n",
       "      <td>Ms. Cascadia \"Lis\"</td>\n",
       "      <td>24</td>\n",
       "      <td>27</td>\n",
       "      <td>1</td>\n",
       "      <td>1260144000</td>\n",
       "      <td>Boycott Silk! Irresponsible and shady business...</td>\n",
       "      <td>I used to be a loyal Silk drinker back when it...</td>\n",
       "      <td>negative</td>\n",
       "      <td>useful</td>\n",
       "    </tr>\n",
       "    <tr>\n",
       "      <th>47</th>\n",
       "      <td>519796</td>\n",
       "      <td>B0017128WO</td>\n",
       "      <td>A1FWJPC1B5PKII</td>\n",
       "      <td>gman</td>\n",
       "      <td>0</td>\n",
       "      <td>0</td>\n",
       "      <td>5</td>\n",
       "      <td>1324944000</td>\n",
       "      <td>great steak</td>\n",
       "      <td>these steaks are not as good as the private re...</td>\n",
       "      <td>positive</td>\n",
       "      <td>useless</td>\n",
       "    </tr>\n",
       "    <tr>\n",
       "      <th>48</th>\n",
       "      <td>348677</td>\n",
       "      <td>B000E46GFK</td>\n",
       "      <td>A1KU110KO2ILWG</td>\n",
       "      <td>H. Rao</td>\n",
       "      <td>0</td>\n",
       "      <td>0</td>\n",
       "      <td>4</td>\n",
       "      <td>1288569600</td>\n",
       "      <td>Good oatmeal with unique flavors</td>\n",
       "      <td>Ever since I was about 8 years old, I've been ...</td>\n",
       "      <td>positive</td>\n",
       "      <td>useless</td>\n",
       "    </tr>\n",
       "    <tr>\n",
       "      <th>49</th>\n",
       "      <td>29862</td>\n",
       "      <td>B0045CTYNI</td>\n",
       "      <td>A1X2A8LAZLOUO0</td>\n",
       "      <td>Kathy</td>\n",
       "      <td>0</td>\n",
       "      <td>0</td>\n",
       "      <td>1</td>\n",
       "      <td>1347062400</td>\n",
       "      <td>bag was greasy</td>\n",
       "      <td>It was a real pain to throw out the whole bag....</td>\n",
       "      <td>negative</td>\n",
       "      <td>useless</td>\n",
       "    </tr>\n",
       "  </tbody>\n",
       "</table>\n",
       "</div>"
      ],
      "text/plain": [
       "        Id   ProductId          UserId  \\\n",
       "0   492346  B001VNP0Y6   AEZRVY3CV52UZ   \n",
       "1   343811  B008J1HO4C  A18VZYSLOUO060   \n",
       "2   347257  B000FFIL60  A28Y1M7GRG0I9M   \n",
       "3   225529  B002ZX1U9A  A245HC4T5J97WG   \n",
       "4   485488  B001RVFERK   AVABPJCKE2MR5   \n",
       "5    74981  B0026RQTGE  A161Y9NAR43WCW   \n",
       "6   204180  B000F0FZE6  A1H35JZ9UUCVIF   \n",
       "7   454372  B0019K981W  A13H71301WENPW   \n",
       "8   112235  B0009JJB4S  A2HBOYLMGW2A5Y   \n",
       "9   295251  B000LQNK50   ATO0RF3HWQ3WW   \n",
       "10    2544  B000G7UDPY  A392JXFKJ5GG17   \n",
       "11  435949  B0016COPSY   A6KL17KKN0A5L   \n",
       "12  179209  B000V1FI5U  A2DQ0KE7NH5A08   \n",
       "13  243805  B001LQNVOE  A3JJOUVMIIXLFQ   \n",
       "14   11688  B0032RPLSY  A2ELBN89JT1S4T   \n",
       "15  459662  B000LKTJUG  A3PNHHF9XWHJGR   \n",
       "16  525701  B0015V1WMS  A3BTGGLX2B6Q6N   \n",
       "17   31901  B0062A87HA   ACVLAI219S7TT   \n",
       "18  135696  B003THML30  A1RC6AKHUZKRQS   \n",
       "19   16179  B0001BVD04  A2YDEO5BR1OA5R   \n",
       "20   79185  B002WDCIXK  A336LGWA4H3V4H   \n",
       "21  178788  B0001WAMA0  A2HTHVCM8MEM3F   \n",
       "22  450065  B001SB6A7C  A2GOR08W4UGJO7   \n",
       "23  340470  B002ITIBQG   AKB3TXWM102DR   \n",
       "24  409742  B003LPZTTS  A2V8GTSHVKMFI3   \n",
       "25  302044  B0048CHI9M    AUUFW7PTUHLT   \n",
       "26  231195  B003FDC2I2  A2IZEN3G4J0605   \n",
       "27  391725  B000YQCDQY  A3F34JZEKQBH68   \n",
       "28  549077  B000WV153I  A27AB7VV7ETZ74   \n",
       "29  448115  B001FXU6QO   AKGIHE73N0HJW   \n",
       "30    5785  B003TIVBSU   AUXRFG41XNAI3   \n",
       "31  215615  B0019FM29M   ADGS32I8FDAU0   \n",
       "32  502232  B000GQ03K0  A2A0JAZSASXJWL   \n",
       "33  355280  B004KPMWLG  A1Z54EM24Y40LL   \n",
       "34    3303  B005K4Q1VI  A29WENSRNV44RY   \n",
       "35   57856  B000EVOSE4  A13P3HLPHS2PGJ   \n",
       "36  237704  B002L99DTC  A1I9SEYBPTWFTZ   \n",
       "37  214813  B001BBXP7M   AH0SAAFAGK5C5   \n",
       "38  335679  B000VTFIWK  A28S6CWIEP76BQ   \n",
       "39  284412  B003Z33WGI  A2GE7OOGW6LMYK   \n",
       "40  285673  B000KNDF7M  A17MURLSVTLNKN   \n",
       "41  393481  B0002ASM94  A1I327C0APIQBG   \n",
       "42  491468  B002FVUMU0   AGKC7QBBFRD5O   \n",
       "43  382883  B002T0IHPO  A1TSJR1YF6ORC0   \n",
       "44  558578  B000EMNKXS   A4EYDXJMLGZ2Q   \n",
       "45  182397  B008RWUKXK   AEC90GPFKLAAW   \n",
       "46  174198  B000LL0RKG  A2BO3RX7DEKPBS   \n",
       "47  519796  B0017128WO  A1FWJPC1B5PKII   \n",
       "48  348677  B000E46GFK  A1KU110KO2ILWG   \n",
       "49   29862  B0045CTYNI  A1X2A8LAZLOUO0   \n",
       "\n",
       "                                       ProfileName  HelpfulnessNumerator  \\\n",
       "0                        Corey Wright \"Democratus\"                     3   \n",
       "1                          D. Simpson \"Frugal SOB\"                     2   \n",
       "2                              Real Comments \"Lin\"                     0   \n",
       "3                                  Logan DeAngelis                     0   \n",
       "4                                             spal                     0   \n",
       "5                                           vertov                     0   \n",
       "6                                         carrera4                     1   \n",
       "7                           Patricia Fentriss \"PF\"                    11   \n",
       "8                                              lee                     0   \n",
       "9                                  Scott \"Scottso\"                    12   \n",
       "10                                Donna G. Spencer                     0   \n",
       "11                                       K. Harper                    14   \n",
       "12                          Alice McDaniel \"Alice\"                     0   \n",
       "13                                       L  Willis                     0   \n",
       "14                                        Maybelle                     0   \n",
       "15                             Kyle Smeby \"kyle78\"                     1   \n",
       "16                                          sponse                     0   \n",
       "17                                     Wendy in Pa                    12   \n",
       "18                                             Amy                     0   \n",
       "19                                           Pelly                     5   \n",
       "20                                         Blarney                     1   \n",
       "21  Nikijay88 \"Always hoping for happiness &#60;3\"                     2   \n",
       "22                                    austinwriter                     0   \n",
       "23                             Rebecca \"red roots\"                     0   \n",
       "24                                   Z. \"speedyZ.\"                     1   \n",
       "25                                      MamaSylvia                     0   \n",
       "26                                       Ultraquel                     1   \n",
       "27                                  Karen Canellos                     0   \n",
       "28                                     Danielle O.                     3   \n",
       "29                                        jennifer                     0   \n",
       "30                                        P. Souza                     0   \n",
       "31                              et \"et in Indiana\"                     0   \n",
       "32                              E. tamba \"colonia\"                     1   \n",
       "33                                              c2                     1   \n",
       "34                                       selketine                     0   \n",
       "35                                     saltpeanuts                     5   \n",
       "36                                  LARRY STANIFER                     0   \n",
       "37                     Road Warrior \"Road Warrior\"                     3   \n",
       "38                                           Laura                     1   \n",
       "39                                   Bill Barkoczy                     0   \n",
       "40                                       M. Bhatia                     0   \n",
       "41                                        Ginger23                     1   \n",
       "42                            Lord Marshal the 1st                     1   \n",
       "43                                      V. R. Heck                     2   \n",
       "44                                         Ydtrack                     0   \n",
       "45                                     Lisa Kearns                     0   \n",
       "46                              Ms. Cascadia \"Lis\"                    24   \n",
       "47                                            gman                     0   \n",
       "48                                          H. Rao                     0   \n",
       "49                                           Kathy                     0   \n",
       "\n",
       "    HelpfulnessDenominator  Prediction        Time  \\\n",
       "0                        3           5  1320537600   \n",
       "1                        2           5  1204329600   \n",
       "2                        0           4  1318464000   \n",
       "3                        0           5  1306540800   \n",
       "4                        0           4  1314921600   \n",
       "5                        0           5  1314835200   \n",
       "6                        1           5  1330646400   \n",
       "7                       13           1  1249344000   \n",
       "8                        0           5  1345852800   \n",
       "9                       16           3  1236729600   \n",
       "10                       1           1  1266019200   \n",
       "11                      20           4  1291593600   \n",
       "12                       0           3  1339977600   \n",
       "13                       1           5  1335657600   \n",
       "14                       0           5  1351123200   \n",
       "15                       1           5  1233878400   \n",
       "16                       0           4  1290988800   \n",
       "17                      12           1  1279670400   \n",
       "18                       0           1  1339718400   \n",
       "19                       5           4  1150329600   \n",
       "20                       1           2  1326412800   \n",
       "21                       2           5  1329350400   \n",
       "22                       1           4  1331510400   \n",
       "23                       0           5  1319760000   \n",
       "24                       1           3  1311811200   \n",
       "25                       0           5  1338163200   \n",
       "26                       1           5  1287964800   \n",
       "27                       0           5  1346630400   \n",
       "28                       3           5  1337212800   \n",
       "29                       0           5  1301875200   \n",
       "30                       0           5  1318204800   \n",
       "31                       8           3  1244073600   \n",
       "32                       2           5  1168300800   \n",
       "33                       1           5  1338249600   \n",
       "34                       0           3  1328832000   \n",
       "35                      14           1  1161820800   \n",
       "36                       0           2  1350691200   \n",
       "37                       5           5  1183939200   \n",
       "38                       1           5  1313971200   \n",
       "39                       0           2  1289088000   \n",
       "40                       4           5  1238630400   \n",
       "41                       1           5  1322438400   \n",
       "42                       1           5  1299888000   \n",
       "43                       3           5  1311552000   \n",
       "44                       0           5  1321142400   \n",
       "45                       0           4  1320883200   \n",
       "46                      27           1  1260144000   \n",
       "47                       0           5  1324944000   \n",
       "48                       0           4  1288569600   \n",
       "49                       0           1  1347062400   \n",
       "\n",
       "                                              Summary  \\\n",
       "0                                  Just what I needed   \n",
       "1                              Most excellent oatmeal   \n",
       "2                                         Quality Tea   \n",
       "3                       Great Coffee at a Great price   \n",
       "4                            Popchips Jalapeno flavor   \n",
       "5                            Our dog has fresh breath   \n",
       "6                              Great Pasta & Healthy!   \n",
       "7   Sugar bomb!!!  Same amount of sugar as a 12 oz...   \n",
       "8                         Pretty great for the price!   \n",
       "9                                              Its OK   \n",
       "10                                   Bad tasting soup   \n",
       "11         I like it, but it's a product of Taiwan...   \n",
       "12  Okay but learning that I'm just not into \"flav...   \n",
       "13                          This is very good coffee.   \n",
       "14                                         Delicious!   \n",
       "15                              Cure for sore throats   \n",
       "16                Gold coins were a great party favor   \n",
       "17  Is someone using Amazon as an outlet for dente...   \n",
       "18                                Don't buy from here   \n",
       "19                            Cheaper in supermarkets   \n",
       "20                                  Way too expensive   \n",
       "21                           Great Appreciation Gift!   \n",
       "22                            Great Taste, Small Bags   \n",
       "23                      TRY THESE, THEY'RE DELICIOUS!   \n",
       "24                                 With pros and cons   \n",
       "25                                  Sugar-free to go!   \n",
       "26                                             Great!   \n",
       "27                                good tasting flavor   \n",
       "28           Simply the best food I've ever consumed.   \n",
       "29                 Love this product works amazing!!!   \n",
       "30                                  Delicious beans!!   \n",
       "31                                       not so yummy   \n",
       "32                                         cool stuff   \n",
       "33                                      Just awesome!   \n",
       "34                      Kids love it - me not so much   \n",
       "35                                       Tasty Rubber   \n",
       "36                       Lemon Drops leave sour taste   \n",
       "37                                  Road Warrior-L.A.   \n",
       "38                                 Great kitten food!   \n",
       "39                                            Cashews   \n",
       "40                         On time and as described!!   \n",
       "41                                            durable   \n",
       "42                   Good quality, lightning shipping   \n",
       "43                                      Just Amazing!   \n",
       "44       Ships better than the liquid coffee creamers   \n",
       "45  Healthy and tastes great, but the clusters wer...   \n",
       "46  Boycott Silk! Irresponsible and shady business...   \n",
       "47                                        great steak   \n",
       "48                   Good oatmeal with unique flavors   \n",
       "49                                     bag was greasy   \n",
       "\n",
       "                                                 Text Sentiment Usefulness  \n",
       "0   I got them in a very timely manner and they're...  positive     useful  \n",
       "1   McCann's Steel Cut Oatmeal is the perfect brea...  positive     useful  \n",
       "2   I would recommend it. Quality pearls and a few...  positive    useless  \n",
       "3   I have to admit, I first purchased these Hazel...  positive    useless  \n",
       "4   I bought a case of jalapeno chips as I love th...  positive    useless  \n",
       "5   No doggie breath for our dog.  People are alwa...  positive    useless  \n",
       "6   I tried this pasta after viewing the Dr. Oz sh...  positive     useful  \n",
       "7   Check out the sugar content before you buy!  2...  negative     useful  \n",
       "8   I drink Iron goddess oolong pretty often, it i...  positive    useless  \n",
       "9   Maybe it's due to my tendency to prefer noodle...  negative    useless  \n",
       "10  This is one of the worse tasting soups I've ev...  negative    useless  \n",
       "11  While I love the product, if you read the labe...  positive    useless  \n",
       "12  I ordered these and was excited about them.  T...  negative    useless  \n",
       "13  We like our coffee strong but not bitter. This...  positive    useless  \n",
       "14  This ghee is delicious. A little goes a long w...  positive    useless  \n",
       "15  For about 5 years, especially during the winte...  positive     useful  \n",
       "16  This product was perfect for a volunteer recog...  positive    useless  \n",
       "17  I received Farmers Market Organic Pumpkin 12 p...  negative     useful  \n",
       "18  I was expecting two packs of these like the de...  negative    useless  \n",
       "19  This is a great fruit soda, will surprise you ...  positive     useful  \n",
       "20  Like the product, but come on....  $38.00 for ...  negative     useful  \n",
       "21  I sent this to my mother as a thank you for al...  positive     useful  \n",
       "22  The taste of these chips is incredible. My onl...  positive    useless  \n",
       "23  You have to treat yourself to these wonderful ...  positive    useless  \n",
       "24  Pros:<br />1. Clumps well.<br />2. Easy to get...  negative     useful  \n",
       "25  I always keep one of these in my purse because...  positive    useless  \n",
       "26  Orgain is healthier than most drinks, so it sa...  positive     useful  \n",
       "27  If you are trying to watch calories, these are...  positive    useless  \n",
       "28  I can't stop eating this stuff! The taste is s...  positive     useful  \n",
       "29  I love this product, first it was supose to ge...  positive    useless  \n",
       "30  I bake quite often and I love to use fresh van...  positive    useless  \n",
       "31  If you are hoping to buy the same product you ...  negative    useless  \n",
       "32  I really like this gum, cool and free sugar an...  positive    useless  \n",
       "33  This stuff, when thoroughly chilled, tastes li...  positive     useful  \n",
       "34  I bought this brand of hot chocolate K cups ca...  negative    useless  \n",
       "35  I expected something softer in texture, but th...  negative    useless  \n",
       "36  Not the same drops from Flathau that I remembe...  negative    useless  \n",
       "37  I have been using this powder mix for the last...  positive    useless  \n",
       "38  This dry food is great!  My kitten (5 mos. old...  positive     useful  \n",
       "39  These dry roasted cashews were noy dry roasted...  negative    useless  \n",
       "40  I was very happy with my order.  It arrived on...  positive    useless  \n",
       "41  These bones are awesome- my dog hasn't managed...  positive     useful  \n",
       "42  Was wary about buying from this vendor with no...  positive     useful  \n",
       "43  It's so much fun to make my own soda with as m...  positive    useless  \n",
       "44  I have ordered the liquid coffee creamers in t...  positive    useless  \n",
       "45  I received my bag of Kind Healthy Grains clust...  positive    useless  \n",
       "46  I used to be a loyal Silk drinker back when it...  negative     useful  \n",
       "47  these steaks are not as good as the private re...  positive    useless  \n",
       "48  Ever since I was about 8 years old, I've been ...  positive    useless  \n",
       "49  It was a real pain to throw out the whole bag....  negative    useless  "
      ]
     },
     "execution_count": 15,
     "metadata": {},
     "output_type": "execute_result"
    }
   ],
   "source": [
    "df[\"Sentiment\"] = df[\"Prediction\"].apply(lambda score: \"positive\" if score > 3 else \"negative\")\n",
    "df[\"Usefulness\"] = (df[\"HelpfulnessNumerator\"]/df[\"HelpfulnessDenominator\"]).apply(lambda n: \"useful\" if n > 0.8 else \"useless\")\n",
    "\n",
    "df.head(50)"
   ]
  },
  {
   "cell_type": "markdown",
   "metadata": {},
   "source": [
    "### Splitting dataframe into train and test data"
   ]
  },
  {
   "cell_type": "markdown",
   "metadata": {},
   "source": [
    "How will you do sentimental analysis on the datasets? How will you start implementations?"
   ]
  },
  {
   "cell_type": "code",
   "execution_count": 16,
   "metadata": {},
   "outputs": [
    {
     "name": "stdout",
     "output_type": "stream",
     "text": [
      "363778 items in training data, 90945 in test data\n"
     ]
    }
   ],
   "source": [
    "from sklearn.feature_extraction.text import CountVectorizer, TfidfTransformer\n",
    "from sklearn.model_selection import train_test_split\n",
    "import re\n",
    "import string\n",
    "import nltk\n",
    "\n",
    "cleanup_re = re.compile('[^a-z]+')\n",
    "def cleanup(sentence):\n",
    "    sentence = sentence.lower()\n",
    "    sentence = cleanup_re.sub(' ', sentence).strip()\n",
    "    #sentence = \" \".join(nltk.word_tokenize(sentence))\n",
    "    return sentence\n",
    "\n",
    "df[\"Summary_Clean\"] = df[\"Summary\"].apply(cleanup)\n",
    "\n",
    "train, test = train_test_split(df, test_size=0.2)\n",
    "print(\"%d items in training data, %d in test data\" % (len(train), len(test)))"
   ]
  },
  {
   "cell_type": "markdown",
   "metadata": {},
   "source": [
    "We can start implementation by creating Test and Train data. Here, 363778 data rows are in training data and 90945 data rows are in Test data. Now we can implement the diff analysis using this Train and Test data."
   ]
  },
  {
   "cell_type": "markdown",
   "metadata": {},
   "source": [
    "# Sentiment scores"
   ]
  },
  {
   "cell_type": "code",
   "execution_count": 70,
   "metadata": {},
   "outputs": [
    {
     "data": {
      "image/png": "[encoded data removed]",
      "text/plain": [
       "<matplotlib.figure.Figure at 0x1a5de45748>"
      ]
     },
     "metadata": {},
     "output_type": "display_data"
    }
   ],
   "source": [
    "ax = plt.axes()\n",
    "sns.countplot(df.Prediction,ax=ax)\n",
    "ax.set_title('Prediction Distribution')\n",
    "plt.show()"
   ]
  },
  {
   "cell_type": "code",
   "execution_count": 73,
   "metadata": {},
   "outputs": [
    {
     "name": "stdout",
     "output_type": "stream",
     "text": [
      "Average Score:  4.183113675798233\n",
      "Median Score:  5.0\n"
     ]
    }
   ],
   "source": [
    "print(\"Average Score: \",np.mean(df.Prediction))\n",
    "print(\"Median Score: \",np.median(df.Prediction))"
   ]
  },
  {
   "cell_type": "markdown",
   "metadata": {},
   "source": [
    "As we can observe, the majority of Scores are equal to 4 and 5, and with an average score of 4.18. Because of the distribution is very skewed to the left, we will make a binary prediction. We can consider a negative review will have a Score between 1 and 3, and a positive review will have a Score equal to 4 or 5."
   ]
  },
  {
   "cell_type": "markdown",
   "metadata": {},
   "source": [
    "# Score prediction\n",
    "Logistic regression model on word count"
   ]
  },
  {
   "cell_type": "code",
   "execution_count": 17,
   "metadata": {
    "collapsed": true
   },
   "outputs": [],
   "source": [
    "from wordcloud import WordCloud, STOPWORDS\n",
    "\n",
    "# To cleanup stop words, add stop_words = STOPWORDS\n",
    "# But it seems to function better without it\n",
    "count_vect = CountVectorizer(min_df = 1, ngram_range = (1, 4))\n",
    "X_train_counts = count_vect.fit_transform(train[\"Summary_Clean\"])\n",
    "\n",
    "tfidf_transformer = TfidfTransformer()\n",
    "X_train_tfidf = tfidf_transformer.fit_transform(X_train_counts)\n",
    "\n",
    "X_new_counts = count_vect.transform(test[\"Summary_Clean\"])\n",
    "X_test_tfidf = tfidf_transformer.transform(X_new_counts)\n",
    "\n",
    "y_train = train[\"Sentiment\"]\n",
    "y_test = test[\"Sentiment\"]\n",
    "\n",
    "prediction = dict()"
   ]
  },
  {
   "cell_type": "code",
   "execution_count": 75,
   "metadata": {},
   "outputs": [
    {
     "name": "stdout",
     "output_type": "stream",
     "text": [
      "# features: 104489\n",
      "# train records: 315454\n",
      "# test records: 105152\n",
      "Model Accuracy: 0.9383844339622641\n",
      "\n",
      "-Top 20 positive-\n",
      "Coefficient           Word\n",
      "   2.866823        chedder\n",
      "   2.682058     pleasantly\n",
      "   2.655859         bertie\n",
      "   2.448787         porous\n",
      "   2.436518         skewed\n",
      "   2.423942        easiest\n",
      "   2.405478       downside\n",
      "   2.358084    beetlejuice\n",
      "   2.330106      skeptical\n",
      "   2.292455        solving\n",
      "   2.262341       terrific\n",
      "   2.231851        biscoff\n",
      "   2.226543        ruffles\n",
      "   2.195592      addicting\n",
      "   2.189176         hooked\n",
      "   2.183176  inconvenience\n",
      "   2.181415       updating\n",
      "   2.178819       heartier\n",
      "   2.128550       obsessed\n",
      "   2.121666         hahaha\n",
      "\n",
      "-Top 20 negative-\n",
      "Coefficient            Word\n",
      "  -2.366501       sleepless\n",
      "  -2.413647           snail\n",
      "  -2.425885      repackaged\n",
      "  -2.427711          jammed\n",
      "  -2.453388     unappealing\n",
      "  -2.505021       disturbed\n",
      "  -2.534557  disappointment\n",
      "  -2.570223         3095826\n",
      "  -2.613330       cancelled\n",
      "  -2.668301    unacceptable\n",
      "  -2.712299       redeeming\n",
      "  -2.747242   disappointing\n",
      "  -2.756710             ick\n",
      "  -2.856447      oversalted\n",
      "  -2.865482           budda\n",
      "  -2.875879           280mg\n",
      "  -2.897316      returnable\n",
      "  -2.904148     embarrassed\n",
      "  -2.918265           worst\n",
      "  -3.122421     undrinkable\n"
     ]
    }
   ],
   "source": [
    "cdf = df[df['Prediction'] != 3]\n",
    "X = cdf['Text']\n",
    "y_dict = {1:0, 2:0, 4:1, 5:1}\n",
    "y = cdf['Prediction'].map(y_dict)\n",
    "\n",
    "c = CountVectorizer(stop_words = 'english')\n",
    "\n",
    "def text_fit(X, y, model,clf_model,coef_show=1):\n",
    "    \n",
    "    X_c = model.fit_transform(X)\n",
    "    print('# features: {}'.format(X_c.shape[1]))\n",
    "    X_train, X_test, y_train, y_test = train_test_split(X_c, y, random_state=0)\n",
    "    print('# train records: {}'.format(X_train.shape[0]))\n",
    "    print('# test records: {}'.format(X_test.shape[0]))\n",
    "    clf = clf_model.fit(X_train, y_train)\n",
    "    acc = clf.score(X_test, y_test)\n",
    "    print ('Model Accuracy: {}'.format(acc))\n",
    "    \n",
    "    if coef_show == 1: \n",
    "        w = model.get_feature_names()\n",
    "        coef = clf.coef_.tolist()[0]\n",
    "        coeff_df = pd.DataFrame({'Word' : w, 'Coefficient' : coef})\n",
    "        coeff_df = coeff_df.sort_values(['Coefficient', 'Word'], ascending=[0, 1])\n",
    "        print('')\n",
    "        print('-Top 20 positive-')\n",
    "        print(coeff_df.head(20).to_string(index=False))\n",
    "        print('')\n",
    "        print('-Top 20 negative-')        \n",
    "        print(coeff_df.tail(20).to_string(index=False))\n",
    "    \n",
    "    \n",
    "text_fit(X, y, c, LogisticRegression())"
   ]
  },
  {
   "cell_type": "markdown",
   "metadata": {},
   "source": [
    "# Logistic regression model on TFIDF"
   ]
  },
  {
   "cell_type": "markdown",
   "metadata": {},
   "source": [
    "Can we capture the list of the words for Positive reviews and Negative reviews from the dataset?"
   ]
  },
  {
   "cell_type": "code",
   "execution_count": 77,
   "metadata": {},
   "outputs": [
    {
     "name": "stdout",
     "output_type": "stream",
     "text": [
      "# features: 104489\n",
      "# train records: 315454\n",
      "# test records: 105152\n",
      "Model Accuracy: 0.9335628423615338\n",
      "\n",
      "-Top 20 positive-\n",
      "Coefficient       Word\n",
      "  13.506856      great\n",
      "  11.590151  delicious\n",
      "  11.437148       best\n",
      "  10.259248    perfect\n",
      "   9.489034  excellent\n",
      "   9.375249      loves\n",
      "   8.705795     highly\n",
      "   8.579428       love\n",
      "   8.193503  wonderful\n",
      "   7.402186    amazing\n",
      "   7.273709       good\n",
      "   7.216878    awesome\n",
      "   6.806781   favorite\n",
      "   6.658609       nice\n",
      "   6.454763       glad\n",
      "   6.418996     hooked\n",
      "   6.415605      yummy\n",
      "   6.405190     smooth\n",
      "   6.312973    pleased\n",
      "   5.949468      thank\n",
      "\n",
      "-Top 20 negative-\n",
      "Coefficient            Word\n",
      "  -5.505024          hoping\n",
      "  -5.720401           hopes\n",
      "  -5.745208     undrinkable\n",
      "  -5.805598           stale\n",
      "  -6.007149       tasteless\n",
      "  -6.041809            yuck\n",
      "  -6.126152      disgusting\n",
      "  -6.230636           worse\n",
      "  -6.299422           bland\n",
      "  -6.582159           threw\n",
      "  -6.597748          return\n",
      "  -6.760740            weak\n",
      "  -7.177206   unfortunately\n",
      "  -7.720366        horrible\n",
      "  -8.293107    disappointed\n",
      "  -8.435486           awful\n",
      "  -8.439382  disappointment\n",
      "  -8.946647        terrible\n",
      "  -9.269790   disappointing\n",
      " -11.324766           worst\n"
     ]
    }
   ],
   "source": [
    "from sklearn.feature_extraction.text import TfidfVectorizer\n",
    "\n",
    "tfidf = TfidfVectorizer(stop_words = 'english')\n",
    "text_fit(X, y, tfidf, LogisticRegression())"
   ]
  },
  {
   "cell_type": "markdown",
   "metadata": {},
   "source": [
    "From above logic, you can see that we have captured the 20 positive words used in dataset reviews and 20 negative words used in dataset review. Based on this words, we can predict the food reviews and based on that we can suggest the good and bad food from the productId of the Amazon food."
   ]
  },
  {
   "cell_type": "code",
   "execution_count": 82,
   "metadata": {},
   "outputs": [
    {
     "name": "stdout",
     "output_type": "stream",
     "text": [
      "Percentage of upvote transactions:  0.5\n",
      "Percentage of downvote transactions:  0.5\n",
      "Total number of records in resampled data:  24112\n"
     ]
    },
    {
     "name": "stderr",
     "output_type": "stream",
     "text": [
      "/Users/user/anaconda3/lib/python3.6/site-packages/ipykernel_launcher.py:13: DeprecationWarning: \n",
      ".ix is deprecated. Please use\n",
      ".loc for label based indexing or\n",
      ".iloc for positional indexing\n",
      "\n",
      "See the documentation here:\n",
      "http://pandas.pydata.org/pandas-docs/stable/indexing.html#ix-indexer-is-deprecated\n",
      "  del sys.path[0]\n"
     ]
    }
   ],
   "source": [
    "df_s = pd.DataFrame(data = [X,y]).T\n",
    "\n",
    "Downvote_records = len(df_s[df_s['% Upvote'] == 0])\n",
    "Downvote_indices = np.array(df_s[df_s['% Upvote'] == 0].index)\n",
    "\n",
    "Upvote_indices = df_s[df_s['% Upvote'] == 1].index\n",
    "\n",
    "random_upvote_indices = np.random.choice(Upvote_indices, Downvote_records, replace = False)\n",
    "random_upvote_indices = np.array(random_upvote_indices)\n",
    "\n",
    "under_sample_indices = np.concatenate([Downvote_indices,random_upvote_indices])\n",
    "\n",
    "under_sample_data = df_s.ix[under_sample_indices, :]\n",
    "X_u = under_sample_data['Text']\n",
    "under_sample_data['% Upvote'] = under_sample_data['% Upvote'].astype(int)\n",
    "y_u = under_sample_data['% Upvote']\n",
    "\n",
    "\n",
    "print(\"Percentage of upvote transactions: \", len(under_sample_data[under_sample_data['% Upvote'] == 1])/len(under_sample_data))\n",
    "print(\"Percentage of downvote transactions: \", len(under_sample_data[under_sample_data['% Upvote'] == 0])/len(under_sample_data))\n",
    "print(\"Total number of records in resampled data: \", len(under_sample_data))"
   ]
  },
  {
   "cell_type": "markdown",
   "metadata": {},
   "source": [
    "After calculating the ratio between the frequency count in the positive review divided by the frequency count in the negative review for each word, here are the results:\n",
    "\n",
    "When the ratio is high (greater than 1), it means than the words tend to occur more often in positive reviews than in negative reviews."
   ]
  },
  {
   "cell_type": "markdown",
   "metadata": {},
   "source": [
    "Can we filter the special characters from the text column?"
   ]
  },
  {
   "cell_type": "code",
   "execution_count": 84,
   "metadata": {
    "scrolled": true
   },
   "outputs": [
    {
     "name": "stdout",
     "output_type": "stream",
     "text": [
      "% Upvote                  0          1\n",
      "word_count        86.065362  92.669708\n",
      "capital_count     17.734323  14.804827\n",
      "question_mark      0.231337   0.104098\n",
      "exclamation_mark   0.702804   0.797196\n",
      "punctuation       20.639267  20.693597\n"
     ]
    }
   ],
   "source": [
    "from string import punctuation\n",
    "\n",
    "under_sample_data['word_count'] = under_sample_data['Text'].apply(lambda x: len(x.split()))\n",
    "under_sample_data['capital_count'] = under_sample_data['Text'].apply(lambda x: sum(1 for c in x if c.isupper()))\n",
    "under_sample_data['question_mark'] = under_sample_data['Text'].apply(lambda x: sum(1 for c in x if c == '?'))\n",
    "under_sample_data['exclamation_mark'] = under_sample_data['Text'].apply(lambda x: sum(1 for c in x if c == '!'))\n",
    "under_sample_data['punctuation'] = under_sample_data['Text'].apply(lambda x: sum(1 for c in x if c in punctuation))\n",
    "\n",
    "print(under_sample_data.groupby('% Upvote').agg({'word_count': 'mean', 'capital_count': 'mean', 'question_mark': 'mean', 'exclamation_mark': 'mean', 'punctuation': 'mean'}).T)\n",
    "\n",
    "X_num = under_sample_data[under_sample_data.columns.difference(['% Upvote', 'Text'])]\n",
    "y_num = under_sample_data['% Upvote']"
   ]
  },
  {
   "cell_type": "code",
   "execution_count": 86,
   "metadata": {},
   "outputs": [
    {
     "name": "stdout",
     "output_type": "stream",
     "text": [
      "Logistic Regression accuracy: 0.5645321831453218\n",
      "SVM accuracy: 0.6255806237558063\n"
     ]
    }
   ],
   "source": [
    "from sklearn import svm\n",
    "\n",
    "X_train, X_test, y_train, y_test = train_test_split(X_num, y_num, random_state=0)\n",
    "\n",
    "clf_lr = LogisticRegression().fit(X_train, y_train)\n",
    "acc_lr = clf_lr.score(X_test, y_test)\n",
    "print('Logistic Regression accuracy: {}'.format(acc_lr))\n",
    "\n",
    "clf_svm = svm.SVC().fit(X_train, y_train)\n",
    "acc_svm = clf_svm.score(X_test, y_test)\n",
    "print('SVM accuracy: {}'.format(acc_svm))\n",
    "\n",
    "## Accuracy is lower than context features we tried above, meaning the feature is not good enough to predict our target"
   ]
  },
  {
   "cell_type": "code",
   "execution_count": 79,
   "metadata": {},
   "outputs": [
    {
     "name": "stdout",
     "output_type": "stream",
     "text": [
      "Class distribution:\n",
      "1    178603\n",
      "0     12056\n",
      "Name: % Upvote, dtype: int64\n"
     ]
    }
   ],
   "source": [
    "cdf = df[df['Prediction'] == 5]\n",
    "cdf = df[df['% Upvote'].isin(['0-20%', '20-40%', '60-80%', '80-100%'])]\n",
    "cdf.shape\n",
    "\n",
    "X = cdf['Text']\n",
    "y_dict = {'0-20%': 0, '20-40%': 0, '60-80%': 1, '80-100%': 1}\n",
    "y = cdf['% Upvote'].map(y_dict)\n",
    "\n",
    "print('Class distribution:')\n",
    "print(y.value_counts())"
   ]
  },
  {
   "cell_type": "markdown",
   "metadata": {},
   "source": [
    "Based on the prediction value for each data, we can make a decision about the positive and negative reviews. Data with the prediction value less than 3 will be considered as a negative review and data with the greater than 3 will be considered as positive review. Based on this consideration, we will decide the product of amazon food."
   ]
  },
  {
   "cell_type": "markdown",
   "metadata": {},
   "source": [
    "## Removing Stopwords and displaying appropriate good word reviews"
   ]
  },
  {
   "cell_type": "code",
   "execution_count": 18,
   "metadata": {},
   "outputs": [
    {
     "data": {
      "image/png": "[encoded data removed]",
      "text/plain": [
       "<matplotlib.figure.Figure at 0x1a28a6dfd0>"
      ]
     },
     "metadata": {},
     "output_type": "display_data"
    }
   ],
   "source": [
    "from wordcloud import WordCloud, STOPWORDS\n",
    "import matplotlib as mpl\n",
    "\n",
    "stopwords = set(STOPWORDS)\n",
    "\n",
    "#mpl.rcParams['figure.figsize']=(8.0,6.0)    #(6.0,4.0)\n",
    "mpl.rcParams['font.size']=12                #10 \n",
    "mpl.rcParams['savefig.dpi']=100             #72 \n",
    "mpl.rcParams['figure.subplot.bottom']=.1 \n",
    "\n",
    "\n",
    "def show_wordcloud(data, title = None):\n",
    "    wordcloud = WordCloud(\n",
    "        background_color='white',\n",
    "        stopwords=stopwords,\n",
    "        max_words=200,\n",
    "        max_font_size=40, \n",
    "        scale=3,\n",
    "        random_state=1 # chosen at random by flipping a coin; it was heads\n",
    "    ).generate(str(data))\n",
    "    \n",
    "    fig = plt.figure(1, figsize=(8, 8))\n",
    "    plt.axis('off')\n",
    "    if title: \n",
    "        fig.suptitle(title, fontsize=20)\n",
    "        fig.subplots_adjust(top=2.3)\n",
    "\n",
    "    plt.imshow(wordcloud)\n",
    "    plt.show()\n",
    "    \n",
    "show_wordcloud(df[\"Summary_Clean\"])"
   ]
  },
  {
   "cell_type": "markdown",
   "metadata": {},
   "source": [
    "In the word cloud above, some words that stand out are \"highly\", \"addictive\", \"soothing\", and \"enjoy,\" which have a positive meaning. Certain ingredients or products are also highlighted like \"chili\", \"magnesium\", \"almonds,\" etc. These word are neutral, but probably appear often in positive reviews as a result of Amazon's inventory; Amazon likely selects to distribute products, like almonds or chili, that meet or surpass users' expectations.\n"
   ]
  },
  {
   "cell_type": "markdown",
   "metadata": {},
   "source": [
    "### Displaying reviews of words with low scoring"
   ]
  },
  {
   "cell_type": "code",
   "execution_count": 19,
   "metadata": {},
   "outputs": [
    {
     "data": {
      "image/png": "[encoded data removed]",
      "text/plain": [
       "<matplotlib.figure.Figure at 0x1a49781550>"
      ]
     },
     "metadata": {},
     "output_type": "display_data"
    }
   ],
   "source": [
    "show_wordcloud(df[df.Prediction == 1][\"Summary_Clean\"], title = \"Low scoring\")"
   ]
  },
  {
   "cell_type": "markdown",
   "metadata": {},
   "source": [
    "Above images shows the bad words captured from the review data column from the dataset. Summary of the reviews will be chosen to decide the low category food than the Text which is user comment about the food product"
   ]
  },
  {
   "cell_type": "markdown",
   "metadata": {},
   "source": [
    "### Displaying reviews of words with high scoring"
   ]
  },
  {
   "cell_type": "code",
   "execution_count": 20,
   "metadata": {},
   "outputs": [
    {
     "data": {
      "image/png": "[encoded data removed]",
      "text/plain": [
       "<matplotlib.figure.Figure at 0x1a443d2ba8>"
      ]
     },
     "metadata": {},
     "output_type": "display_data"
    }
   ],
   "source": [
    "show_wordcloud(df[df.Prediction == 5][\"Summary_Clean\"], title = \"High scoring\")"
   ]
  },
  {
   "cell_type": "markdown",
   "metadata": {},
   "source": [
    "### Applying Multinominal Naive Bayes Learning Method"
   ]
  },
  {
   "cell_type": "markdown",
   "metadata": {},
   "source": [
    "Implementation of Multinominal Naive Bayes method to predict the positive and negative reviews and accuracy of the model using this algorithm."
   ]
  },
  {
   "cell_type": "code",
   "execution_count": 21,
   "metadata": {
    "collapsed": true
   },
   "outputs": [],
   "source": [
    "from sklearn.naive_bayes import MultinomialNB\n",
    "model = MultinomialNB().fit(X_train_tfidf, y_train)\n",
    "prediction['Multinomial'] = model.predict(X_test_tfidf)"
   ]
  },
  {
   "cell_type": "markdown",
   "metadata": {},
   "source": [
    "### Applying Bernoulli Naive Bayes Learning Method"
   ]
  },
  {
   "cell_type": "markdown",
   "metadata": {},
   "source": [
    "Implementation of Bernoulli Naive Bayes method to predict the positive and negative reviews and accuracy of the model using this algorithm."
   ]
  },
  {
   "cell_type": "code",
   "execution_count": 22,
   "metadata": {
    "collapsed": true
   },
   "outputs": [],
   "source": [
    "from sklearn.naive_bayes import BernoulliNB\n",
    "model = BernoulliNB().fit(X_train_tfidf, y_train)\n",
    "prediction['Bernoulli'] = model.predict(X_test_tfidf)"
   ]
  },
  {
   "cell_type": "markdown",
   "metadata": {},
   "source": [
    "## Applying Logistic Regression Learning method"
   ]
  },
  {
   "cell_type": "markdown",
   "metadata": {},
   "source": [
    "Implementation of logistic regression method to predict the positive and negative reviews and accuracy of the model using this algorithm."
   ]
  },
  {
   "cell_type": "code",
   "execution_count": 23,
   "metadata": {
    "collapsed": true
   },
   "outputs": [],
   "source": [
    "from sklearn.linear_model import LogisticRegression\n",
    "logreg = LogisticRegression(C=1e5)\n",
    "logreg_result = logreg.fit(X_train_tfidf, y_train)\n",
    "prediction['Logistic'] = logreg.predict(X_test_tfidf)"
   ]
  },
  {
   "cell_type": "markdown",
   "metadata": {},
   "source": [
    "### Logistic regression is the best algorithm implemented since its AUC curve value is the highest"
   ]
  },
  {
   "cell_type": "code",
   "execution_count": 24,
   "metadata": {},
   "outputs": [
    {
     "data": {
      "image/png": "[encoded data removed]",
      "text/plain": [
       "<matplotlib.figure.Figure at 0x1a443d25c0>"
      ]
     },
     "metadata": {},
     "output_type": "display_data"
    }
   ],
   "source": [
    "from sklearn.metrics import roc_curve, auc\n",
    "\n",
    "def formatt(x):\n",
    "    if x == 'negative':\n",
    "        return 0\n",
    "    return 1\n",
    "vfunc = np.vectorize(formatt)\n",
    "\n",
    "cmp = 0\n",
    "colors = ['b', 'g', 'y', 'm', 'k']\n",
    "for model, predicted in prediction.items():\n",
    "    false_positive_rate, true_positive_rate, thresholds = roc_curve(y_test.map(formatt), vfunc(predicted))\n",
    "    roc_auc = auc(false_positive_rate, true_positive_rate)\n",
    "    plt.plot(false_positive_rate, true_positive_rate, colors[cmp], label='%s: AUC %0.2f'% (model,roc_auc))\n",
    "    cmp += 1\n",
    "\n",
    "plt.title('Classifiers comparaison with ROC')\n",
    "plt.legend(loc='lower right')\n",
    "plt.plot([0,1],[0,1],'r--')\n",
    "plt.xlim([-0.1,1.2])\n",
    "plt.ylim([-0.1,1.2])\n",
    "plt.ylabel('True Positive Rate')\n",
    "plt.xlabel('False Positive Rate')\n",
    "plt.show()"
   ]
  },
  {
   "cell_type": "markdown",
   "metadata": {},
   "source": []
  },
  {
   "cell_type": "markdown",
   "metadata": {},
   "source": [
    "### Visualizing the acuracy ,recall and confusion matrix of the logistic regresion model"
   ]
  },
  {
   "cell_type": "code",
   "execution_count": 25,
   "metadata": {},
   "outputs": [
    {
     "name": "stdout",
     "output_type": "stream",
     "text": [
      "             precision    recall  f1-score   support\n",
      "\n",
      "   positive       0.86      0.82      0.84     19935\n",
      "   negative       0.95      0.96      0.96     71010\n",
      "\n",
      "avg / total       0.93      0.93      0.93     90945\n",
      "\n"
     ]
    }
   ],
   "source": [
    "from sklearn import metrics\n",
    "\n",
    "print(metrics.classification_report(y_test, prediction['Logistic'], target_names = [\"positive\", \"negative\"]))"
   ]
  },
  {
   "cell_type": "markdown",
   "metadata": {},
   "source": [
    "### Confusion matrix with Logistic Regression"
   ]
  },
  {
   "cell_type": "markdown",
   "metadata": {},
   "source": [
    "How can you get the idea about the positive and Negative reviews? Is there any matrix to calculate that review?"
   ]
  },
  {
   "cell_type": "code",
   "execution_count": 26,
   "metadata": {},
   "outputs": [
    {
     "data": {
      "image/png": "[encoded data removed]",
      "text/plain": [
       "<matplotlib.figure.Figure at 0x1a2e1f7550>"
      ]
     },
     "metadata": {},
     "output_type": "display_data"
    },
    {
     "data": {
      "image/png": "[encoded data removed]",
      "text/plain": [
       "<matplotlib.figure.Figure at 0x1a446e85f8>"
      ]
     },
     "metadata": {},
     "output_type": "display_data"
    }
   ],
   "source": [
    "from sklearn.metrics import confusion_matrix\n",
    "\n",
    "def plot_confusion_matrix(cm, title='Confusion matrix', cmap=plt.cm.Blues, labels=[\"positive\", \"negative\"]):\n",
    "    plt.imshow(cm, interpolation='nearest', cmap=cmap)\n",
    "    plt.title(title)\n",
    "    plt.colorbar()\n",
    "    tick_marks = np.arange(len(labels))\n",
    "    plt.xticks(tick_marks, labels, rotation=45)\n",
    "    plt.yticks(tick_marks, labels)\n",
    "    plt.tight_layout()\n",
    "    plt.ylabel('True label')\n",
    "    plt.xlabel('Predicted label')\n",
    "    \n",
    "# Compute confusion matrix\n",
    "cm = confusion_matrix(y_test, prediction['Logistic'])\n",
    "np.set_printoptions(precision=2)\n",
    "plt.figure()\n",
    "plot_confusion_matrix(cm)    \n",
    "\n",
    "cm_normalized = cm.astype('float') / cm.sum(axis=1)[:, np.newaxis]\n",
    "plt.figure()\n",
    "plot_confusion_matrix(cm_normalized, title='Normalized confusion matrix')\n",
    "plt.show()"
   ]
  },
  {
   "cell_type": "markdown",
   "metadata": {},
   "source": [
    "# Looking at best words by the co-efficients"
   ]
  },
  {
   "cell_type": "code",
   "execution_count": 27,
   "metadata": {},
   "outputs": [
    {
     "data": {
      "text/html": [
       "<div>\n",
       "<style>\n",
       "    .dataframe thead tr:only-child th {\n",
       "        text-align: right;\n",
       "    }\n",
       "\n",
       "    .dataframe thead th {\n",
       "        text-align: left;\n",
       "    }\n",
       "\n",
       "    .dataframe tbody tr th {\n",
       "        vertical-align: top;\n",
       "    }\n",
       "</style>\n",
       "<table border=\"1\" class=\"dataframe\">\n",
       "  <thead>\n",
       "    <tr style=\"text-align: right;\">\n",
       "      <th></th>\n",
       "      <th>feature</th>\n",
       "      <th>coef</th>\n",
       "    </tr>\n",
       "  </thead>\n",
       "  <tbody>\n",
       "    <tr>\n",
       "      <th>902026</th>\n",
       "      <td>worst</td>\n",
       "      <td>-27.192929</td>\n",
       "    </tr>\n",
       "    <tr>\n",
       "      <th>546975</th>\n",
       "      <td>not</td>\n",
       "      <td>-22.979784</td>\n",
       "    </tr>\n",
       "    <tr>\n",
       "      <th>766283</th>\n",
       "      <td>terrible</td>\n",
       "      <td>-20.125508</td>\n",
       "    </tr>\n",
       "    <tr>\n",
       "      <th>916987</th>\n",
       "      <td>yuck</td>\n",
       "      <td>-19.735845</td>\n",
       "    </tr>\n",
       "    <tr>\n",
       "      <th>56939</th>\n",
       "      <td>awful</td>\n",
       "      <td>-18.790482</td>\n",
       "    </tr>\n",
       "    <tr>\n",
       "      <th>391675</th>\n",
       "      <td>horrible</td>\n",
       "      <td>-18.179134</td>\n",
       "    </tr>\n",
       "    <tr>\n",
       "      <th>530140</th>\n",
       "      <td>nasty</td>\n",
       "      <td>-17.544776</td>\n",
       "    </tr>\n",
       "    <tr>\n",
       "      <th>207314</th>\n",
       "      <td>didn</td>\n",
       "      <td>-16.149930</td>\n",
       "    </tr>\n",
       "    <tr>\n",
       "      <th>875207</th>\n",
       "      <td>weak</td>\n",
       "      <td>-15.785580</td>\n",
       "    </tr>\n",
       "    <tr>\n",
       "      <th>624454</th>\n",
       "      <td>poor</td>\n",
       "      <td>-15.113796</td>\n",
       "    </tr>\n",
       "    <tr>\n",
       "      <th>720269</th>\n",
       "      <td>stale</td>\n",
       "      <td>-15.103276</td>\n",
       "    </tr>\n",
       "    <tr>\n",
       "      <th>693936</th>\n",
       "      <td>sick</td>\n",
       "      <td>-15.004484</td>\n",
       "    </tr>\n",
       "    <tr>\n",
       "      <th>59304</th>\n",
       "      <td>bad</td>\n",
       "      <td>-14.987607</td>\n",
       "    </tr>\n",
       "    <tr>\n",
       "      <th>212047</th>\n",
       "      <td>disgusting</td>\n",
       "      <td>-14.431706</td>\n",
       "    </tr>\n",
       "    <tr>\n",
       "      <th>547521</th>\n",
       "      <td>not as good as</td>\n",
       "      <td>-14.193296</td>\n",
       "    </tr>\n",
       "    <tr>\n",
       "      <th>173954</th>\n",
       "      <td>contains</td>\n",
       "      <td>-14.162778</td>\n",
       "    </tr>\n",
       "    <tr>\n",
       "      <th>901927</th>\n",
       "      <td>worse</td>\n",
       "      <td>-13.732814</td>\n",
       "    </tr>\n",
       "    <tr>\n",
       "      <th>497877</th>\n",
       "      <td>mediocre</td>\n",
       "      <td>-13.338844</td>\n",
       "    </tr>\n",
       "    <tr>\n",
       "      <th>508868</th>\n",
       "      <td>moldy</td>\n",
       "      <td>-13.177168</td>\n",
       "    </tr>\n",
       "    <tr>\n",
       "      <th>51270</th>\n",
       "      <td>at best</td>\n",
       "      <td>-13.128044</td>\n",
       "    </tr>\n",
       "    <tr>\n",
       "      <th>556765</th>\n",
       "      <td>not the best</td>\n",
       "      <td>-12.955072</td>\n",
       "    </tr>\n",
       "    <tr>\n",
       "      <th>651829</th>\n",
       "      <td>rancid</td>\n",
       "      <td>-12.806063</td>\n",
       "    </tr>\n",
       "    <tr>\n",
       "      <th>54448</th>\n",
       "      <td>avoid</td>\n",
       "      <td>-12.785174</td>\n",
       "    </tr>\n",
       "    <tr>\n",
       "      <th>215122</th>\n",
       "      <td>doesn</td>\n",
       "      <td>-12.691978</td>\n",
       "    </tr>\n",
       "    <tr>\n",
       "      <th>624990</th>\n",
       "      <td>poorly</td>\n",
       "      <td>-12.600392</td>\n",
       "    </tr>\n",
       "    <tr>\n",
       "      <th>751731</th>\n",
       "      <td>tasteless</td>\n",
       "      <td>-12.419977</td>\n",
       "    </tr>\n",
       "    <tr>\n",
       "      <th>482636</th>\n",
       "      <td>low quality</td>\n",
       "      <td>-12.099855</td>\n",
       "    </tr>\n",
       "    <tr>\n",
       "      <th>108563</th>\n",
       "      <td>broke</td>\n",
       "      <td>-12.033081</td>\n",
       "    </tr>\n",
       "    <tr>\n",
       "      <th>45555</th>\n",
       "      <td>artificial</td>\n",
       "      <td>-12.031945</td>\n",
       "    </tr>\n",
       "    <tr>\n",
       "      <th>365423</th>\n",
       "      <td>gross</td>\n",
       "      <td>-12.022697</td>\n",
       "    </tr>\n",
       "    <tr>\n",
       "      <th>...</th>\n",
       "      <td>...</td>\n",
       "      <td>...</td>\n",
       "    </tr>\n",
       "    <tr>\n",
       "      <th>47126</th>\n",
       "      <td>as good</td>\n",
       "      <td>10.688785</td>\n",
       "    </tr>\n",
       "    <tr>\n",
       "      <th>543791</th>\n",
       "      <td>no problems</td>\n",
       "      <td>10.748738</td>\n",
       "    </tr>\n",
       "    <tr>\n",
       "      <th>860066</th>\n",
       "      <td>very good</td>\n",
       "      <td>10.773750</td>\n",
       "    </tr>\n",
       "    <tr>\n",
       "      <th>114756</th>\n",
       "      <td>but good</td>\n",
       "      <td>10.789041</td>\n",
       "    </tr>\n",
       "    <tr>\n",
       "      <th>861859</th>\n",
       "      <td>very nice</td>\n",
       "      <td>10.796271</td>\n",
       "    </tr>\n",
       "    <tr>\n",
       "      <th>4193</th>\n",
       "      <td>addicting</td>\n",
       "      <td>10.854430</td>\n",
       "    </tr>\n",
       "    <tr>\n",
       "      <th>4345</th>\n",
       "      <td>addictive</td>\n",
       "      <td>11.022857</td>\n",
       "    </tr>\n",
       "    <tr>\n",
       "      <th>440024</th>\n",
       "      <td>just what</td>\n",
       "      <td>11.148641</td>\n",
       "    </tr>\n",
       "    <tr>\n",
       "      <th>555604</th>\n",
       "      <td>not so bad</td>\n",
       "      <td>11.202734</td>\n",
       "    </tr>\n",
       "    <tr>\n",
       "      <th>55002</th>\n",
       "      <td>awesome</td>\n",
       "      <td>11.563148</td>\n",
       "    </tr>\n",
       "    <tr>\n",
       "      <th>558244</th>\n",
       "      <td>not very salty</td>\n",
       "      <td>11.828698</td>\n",
       "    </tr>\n",
       "    <tr>\n",
       "      <th>548846</th>\n",
       "      <td>not cheap</td>\n",
       "      <td>11.959483</td>\n",
       "    </tr>\n",
       "    <tr>\n",
       "      <th>16033</th>\n",
       "      <td>amazing</td>\n",
       "      <td>11.983276</td>\n",
       "    </tr>\n",
       "    <tr>\n",
       "      <th>549490</th>\n",
       "      <td>not disappointed</td>\n",
       "      <td>12.194544</td>\n",
       "    </tr>\n",
       "    <tr>\n",
       "      <th>253440</th>\n",
       "      <td>fabulous</td>\n",
       "      <td>12.478210</td>\n",
       "    </tr>\n",
       "    <tr>\n",
       "      <th>551500</th>\n",
       "      <td>not greasy</td>\n",
       "      <td>13.098703</td>\n",
       "    </tr>\n",
       "    <tr>\n",
       "      <th>480428</th>\n",
       "      <td>loves</td>\n",
       "      <td>13.113537</td>\n",
       "    </tr>\n",
       "    <tr>\n",
       "      <th>89583</th>\n",
       "      <td>better than</td>\n",
       "      <td>13.153773</td>\n",
       "    </tr>\n",
       "    <tr>\n",
       "      <th>473476</th>\n",
       "      <td>love</td>\n",
       "      <td>13.214023</td>\n",
       "    </tr>\n",
       "    <tr>\n",
       "      <th>557515</th>\n",
       "      <td>not too</td>\n",
       "      <td>13.411950</td>\n",
       "    </tr>\n",
       "    <tr>\n",
       "      <th>382919</th>\n",
       "      <td>heaven</td>\n",
       "      <td>13.905264</td>\n",
       "    </tr>\n",
       "    <tr>\n",
       "      <th>259735</th>\n",
       "      <td>favorite</td>\n",
       "      <td>14.525449</td>\n",
       "    </tr>\n",
       "    <tr>\n",
       "      <th>897019</th>\n",
       "      <td>wonderful</td>\n",
       "      <td>14.683654</td>\n",
       "    </tr>\n",
       "    <tr>\n",
       "      <th>612646</th>\n",
       "      <td>perfect</td>\n",
       "      <td>15.501996</td>\n",
       "    </tr>\n",
       "    <tr>\n",
       "      <th>245098</th>\n",
       "      <td>excellent</td>\n",
       "      <td>16.529626</td>\n",
       "    </tr>\n",
       "    <tr>\n",
       "      <th>256053</th>\n",
       "      <td>fantastic</td>\n",
       "      <td>17.432065</td>\n",
       "    </tr>\n",
       "    <tr>\n",
       "      <th>342483</th>\n",
       "      <td>great</td>\n",
       "      <td>18.629575</td>\n",
       "    </tr>\n",
       "    <tr>\n",
       "      <th>548415</th>\n",
       "      <td>not bitter</td>\n",
       "      <td>19.704523</td>\n",
       "    </tr>\n",
       "    <tr>\n",
       "      <th>547868</th>\n",
       "      <td>not bad</td>\n",
       "      <td>23.123648</td>\n",
       "    </tr>\n",
       "    <tr>\n",
       "      <th>75401</th>\n",
       "      <td>best</td>\n",
       "      <td>27.429055</td>\n",
       "    </tr>\n",
       "  </tbody>\n",
       "</table>\n",
       "<p>921995 rows × 2 columns</p>\n",
       "</div>"
      ],
      "text/plain": [
       "                 feature       coef\n",
       "902026             worst -27.192929\n",
       "546975               not -22.979784\n",
       "766283          terrible -20.125508\n",
       "916987              yuck -19.735845\n",
       "56939              awful -18.790482\n",
       "391675          horrible -18.179134\n",
       "530140             nasty -17.544776\n",
       "207314              didn -16.149930\n",
       "875207              weak -15.785580\n",
       "624454              poor -15.113796\n",
       "720269             stale -15.103276\n",
       "693936              sick -15.004484\n",
       "59304                bad -14.987607\n",
       "212047        disgusting -14.431706\n",
       "547521    not as good as -14.193296\n",
       "173954          contains -14.162778\n",
       "901927             worse -13.732814\n",
       "497877          mediocre -13.338844\n",
       "508868             moldy -13.177168\n",
       "51270            at best -13.128044\n",
       "556765      not the best -12.955072\n",
       "651829            rancid -12.806063\n",
       "54448              avoid -12.785174\n",
       "215122             doesn -12.691978\n",
       "624990            poorly -12.600392\n",
       "751731         tasteless -12.419977\n",
       "482636       low quality -12.099855\n",
       "108563             broke -12.033081\n",
       "45555         artificial -12.031945\n",
       "365423             gross -12.022697\n",
       "...                  ...        ...\n",
       "47126            as good  10.688785\n",
       "543791       no problems  10.748738\n",
       "860066         very good  10.773750\n",
       "114756          but good  10.789041\n",
       "861859         very nice  10.796271\n",
       "4193           addicting  10.854430\n",
       "4345           addictive  11.022857\n",
       "440024         just what  11.148641\n",
       "555604        not so bad  11.202734\n",
       "55002            awesome  11.563148\n",
       "558244    not very salty  11.828698\n",
       "548846         not cheap  11.959483\n",
       "16033            amazing  11.983276\n",
       "549490  not disappointed  12.194544\n",
       "253440          fabulous  12.478210\n",
       "551500        not greasy  13.098703\n",
       "480428             loves  13.113537\n",
       "89583        better than  13.153773\n",
       "473476              love  13.214023\n",
       "557515           not too  13.411950\n",
       "382919            heaven  13.905264\n",
       "259735          favorite  14.525449\n",
       "897019         wonderful  14.683654\n",
       "612646           perfect  15.501996\n",
       "245098         excellent  16.529626\n",
       "256053         fantastic  17.432065\n",
       "342483             great  18.629575\n",
       "548415        not bitter  19.704523\n",
       "547868           not bad  23.123648\n",
       "75401               best  27.429055\n",
       "\n",
       "[921995 rows x 2 columns]"
      ]
     },
     "execution_count": 27,
     "metadata": {},
     "output_type": "execute_result"
    }
   ],
   "source": [
    "words = count_vect.get_feature_names()\n",
    "feature_coefs = pd.DataFrame(\n",
    "    data = list(zip(words, logreg_result.coef_[0])),\n",
    "    columns = ['feature', 'coef'])\n",
    "\n",
    "feature_coefs.sort_values(by='coef')"
   ]
  },
  {
   "cell_type": "markdown",
   "metadata": {},
   "source": [
    "From the above result, we can see that around 921995 words are deciding factor for positive and Negative reviews."
   ]
  },
  {
   "cell_type": "code",
   "execution_count": 28,
   "metadata": {},
   "outputs": [
    {
     "name": "stdout",
     "output_type": "stream",
     "text": [
      "Sample estimated as POSITIVE: negative prob 0.010804, positive prob 0.989196\n",
      "Sample estimated as NEGATIVE: negative prob 0.999793, positive prob 0.000207\n",
      "Sample estimated as NEGATIVE: negative prob 0.943927, positive prob 0.056073\n"
     ]
    }
   ],
   "source": [
    "def test_sample(model, sample):\n",
    "    sample_counts = count_vect.transform([sample])\n",
    "    sample_tfidf = tfidf_transformer.transform(sample_counts)\n",
    "    result = model.predict(sample_tfidf)[0]\n",
    "    prob = model.predict_proba(sample_tfidf)[0]\n",
    "    print(\"Sample estimated as %s: negative prob %f, positive prob %f\" % (result.upper(), prob[0], prob[1]))\n",
    "\n",
    "test_sample(logreg, \"The food was delicious, it smelled great and the taste was awesome\")\n",
    "test_sample(logreg, \"The whole experience was horrible. The smell was so bad that it literally made me sick.\")\n",
    "test_sample(logreg, \"The food was ok, I guess. The smell wasn't very good, but the taste was ok.\")"
   ]
  },
  {
   "cell_type": "markdown",
   "metadata": {},
   "source": [
    "Example of the POSITIVE and NEGATIVE result is shown above using the TEXT value of the dataset. negative probability for the first sentense is 0.01 and Positive probability is 0.98 which clearly shows that product review is positive and product is good. Same for the second example, positive prob is 0.002 and Negative prob is 0.999 which shows that second product is really bad and not suggested by any of the users."
   ]
  },
  {
   "cell_type": "code",
   "execution_count": 29,
   "metadata": {},
   "outputs": [
    {
     "name": "stdout",
     "output_type": "stream",
     "text": [
      "Sample estimated as NEGATIVE: negative prob 0.928405, positive prob 0.071595\n"
     ]
    }
   ],
   "source": [
    "test_sample(logreg, \"The smell reminded me of ammonia\")"
   ]
  },
  {
   "cell_type": "markdown",
   "metadata": {},
   "source": [
    "# for displaying USEFUL and USELESS words from reviews\n"
   ]
  },
  {
   "cell_type": "code",
   "execution_count": 30,
   "metadata": {},
   "outputs": [
    {
     "data": {
      "image/png": "[encoded data removed]",
      "text/plain": [
       "<matplotlib.figure.Figure at 0x1a3de65748>"
      ]
     },
     "metadata": {},
     "output_type": "display_data"
    },
    {
     "data": {
      "image/png": "[encoded data removed]",
      "text/plain": [
       "<matplotlib.figure.Figure at 0x1a3b7abe80>"
      ]
     },
     "metadata": {},
     "output_type": "display_data"
    }
   ],
   "source": [
    "show_wordcloud(df[df.Usefulness == \"useful\"][\"Summary_Clean\"], title = \"Useful\")\n",
    "show_wordcloud(df[df.Usefulness == \"useless\"][\"Summary_Clean\"], title = \"Useless\")"
   ]
  },
  {
   "cell_type": "code",
   "execution_count": 111,
   "metadata": {},
   "outputs": [
    {
     "name": "stderr",
     "output_type": "stream",
     "text": [
      "/Users/user/anaconda3/lib/python3.6/site-packages/ipykernel_launcher.py:11: SettingWithCopyWarning: \n",
      "A value is trying to be set on a copy of a slice from a DataFrame.\n",
      "Try using .loc[row_indexer,col_indexer] = value instead\n",
      "\n",
      "See the caveats in the documentation: http://pandas.pydata.org/pandas-docs/stable/indexing.html#indexing-view-versus-copy\n",
      "  # This is added back by InteractiveShellApp.init_path()\n"
     ]
    },
    {
     "data": {
      "text/plain": [
       "0    I got them in a very timely manner and theyre ...\n",
       "1    McCanns Steel Cut Oatmeal is the perfect break...\n",
       "2    I would recommend it Quality pearls and a few ...\n",
       "3    I have to admit I first purchased these Hazeln...\n",
       "Name: Text, dtype: object"
      ]
     },
     "execution_count": 111,
     "metadata": {},
     "output_type": "execute_result"
    }
   ],
   "source": [
    "#remove punctuation\n",
    "import unicodedata\n",
    "import sys\n",
    "\n",
    "df1 = df.iloc[:, [4,5,6,9]]\n",
    "tbl = dict.fromkeys(i for i in range(sys.maxunicode)\n",
    "                      if unicodedata.category(chr(i)).startswith('P'))\n",
    "def remove_punctuation(text):\n",
    "    return text.translate(tbl)\n",
    "\n",
    "df1['Text']=df1['Text'].apply( lambda x: remove_punctuation(x))\n",
    "df1[\"Text\"].head(4)"
   ]
  },
  {
   "cell_type": "code",
   "execution_count": 31,
   "metadata": {},
   "outputs": [
    {
     "name": "stdout",
     "output_type": "stream",
     "text": [
      "                                                       Score count  Score mean\n",
      "UserId         ProfileName                                                    \n",
      "A3OXHLG6DIBRW8 C. F. Hill \"CFH\"                                345    4.527536\n",
      "A1YUL9PCJR3JTY O. Brown \"Ms. O. Khannah-Brown\"                 338    4.511834\n",
      "AY12DBB0U420B  Gary Peterson                                   306    4.689542\n",
      "A281NPSIMI1C2R Rebecca of Amazon \"The Rebecca Review\"          289    4.823529\n",
      "A1Z54EM24Y40LL c2                                              207    4.381643\n",
      "A1TMAVN4CEM8U8 Gunner                                          167    4.832335\n",
      "A2MUGFV2TDQ47K Lynrie \"Oh HELL no\"                             166    3.722892\n",
      "A3TVZM3ZIXG8YW christopher hayes                               161    1.000000\n",
      "A3PJZ8TU8FDQ1K Jared Castle                                    151    4.556291\n",
      "AZV26LP92E6WU  M. Hammond \"ColemanFlGuy\"                       140    4.864286\n"
     ]
    }
   ],
   "source": [
    "df_user = df.groupby(['UserId', 'ProfileName']).agg({'Prediction':['count', 'mean']})\n",
    "df_user.columns = df_user.columns.get_level_values(1)\n",
    "df_user.columns = ['Score count', 'Score mean']\n",
    "df_user = df_user.sort_values(by = 'Score count', ascending = False)\n",
    "print(df_user.head(10))"
   ]
  },
  {
   "cell_type": "code",
   "execution_count": 32,
   "metadata": {},
   "outputs": [
    {
     "data": {
      "image/png": "[encoded data removed]",
      "text/plain": [
       "<matplotlib.figure.Figure at 0x1a4441a5c0>"
      ]
     },
     "metadata": {},
     "output_type": "display_data"
    }
   ],
   "source": [
    "def plot_user(UserId):\n",
    "    df_1user = df[df['UserId'] == UserId]['Prediction']\n",
    "    df_1user_plot = df_1user.value_counts(sort=False)\n",
    "    ax = df_1user_plot.plot(kind = 'bar', figsize = (15,10), title = 'Prediction distribution of user {} review'.format(df[df['UserId'] == UserId]['ProfileName'].iloc[0]))\n",
    "\n",
    "plot_user('A3OXHLG6DIBRW8')\n",
    "plt.show()"
   ]
  },
  {
   "cell_type": "markdown",
   "metadata": {},
   "source": [
    "# Prediction of user A.bennett reviews"
   ]
  },
  {
   "cell_type": "code",
   "execution_count": 33,
   "metadata": {},
   "outputs": [
    {
     "name": "stdout",
     "output_type": "stream",
     "text": [
      "                               Score count  Score mean\n",
      "UserId         ProfileName                            \n",
      "A35R32TA60XD57 M. Torma                112    3.348214\n",
      "A2M9D9BDHONV3Y A. Bennett               95    3.210526\n",
      "A2TN9C5E4A0I3F Jimmy                    84    2.690476\n",
      "A2XNJJ9TF70P4J Angie                    72    2.875000\n",
      "A2TO2BN3P4C00L Music Fan Jeff           58    3.431034\n"
     ]
    }
   ],
   "source": [
    "print(df_user[(df_user['Score mean']<3.5) & (df_user['Score mean']>2.5)].head())"
   ]
  },
  {
   "cell_type": "code",
   "execution_count": 34,
   "metadata": {},
   "outputs": [
    {
     "data": {
      "image/png": "[encoded data removed]",
      "text/plain": [
       "<matplotlib.figure.Figure at 0x1a2dbf64a8>"
      ]
     },
     "metadata": {},
     "output_type": "display_data"
    }
   ],
   "source": [
    "plot_user('A2M9D9BDHONV3Y')\n",
    "plt.show()"
   ]
  },
  {
   "cell_type": "markdown",
   "metadata": {},
   "source": [
    "The following code conducts basic sentiment analysis and finds the average sentiment PER WORD of each group of reviews. As expected, the higher the score given the more positive the review sentiment. Interestingly the sentiment seems to be stronger per word in the review title than in the text of the review itself. Presumably this is because the reviewer is trying to convay there happiness or displeasure as succinctly as possible."
   ]
  },
  {
   "cell_type": "code",
   "execution_count": 35,
   "metadata": {},
   "outputs": [
    {
     "name": "stdout",
     "output_type": "stream",
     "text": [
      "Prediction 1 reviews most popular 2-gram / 3-gram:\n",
      "   Count  Occur %                   Phrase\n",
      "0   27.0  117.39%               (..., ...)\n",
      "1   15.0   65.22%          (..., ..., ...)\n",
      "2    8.0   34.78%  (monosodium, glutamate)\n",
      "3    8.0   34.78%             (never, buy)\n",
      "4    7.0   30.43%           (buy, product)\n",
      "5    6.0   26.09%         (dry, tasteless)\n",
      "6    6.0   26.09%            (decide, try)\n",
      "7    6.0   26.09%    (never, buy, product)\n",
      "Prediction 2 reviews most popular 2-gram / 3-gram:\n",
      "    Count Occur %                Phrase\n",
      "0     6.0   40.0%         (sauce, ruin)\n",
      "1     6.0   40.0%  (sauce, ruin, whole)\n",
      "2     6.0   40.0%         (ruin, whole)\n",
      "3     5.0  33.33%            (n't, buy)\n",
      "4     5.0  33.33%         (taste, like)\n",
      "5     5.0  33.33%       (product, ever)\n",
      "6     4.0  26.67%          (.give, try)\n",
      "7     4.0  26.67%            (n't, get)\n",
      "8     4.0  26.67%          (can, fruit)\n",
      "9     4.0  26.67%    (.give, try, like)\n",
      "10    4.0  26.67%     (..., .give, try)\n",
      "11    4.0  26.67%     (n't, get, wrong)\n",
      "12    4.0  26.67%     (buy, particular)\n",
      "13    4.0  26.67%           (try, like)\n",
      "14    4.0  26.67%          (get, wrong)\n",
      "15    4.0  26.67%          (..., .give)\n",
      "Prediction 3 reviews most popular 2-gram / 3-gram:\n",
      "   Count Occur %           Phrase\n",
      "0    5.0  45.45%       (..., ...)\n",
      "1    4.0  36.36%    (taste, like)\n",
      "2    3.0  27.27%   (suggest, buy)\n",
      "3    3.0  27.27%  (black, pepper)\n",
      "4    3.0  27.27%    (can, shrimp)\n",
      "Prediction 4 reviews most popular 2-gram / 3-gram:\n",
      "   Count Occur %               Phrase\n",
      "0    6.0  54.55%  (highly, recommend)\n",
      "1    4.0  36.36%       (potato, chip)\n",
      "2    3.0  27.27%   (quite, delicious)\n",
      "3    3.0  27.27%        (could, find)\n",
      "4    3.0  27.27%           (..., ...)\n",
      "Prediction 5 reviews most popular 2-gram / 3-gram:\n",
      "   Count Occur %               Phrase\n",
      "0   14.0   40.0%  (highly, recommend)\n",
      "1   10.0  28.57%           (..., ...)\n"
     ]
    }
   ],
   "source": [
    "from nltk.corpus import stopwords\n",
    "from nltk.stem import WordNetLemmatizer\n",
    "from nltk import ngrams\n",
    "from itertools import chain\n",
    "\n",
    "def get_token_ngram(Prediction, benchmark, userid='all'):\n",
    "\n",
    "    if userid != 'all':\n",
    "        odf = df[(df['UserId'] == userid) & (df['Prediction'] == Prediction)]['Text']\n",
    "    else:\n",
    "        odf = df[df['Prediction'] == Prediction]['Text']\n",
    "        \n",
    "    count = len(odf)\n",
    "    total_text = ' '.join(odf)\n",
    "    total_text = total_text.lower()\n",
    "    stop = set(stopwords.words('english'))\n",
    "    total_text = nltk.word_tokenize(total_text)\n",
    "    total_text = [word for word in total_text if word not in stop and len(word) >= 3]\n",
    "    lemmatizer = WordNetLemmatizer()\n",
    "    total_text = [lemmatizer.lemmatize(w,'v') for w in total_text]\n",
    "    bigrams = ngrams(total_text,2)\n",
    "    trigrams = ngrams(total_text, 3)\n",
    "\n",
    "    # look at 2-gram and 3-gram together\n",
    "    combine = chain(bigrams, trigrams)\n",
    "    text = nltk.Text(combine)\n",
    "    fdist = nltk.FreqDist(text)\n",
    "    \n",
    "    # return only phrase occurs more than benchmark of his reviews\n",
    "    return sorted([(w,fdist[w],str(round(fdist[w]/count*100,2))+'%') for w in set(text) if fdist[w] >= count*benchmark], key=lambda x: -x[1])\n",
    "\n",
    "# score 1-5 reviews with this user\n",
    "index = ['Phrase', 'Count', 'Occur %']\n",
    "\n",
    "for j in range(1,6):\n",
    "    test = pd.DataFrame()\n",
    "    d = get_token_ngram(j, 0.25, 'A2M9D9BDHONV3Y')\n",
    "    print('Prediction {} reviews most popular 2-gram / 3-gram:'.format(j))\n",
    "    for i in d:\n",
    "        test = test.append(pd.Series(i, index = index), ignore_index = True)\n",
    "    test = test.sort_values('Count', ascending=False)\n",
    "    print(test)"
   ]
  },
  {
   "cell_type": "markdown",
   "metadata": {},
   "source": [
    "From the above result, we can see that for the prediction value : 1 occur of the words are too large and acc is mre thna 100% while for the prediction value : 2 there is slightly change in the occur of the words and accuracy is also decreased. Number of the users who have rated the products with prediction value of 3 are more than the users who have reviewed 1 or 2 grade out of 5 scale. Almost 55% users predict 4 scores for the food products on Amazon and words are all positive in the summary and text as well. "
   ]
  },
  {
   "cell_type": "code",
   "execution_count": 36,
   "metadata": {},
   "outputs": [
    {
     "name": "stdout",
     "output_type": "stream",
     "text": [
      "score 1 reviews most popular 2-gram / 3-gram:\n",
      "    Count Occur %           Phrase\n",
      "0  4389.0  10.51%    (taste, like)\n",
      "1  1855.0   4.44%   (waste, money)\n",
      "2  1747.0   4.18%     (could, n't)\n",
      "3  1707.0   4.09%      (n't, even)\n",
      "4  1462.0    3.5%      (n't, know)\n",
      "5  1437.0   3.44%     (would, n't)\n",
      "6  1311.0   3.14%       (n't, buy)\n",
      "7  1265.0   3.03%  (science, diet)\n",
      "score 2 reviews most popular 2-gram / 3-gram:\n",
      "    Count Occur %          Phrase\n",
      "0  2545.0  10.67%   (taste, like)\n",
      "1  1109.0   4.65%     (n't, like)\n",
      "2  1070.0   4.49%    (would, n't)\n",
      "3   875.0   3.67%  (think, would)\n",
      "4   850.0   3.56%      (n't, buy)\n",
      "5   822.0   3.45%     (n't, know)\n",
      "6   807.0   3.38%    (n't, taste)\n",
      "7   753.0   3.16%    (could, n't)\n",
      "8   720.0   3.02%   (taste, good)\n",
      "score 3 reviews most popular 2-gram / 3-gram:\n",
      "    Count Occur %          Phrase\n",
      "0  2569.0   7.53%   (taste, like)\n",
      "1  1339.0   3.92%    (would, n't)\n",
      "2  1267.0   3.71%     (n't, like)\n",
      "3  1258.0   3.69%   (taste, good)\n",
      "4  1150.0   3.37%     (n't, know)\n",
      "5  1149.0   3.37%   (href=, http)\n",
      "6  1045.0   3.06%  (think, would)\n",
      "score 4 reviews most popular 2-gram / 3-gram:\n",
      "    Count Occur %          Phrase\n",
      "0  3524.0   5.46%   (taste, like)\n",
      "1  2575.0   3.99%   (taste, good)\n",
      "2  2393.0    3.7%   (href=, http)\n",
      "3  2227.0   3.45%  (pretty, good)\n",
      "4  2200.0   3.41%  (really, like)\n",
      "5  1955.0   3.03%     (n't, like)\n",
      "score 5 reviews most popular 2-gram / 3-gram:\n",
      "     Count Occur %               Phrase\n",
      "0  14030.0   4.83%  (highly, recommend)\n",
      "1  11631.0   4.01%        (taste, like)\n",
      "2   9374.0   3.23%     (grocery, store)\n",
      "3   9175.0   3.16%       (taste, great)\n"
     ]
    }
   ],
   "source": [
    "# score 1-5 reviews with all users\n",
    "index = ['Phrase', 'Count', 'Occur %']\n",
    "\n",
    "for j in range(1,6):\n",
    "    test = pd.DataFrame()\n",
    "    # easier benchmark since we have many different users here, thus different phrase\n",
    "    d = get_token_ngram(j, 0.03)\n",
    "    print('score {} reviews most popular 2-gram / 3-gram:'.format(j))\n",
    "    for i in d:\n",
    "        test = test.append(pd.Series(i, index = index), ignore_index = True)\n",
    "    test = test.sort_values('Count', ascending=False)\n",
    "    print(test)"
   ]
  },
  {
   "cell_type": "code",
   "execution_count": 37,
   "metadata": {
    "collapsed": true
   },
   "outputs": [],
   "source": [
    "def get_token_adj(Prediction, benchmark, userid='all'):\n",
    "    \n",
    "    if userid != 'all':\n",
    "        odf = df[(df['UserId'] == userid) & (df['Prediction'] == Prediction)]['Text']\n",
    "    else:\n",
    "        odf = df[df['Prediction'] == Prediction]['Text']\n",
    "        \n",
    "    count = len(odf)\n",
    "    total_text = ' '.join(odf)\n",
    "    total_text = total_text.lower()\n",
    "    stop = set(stopwords.words('english'))\n",
    "    total_text = nltk.word_tokenize(total_text)\n",
    "    total_text = [word for word in total_text if word not in stop and len(word) >= 3]\n",
    "    lemmatizer = WordNetLemmatizer()\n",
    "    total_text = [lemmatizer.lemmatize(w,'a') for w in total_text]\n",
    "    # get adjective only\n",
    "    total_text = [word for word, form in nltk.pos_tag(total_text) if form == 'JJ']\n",
    "    \n",
    "    text = nltk.Text(total_text)\n",
    "    fdist = nltk.FreqDist(text)\n",
    "    \n",
    "    # return only phrase occurs more than benchmark of his reviews\n",
    "    return sorted([(w,fdist[w],str(round(fdist[w]/count*100,2))+'%') for w in set(text) if fdist[w] >= count*benchmark], key=lambda x: -x[1])"
   ]
  },
  {
   "cell_type": "code",
   "execution_count": 38,
   "metadata": {},
   "outputs": [
    {
     "name": "stdout",
     "output_type": "stream",
     "text": [
      "score 1 reviews most popular adjectives word:\n",
      "    Count Occur %     Phrase\n",
      "0    11.0  47.83%        dry\n",
      "1    10.0  43.48%     cheese\n",
      "2     8.0  34.78%     little\n",
      "3     8.0  34.78%        bad\n",
      "4     7.0  30.43%      tasty\n",
      "5     7.0  30.43%  expensive\n",
      "6     7.0  30.43%  delicious\n",
      "7     6.0  26.09%       poor\n",
      "8     6.0  26.09%       much\n",
      "9     6.0  26.09%      bread\n",
      "10    6.0  26.09%       hard\n",
      "score 2 reviews most popular adjectives word:\n",
      "   Count Occur %     Phrase\n",
      "0    8.0  53.33%      whole\n",
      "1    6.0   40.0%     cheese\n",
      "2    5.0  33.33%  delicious\n",
      "3    5.0  33.33%      awful\n",
      "4    5.0  33.33%      wrong\n",
      "5    4.0  26.67%      .give\n",
      "6    4.0  26.67%      small\n",
      "7    4.0  26.67%       good\n",
      "8    4.0  26.67%       rich\n",
      "score 3 reviews most popular adjectives word:\n",
      "   Count Occur %        Phrase\n",
      "0    6.0  54.55%         whole\n",
      "1    4.0  36.36%          high\n",
      "2    3.0  27.27%  disappointed\n",
      "3    3.0  27.27%          fine\n",
      "4    3.0  27.27%         black\n",
      "5    3.0  27.27%     different\n",
      "6    3.0  27.27%          good\n",
      "7    3.0  27.27%         first\n",
      "score 4 reviews most popular adjectives word:\n",
      "   Count Occur %       Phrase\n",
      "0    6.0  54.55%        great\n",
      "1    6.0  54.55%    delicious\n",
      "2    5.0  45.45%       little\n",
      "3    4.0  36.36%     multiple\n",
      "4    4.0  36.36%         sure\n",
      "5    4.0  36.36%      regular\n",
      "6    4.0  36.36%    recommend\n",
      "7    3.0  27.27%         hard\n",
      "8    3.0  27.27%  scrumptious\n",
      "score 5 reviews most popular adjectives word:\n",
      "   Count Occur %     Phrase\n",
      "0   24.0  68.57%  delicious\n",
      "1   14.0   40.0%      great\n",
      "2   11.0  31.43%       high\n",
      "3    9.0  25.71%      first\n"
     ]
    }
   ],
   "source": [
    "# score 1-5 reviews with this user\n",
    "index = ['Phrase', 'Count', 'Occur %']\n",
    "\n",
    "for j in range(1,6):\n",
    "    test = pd.DataFrame()\n",
    "    d = get_token_adj(j, 0.25, 'A2M9D9BDHONV3Y')\n",
    "    print('score {} reviews most popular adjectives word:'.format(j))\n",
    "    for i in d:\n",
    "        test = test.append(pd.Series(i, index = index), ignore_index = True)\n",
    "    test = test.sort_values('Count', ascending=False)\n",
    "    print(test)"
   ]
  },
  {
   "cell_type": "code",
   "execution_count": 39,
   "metadata": {
    "collapsed": true
   },
   "outputs": [],
   "source": [
    "reviews = df[['Prediction','Summary']]"
   ]
  },
  {
   "cell_type": "code",
   "execution_count": 40,
   "metadata": {},
   "outputs": [
    {
     "name": "stderr",
     "output_type": "stream",
     "text": [
      "/Users/user/anaconda3/lib/python3.6/site-packages/ipykernel_launcher.py:2: SettingWithCopyWarning: \n",
      "A value is trying to be set on a copy of a slice from a DataFrame.\n",
      "Try using .loc[row_indexer,col_indexer] = value instead\n",
      "\n",
      "See the caveats in the documentation: http://pandas.pydata.org/pandas-docs/stable/indexing.html#indexing-view-versus-copy\n",
      "  \n"
     ]
    }
   ],
   "source": [
    "scores = reviews['Prediction']\n",
    "reviews['Prediction'] = reviews['Prediction'].apply(lambda x : 'pos' if x > 3 else 'neg')"
   ]
  },
  {
   "cell_type": "code",
   "execution_count": 41,
   "metadata": {},
   "outputs": [
    {
     "data": {
      "text/plain": [
       "4.183113675798233"
      ]
     },
     "execution_count": 41,
     "metadata": {},
     "output_type": "execute_result"
    }
   ],
   "source": [
    "scores.mean()"
   ]
  },
  {
   "cell_type": "code",
   "execution_count": 42,
   "metadata": {},
   "outputs": [
    {
     "data": {
      "text/plain": [
       "Prediction\n",
       "neg     99737\n",
       "pos    354986\n",
       "Name: Summary, dtype: int64"
      ]
     },
     "execution_count": 42,
     "metadata": {},
     "output_type": "execute_result"
    }
   ],
   "source": [
    "reviews.groupby('Prediction')['Summary'].count()"
   ]
  },
  {
   "cell_type": "markdown",
   "metadata": {},
   "source": [
    "Count the number of the users who for the positive and negative reviews based on the prediction value greater than 3 out of 5 scale. "
   ]
  },
  {
   "cell_type": "code",
   "execution_count": 43,
   "metadata": {
    "collapsed": true
   },
   "outputs": [
    {
     "data": {
      "image/png": "[encoded data removed]",
      "text/plain": [
       "<matplotlib.figure.Figure at 0x1a4994def0>"
      ]
     },
     "metadata": {},
     "output_type": "display_data"
    }
   ],
   "source": [
    "reviews.groupby('Prediction')['Summary'].count().plot(kind='bar',color=['r','g'],title='Label Distribution',figsize=(10,6))\n",
    "plt.show()"
   ]
  },
  {
   "cell_type": "code",
   "execution_count": 44,
   "metadata": {},
   "outputs": [
    {
     "name": "stdout",
     "output_type": "stream",
     "text": [
      "Percentage of negative reviews 21.93 %\n",
      "Percentage of positive reviews 78.07 %\n"
     ]
    }
   ],
   "source": [
    "\n",
    "print ('Percentage of negative reviews %.2f %%' % ((reviews.groupby('Prediction')['Summary'].count()['neg'])*100.0/len(reviews)))\n",
    "print ('Percentage of positive reviews %.2f %%' % ((reviews.groupby('Prediction')['Summary'].count()['pos'])*100.0/len(reviews)))"
   ]
  },
  {
   "cell_type": "markdown",
   "metadata": {},
   "source": [
    "We can see that almost 78 % reviews are positive for the amazon food products. Users who have rated less than 3 out of 5 star are only 22% which shows that Amazon food provides the good service and food and customers are happy with the services."
   ]
  },
  {
   "cell_type": "code",
   "execution_count": 69,
   "metadata": {},
   "outputs": [
    {
     "data": {
      "image/png": "[encoded data removed]",
      "text/plain": [
       "<matplotlib.figure.Figure at 0x1a5de4af98>"
      ]
     },
     "metadata": {},
     "output_type": "display_data"
    },
    {
     "data": {
      "image/png": "[encoded data removed]",
      "text/plain": [
       "<matplotlib.figure.Figure at 0x1a43967390>"
      ]
     },
     "metadata": {},
     "output_type": "display_data"
    }
   ],
   "source": [
    "df['Helpful %'] = np.where(df['HelpfulnessDenominator'] > 0, df['HelpfulnessNumerator'] / df['HelpfulnessDenominator'], -1)\n",
    "df['% Upvote'] = pd.cut(df['Helpful %'], bins = [-1, 0, 0.2, 0.4, 0.6, 0.8, 1.0], labels = ['Empty', '0-20%', '20-40%', '40-60%', '60-80%', '80-100%'], include_lowest = True)\n",
    "df.head()\n",
    "\n",
    "df_s = df.groupby(['Prediction', '% Upvote']).agg({'Id': 'count'})\n",
    "df_s = df_s.unstack()\n",
    "df_s.columns = df_s.columns.get_level_values(1)\n",
    "fig = plt.figure(figsize=(15,10))\n",
    "\n",
    "sns.heatmap(df_s[df_s.columns[::-1]].T, cmap = 'YlGnBu', linewidths=.5, annot = True, fmt = 'd', cbar_kws={'label': '# reviews'})\n",
    "plt.yticks(rotation=0)\n",
    "plt.title('How helpful users find among user scores')\n",
    "plt.show()"
   ]
  },
  {
   "cell_type": "code",
   "execution_count": 45,
   "metadata": {
    "collapsed": true
   },
   "outputs": [],
   "source": [
    "def splitPosNeg(Summaries):\n",
    "    neg = reviews.loc[Summaries['Prediction']=='neg']\n",
    "    pos = reviews.loc[Summaries['Prediction']=='pos']\n",
    "    return [pos,neg]"
   ]
  },
  {
   "cell_type": "code",
   "execution_count": 46,
   "metadata": {
    "collapsed": true
   },
   "outputs": [],
   "source": [
    "[pos,neg] = splitPosNeg(reviews)"
   ]
  },
  {
   "cell_type": "code",
   "execution_count": 47,
   "metadata": {
    "collapsed": true
   },
   "outputs": [],
   "source": [
    "#preprocessing steps\n",
    "\n",
    "#stemmer = PorterStemmer()\n",
    "lemmatizer = nltk.WordNetLemmatizer()\n",
    "stop = stopwords.words('english')\n",
    "translation = str.maketrans(string.punctuation,' '*len(string.punctuation))\n",
    "\n",
    "def preprocessing(line):\n",
    "    tokens=[]\n",
    "    line = line.translate(translation)\n",
    "    line = nltk.word_tokenize(line.lower())\n",
    "    for t in line:\n",
    "        #if(t not in stop):\n",
    "            #stemmed = stemmer.stem(t)\n",
    "        stemmed = lemmatizer.lemmatize(t)\n",
    "        tokens.append(stemmed)\n",
    "    return ' '.join(tokens)"
   ]
  },
  {
   "cell_type": "code",
   "execution_count": 48,
   "metadata": {
    "collapsed": true
   },
   "outputs": [],
   "source": [
    "pos_data = []\n",
    "neg_data = []\n",
    "for p in pos['Summary']:\n",
    "    pos_data.append(preprocessing(p))\n",
    "\n",
    "for n in neg['Summary']:\n",
    "    neg_data.append(preprocessing(n))"
   ]
  },
  {
   "cell_type": "code",
   "execution_count": 49,
   "metadata": {
    "collapsed": true
   },
   "outputs": [],
   "source": [
    "data = pos_data + neg_data\n",
    "labels = np.concatenate((pos['Prediction'].values,neg['Prediction'].values))"
   ]
  },
  {
   "cell_type": "code",
   "execution_count": 50,
   "metadata": {
    "collapsed": true
   },
   "outputs": [],
   "source": [
    "\n",
    "[Data_train,Data_test,Train_labels,Test_labels] = train_test_split(data,labels , test_size=0.25, random_state=20160121,stratify=labels)"
   ]
  },
  {
   "cell_type": "code",
   "execution_count": 51,
   "metadata": {
    "collapsed": true
   },
   "outputs": [],
   "source": [
    "## tokenizing the training data to find frequency of words\n",
    "t = []\n",
    "for line in Data_train:\n",
    "    l = nltk.word_tokenize(line)\n",
    "    for w in l:\n",
    "        t.append(w)"
   ]
  },
  {
   "cell_type": "code",
   "execution_count": 52,
   "metadata": {},
   "outputs": [
    {
     "name": "stdout",
     "output_type": "stream",
     "text": [
      "24646\n"
     ]
    }
   ],
   "source": [
    "\n",
    "word_features = nltk.FreqDist(t)\n",
    "print (len(word_features))"
   ]
  },
  {
   "cell_type": "code",
   "execution_count": 53,
   "metadata": {
    "collapsed": true
   },
   "outputs": [],
   "source": [
    "vec_all = CountVectorizer()\n",
    "ctr_features_all = vec_all.fit_transform(Data_train)"
   ]
  },
  {
   "cell_type": "code",
   "execution_count": 54,
   "metadata": {
    "collapsed": true
   },
   "outputs": [],
   "source": [
    "tf_vec_all = TfidfTransformer()\n",
    "tr_features_all = tf_vec_all.fit_transform(ctr_features_all)"
   ]
  },
  {
   "cell_type": "code",
   "execution_count": 55,
   "metadata": {
    "collapsed": true
   },
   "outputs": [],
   "source": [
    "cte_features_all = vec_all.transform(Data_test)\n",
    "te_features_all = tf_vec_all.transform(cte_features_all)"
   ]
  },
  {
   "cell_type": "markdown",
   "metadata": {},
   "source": [
    "# Implement SVD "
   ]
  },
  {
   "cell_type": "code",
   "execution_count": 56,
   "metadata": {
    "collapsed": true
   },
   "outputs": [],
   "source": [
    "from sklearn.decomposition import TruncatedSVD\n",
    "\n",
    "svd = TruncatedSVD(n_components=200)\n",
    "tr_features_truncated = svd.fit_transform(tr_features_all)"
   ]
  },
  {
   "cell_type": "code",
   "execution_count": 57,
   "metadata": {
    "collapsed": true
   },
   "outputs": [],
   "source": [
    "te_features_truncated = svd.transform(te_features_all)"
   ]
  },
  {
   "cell_type": "code",
   "execution_count": 58,
   "metadata": {
    "collapsed": true
   },
   "outputs": [],
   "source": [
    "svd = TruncatedSVD(n_components=200)\n",
    "ctr_features_truncated = svd.fit_transform(ctr_features_all)\n",
    "cte_features_truncated = svd.transform(cte_features_all)"
   ]
  },
  {
   "cell_type": "markdown",
   "metadata": {},
   "source": [
    "# Comparison of the Diff Classifiers"
   ]
  },
  {
   "cell_type": "code",
   "execution_count": 143,
   "metadata": {
    "collapsed": true
   },
   "outputs": [],
   "source": [
    "from sklearn import linear_model\n",
    "from sklearn.tree import DecisionTreeClassifier\n",
    "\n",
    "models = {'BernoulliNB': BernoulliNB(binarize=0.5)\n",
    "          ,'Logistic' : linear_model.LogisticRegression(C=1e5),'Decision Tree' : DecisionTreeClassifier(random_state=20160121, criterion='entropy'),\n",
    "                                                                                                        'Perceptron': linear_model.Perceptron(n_iter=1000)}"
   ]
  },
  {
   "cell_type": "code",
   "execution_count": 144,
   "metadata": {},
   "outputs": [
    {
     "name": "stdout",
     "output_type": "stream",
     "text": [
      "           Model  TF-IDF Accuracy\n",
      "0    BernoulliNB         0.792402\n",
      "1       Logistic         0.844697\n",
      "2  Decision Tree         0.862501\n",
      "3     Perceptron         0.822134\n"
     ]
    }
   ],
   "source": [
    "results_svd = pd.DataFrame()\n",
    "\n",
    "foldnum = 0\n",
    "tfprediction = {}\n",
    "cprediction = {}\n",
    "for name,model in models.items():\n",
    "        model.fit(tr_features_truncated, Train_labels)\n",
    "        tfprediction[name] = model.predict(te_features_truncated)\n",
    "        tfaccuracy = metrics.accuracy_score(tfprediction[name],Test_labels)\n",
    "        \n",
    "        #model.fit(ctr_features_truncated,Train_labels)\n",
    "        #cprediction[name] = model.predict(cte_features_truncated)\n",
    "        #caccuracy = metrics.accuracy_score(cprediction[name],Test_labels)\n",
    "\n",
    "        results_svd.loc[foldnum,'Model']=name\n",
    "        results_svd.loc[foldnum,'TF-IDF Accuracy']=tfaccuracy\n",
    "        #results_svd.loc[foldnum,'Count Accuracy']=caccuracy\n",
    "        foldnum = foldnum+1\n",
    "print (results_svd)"
   ]
  },
  {
   "cell_type": "markdown",
   "metadata": {},
   "source": [
    "It is clear that for the data model of Amazon food reviews, Decision tree classifier is the best as the accuracy provided by the Decision tree classifier is almost 86% which is best out of all the 4 classiefier that we have implemented. After that, Logistic regression classifier has accuracy of 84.4% which is slightly less than the Decision tree but better than the other 2 classifiers. Same like the logistic regression, Perceptron has almost 82.2% accuracy which is good for the model. We can notice that BernoulliNB has accuracy of 79 which is lower than all other classifier that we have implemented for the Amazon food review model."
   ]
  },
  {
   "cell_type": "code",
   "execution_count": 145,
   "metadata": {},
   "outputs": [
    {
     "name": "stdout",
     "output_type": "stream",
     "text": [
      "Classification report for  BernoulliNB\n",
      "             precision    recall  f1-score   support\n",
      "\n",
      "        neg       0.91      0.06      0.11     24934\n",
      "        pos       0.79      1.00      0.88     88747\n",
      "\n",
      "avg / total       0.82      0.79      0.71    113681\n",
      "\n",
      "\n",
      "\n",
      "Classification report for  Logistic\n",
      "             precision    recall  f1-score   support\n",
      "\n",
      "        neg       0.76      0.43      0.55     24934\n",
      "        pos       0.86      0.96      0.91     88747\n",
      "\n",
      "avg / total       0.84      0.84      0.83    113681\n",
      "\n",
      "\n",
      "\n",
      "Classification report for  Decision Tree\n",
      "             precision    recall  f1-score   support\n",
      "\n",
      "        neg       0.69      0.69      0.69     24934\n",
      "        pos       0.91      0.91      0.91     88747\n",
      "\n",
      "avg / total       0.86      0.86      0.86    113681\n",
      "\n",
      "\n",
      "\n",
      "Classification report for  Perceptron\n",
      "             precision    recall  f1-score   support\n",
      "\n",
      "        neg       0.82      0.24      0.38     24934\n",
      "        pos       0.82      0.98      0.90     88747\n",
      "\n",
      "avg / total       0.82      0.82      0.78    113681\n",
      "\n",
      "\n",
      "\n"
     ]
    }
   ],
   "source": [
    "for name,model in models.items():\n",
    "    print (\"Classification report for \",name)\n",
    "    print(metrics.classification_report(Test_labels, tfprediction[name]))\n",
    "    print(\"\\n\")"
   ]
  },
  {
   "cell_type": "markdown",
   "metadata": {
    "collapsed": true
   },
   "source": [
    "# Random Forest Classifier"
   ]
  },
  {
   "cell_type": "code",
   "execution_count": 106,
   "metadata": {},
   "outputs": [
    {
     "name": "stdout",
     "output_type": "stream",
     "text": [
      "       Id   ProductId          UserId                ProfileName  \\\n",
      "0  492346  B001VNP0Y6   AEZRVY3CV52UZ  Corey Wright \"Democratus\"   \n",
      "1  343811  B008J1HO4C  A18VZYSLOUO060    D. Simpson \"Frugal SOB\"   \n",
      "2  347257  B000FFIL60  A28Y1M7GRG0I9M        Real Comments \"Lin\"   \n",
      "3  225529  B002ZX1U9A  A245HC4T5J97WG            Logan DeAngelis   \n",
      "4  485488  B001RVFERK   AVABPJCKE2MR5                       spal   \n",
      "\n",
      "   HelpfulnessNumerator  HelpfulnessDenominator  Prediction        Time  \\\n",
      "0                     3                       3           5  1320537600   \n",
      "1                     2                       2           5  1204329600   \n",
      "2                     0                       0           4  1318464000   \n",
      "3                     0                       0           5  1306540800   \n",
      "4                     0                       0           4  1314921600   \n",
      "\n",
      "                         Summary  \\\n",
      "0             Just what I needed   \n",
      "1         Most excellent oatmeal   \n",
      "2                    Quality Tea   \n",
      "3  Great Coffee at a Great price   \n",
      "4       Popchips Jalapeno flavor   \n",
      "\n",
      "                                                Text Sentiment Usefulness  \\\n",
      "0  I got them in a very timely manner and they're...  positive     useful   \n",
      "1  McCann's Steel Cut Oatmeal is the perfect brea...  positive     useful   \n",
      "2  I would recommend it. Quality pearls and a few...  positive    useless   \n",
      "3  I have to admit, I first purchased these Hazel...  positive    useless   \n",
      "4  I bought a case of jalapeno chips as I love th...  positive    useless   \n",
      "\n",
      "                   Summary_Clean  Helpful % % Upvote  \\\n",
      "0             just what i needed        1.0  80-100%   \n",
      "1         most excellent oatmeal        1.0  80-100%   \n",
      "2                    quality tea       -1.0    Empty   \n",
      "3  great coffee at a great price       -1.0    Empty   \n",
      "4       popchips jalapeno flavor       -1.0    Empty   \n",
      "\n",
      "                                         comment_tok  \n",
      "0  [got_VBD, timely_JJ, manner_NN, 're_VBP, large...  \n",
      "1  [mccann_NN, steel_NN, cut_NN, oatmeal_NN, perf...  \n",
      "2  [would_MD, recommend_VB, quality_NN, pearl_NN,...  \n",
      "3  [admit_VB, first_RB, purchased_VBN, hazelnut_J...  \n",
      "4  [bought_VBD, case_NN, jalapeno_JJ, chip_NNS, l...  \n",
      "(50, 16)\n"
     ]
    }
   ],
   "source": [
    "### Cleaning data to remove Stopwords and Small length words also lemmatized data to bring into common format\n",
    "\n",
    "from nltk.corpus import stopwords\n",
    "from nltk.tokenize import word_tokenize, sent_tokenize\n",
    "from nltk.stem.wordnet import WordNetLemmatizer\n",
    "from nltk import pos_tag\n",
    "import re\n",
    "\n",
    "lmtzr = WordNetLemmatizer()\n",
    "negation = re.compile(r\"(?:^(?:never|no|nothing|nowhere|noone|none|not|havent|hasnt|hadnt|cant|couldnt|shouldnt|wont|wouldnt|dont|doesnt|didnt|isnt|arent|aint)$)|n't\",re.I)\n",
    "clp = re.compile(r\"^[.:;!?]$\",re.I)\n",
    "    \n",
    "def extract_words_from_comments(df):\n",
    "    comments_tok = []\n",
    "    for index, datapoint in df.iterrows():\n",
    "        tokenized_words = word_tokenize(datapoint[\"Text\"].lower(),language='english')\n",
    "        pos_tagged_words = pos_tag(tokenized_words)\n",
    "        tokenized_words = [\"_\".join([lmtzr.lemmatize(i[0]),i[1]]) for i in pos_tagged_words if (i[0] not in stopwords.words(\"english\") and len(i[0]) > 2)]\n",
    "        comments_tok.append(tokenized_words)\n",
    "    df[\"comment_tok\"] = comments_tok\n",
    "    return df\n",
    "\n",
    "df = extract_words_from_comments(df)\n",
    "print (df.head())\n",
    "print (df.shape)"
   ]
  },
  {
   "cell_type": "markdown",
   "metadata": {},
   "source": [
    "# Vectorize words using BOW technique"
   ]
  },
  {
   "cell_type": "code",
   "execution_count": 107,
   "metadata": {},
   "outputs": [
    {
     "name": "stdout",
     "output_type": "stream",
     "text": [
      "(50, 195)\n"
     ]
    }
   ],
   "source": [
    "from gensim import matutils,corpora, models\n",
    "\n",
    "def vectorize_comments(df):\n",
    "    d = corpora.Dictionary(df[\"comment_tok\"])\n",
    "    d.filter_extremes(no_below=2, no_above=0.8)\n",
    "    d.compactify()\n",
    "    corpus = [d.doc2bow(text) for text in df[\"comment_tok\"]]\n",
    "    # tfidf = TfidfModel(corpus=corpus,id2word=d)\n",
    "    # corpus_tfidf = tfidf[corpus]\n",
    "    # corpus_tfidf = matutils.corpus2csc(corpus_tfidf,num_terms=len(d.token2id))\n",
    "    corpus = matutils.corpus2csc(corpus, num_terms=len(d.token2id))\n",
    "    corpus = corpus.transpose()\n",
    "    return d, corpus\n",
    "\n",
    "dictionary,corpus = vectorize_comments(df)\n",
    "print (corpus.shape)"
   ]
  },
  {
   "cell_type": "markdown",
   "metadata": {},
   "source": [
    "# Train Random forest classifier"
   ]
  },
  {
   "cell_type": "code",
   "execution_count": 110,
   "metadata": {},
   "outputs": [
    {
     "name": "stderr",
     "output_type": "stream",
     "text": [
      "/Users/user/anaconda3/lib/python3.6/site-packages/sklearn/cross_validation.py:553: Warning: The least populated class in y has only 3 members, which is too few. The minimum number of labels for any class cannot be less than n_folds=4.\n",
      "  % (min_labels, self.n_folds)), Warning)\n",
      "[Parallel(n_jobs=4)]: Done  42 tasks      | elapsed:    0.0s\n",
      "[Parallel(n_jobs=4)]: Done 100 out of 100 | elapsed:    0.1s finished\n",
      "[Parallel(n_jobs=4)]: Done  42 tasks      | elapsed:    0.0s\n",
      "[Parallel(n_jobs=4)]: Done 100 out of 100 | elapsed:    0.0s finished\n",
      "[Parallel(n_jobs=4)]: Done  42 tasks      | elapsed:    0.1s\n",
      "[Parallel(n_jobs=4)]: Done 100 out of 100 | elapsed:    0.1s finished\n",
      "[Parallel(n_jobs=4)]: Done  42 tasks      | elapsed:    0.0s\n",
      "[Parallel(n_jobs=4)]: Done 100 out of 100 | elapsed:    0.0s finished\n",
      "[Parallel(n_jobs=4)]: Done  42 tasks      | elapsed:    0.1s\n",
      "[Parallel(n_jobs=4)]: Done 100 out of 100 | elapsed:    0.1s finished\n",
      "[Parallel(n_jobs=4)]: Done  42 tasks      | elapsed:    0.0s\n",
      "[Parallel(n_jobs=4)]: Done 100 out of 100 | elapsed:    0.0s finished\n",
      "[Parallel(n_jobs=4)]: Done  42 tasks      | elapsed:    0.1s\n",
      "[Parallel(n_jobs=4)]: Done 100 out of 100 | elapsed:    0.2s finished\n",
      "[Parallel(n_jobs=4)]: Done  42 tasks      | elapsed:    0.0s\n",
      "[Parallel(n_jobs=4)]: Done 100 out of 100 | elapsed:    0.0s finished\n"
     ]
    },
    {
     "name": "stdout",
     "output_type": "stream",
     "text": [
      "0.5510204081632653 ----------------Accuracy score on Cross Validation Sets\n",
      "1.0\n"
     ]
    },
    {
     "name": "stderr",
     "output_type": "stream",
     "text": [
      "[Parallel(n_jobs=4)]: Done  42 tasks      | elapsed:    0.0s\n",
      "[Parallel(n_jobs=4)]: Done 100 out of 100 | elapsed:    0.1s finished\n",
      "[Parallel(n_jobs=4)]: Done  42 tasks      | elapsed:    0.0s\n",
      "[Parallel(n_jobs=4)]: Done 100 out of 100 | elapsed:    0.0s finished\n"
     ]
    }
   ],
   "source": [
    "from sklearn import cross_validation\n",
    "from sklearn.grid_search import GridSearchCV\n",
    "from sklearn.ensemble import RandomForestClassifier as RFC\n",
    "import warnings\n",
    "warnings.filterwarnings(\"ignore\", category=DeprecationWarning)\n",
    "import pickle\n",
    "\n",
    "def train_classifier(X,y):\n",
    "    n_estimators = [100]\n",
    "    min_samples_split = [2]\n",
    "    min_samples_leaf = [1]\n",
    "    bootstrap = [True]\n",
    "\n",
    "    parameters = {'n_estimators': n_estimators, 'min_samples_leaf': min_samples_leaf,\n",
    "                  'min_samples_split': min_samples_split}\n",
    "\n",
    "    clf = GridSearchCV(RFC(verbose=1,n_jobs=4), cv=4, param_grid=parameters)\n",
    "    clf.fit(X, y)\n",
    "    return clf\n",
    "\n",
    "X_train, X_test, y_train, y_test = cross_validation.train_test_split(corpus, df[\"Prediction\"], test_size=0.02, random_state=17)\n",
    "classifier = train_classifier(X_train,y_train)\n",
    "print (classifier.best_score_, \"----------------Accuracy score on Cross Validation Sets\")\n",
    "print (classifier.score(X_test,y_test))"
   ]
  },
  {
   "cell_type": "markdown",
   "metadata": {},
   "source": [
    "# Improving Prediction with K-Means Clustering of Reviews"
   ]
  },
  {
   "cell_type": "code",
   "execution_count": 112,
   "metadata": {
    "collapsed": true
   },
   "outputs": [],
   "source": [
    "#Apply TfidfVectorizer to review text\n",
    "\n",
    "from sklearn.feature_extraction.text import TfidfVectorizer\n",
    "from sklearn.cluster import KMeans\n",
    "from sklearn import metrics\n"
   ]
  },
  {
   "cell_type": "code",
   "execution_count": 113,
   "metadata": {},
   "outputs": [
    {
     "data": {
      "text/plain": [
       "TfidfVectorizer(analyzer='word', binary=False, decode_error='strict',\n",
       "        dtype=<class 'numpy.int64'>, encoding='utf-8', input='content',\n",
       "        lowercase=True, max_df=0.95, max_features=None, min_df=0.05,\n",
       "        ngram_range=(1, 2), norm='l2', preprocessor=None, smooth_idf=True,\n",
       "        stop_words='english', strip_accents=None, sublinear_tf=False,\n",
       "        token_pattern='(?u)\\\\b\\\\w\\\\w+\\\\b', tokenizer=None, use_idf=True,\n",
       "        vocabulary=None)"
      ]
     },
     "execution_count": 113,
     "metadata": {},
     "output_type": "execute_result"
    }
   ],
   "source": [
    "model = KMeans(n_clusters=4, init='k-means++', max_iter=100, n_init=1,random_state=5)\n",
    "\n",
    "vectorizer = TfidfVectorizer(min_df = 0.05, max_df=0.95,\n",
    "                             ngram_range=(1, 2), \n",
    "                             stop_words='english')\n",
    "vectorizer.fit(df1['Text'])"
   ]
  },
  {
   "cell_type": "code",
   "execution_count": 114,
   "metadata": {
    "collapsed": true
   },
   "outputs": [],
   "source": [
    "X_train = vectorizer.transform(df1['Text'])\n",
    "vocab = vectorizer.get_feature_names()\n",
    "sse_err = []\n",
    "res = model.fit(X_train)\n",
    "vocab = np.array(vocab)\n",
    "cluster_centers = np.array(res.cluster_centers_)\n",
    "sorted_vals = [res.cluster_centers_[i].argsort() for i in range(0,np.shape(res.cluster_centers_)[0])]\n",
    "words=set()\n",
    "for i in range(len(res.cluster_centers_)):\n",
    "    words = words.union(set(vocab[sorted_vals[i][-10:]]))\n",
    "words=list(words)"
   ]
  },
  {
   "cell_type": "code",
   "execution_count": 115,
   "metadata": {},
   "outputs": [
    {
     "data": {
      "text/plain": [
       "['better',\n",
       " 'buy',\n",
       " 'ive',\n",
       " 'thank',\n",
       " 'little',\n",
       " 'old',\n",
       " 'ones',\n",
       " 'highly',\n",
       " 'taste',\n",
       " 'prefer',\n",
       " 'make',\n",
       " 'product',\n",
       " 'flavor',\n",
       " 'good',\n",
       " 'tea',\n",
       " 'sugar',\n",
       " 'tastes',\n",
       " 'just',\n",
       " 'recommended',\n",
       " 'tasty',\n",
       " 'quality',\n",
       " 'food',\n",
       " 'br',\n",
       " 'amazon',\n",
       " 'bags',\n",
       " 'months',\n",
       " 'isnt',\n",
       " '12',\n",
       " 'great',\n",
       " 'br br',\n",
       " 'having',\n",
       " 'doesnt',\n",
       " 'using',\n",
       " 'time',\n",
       " 'like',\n",
       " 'price',\n",
       " 'try',\n",
       " 'trying']"
      ]
     },
     "execution_count": 115,
     "metadata": {},
     "output_type": "execute_result"
    }
   ],
   "source": [
    "#top 10 words for each cluster\n",
    "words"
   ]
  },
  {
   "cell_type": "code",
   "execution_count": 116,
   "metadata": {
    "collapsed": true
   },
   "outputs": [],
   "source": [
    "#add top words to train set\n",
    "train_set=X_train[:,[np.argwhere(vocab==i)[0][0] for i in words]]"
   ]
  },
  {
   "cell_type": "code",
   "execution_count": 117,
   "metadata": {},
   "outputs": [
    {
     "name": "stderr",
     "output_type": "stream",
     "text": [
      "/Users/user/anaconda3/lib/python3.6/site-packages/ipykernel_launcher.py:2: SettingWithCopyWarning: \n",
      "A value is trying to be set on a copy of a slice from a DataFrame.\n",
      "Try using .loc[row_indexer,col_indexer] = value instead\n",
      "\n",
      "See the caveats in the documentation: http://pandas.pydata.org/pandas-docs/stable/indexing.html#indexing-view-versus-copy\n",
      "  \n"
     ]
    },
    {
     "data": {
      "text/html": [
       "<div>\n",
       "<style>\n",
       "    .dataframe thead tr:only-child th {\n",
       "        text-align: right;\n",
       "    }\n",
       "\n",
       "    .dataframe thead th {\n",
       "        text-align: left;\n",
       "    }\n",
       "\n",
       "    .dataframe tbody tr th {\n",
       "        vertical-align: top;\n",
       "    }\n",
       "</style>\n",
       "<table border=\"1\" class=\"dataframe\">\n",
       "  <thead>\n",
       "    <tr style=\"text-align: right;\">\n",
       "      <th></th>\n",
       "      <th>HelpfulnessNumerator</th>\n",
       "      <th>HelpfulnessDenominator</th>\n",
       "      <th>Prediction</th>\n",
       "      <th>Text</th>\n",
       "    </tr>\n",
       "    <tr>\n",
       "      <th>cluster</th>\n",
       "      <th></th>\n",
       "      <th></th>\n",
       "      <th></th>\n",
       "      <th></th>\n",
       "    </tr>\n",
       "  </thead>\n",
       "  <tbody>\n",
       "    <tr>\n",
       "      <th>0</th>\n",
       "      <td>14</td>\n",
       "      <td>14</td>\n",
       "      <td>14</td>\n",
       "      <td>14</td>\n",
       "    </tr>\n",
       "    <tr>\n",
       "      <th>1</th>\n",
       "      <td>12</td>\n",
       "      <td>12</td>\n",
       "      <td>12</td>\n",
       "      <td>12</td>\n",
       "    </tr>\n",
       "    <tr>\n",
       "      <th>2</th>\n",
       "      <td>15</td>\n",
       "      <td>15</td>\n",
       "      <td>15</td>\n",
       "      <td>15</td>\n",
       "    </tr>\n",
       "    <tr>\n",
       "      <th>3</th>\n",
       "      <td>9</td>\n",
       "      <td>9</td>\n",
       "      <td>9</td>\n",
       "      <td>9</td>\n",
       "    </tr>\n",
       "  </tbody>\n",
       "</table>\n",
       "</div>"
      ],
      "text/plain": [
       "         HelpfulnessNumerator  HelpfulnessDenominator  Prediction  Text\n",
       "cluster                                                                \n",
       "0                          14                      14          14    14\n",
       "1                          12                      12          12    12\n",
       "2                          15                      15          15    15\n",
       "3                           9                       9           9     9"
      ]
     },
     "execution_count": 117,
     "metadata": {},
     "output_type": "execute_result"
    }
   ],
   "source": [
    "# how many observations are in each cluster\n",
    "df1['cluster'] = model.labels_\n",
    "df1.groupby('cluster').count()"
   ]
  },
  {
   "cell_type": "code",
   "execution_count": 118,
   "metadata": {},
   "outputs": [
    {
     "data": {
      "text/html": [
       "<div>\n",
       "<style>\n",
       "    .dataframe thead tr:only-child th {\n",
       "        text-align: right;\n",
       "    }\n",
       "\n",
       "    .dataframe thead th {\n",
       "        text-align: left;\n",
       "    }\n",
       "\n",
       "    .dataframe tbody tr th {\n",
       "        vertical-align: top;\n",
       "    }\n",
       "</style>\n",
       "<table border=\"1\" class=\"dataframe\">\n",
       "  <thead>\n",
       "    <tr style=\"text-align: right;\">\n",
       "      <th></th>\n",
       "      <th>HelpfulnessNumerator</th>\n",
       "      <th>HelpfulnessDenominator</th>\n",
       "      <th>Prediction</th>\n",
       "    </tr>\n",
       "    <tr>\n",
       "      <th>cluster</th>\n",
       "      <th></th>\n",
       "      <th></th>\n",
       "      <th></th>\n",
       "    </tr>\n",
       "  </thead>\n",
       "  <tbody>\n",
       "    <tr>\n",
       "      <th>0</th>\n",
       "      <td>2.357143</td>\n",
       "      <td>3.857143</td>\n",
       "      <td>3.642857</td>\n",
       "    </tr>\n",
       "    <tr>\n",
       "      <th>1</th>\n",
       "      <td>1.666667</td>\n",
       "      <td>2.333333</td>\n",
       "      <td>4.083333</td>\n",
       "    </tr>\n",
       "    <tr>\n",
       "      <th>2</th>\n",
       "      <td>1.400000</td>\n",
       "      <td>1.466667</td>\n",
       "      <td>4.066667</td>\n",
       "    </tr>\n",
       "    <tr>\n",
       "      <th>3</th>\n",
       "      <td>3.777778</td>\n",
       "      <td>5.222222</td>\n",
       "      <td>3.777778</td>\n",
       "    </tr>\n",
       "  </tbody>\n",
       "</table>\n",
       "</div>"
      ],
      "text/plain": [
       "         HelpfulnessNumerator  HelpfulnessDenominator  Prediction\n",
       "cluster                                                          \n",
       "0                    2.357143                3.857143    3.642857\n",
       "1                    1.666667                2.333333    4.083333\n",
       "2                    1.400000                1.466667    4.066667\n",
       "3                    3.777778                5.222222    3.777778"
      ]
     },
     "execution_count": 118,
     "metadata": {},
     "output_type": "execute_result"
    }
   ],
   "source": [
    "# what does each cluster look like\n",
    "df1.groupby('cluster').mean()"
   ]
  },
  {
   "cell_type": "markdown",
   "metadata": {},
   "source": [
    "# Improving Prediction with Logistic Regression of Reviews"
   ]
  },
  {
   "cell_type": "code",
   "execution_count": 132,
   "metadata": {
    "collapsed": true
   },
   "outputs": [],
   "source": [
    "stops = set(stopwords.words(\"english\"))\n",
    "\n",
    "def binarize_prediction(prediction):\n",
    "    \"\"\"\n",
    "    set prediction of 1-3 to 0 and 4-5 as 1\n",
    "    \"\"\"\n",
    "    \n",
    "    if prediction <3:\n",
    "        return 0\n",
    "    else:\n",
    "        return 1\n",
    "\n",
    "\n",
    "\n",
    "def review_to_words( review ):\n",
    "    \"\"\"\n",
    "    Return a list of cleaned word tokens from the raw review\n",
    "    \n",
    "    \"\"\"\n",
    "        \n",
    "    #Remove any HTML tags and convert to lower case\n",
    "    review_text = BeautifulSoup(review).get_text().lower() \n",
    "    \n",
    "    #Replace smiliey and frown faces, ! and ? with coded word SM{int} in case these are valuable\n",
    "    review_text=re.sub(\"(:\\))\",r' SM1',review_text)\n",
    "    review_text=re.sub(\"(:\\()\",r' SM2',review_text)\n",
    "    review_text=re.sub(\"(!)\",r' SM3',review_text)\n",
    "    review_text=re.sub(\"(\\?)\",r' SM4',review_text)\n",
    "    \n",
    "    #keep 'not' and the next word as negation may be important\n",
    "    review_text=re.sub(r\"not\\s\\b(.*?)\\b\", r\"not_\\1\", review_text)\n",
    "    \n",
    "    #keep letters and the coded words above, replace the rest with whitespace\n",
    "    nonnumbers_only=re.sub(\"[^a-zA-Z\\_(SM\\d)]\",\" \",review_text)  \n",
    "    \n",
    "    #Split into individual words on whitespace\n",
    "    words = nonnumbers_only.split()                             \n",
    "    \n",
    "    #Remove stop words\n",
    "    words = [w for w in words if not w in stops]   \n",
    "    \n",
    "    return (words)\n",
    "\n",
    "\n",
    "\n",
    "def avg_word_vectors(wordlist,size):\n",
    "    \"\"\"\n",
    "    returns a vector of zero for reviews containing words where none of them\n",
    "    met the min_count or were not seen in the training set\n",
    "    \n",
    "    Otherwise return an average of the embeddings vectors\n",
    "    \n",
    "    \"\"\"\n",
    "    \n",
    "    sumvec=np.zeros(shape=(1,size))\n",
    "    wordcnt=0\n",
    "    \n",
    "    for w in wordlist:\n",
    "        if w in model:\n",
    "            sumvec += model[w]\n",
    "            wordcnt +=1\n",
    "    \n",
    "    if wordcnt ==0:\n",
    "        return sumvec\n",
    "    \n",
    "    else:\n",
    "        return sumvec / wordcnt"
   ]
  },
  {
   "cell_type": "code",
   "execution_count": 172,
   "metadata": {},
   "outputs": [
    {
     "name": "stdout",
     "output_type": "stream",
     "text": [
      "       Id   ProductId          UserId                ProfileName  \\\n",
      "0  492346  B001VNP0Y6   AEZRVY3CV52UZ  Corey Wright \"Democratus\"   \n",
      "1  343811  B008J1HO4C  A18VZYSLOUO060    D. Simpson \"Frugal SOB\"   \n",
      "2  347257  B000FFIL60  A28Y1M7GRG0I9M        Real Comments \"Lin\"   \n",
      "3  225529  B002ZX1U9A  A245HC4T5J97WG            Logan DeAngelis   \n",
      "4  485488  B001RVFERK   AVABPJCKE2MR5                       spal   \n",
      "5   74981  B0026RQTGE  A161Y9NAR43WCW                     vertov   \n",
      "6  204180  B000F0FZE6  A1H35JZ9UUCVIF                   carrera4   \n",
      "7  454372  B0019K981W  A13H71301WENPW     Patricia Fentriss \"PF\"   \n",
      "8  112235  B0009JJB4S  A2HBOYLMGW2A5Y                        lee   \n",
      "9  295251  B000LQNK50   ATO0RF3HWQ3WW            Scott \"Scottso\"   \n",
      "\n",
      "   HelpfulnessNumerator  HelpfulnessDenominator  Prediction        Time  \\\n",
      "0                     3                       3           5  1320537600   \n",
      "1                     2                       2           5  1204329600   \n",
      "2                     0                       0           4  1318464000   \n",
      "3                     0                       0           5  1306540800   \n",
      "4                     0                       0           4  1314921600   \n",
      "5                     0                       0           5  1314835200   \n",
      "6                     1                       1           5  1330646400   \n",
      "7                    11                      13           1  1249344000   \n",
      "8                     0                       0           5  1345852800   \n",
      "9                    12                      16           3  1236729600   \n",
      "\n",
      "                                             Summary  \\\n",
      "0                                 Just what I needed   \n",
      "1                             Most excellent oatmeal   \n",
      "2                                        Quality Tea   \n",
      "3                      Great Coffee at a Great price   \n",
      "4                           Popchips Jalapeno flavor   \n",
      "5                           Our dog has fresh breath   \n",
      "6                             Great Pasta & Healthy!   \n",
      "7  Sugar bomb!!!  Same amount of sugar as a 12 oz...   \n",
      "8                        Pretty great for the price!   \n",
      "9                                             Its OK   \n",
      "\n",
      "                                                Text Sentiment Usefulness  \\\n",
      "0  I got them in a very timely manner and they're...  positive     useful   \n",
      "1  McCann's Steel Cut Oatmeal is the perfect brea...  positive     useful   \n",
      "2  I would recommend it. Quality pearls and a few...  positive    useless   \n",
      "3  I have to admit, I first purchased these Hazel...  positive    useless   \n",
      "4  I bought a case of jalapeno chips as I love th...  positive    useless   \n",
      "5  No doggie breath for our dog.  People are alwa...  positive    useless   \n",
      "6  I tried this pasta after viewing the Dr. Oz sh...  positive     useful   \n",
      "7  Check out the sugar content before you buy!  2...  negative     useful   \n",
      "8  I drink Iron goddess oolong pretty often, it i...  positive    useless   \n",
      "9  Maybe it's due to my tendency to prefer noodle...  negative    useless   \n",
      "\n",
      "                                  Summary_Clean  Helpful % % Upvote  \\\n",
      "0                            just what i needed   1.000000  80-100%   \n",
      "1                        most excellent oatmeal   1.000000  80-100%   \n",
      "2                                   quality tea  -1.000000    Empty   \n",
      "3                 great coffee at a great price  -1.000000    Empty   \n",
      "4                      popchips jalapeno flavor  -1.000000    Empty   \n",
      "5                      our dog has fresh breath  -1.000000    Empty   \n",
      "6                           great pasta healthy   1.000000  80-100%   \n",
      "7  sugar bomb same amount of sugar as a oz coke   0.846154  80-100%   \n",
      "8                    pretty great for the price  -1.000000    Empty   \n",
      "9                                        its ok   0.750000   60-80%   \n",
      "\n",
      "                                         comment_tok  Prediction_binary  \\\n",
      "0  [got_VBD, timely_JJ, manner_NN, 're_VBP, large...                  1   \n",
      "1  [mccann_NN, steel_NN, cut_NN, oatmeal_NN, perf...                  1   \n",
      "2  [would_MD, recommend_VB, quality_NN, pearl_NN,...                  1   \n",
      "3  [admit_VB, first_RB, purchased_VBN, hazelnut_J...                  1   \n",
      "4  [bought_VBD, case_NN, jalapeno_JJ, chip_NNS, l...                  1   \n",
      "5  [doggie_NN, breath_NN, dog_NN, people_NNS, alw...                  1   \n",
      "6  [tried_VBD, pasta_NN, viewing_VBG, dr._NN, sho...                  1   \n",
      "7  [check_VB, sugar_NN, content_NN, buy_VBP, gram...                  0   \n",
      "8  [drink_VBP, iron_NN, goddess_NN, oolong_IN, pr...                  1   \n",
      "9  [maybe_RB, due_JJ, tendency_NN, prefer_VB, noo...                  1   \n",
      "\n",
      "                                           word_list  \n",
      "0                                           [needed]  \n",
      "1                               [excellent, oatmeal]  \n",
      "2                                     [quality, tea]  \n",
      "3                      [great, coffee, great, price]  \n",
      "4                       [popchips, jalapeno, flavor]  \n",
      "5                               [dog, fresh, breath]  \n",
      "6                       [great, pasta, healthy, SM3]  \n",
      "7  [sugar, bomb, SM3, SM3, SM3, amount, sugar, 12...  \n",
      "8                        [pretty, great, price, SM3]  \n",
      "9                                               [ok]  \n"
     ]
    },
    {
     "name": "stderr",
     "output_type": "stream",
     "text": [
      "/Users/user/anaconda3/lib/python3.6/site-packages/bs4/__init__.py:181: UserWarning: No parser was explicitly specified, so I'm using the best available HTML parser for this system (\"lxml\"). This usually isn't a problem, but if you run this code on another system, or in a different virtual environment, it may use a different parser and behave differently.\n",
      "\n",
      "The code that caused this warning is on line 193 of the file /Users/user/anaconda3/lib/python3.6/runpy.py. To get rid of this warning, change code that looks like this:\n",
      "\n",
      " BeautifulSoup(YOUR_MARKUP})\n",
      "\n",
      "to this:\n",
      "\n",
      " BeautifulSoup(YOUR_MARKUP, \"lxml\")\n",
      "\n",
      "  markup_type=markup_type))\n"
     ]
    }
   ],
   "source": [
    "from bs4 import BeautifulSoup\n",
    "\n",
    "df['Prediction_binary']=df['Prediction'].apply(binarize_prediction)\n",
    "df['word_list']=df['Summary'].apply(review_to_words)\n",
    "\n",
    "print (df.head(n=10))"
   ]
  },
  {
   "cell_type": "code",
   "execution_count": 178,
   "metadata": {
    "collapsed": true
   },
   "outputs": [],
   "source": [
    "from gensim.models import Word2Vec\n",
    "\n",
    "X_train, X_test, y_train, y_test = train_test_split(df['word_list'], df['Prediction_binary'], test_size=0.1, random_state=42)\n",
    "\n",
    "\n",
    "#size of hidden layer (length of continuous word representation)\n",
    "dimsize=400\n",
    "\n",
    "#train word2vec on 80% of training data\n",
    "model = Word2Vec(X_train.values, size=dimsize, window=5, min_count=5, workers=4)\n",
    "\n",
    "#create average vector for train and test from model\n",
    "#returned list of numpy arrays are then stacked \n",
    "X_train=np.concatenate([avg_word_vectors(w,dimsize) for w in X_train])\n",
    "X_test=np.concatenate([avg_word_vectors(w,dimsize) for w in X_test])"
   ]
  },
  {
   "cell_type": "code",
   "execution_count": 180,
   "metadata": {},
   "outputs": [
    {
     "name": "stderr",
     "output_type": "stream",
     "text": [
      "/Users/user/anaconda3/lib/python3.6/site-packages/sklearn/linear_model/stochastic_gradient.py:128: FutureWarning: max_iter and tol parameters have been added in <class 'sklearn.linear_model.stochastic_gradient.SGDClassifier'> in 0.19. If both are left unset, they default to max_iter=5 and tol=None. If tol is not None, max_iter defaults to max_iter=1000. From 0.21, default max_iter will be 1000, and default tol will be 1e-3.\n",
      "  \"and default tol will be 1e-3.\" % type(self), FutureWarning)\n"
     ]
    },
    {
     "data": {
      "text/plain": [
       "0.83333333333333326"
      ]
     },
     "execution_count": 180,
     "metadata": {},
     "output_type": "execute_result"
    }
   ],
   "source": [
    "#basic logistic regression with SGD\n",
    "from sklearn import linear_model\n",
    "from sklearn.metrics import roc_auc_score\n",
    "\n",
    "clf = linear_model.SGDClassifier(loss='log')\n",
    "clf.fit(X_train, y_train)\n",
    "p=clf.predict_proba(X_test)\n",
    "roc_auc_score(y_test,p[:,1])"
   ]
  },
  {
   "cell_type": "markdown",
   "metadata": {},
   "source": [
    "### Accuracy which we get here is 83% using the logistic regression which was previously less than this using other classifiers"
   ]
  },
  {
   "cell_type": "code",
   "execution_count": 219,
   "metadata": {},
   "outputs": [
    {
     "name": "stdout",
     "output_type": "stream",
     "text": [
      "Accuracy score using kNN is 0.6\n"
     ]
    }
   ],
   "source": [
    "# setting kNN classifier\n",
    "knn = KNeighborsClassifier(n_neighbors=11)\n",
    "\n",
    "# kNN cross validation\n",
    "\n",
    "# print(\"KfoldCrossVal mean score using kNN is %s\" %cross_val_score(knn,X,y,cv=10).mean())\n",
    "\n",
    "# kNN metrics\n",
    "kNNm = knn.fit(X_train, y_train)\n",
    "\n",
    "y_pred = kNNm.predict(X_test)\n",
    "print(\"Accuracy score using kNN is %s\" %metrics.accuracy_score(y_test, y_pred))"
   ]
  },
  {
   "cell_type": "markdown",
   "metadata": {},
   "source": [
    "#### KNN score is only 0.6 which is 60% accuracy. That means out model is best with the Logistic regression and works good with it.  "
   ]
  },
  {
   "cell_type": "code",
   "execution_count": 215,
   "metadata": {
    "collapsed": true
   },
   "outputs": [],
   "source": [
    "from sklearn.feature_extraction.text import TfidfVectorizer\n",
    "\n",
    "# Initialize the \"CountVectorizer\" object, which is scikit-learn's bag of words tool.  \n",
    "# min_df=5, discard words appearing in less than 5 documents\n",
    "# max_df=0.8, discard words appering in more than 80% of the documents\n",
    "# sublinear_tf=True, use sublinear weighting\n",
    "# use_idf=True, enable IDF\n",
    "vectorizer = TfidfVectorizer(min_df=5,\n",
    "                             max_df = 0.8,\n",
    "                             sublinear_tf=True,\n",
    "                             use_idf=True)\n",
    "\n",
    "train_vectors = vectorizer.fit_transform(df[\"Text\"])\n",
    "feature_names = vectorizer.get_feature_names()"
   ]
  },
  {
   "cell_type": "code",
   "execution_count": 220,
   "metadata": {},
   "outputs": [
    {
     "name": "stdout",
     "output_type": "stream",
     "text": [
      "['all', 'also', 'and', 'any', 'are', 'as', 'at', 'be', 'because', 'been', 'bought', 'box', 'br', 'but', 'buy', 'can', 'ever', 'flavor', 'for', 'from', 'get', 'good', 'great', 'had', 'has', 'have', 'healthy', 'high', 'highly', 'if', 'in', 'is', 'it', 'just', 'like', 'little', 'love', 'make', 'me', 'more', 'much', 'my', 'not', 'of', 'on', 'one', 'or', 'other', 'out', 'product', 'recommend', 'since', 'so', 'sugar', 'taste', 'tastes', 'than', 'that', 'the', 'them', 'there', 'these', 'they', 'this', 'to', 'too', 'try', 'used', 've', 'very', 'was', 'way', 'were', 'when', 'which', 'will', 'with', 'worth', 'you', 'your']\n"
     ]
    }
   ],
   "source": [
    "# Take a look at the words in the vocabulary\n",
    "vocab = vectorizer.get_feature_names()\n",
    "print (vocab[1:200])"
   ]
  },
  {
   "cell_type": "code",
   "execution_count": 225,
   "metadata": {},
   "outputs": [
    {
     "name": "stdout",
     "output_type": "stream",
     "text": [
      "Training the random forest...\n"
     ]
    }
   ],
   "source": [
    "from sklearn.metrics import accuracy_score\n",
    "\n",
    "print (\"Training the random forest...\")\n",
    "from sklearn.ensemble import RandomForestClassifier\n",
    "\n",
    "# Initialize a Random Forest classifier with 100 trees\n",
    "forest = RandomForestClassifier(n_estimators = 100) \n",
    "\n",
    "# Fit the forest to the training set, using the bag of words as \n",
    "# features and the sentiment labels as the response variable\n",
    "#\n",
    "# This may take a few minutes to run\n",
    "forest = forest.fit( train_vectors, df[\"Summary\"] )\n",
    "\n",
    "# prediction_rbf = classifier_rbf.predict(test_vectors)"
   ]
  },
  {
   "cell_type": "code",
   "execution_count": 205,
   "metadata": {},
   "outputs": [
    {
     "name": "stdout",
     "output_type": "stream",
     "text": [
      "  Prediction                                               Text  \\\n",
      "0          5  It's so much fun to make my own soda with as m...   \n",
      "1          5  No doggie breath for our dog.  People are alwa...   \n",
      "2          5  This ghee is delicious. A little goes a long w...   \n",
      "3          5  I was very happy with my order.  It arrived on...   \n",
      "4          5  If you are trying to watch calories, these are...   \n",
      "\n",
      "                      Summary  \n",
      "0               Just Amazing!  \n",
      "1    Our dog has fresh breath  \n",
      "2                  Delicious!  \n",
      "3  On time and as described!!  \n",
      "4         good tasting flavor  \n",
      "(25000, 3)\n"
     ]
    }
   ],
   "source": [
    "def sampling_dataset(df):\n",
    "    count = 5000\n",
    "    class_df_sampled = pd.DataFrame(columns = [\"Prediction\",\"Text\", \"Summary\"])\n",
    "    temp = []\n",
    "    for c in df.Prediction.unique():\n",
    "        class_indexes = df[df.Prediction == c].index\n",
    "        random_indexes = np.random.choice(class_indexes, count, replace=True)\n",
    "        temp.append(df.loc[random_indexes])\n",
    "        \n",
    "    for each_df in temp:\n",
    "        class_df_sampled = pd.concat([class_df_sampled,each_df],axis=0)\n",
    "    \n",
    "    return class_df_sampled\n",
    "\n",
    "df_Sample = sampling_dataset(df.loc[:,[\"Prediction\",\"Text\",\"Summary\"]])\n",
    "df_Sample.reset_index(drop=True,inplace=True)\n",
    "print (df_Sample.head())\n",
    "print (df_Sample.shape)\n"
   ]
  },
  {
   "cell_type": "code",
   "execution_count": 200,
   "metadata": {},
   "outputs": [
    {
     "name": "stdout",
     "output_type": "stream",
     "text": [
      "  Prediction                                               Text  \\\n",
      "0          5  It's so much fun to make my own soda with as m...   \n",
      "1          5  I have to admit, I first purchased these Hazel...   \n",
      "2          5  I sent this to my mother as a thank you for al...   \n",
      "3          5  I got them in a very timely manner and they're...   \n",
      "4          5  This ghee is delicious. A little goes a long w...   \n",
      "\n",
      "                         Summary  \n",
      "0                  Just Amazing!  \n",
      "1  Great Coffee at a Great price  \n",
      "2       Great Appreciation Gift!  \n",
      "3             Just what I needed  \n",
      "4                     Delicious!  \n",
      "(25000, 3)\n"
     ]
    }
   ],
   "source": [
    "df_TestSample = sampling_dataset(df.loc[:,[\"Prediction\",\"Text\",\"Summary\"]])\n",
    "df_TestSample.reset_index(drop=True,inplace=True)\n",
    "\n",
    "print (df_TestSample.head())\n",
    "print (df_TestSample.shape)"
   ]
  },
  {
   "cell_type": "code",
   "execution_count": 201,
   "metadata": {
    "collapsed": true
   },
   "outputs": [],
   "source": [
    "test_vectors = vectorizer.transform(df_TestSample[\"Summary\"])\n",
    "prediction_rbf = forest.predict(test_vectors)"
   ]
  },
  {
   "cell_type": "code",
   "execution_count": 210,
   "metadata": {
    "collapsed": true
   },
   "outputs": [],
   "source": [
    "from sklearn.linear_model import LogisticRegression\n",
    "from sklearn.neighbors import KNeighborsClassifier\n",
    "from sklearn.svm import SVC, LinearSVC, NuSVC\n",
    "from sklearn.tree import DecisionTreeClassifier\n",
    "from sklearn.ensemble import RandomForestClassifier, AdaBoostClassifier, GradientBoostingClassifier\n",
    "from sklearn.naive_bayes import GaussianNB\n",
    "from sklearn.discriminant_analysis import LinearDiscriminantAnalysis\n",
    "from sklearn.discriminant_analysis import QuadraticDiscriminantAnalysis\n",
    "from sklearn.metrics import accuracy_score\n",
    "\n",
    "Classifiers = [\n",
    "#     LogisticRegression(C=0.000000001,solver='liblinear',max_iter=200),\n",
    "    KNeighborsClassifier(3),\n",
    "#     SVC(kernel=\"rbf\", C=0.025, probability=True),\n",
    "    DecisionTreeClassifier(),\n",
    "#     RandomForestClassifier(n_estimators=200),\n",
    "#     AdaBoostClassifier(),\n",
    "    GaussianNB()\n",
    "]"
   ]
  },
  {
   "cell_type": "code",
   "execution_count": 227,
   "metadata": {},
   "outputs": [
    {
     "name": "stdout",
     "output_type": "stream",
     "text": [
      "training LogisticRegression\n"
     ]
    },
    {
     "ename": "ValueError",
     "evalue": "Found input variables with inconsistent numbers of samples: [50, 25000]",
     "output_type": "error",
     "traceback": [
      "\u001b[0;31m---------------------------------------------------------------------------\u001b[0m",
      "\u001b[0;31mValueError\u001b[0m                                Traceback (most recent call last)",
      "\u001b[0;32m<ipython-input-227-b90f2b1eb856>\u001b[0m in \u001b[0;36m<module>\u001b[0;34m()\u001b[0m\n\u001b[1;32m      8\u001b[0m     \u001b[0;32mtry\u001b[0m\u001b[0;34m:\u001b[0m\u001b[0;34m\u001b[0m\u001b[0m\n\u001b[0;32m----> 9\u001b[0;31m         \u001b[0mfit\u001b[0m \u001b[0;34m=\u001b[0m \u001b[0mclassifier\u001b[0m\u001b[0;34m.\u001b[0m\u001b[0mfit\u001b[0m\u001b[0;34m(\u001b[0m\u001b[0mtrain_vectors\u001b[0m\u001b[0;34m,\u001b[0m\u001b[0mdf_Sample\u001b[0m\u001b[0;34m[\u001b[0m\u001b[0;34m\"Text\"\u001b[0m\u001b[0;34m]\u001b[0m\u001b[0;34m)\u001b[0m\u001b[0;34m\u001b[0m\u001b[0m\n\u001b[0m\u001b[1;32m     10\u001b[0m         \u001b[0mpred\u001b[0m \u001b[0;34m=\u001b[0m \u001b[0mfit\u001b[0m\u001b[0;34m.\u001b[0m\u001b[0mpredict\u001b[0m\u001b[0;34m(\u001b[0m\u001b[0mtest_vectors\u001b[0m\u001b[0;34m)\u001b[0m\u001b[0;34m\u001b[0m\u001b[0m\n",
      "\u001b[0;32m~/anaconda3/lib/python3.6/site-packages/sklearn/linear_model/logistic.py\u001b[0m in \u001b[0;36mfit\u001b[0;34m(self, X, y, sample_weight)\u001b[0m\n\u001b[1;32m   1215\u001b[0m         X, y = check_X_y(X, y, accept_sparse='csr', dtype=_dtype,\n\u001b[0;32m-> 1216\u001b[0;31m                          order=\"C\")\n\u001b[0m\u001b[1;32m   1217\u001b[0m         \u001b[0mcheck_classification_targets\u001b[0m\u001b[0;34m(\u001b[0m\u001b[0my\u001b[0m\u001b[0;34m)\u001b[0m\u001b[0;34m\u001b[0m\u001b[0m\n",
      "\u001b[0;32m~/anaconda3/lib/python3.6/site-packages/sklearn/utils/validation.py\u001b[0m in \u001b[0;36mcheck_X_y\u001b[0;34m(X, y, accept_sparse, dtype, order, copy, force_all_finite, ensure_2d, allow_nd, multi_output, ensure_min_samples, ensure_min_features, y_numeric, warn_on_dtype, estimator)\u001b[0m\n\u001b[1;32m    582\u001b[0m \u001b[0;34m\u001b[0m\u001b[0m\n\u001b[0;32m--> 583\u001b[0;31m     \u001b[0mcheck_consistent_length\u001b[0m\u001b[0;34m(\u001b[0m\u001b[0mX\u001b[0m\u001b[0;34m,\u001b[0m \u001b[0my\u001b[0m\u001b[0;34m)\u001b[0m\u001b[0;34m\u001b[0m\u001b[0m\n\u001b[0m\u001b[1;32m    584\u001b[0m \u001b[0;34m\u001b[0m\u001b[0m\n",
      "\u001b[0;32m~/anaconda3/lib/python3.6/site-packages/sklearn/utils/validation.py\u001b[0m in \u001b[0;36mcheck_consistent_length\u001b[0;34m(*arrays)\u001b[0m\n\u001b[1;32m    203\u001b[0m         raise ValueError(\"Found input variables with inconsistent numbers of\"\n\u001b[0;32m--> 204\u001b[0;31m                          \" samples: %r\" % [int(l) for l in lengths])\n\u001b[0m\u001b[1;32m    205\u001b[0m \u001b[0;34m\u001b[0m\u001b[0m\n",
      "\u001b[0;31mValueError\u001b[0m: Found input variables with inconsistent numbers of samples: [50, 25000]",
      "\nDuring handling of the above exception, another exception occurred:\n",
      "\u001b[0;31mValueError\u001b[0m                                Traceback (most recent call last)",
      "\u001b[0;32m<ipython-input-227-b90f2b1eb856>\u001b[0m in \u001b[0;36m<module>\u001b[0;34m()\u001b[0m\n\u001b[1;32m     10\u001b[0m         \u001b[0mpred\u001b[0m \u001b[0;34m=\u001b[0m \u001b[0mfit\u001b[0m\u001b[0;34m.\u001b[0m\u001b[0mpredict\u001b[0m\u001b[0;34m(\u001b[0m\u001b[0mtest_vectors\u001b[0m\u001b[0;34m)\u001b[0m\u001b[0;34m\u001b[0m\u001b[0m\n\u001b[1;32m     11\u001b[0m     \u001b[0;32mexcept\u001b[0m \u001b[0mException\u001b[0m\u001b[0;34m:\u001b[0m\u001b[0;34m\u001b[0m\u001b[0m\n\u001b[0;32m---> 12\u001b[0;31m         \u001b[0mfit\u001b[0m \u001b[0;34m=\u001b[0m \u001b[0mclassifier\u001b[0m\u001b[0;34m.\u001b[0m\u001b[0mfit\u001b[0m\u001b[0;34m(\u001b[0m\u001b[0mdense_features\u001b[0m\u001b[0;34m,\u001b[0m\u001b[0mdf_Sample\u001b[0m\u001b[0;34m[\u001b[0m\u001b[0;34m\"Text\"\u001b[0m\u001b[0;34m]\u001b[0m\u001b[0;34m)\u001b[0m\u001b[0;34m\u001b[0m\u001b[0m\n\u001b[0m\u001b[1;32m     13\u001b[0m         \u001b[0mpred\u001b[0m \u001b[0;34m=\u001b[0m \u001b[0mfit\u001b[0m\u001b[0;34m.\u001b[0m\u001b[0mpredict\u001b[0m\u001b[0;34m(\u001b[0m\u001b[0mdense_test\u001b[0m\u001b[0;34m)\u001b[0m\u001b[0;34m\u001b[0m\u001b[0m\n\u001b[1;32m     14\u001b[0m     \u001b[0maccuracy\u001b[0m \u001b[0;34m=\u001b[0m \u001b[0maccuracy_score\u001b[0m\u001b[0;34m(\u001b[0m\u001b[0mpred\u001b[0m\u001b[0;34m,\u001b[0m\u001b[0mdf_TestSample\u001b[0m\u001b[0;34m[\u001b[0m\u001b[0;34m\"Text\"\u001b[0m\u001b[0;34m]\u001b[0m\u001b[0;34m)\u001b[0m\u001b[0;34m\u001b[0m\u001b[0m\n",
      "\u001b[0;32m~/anaconda3/lib/python3.6/site-packages/sklearn/linear_model/logistic.py\u001b[0m in \u001b[0;36mfit\u001b[0;34m(self, X, y, sample_weight)\u001b[0m\n\u001b[1;32m   1214\u001b[0m \u001b[0;34m\u001b[0m\u001b[0m\n\u001b[1;32m   1215\u001b[0m         X, y = check_X_y(X, y, accept_sparse='csr', dtype=_dtype,\n\u001b[0;32m-> 1216\u001b[0;31m                          order=\"C\")\n\u001b[0m\u001b[1;32m   1217\u001b[0m         \u001b[0mcheck_classification_targets\u001b[0m\u001b[0;34m(\u001b[0m\u001b[0my\u001b[0m\u001b[0;34m)\u001b[0m\u001b[0;34m\u001b[0m\u001b[0m\n\u001b[1;32m   1218\u001b[0m         \u001b[0mself\u001b[0m\u001b[0;34m.\u001b[0m\u001b[0mclasses_\u001b[0m \u001b[0;34m=\u001b[0m \u001b[0mnp\u001b[0m\u001b[0;34m.\u001b[0m\u001b[0munique\u001b[0m\u001b[0;34m(\u001b[0m\u001b[0my\u001b[0m\u001b[0;34m)\u001b[0m\u001b[0;34m\u001b[0m\u001b[0m\n",
      "\u001b[0;32m~/anaconda3/lib/python3.6/site-packages/sklearn/utils/validation.py\u001b[0m in \u001b[0;36mcheck_X_y\u001b[0;34m(X, y, accept_sparse, dtype, order, copy, force_all_finite, ensure_2d, allow_nd, multi_output, ensure_min_samples, ensure_min_features, y_numeric, warn_on_dtype, estimator)\u001b[0m\n\u001b[1;32m    581\u001b[0m         \u001b[0my\u001b[0m \u001b[0;34m=\u001b[0m \u001b[0my\u001b[0m\u001b[0;34m.\u001b[0m\u001b[0mastype\u001b[0m\u001b[0;34m(\u001b[0m\u001b[0mnp\u001b[0m\u001b[0;34m.\u001b[0m\u001b[0mfloat64\u001b[0m\u001b[0;34m)\u001b[0m\u001b[0;34m\u001b[0m\u001b[0m\n\u001b[1;32m    582\u001b[0m \u001b[0;34m\u001b[0m\u001b[0m\n\u001b[0;32m--> 583\u001b[0;31m     \u001b[0mcheck_consistent_length\u001b[0m\u001b[0;34m(\u001b[0m\u001b[0mX\u001b[0m\u001b[0;34m,\u001b[0m \u001b[0my\u001b[0m\u001b[0;34m)\u001b[0m\u001b[0;34m\u001b[0m\u001b[0m\n\u001b[0m\u001b[1;32m    584\u001b[0m \u001b[0;34m\u001b[0m\u001b[0m\n\u001b[1;32m    585\u001b[0m     \u001b[0;32mreturn\u001b[0m \u001b[0mX\u001b[0m\u001b[0;34m,\u001b[0m \u001b[0my\u001b[0m\u001b[0;34m\u001b[0m\u001b[0m\n",
      "\u001b[0;32m~/anaconda3/lib/python3.6/site-packages/sklearn/utils/validation.py\u001b[0m in \u001b[0;36mcheck_consistent_length\u001b[0;34m(*arrays)\u001b[0m\n\u001b[1;32m    202\u001b[0m     \u001b[0;32mif\u001b[0m \u001b[0mlen\u001b[0m\u001b[0;34m(\u001b[0m\u001b[0muniques\u001b[0m\u001b[0;34m)\u001b[0m \u001b[0;34m>\u001b[0m \u001b[0;36m1\u001b[0m\u001b[0;34m:\u001b[0m\u001b[0;34m\u001b[0m\u001b[0m\n\u001b[1;32m    203\u001b[0m         raise ValueError(\"Found input variables with inconsistent numbers of\"\n\u001b[0;32m--> 204\u001b[0;31m                          \" samples: %r\" % [int(l) for l in lengths])\n\u001b[0m\u001b[1;32m    205\u001b[0m \u001b[0;34m\u001b[0m\u001b[0m\n\u001b[1;32m    206\u001b[0m \u001b[0;34m\u001b[0m\u001b[0m\n",
      "\u001b[0;31mValueError\u001b[0m: Found input variables with inconsistent numbers of samples: [50, 25000]"
     ]
    }
   ],
   "source": [
    "dense_features=train_vectors.toarray()\n",
    "dense_test= test_vectors.toarray()\n",
    "\n",
    "Accuracy=[]\n",
    "Model=[]\n",
    "for classifier in Classifiers:\n",
    "    print('training '+classifier.__class__.__name__)\n",
    "    try:\n",
    "        fit = classifier.fit(train_vectors,df_Sample[\"Text\"])\n",
    "        pred = fit.predict(test_vectors)\n",
    "    except Exception:\n",
    "        fit = classifier.fit(dense_features,df_Sample[\"Text\"])\n",
    "        pred = fit.predict(dense_test)\n",
    "    accuracy = accuracy_score(pred,df_TestSample[\"Text\"])\n",
    "    Accuracy.append(accuracy)\n",
    "    Model.append(classifier.__class__.__name__)\n",
    "    print('Accuracy of '+classifier.__class__.__name__+'is '+str(accuracy))    "
   ]
  },
  {
   "cell_type": "code",
   "execution_count": null,
   "metadata": {
    "collapsed": true
   },
   "outputs": [],
   "source": []
  }
 ],
 "metadata": {
  "kernelspec": {
   "display_name": "Python 3",
   "language": "python",
   "name": "python3"
  },
  "language_info": {
   "codemirror_mode": {
    "name": "ipython",
    "version": 3
   },
   "file_extension": ".py",
   "mimetype": "text/x-python",
   "name": "python",
   "nbconvert_exporter": "python",
   "pygments_lexer": "ipython3",
   "version": "3.6.3"
  }
 },
 "nbformat": 4,
 "nbformat_minor": 2
}
